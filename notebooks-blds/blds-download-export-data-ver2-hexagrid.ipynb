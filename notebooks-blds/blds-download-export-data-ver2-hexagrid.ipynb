{
 "cells": [
  {
   "attachments": {},
   "cell_type": "markdown",
   "metadata": {},
   "source": [
    "# Download the buildings data in the hexagrid"
   ]
  },
  {
   "attachments": {},
   "cell_type": "markdown",
   "metadata": {},
   "source": [
    "Question: How many buildings were mapped with RapID (Microsoft buildings) in selected region?"
   ]
  },
  {
   "attachments": {},
   "cell_type": "markdown",
   "metadata": {},
   "source": [
    "#### Import libs"
   ]
  },
  {
   "cell_type": "code",
   "execution_count": 1,
   "metadata": {},
   "outputs": [],
   "source": [
    "import json\n",
    "import os\n",
    "import requests\n",
    "import glob"
   ]
  },
  {
   "attachments": {},
   "cell_type": "markdown",
   "metadata": {},
   "source": [
    "### Get the data for every specified region"
   ]
  },
  {
   "attachments": {},
   "cell_type": "markdown",
   "metadata": {},
   "source": [
    "#### Definitions"
   ]
  },
  {
   "cell_type": "code",
   "execution_count": 2,
   "metadata": {},
   "outputs": [],
   "source": [
    "os.chdir('..')\n"
   ]
  },
  {
   "cell_type": "code",
   "execution_count": 3,
   "metadata": {},
   "outputs": [
    {
     "data": {
      "text/plain": [
       "['geojson-hexagrid-india',\n",
       " 'geojson-hexagrid-kenya',\n",
       " 'geojson-hexagrid-nigeria',\n",
       " 'geojson-hexagrid-tanzania',\n",
       " 'geojson-hexagrid-vietnam']"
      ]
     },
     "execution_count": 3,
     "metadata": {},
     "output_type": "execute_result"
    }
   ],
   "source": [
    "def get_geojson_names():\n",
    "\n",
    "    home_dir = os.getcwd()\n",
    "    geojson_dir = os.path.join(home_dir, f\"geojson-regions\\\\geojson-hexagrid-states\", \"\")\n",
    "\n",
    "    # Construct the file pattern\n",
    "    file_pattern = os.path.join(geojson_dir, '*.geojson')\n",
    "    # print(file_pattern)\n",
    "\n",
    "    # Use glob to get the list of file names matching the pattern\n",
    "    file_names = glob.glob(file_pattern)\n",
    "    # print(file_names)\n",
    "\n",
    "    # Extract the base names of the files without the extension\n",
    "    names = [os.path.splitext(os.path.basename(file_name))[0]\n",
    "             for file_name in file_names]\n",
    "    # print(names)\n",
    "    # Print the names\n",
    "\n",
    "    return names\n",
    "\n",
    "\n",
    "geojson_names = get_geojson_names()\n",
    "geojson_names\n"
   ]
  },
  {
   "cell_type": "code",
   "execution_count": 4,
   "metadata": {},
   "outputs": [
    {
     "data": {
      "text/plain": [
       "{0: 'geojson-hexagrid-india',\n",
       " 1: 'geojson-hexagrid-kenya',\n",
       " 2: 'geojson-hexagrid-nigeria',\n",
       " 3: 'geojson-hexagrid-tanzania',\n",
       " 4: 'geojson-hexagrid-vietnam'}"
      ]
     },
     "execution_count": 4,
     "metadata": {},
     "output_type": "execute_result"
    }
   ],
   "source": [
    "geojson_dic = {k: v for k, v in enumerate(geojson_names)}\n",
    "geojson_dic\n"
   ]
  },
  {
   "cell_type": "code",
   "execution_count": 5,
   "metadata": {},
   "outputs": [],
   "source": [
    "# def get_geojson_names():\n",
    "\n",
    "#     os.chdir('..')\n",
    "#     home_dir = os.getcwd()\n",
    "#     geojson_dir = os.path.join(home_dir, f\"geojson-regions\\\\geojson-hexagrid-states\", \"\")\n",
    "\n",
    "#     geojson_names = []\n",
    "#     for root, dirs, files in os.walk(geojson_dir):\n",
    "#         for file in files:\n",
    "#             if file.endswith('.geojson'):\n",
    "#                 file_path = os.path.join(root, file)\n",
    "#                 file_name = os.path.splitext(os.path.basename(file_path))[0]\n",
    "#                 geojson_names.append(file_name)\n",
    "#         # geojson_names.extend(file_names)\n",
    "#     print(geojson_names)\n",
    "#     return geojson_names\n",
    "\n",
    "# geojson_names = get_geojson_names()\n"
   ]
  },
  {
   "cell_type": "code",
   "execution_count": 6,
   "metadata": {},
   "outputs": [
    {
     "data": {
      "text/plain": [
       "{0: 'geojson-hexagrid-india',\n",
       " 1: 'geojson-hexagrid-kenya',\n",
       " 2: 'geojson-hexagrid-nigeria',\n",
       " 3: 'geojson-hexagrid-tanzania',\n",
       " 4: 'geojson-hexagrid-vietnam'}"
      ]
     },
     "execution_count": 6,
     "metadata": {},
     "output_type": "execute_result"
    }
   ],
   "source": [
    "geojson_dic = {k:v for k,v in enumerate(geojson_names)}\n",
    "geojson_dic\n"
   ]
  },
  {
   "cell_type": "code",
   "execution_count": null,
   "metadata": {},
   "outputs": [],
   "source": []
  },
  {
   "cell_type": "code",
   "execution_count": 7,
   "metadata": {},
   "outputs": [],
   "source": [
    "# define the dictinaries\n",
    "\n",
    "# data_dic = {0: \"blds_continent-states_18-23_ai\",\n",
    "#             1: \"blds_africa-states_18-23_ai\",\n",
    "#             2: \"blds_northamerica-states_18-23_ai\",\n",
    "#             3: \"blds_europe-states_18-23_ai\",\n",
    "#             4: \"blds_asia-states_18-23_ai\", }\n",
    "\n",
    "# geojson_dic = {0: \"geojson-continent-states\",\n",
    "#                       1: \"geojson-africa-states\",\n",
    "#                       2: \"geojson-northamerica-states\",\n",
    "#                       3: \"geojson-europe-states\",\n",
    "#                       4: \"geojson-asia-states\",}"
   ]
  },
  {
   "cell_type": "code",
   "execution_count": 8,
   "metadata": {},
   "outputs": [],
   "source": [
    "# define the user input\n",
    "\n",
    "while True:\n",
    "    try:\n",
    "        user_d_spec = int(input(f\"Which data do you want to download?\\\n",
    "                            Enter {geojson_dic}\"\n",
    "                                ))\n",
    "    except ValueError:\n",
    "        print(\"Please enter a number.\")\n",
    "        continue\n",
    "    if user_d_spec not in range(len(geojson_dic)):\n",
    "        print(f\"Please enter {len(geojson_dic.keys())}\")\n",
    "        continue\n",
    "    break\n",
    "\n",
    "while True:\n",
    "    try:\n",
    "        user_d_format = int(input(\"Which data format do you want to export?\\\n",
    "                            Enter 0 for json format\\\n",
    "                            or 1 for geojson format\"\n",
    "                                ))\n",
    "    except ValueError:\n",
    "        print(\"Please enter a number.\")\n",
    "        continue\n",
    "    if user_d_format not in range(0, 2):\n",
    "        print(\"Please enter 0 or 1.\")\n",
    "        continue\n",
    "    break\n"
   ]
  },
  {
   "cell_type": "code",
   "execution_count": 9,
   "metadata": {},
   "outputs": [],
   "source": [
    "# define the functions\n",
    "\n",
    "def convert_geojson_structure(original_dict):\n",
    "    new_dict = {}\n",
    "    new_dict[\"type\"] = \"FeatureCollection\"\n",
    "    new_dict[\"features\"] = []\n",
    "\n",
    "    feature_dict = {}\n",
    "    feature_dict[\"type\"] = \"Feature\"\n",
    "    feature_dict[\"geometry\"] = {}\n",
    "    feature_dict[\"geometry\"][\"type\"] = \"MultiPolygon\"\n",
    "\n",
    "    new_dict[\"features\"].append(feature_dict)\n",
    "\n",
    "    feature_dict[\"geometry\"][\"coordinates\"] = original_dict[\"geometry\"][\"coordinates\"]\n",
    "    # feature_dict[\"geometry\"][\"type\"] = \"MultiPolygon\"\n",
    "    feature_dict[\"properties\"] = original_dict[\"properties\"]\n",
    "\n",
    "    return new_dict\n",
    "\n",
    "def data_gen(feature):\n",
    "\n",
    "    desired_geojson_structure = convert_geojson_structure(feature)\n",
    "\n",
    "    parameters = {\n",
    "        # pass GeoJSON as string.\n",
    "        \"bpolys\": json.dumps(desired_geojson_structure),\n",
    "        \"filter\": \"building=* and building!=no and geometry:polygon\",\n",
    "        \"groupByKey\": \"source\",\n",
    "        \"groupByValues\": \"microsoft/BuildingFootprints\",\n",
    "        \"format\": \"json\",\n",
    "        \"time\": \"2018-01-01/2023-01-01/P1Y\",\n",
    "        }\n",
    "    headers = {\n",
    "        \"accept\": \"application/json\",\n",
    "        \"Content-Type\": \"application/x-www-form-urlencoded\",\n",
    "        }\n",
    "\n",
    "    for value in parameters.values():\n",
    "        assert value != \"\", \"Please provide values for the parameters\"\n",
    "\n",
    "    response = requests.post(url, data=parameters, headers=headers)\n",
    "    response.raise_for_status()  # Raise an Exception if HTTP Status Code is not 200\n",
    "\n",
    "    # print(\"Response:\")\n",
    "    # print(desired_geojson_structure[\"features\"][0][\"properties\"][\"NAME_EN\"])\n",
    "    # print(json.dumps(response.json(), indent=4))  # Pretty print response\n",
    "\n",
    "    result = response.json()[\"groupByResult\"]\n",
    "\n",
    "    for state in result:\n",
    "        state[\"groupByObject\"][0] = desired_geojson_structure[\"features\"][0][\"properties\"][\"id\"]\n",
    "\n",
    "    return result\n",
    "\n",
    "\n",
    "def connect_feat_data(feature, data):\n",
    "\n",
    "    # Find the relevant value in data\n",
    "    rem_value_to_add = None\n",
    "    for elem in data:\n",
    "        if elem['groupByObject'][1] == 'remainder':\n",
    "            for result in elem['result']:\n",
    "                if result['timestamp'] == '2023-01-01T00:00:00Z':\n",
    "                    rem_value_to_add = result['value']\n",
    "                    break\n",
    "            break\n",
    "\n",
    "    ai_value_to_add = None\n",
    "    for elem in data:\n",
    "        if elem['groupByObject'][1] == 'source=microsoft/BuildingFootprints':\n",
    "            for result in elem['result']:\n",
    "                if result['timestamp'] == '2023-01-01T00:00:00Z':\n",
    "                    ai_value_to_add = result['value']\n",
    "                    break\n",
    "            break\n",
    "    # return value_to_add\n",
    "\n",
    "    blds_total = None\n",
    "    blds_total = rem_value_to_add + ai_value_to_add\n",
    "\n",
    "    # Calculate the AI percentage\n",
    "    ai_percentage = None\n",
    "    ai_percentage = (ai_value_to_add /\n",
    "                     (ai_value_to_add + rem_value_to_add)) * 100\n",
    "\n",
    "    # Add the value to the properties of feature\n",
    "    if rem_value_to_add is not None:\n",
    "        feature['properties']['mm_blds_2023'] = rem_value_to_add\n",
    "\n",
    "    if ai_value_to_add is not None:\n",
    "        feature['properties']['ai_blds_2023'] = ai_value_to_add\n",
    "\n",
    "    if blds_total is not None:\n",
    "        feature['properties']['blds_total'] = blds_total\n",
    "\n",
    "    if ai_percentage is not None:\n",
    "        feature['properties']['ai_percentage'] = ai_percentage\n",
    "\n",
    "    return feature\n",
    "\n",
    "\n",
    "def return_json_data():\n",
    "\n",
    "    data = []\n",
    "\n",
    "    for i, feature in enumerate(bpolys[\"features\"]):\n",
    "\n",
    "        obtained_data = data_gen(feature)\n",
    "        # print(data)\n",
    "        data.append(obtained_data)\n",
    "\n",
    "    return data\n",
    "\n",
    "\n",
    "def return_geojson_data():\n",
    "\n",
    "    data = []\n",
    "\n",
    "    for i, feature in enumerate(bpolys[\"features\"][0:2]):\n",
    "\n",
    "        obtained_data = data_gen(feature)\n",
    "        # print(data)\n",
    "        feat_with_data = connect_feat_data(feature, obtained_data)\n",
    "        # print(feat_with_data)\n",
    "        # print(feature)\n",
    "\n",
    "        data.append(feat_with_data)\n",
    "\n",
    "    return data\n",
    "\n",
    "# export the data\n",
    "\n",
    "\n",
    "def export_data_as_json(name, data):\n",
    "    with open(f\"downloaded-data\\\\{name}.json\", \"w\") as file:\n",
    "        json.dump(data, file, indent=4)\n",
    "\n",
    "\n",
    "# export_data_as_json(data_dic[user_d_spec], return_json_data)\n",
    "\n",
    "\n",
    "def export_data_as_geojson(name, data):\n",
    "\n",
    "    # Define the filename for the GeoJSON file\n",
    "    filename = f'test_{name}.geojson'\n",
    "\n",
    "    # Create a FeatureCollection from the structure\n",
    "    feature_collection = {\n",
    "        'type': 'FeatureCollection',\n",
    "        'features': data\n",
    "    }\n",
    "\n",
    "    # Write the FeatureCollection to a GeoJSON file\n",
    "    with open(f\"downloaded-data-geojson\\\\{filename}\", 'w') as file:\n",
    "        json.dump(feature_collection, file, indent=4)\n",
    "\n",
    "\n",
    "# export_data_as_geojson(data_dic[user_d_spec], return_geojson_data)\n"
   ]
  },
  {
   "cell_type": "code",
   "execution_count": 10,
   "metadata": {},
   "outputs": [],
   "source": [
    "# define the URL\n",
    "\n",
    "base_url = \"https://api.ohsome.org/v1\"\n",
    "endpoint = \"/elements/count/groupBy/boundary/groupBy/tag\"\n",
    "url = base_url + endpoint"
   ]
  },
  {
   "attachments": {},
   "cell_type": "markdown",
   "metadata": {},
   "source": [
    "#### Get the data"
   ]
  },
  {
   "cell_type": "code",
   "execution_count": 11,
   "metadata": {},
   "outputs": [],
   "source": [
    "# read geojson data\n",
    "\n",
    "# os.chdir('..')\n",
    "home_wd = os.getcwd()\n",
    "# downloaded_data_geojson_dir = os.path.join(home_wd, \"downloaded-data-geojson\", \"\")\n",
    "\n",
    "with open(f\"geojson-regions\\\\geojson-hexagrid-states\\\\{geojson_dic[user_d_spec]}.geojson\", \"r\") as file:\n",
    "    bpolys = json.load(file)\n"
   ]
  },
  {
   "cell_type": "code",
   "execution_count": 12,
   "metadata": {},
   "outputs": [],
   "source": [
    "# convert_geojson_structure(bpolys[\"features\"][0])"
   ]
  },
  {
   "cell_type": "code",
   "execution_count": 13,
   "metadata": {},
   "outputs": [],
   "source": [
    "# convert_geojson_structure(bpolys[\"features\"][3])\n"
   ]
  },
  {
   "cell_type": "code",
   "execution_count": 15,
   "metadata": {},
   "outputs": [],
   "source": [
    "json_data = []\n",
    "geojson_data = []\n",
    "\n",
    "if user_d_format == 0:\n",
    "    obtained_json_data = return_json_data()\n",
    "    json_data.extend(obtained_json_data)\n",
    "    export_data_as_json(geojson_dic[user_d_spec], obtained_json_data)\n",
    "else:\n",
    "    obtained_geojson_data = return_geojson_data()\n",
    "    geojson_data.extend(obtained_geojson_data)\n",
    "    export_data_as_geojson(geojson_dic[user_d_spec], obtained_geojson_data)\n"
   ]
  },
  {
   "cell_type": "code",
   "execution_count": 16,
   "metadata": {},
   "outputs": [
    {
     "data": {
      "text/plain": [
       "[{'type': 'Feature',\n",
       "  'properties': {'fid': 422847,\n",
       "   'id': 4761723,\n",
       "   'timestamp': '2023-01-01T00:00:00Z',\n",
       "   'value': 3559.5582118661614,\n",
       "   'value_per_area': 3.717992957623663e-05,\n",
       "   'mm_blds_2023': 5.0,\n",
       "   'ai_blds_2023': 0.0,\n",
       "   'blds_total': 5.0,\n",
       "   'ai_percentage': 0.0},\n",
       "  'geometry': {'type': 'MultiPolygon',\n",
       "   'coordinates': [[[[103.18194429999998, 22.6255865],\n",
       "      [103.1481844, 22.5834577],\n",
       "      [103.08250179999999, 22.5844456],\n",
       "      [103.05051509999998, 22.6275883],\n",
       "      [103.08423149999999, 22.669747699999984],\n",
       "      [103.1499782, 22.6687339],\n",
       "      [103.18194429999998, 22.6255865]]]]}},\n",
       " {'type': 'Feature',\n",
       "  'properties': {'fid': 422848,\n",
       "   'id': 4761730,\n",
       "   'timestamp': '2023-01-01T00:00:00Z',\n",
       "   'value': 40100.60485263911,\n",
       "   'value_per_area': 0.00041889571897484745,\n",
       "   'mm_blds_2023': 85.0,\n",
       "   'ai_blds_2023': 0.0,\n",
       "   'blds_total': 85.0,\n",
       "   'ai_percentage': 0.0},\n",
       "  'geometry': {'type': 'MultiPolygon',\n",
       "   'coordinates': [[[[103.1693716, 22.027985699999988],\n",
       "      [103.1358617, 21.9856606],\n",
       "      [103.07061909999999, 21.9864736],\n",
       "      [103.03882439999998, 22.029636],\n",
       "      [103.0722926, 22.07198939999999],\n",
       "      [103.1375972, 22.0711521],\n",
       "      [103.1693716, 22.027985699999988]]]]}}]"
      ]
     },
     "execution_count": 16,
     "metadata": {},
     "output_type": "execute_result"
    }
   ],
   "source": [
    "geojson_data\n"
   ]
  },
  {
   "cell_type": "code",
   "execution_count": 18,
   "metadata": {},
   "outputs": [],
   "source": [
    "import geopandas as gpd"
   ]
  },
  {
   "cell_type": "code",
   "execution_count": 19,
   "metadata": {},
   "outputs": [
    {
     "ename": "TypeError",
     "evalue": "expected string or bytes-like object",
     "output_type": "error",
     "traceback": [
      "\u001b[1;31m---------------------------------------------------------------------------\u001b[0m",
      "\u001b[1;31mTypeError\u001b[0m                                 Traceback (most recent call last)",
      "\u001b[1;32mc:\\Users\\milan\\OneDrive - MUNI\\VŠ\\PhD\\Zahraniční stáž\\Work\\HeiGIT_notebooks\\analysis\\ai-assisted-osm-mapping-stats\\notebooks-blds\\blds-download-export-data-ver2-hexagrid.ipynb Cell 24\u001b[0m in \u001b[0;36m1\n\u001b[1;32m----> <a href='vscode-notebook-cell:/c%3A/Users/milan/OneDrive%20-%20MUNI/V%C5%A0/PhD/Zahrani%C4%8Dn%C3%AD%20st%C3%A1%C5%BE/Work/HeiGIT_notebooks/analysis/ai-assisted-osm-mapping-stats/notebooks-blds/blds-download-export-data-ver2-hexagrid.ipynb#X33sZmlsZQ%3D%3D?line=0'>1</a>\u001b[0m gpd\u001b[39m.\u001b[39mread_file(geojson_data)\n",
      "File \u001b[1;32mc:\\Users\\milan\\general_py_venv\\lib\\site-packages\\geopandas\\io\\file.py:259\u001b[0m, in \u001b[0;36m_read_file\u001b[1;34m(filename, bbox, mask, rows, engine, **kwargs)\u001b[0m\n\u001b[0;32m    256\u001b[0m     path_or_bytes \u001b[39m=\u001b[39m filename\n\u001b[0;32m    258\u001b[0m \u001b[39mif\u001b[39;00m engine \u001b[39m==\u001b[39m \u001b[39m\"\u001b[39m\u001b[39mfiona\u001b[39m\u001b[39m\"\u001b[39m:\n\u001b[1;32m--> 259\u001b[0m     \u001b[39mreturn\u001b[39;00m _read_file_fiona(\n\u001b[0;32m    260\u001b[0m         path_or_bytes, from_bytes, bbox\u001b[39m=\u001b[39mbbox, mask\u001b[39m=\u001b[39mmask, rows\u001b[39m=\u001b[39mrows, \u001b[39m*\u001b[39m\u001b[39m*\u001b[39mkwargs\n\u001b[0;32m    261\u001b[0m     )\n\u001b[0;32m    262\u001b[0m \u001b[39melif\u001b[39;00m engine \u001b[39m==\u001b[39m \u001b[39m\"\u001b[39m\u001b[39mpyogrio\u001b[39m\u001b[39m\"\u001b[39m:\n\u001b[0;32m    263\u001b[0m     \u001b[39mreturn\u001b[39;00m _read_file_pyogrio(\n\u001b[0;32m    264\u001b[0m         path_or_bytes, bbox\u001b[39m=\u001b[39mbbox, mask\u001b[39m=\u001b[39mmask, rows\u001b[39m=\u001b[39mrows, \u001b[39m*\u001b[39m\u001b[39m*\u001b[39mkwargs\n\u001b[0;32m    265\u001b[0m     )\n",
      "File \u001b[1;32mc:\\Users\\milan\\general_py_venv\\lib\\site-packages\\geopandas\\io\\file.py:303\u001b[0m, in \u001b[0;36m_read_file_fiona\u001b[1;34m(path_or_bytes, from_bytes, bbox, mask, rows, where, **kwargs)\u001b[0m\n\u001b[0;32m    300\u001b[0m     reader \u001b[39m=\u001b[39m fiona\u001b[39m.\u001b[39mopen\n\u001b[0;32m    302\u001b[0m \u001b[39mwith\u001b[39;00m fiona_env():\n\u001b[1;32m--> 303\u001b[0m     \u001b[39mwith\u001b[39;00m reader(path_or_bytes, \u001b[39m*\u001b[39m\u001b[39m*\u001b[39mkwargs) \u001b[39mas\u001b[39;00m features:\n\u001b[0;32m    304\u001b[0m         crs \u001b[39m=\u001b[39m features\u001b[39m.\u001b[39mcrs_wkt\n\u001b[0;32m    305\u001b[0m         \u001b[39m# attempt to get EPSG code\u001b[39;00m\n",
      "File \u001b[1;32mc:\\Users\\milan\\general_py_venv\\lib\\site-packages\\fiona\\env.py:457\u001b[0m, in \u001b[0;36mensure_env_with_credentials.<locals>.wrapper\u001b[1;34m(*args, **kwds)\u001b[0m\n\u001b[0;32m    454\u001b[0m     session \u001b[39m=\u001b[39m DummySession()\n\u001b[0;32m    456\u001b[0m \u001b[39mwith\u001b[39;00m env_ctor(session\u001b[39m=\u001b[39msession):\n\u001b[1;32m--> 457\u001b[0m     \u001b[39mreturn\u001b[39;00m f(\u001b[39m*\u001b[39margs, \u001b[39m*\u001b[39m\u001b[39m*\u001b[39mkwds)\n",
      "File \u001b[1;32mc:\\Users\\milan\\general_py_venv\\lib\\site-packages\\fiona\\__init__.py:349\u001b[0m, in \u001b[0;36mopen\u001b[1;34m(fp, mode, driver, schema, crs, encoding, layer, vfs, enabled_drivers, crs_wkt, allow_unsupported_drivers, **kwargs)\u001b[0m\n\u001b[0;32m    347\u001b[0m     path \u001b[39m=\u001b[39m ParsedPath(path, archive, scheme)\n\u001b[0;32m    348\u001b[0m \u001b[39melse\u001b[39;00m:\n\u001b[1;32m--> 349\u001b[0m     path \u001b[39m=\u001b[39m parse_path(fp)\n\u001b[0;32m    351\u001b[0m \u001b[39mif\u001b[39;00m mode \u001b[39min\u001b[39;00m (\u001b[39m\"\u001b[39m\u001b[39ma\u001b[39m\u001b[39m\"\u001b[39m, \u001b[39m\"\u001b[39m\u001b[39mr\u001b[39m\u001b[39m\"\u001b[39m):\n\u001b[0;32m    352\u001b[0m     colxn \u001b[39m=\u001b[39m Collection(\n\u001b[0;32m    353\u001b[0m         path,\n\u001b[0;32m    354\u001b[0m         mode,\n\u001b[1;32m   (...)\u001b[0m\n\u001b[0;32m    360\u001b[0m         \u001b[39m*\u001b[39m\u001b[39m*\u001b[39mkwargs\n\u001b[0;32m    361\u001b[0m     )\n",
      "File \u001b[1;32mc:\\Users\\milan\\general_py_venv\\lib\\site-packages\\fiona\\path.py:133\u001b[0m, in \u001b[0;36mparse_path\u001b[1;34m(path)\u001b[0m\n\u001b[0;32m    129\u001b[0m     \u001b[39mreturn\u001b[39;00m path\n\u001b[0;32m    131\u001b[0m \u001b[39m# Windows drive letters (e.g. \"C:\\\") confuse `urlparse` as they look like\u001b[39;00m\n\u001b[0;32m    132\u001b[0m \u001b[39m# URL schemes\u001b[39;00m\n\u001b[1;32m--> 133\u001b[0m \u001b[39melif\u001b[39;00m sys\u001b[39m.\u001b[39mplatform \u001b[39m==\u001b[39m \u001b[39m\"\u001b[39m\u001b[39mwin32\u001b[39m\u001b[39m\"\u001b[39m \u001b[39mand\u001b[39;00m re\u001b[39m.\u001b[39;49mmatch(\u001b[39m\"\u001b[39;49m\u001b[39m^[a-zA-Z]\u001b[39;49m\u001b[39m\\\\\u001b[39;49;00m\u001b[39m:\u001b[39;49m\u001b[39m\"\u001b[39;49m, path):\n\u001b[0;32m    134\u001b[0m     \u001b[39mreturn\u001b[39;00m UnparsedPath(path)\n\u001b[0;32m    136\u001b[0m \u001b[39melif\u001b[39;00m path\u001b[39m.\u001b[39mstartswith(\u001b[39m'\u001b[39m\u001b[39m/vsi\u001b[39m\u001b[39m'\u001b[39m):\n",
      "File \u001b[1;32m~\\AppData\\Local\\Programs\\Python\\Python310\\lib\\re.py:190\u001b[0m, in \u001b[0;36mmatch\u001b[1;34m(pattern, string, flags)\u001b[0m\n\u001b[0;32m    187\u001b[0m \u001b[39mdef\u001b[39;00m \u001b[39mmatch\u001b[39m(pattern, string, flags\u001b[39m=\u001b[39m\u001b[39m0\u001b[39m):\n\u001b[0;32m    188\u001b[0m     \u001b[39m\"\"\"Try to apply the pattern at the start of the string, returning\u001b[39;00m\n\u001b[0;32m    189\u001b[0m \u001b[39m    a Match object, or None if no match was found.\"\"\"\u001b[39;00m\n\u001b[1;32m--> 190\u001b[0m     \u001b[39mreturn\u001b[39;00m _compile(pattern, flags)\u001b[39m.\u001b[39;49mmatch(string)\n",
      "\u001b[1;31mTypeError\u001b[0m: expected string or bytes-like object"
     ]
    }
   ],
   "source": [
    "gpd.read_file(geojson_data)\n"
   ]
  },
  {
   "cell_type": "code",
   "execution_count": 21,
   "metadata": {},
   "outputs": [
    {
     "ename": "TypeError",
     "evalue": "Input must be valid geometry objects: {'type': 'MultiPolygon', 'coordinates': [[[[103.18194429999998, 22.6255865], [103.1481844, 22.5834577], [103.08250179999999, 22.5844456], [103.05051509999998, 22.6275883], [103.08423149999999, 22.669747699999984], [103.1499782, 22.6687339], [103.18194429999998, 22.6255865]]]]}",
     "output_type": "error",
     "traceback": [
      "\u001b[1;31m---------------------------------------------------------------------------\u001b[0m",
      "\u001b[1;31mTypeError\u001b[0m                                 Traceback (most recent call last)",
      "\u001b[1;32mc:\\Users\\milan\\OneDrive - MUNI\\VŠ\\PhD\\Zahraniční stáž\\Work\\HeiGIT_notebooks\\analysis\\ai-assisted-osm-mapping-stats\\notebooks-blds\\blds-download-export-data-ver2-hexagrid.ipynb Cell 25\u001b[0m in \u001b[0;36m1\n\u001b[1;32m----> <a href='vscode-notebook-cell:/c%3A/Users/milan/OneDrive%20-%20MUNI/V%C5%A0/PhD/Zahrani%C4%8Dn%C3%AD%20st%C3%A1%C5%BE/Work/HeiGIT_notebooks/analysis/ai-assisted-osm-mapping-stats/notebooks-blds/blds-download-export-data-ver2-hexagrid.ipynb#X35sZmlsZQ%3D%3D?line=0'>1</a>\u001b[0m gpd\u001b[39m.\u001b[39mGeoDataFrame(geojson_data)\u001b[39m.\u001b[39mset_geometry(\u001b[39m'\u001b[39m\u001b[39mgeometry\u001b[39m\u001b[39m'\u001b[39m)\n",
      "File \u001b[1;32mc:\\Users\\milan\\general_py_venv\\lib\\site-packages\\geopandas\\geodataframe.py:346\u001b[0m, in \u001b[0;36mGeoDataFrame.set_geometry\u001b[1;34m(self, col, drop, inplace, crs)\u001b[0m\n\u001b[0;32m    343\u001b[0m     level\u001b[39m.\u001b[39mcrs \u001b[39m=\u001b[39m crs\n\u001b[0;32m    345\u001b[0m \u001b[39m# Check that we are using a listlike of geometries\u001b[39;00m\n\u001b[1;32m--> 346\u001b[0m level \u001b[39m=\u001b[39m _ensure_geometry(level, crs\u001b[39m=\u001b[39;49mcrs)\n\u001b[0;32m    347\u001b[0m frame[geo_column_name] \u001b[39m=\u001b[39m level\n\u001b[0;32m    348\u001b[0m frame\u001b[39m.\u001b[39m_geometry_column_name \u001b[39m=\u001b[39m geo_column_name\n",
      "File \u001b[1;32mc:\\Users\\milan\\general_py_venv\\lib\\site-packages\\geopandas\\geodataframe.py:59\u001b[0m, in \u001b[0;36m_ensure_geometry\u001b[1;34m(data, crs)\u001b[0m\n\u001b[0;32m     57\u001b[0m \u001b[39melse\u001b[39;00m:\n\u001b[0;32m     58\u001b[0m     \u001b[39mif\u001b[39;00m \u001b[39misinstance\u001b[39m(data, Series):\n\u001b[1;32m---> 59\u001b[0m         out \u001b[39m=\u001b[39m from_shapely(np\u001b[39m.\u001b[39;49masarray(data), crs\u001b[39m=\u001b[39;49mcrs)\n\u001b[0;32m     60\u001b[0m         \u001b[39mreturn\u001b[39;00m GeoSeries(out, index\u001b[39m=\u001b[39mdata\u001b[39m.\u001b[39mindex, name\u001b[39m=\u001b[39mdata\u001b[39m.\u001b[39mname)\n\u001b[0;32m     61\u001b[0m     \u001b[39melse\u001b[39;00m:\n",
      "File \u001b[1;32mc:\\Users\\milan\\general_py_venv\\lib\\site-packages\\geopandas\\array.py:154\u001b[0m, in \u001b[0;36mfrom_shapely\u001b[1;34m(data, crs)\u001b[0m\n\u001b[0;32m    138\u001b[0m \u001b[39mdef\u001b[39;00m \u001b[39mfrom_shapely\u001b[39m(data, crs\u001b[39m=\u001b[39m\u001b[39mNone\u001b[39;00m):\n\u001b[0;32m    139\u001b[0m     \u001b[39m\"\"\"\u001b[39;00m\n\u001b[0;32m    140\u001b[0m \u001b[39m    Convert a list or array of shapely objects to a GeometryArray.\u001b[39;00m\n\u001b[0;32m    141\u001b[0m \n\u001b[1;32m   (...)\u001b[0m\n\u001b[0;32m    152\u001b[0m \n\u001b[0;32m    153\u001b[0m \u001b[39m    \"\"\"\u001b[39;00m\n\u001b[1;32m--> 154\u001b[0m     \u001b[39mreturn\u001b[39;00m GeometryArray(vectorized\u001b[39m.\u001b[39;49mfrom_shapely(data), crs\u001b[39m=\u001b[39mcrs)\n",
      "File \u001b[1;32mc:\\Users\\milan\\general_py_venv\\lib\\site-packages\\geopandas\\_vectorized.py:145\u001b[0m, in \u001b[0;36mfrom_shapely\u001b[1;34m(data)\u001b[0m\n\u001b[0;32m    143\u001b[0m         out\u001b[39m.\u001b[39mappend(\u001b[39mNone\u001b[39;00m)\n\u001b[0;32m    144\u001b[0m     \u001b[39melse\u001b[39;00m:\n\u001b[1;32m--> 145\u001b[0m         \u001b[39mraise\u001b[39;00m \u001b[39mTypeError\u001b[39;00m(\u001b[39m\"\u001b[39m\u001b[39mInput must be valid geometry objects: \u001b[39m\u001b[39m{0}\u001b[39;00m\u001b[39m\"\u001b[39m\u001b[39m.\u001b[39mformat(geom))\n\u001b[0;32m    147\u001b[0m \u001b[39mif\u001b[39;00m compat\u001b[39m.\u001b[39mUSE_PYGEOS:\n\u001b[0;32m    148\u001b[0m     \u001b[39mreturn\u001b[39;00m np\u001b[39m.\u001b[39marray(out, dtype\u001b[39m=\u001b[39m\u001b[39mobject\u001b[39m)\n",
      "\u001b[1;31mTypeError\u001b[0m: Input must be valid geometry objects: {'type': 'MultiPolygon', 'coordinates': [[[[103.18194429999998, 22.6255865], [103.1481844, 22.5834577], [103.08250179999999, 22.5844456], [103.05051509999998, 22.6275883], [103.08423149999999, 22.669747699999984], [103.1499782, 22.6687339], [103.18194429999998, 22.6255865]]]]}"
     ]
    }
   ],
   "source": [
    "gpd.GeoDataFrame(geojson_data).set_geometry('geometry')\n"
   ]
  },
  {
   "cell_type": "code",
   "execution_count": null,
   "metadata": {},
   "outputs": [],
   "source": []
  }
 ],
 "metadata": {
  "kernelspec": {
   "display_name": "general_py_venv",
   "language": "python",
   "name": "python3"
  },
  "language_info": {
   "codemirror_mode": {
    "name": "ipython",
    "version": 3
   },
   "file_extension": ".py",
   "mimetype": "text/x-python",
   "name": "python",
   "nbconvert_exporter": "python",
   "pygments_lexer": "ipython3",
   "version": "3.10.7"
  },
  "orig_nbformat": 4
 },
 "nbformat": 4,
 "nbformat_minor": 2
}
