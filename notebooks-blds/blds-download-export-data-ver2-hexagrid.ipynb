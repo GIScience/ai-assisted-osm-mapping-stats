{
 "cells": [
  {
   "attachments": {},
   "cell_type": "markdown",
   "metadata": {},
   "source": [
    "# Download the buildings data in the hexagrid"
   ]
  },
  {
   "attachments": {},
   "cell_type": "markdown",
   "metadata": {},
   "source": [
    "Question: How many buildings were mapped with RapID (Microsoft buildings) in selected region?"
   ]
  },
  {
   "attachments": {},
   "cell_type": "markdown",
   "metadata": {},
   "source": [
    "#### Import libs"
   ]
  },
  {
   "cell_type": "code",
   "execution_count": 1,
   "metadata": {},
   "outputs": [],
   "source": [
    "import json\n",
    "import os\n",
    "import requests\n",
    "import glob\n",
    "from tqdm import tqdm\n",
    "import time"
   ]
  },
  {
   "attachments": {},
   "cell_type": "markdown",
   "metadata": {},
   "source": [
    "### Get the data for every specified region"
   ]
  },
  {
   "attachments": {},
   "cell_type": "markdown",
   "metadata": {},
   "source": [
    "#### Definitions"
   ]
  },
  {
   "cell_type": "code",
   "execution_count": 2,
   "metadata": {},
   "outputs": [],
   "source": [
    "os.chdir('..')\n"
   ]
  },
  {
   "cell_type": "code",
   "execution_count": 3,
   "metadata": {},
   "outputs": [
    {
     "data": {
      "text/plain": [
       "['geojson-hexagrid-india',\n",
       " 'geojson-hexagrid-kenya',\n",
       " 'geojson-hexagrid-nigeria',\n",
       " 'geojson-hexagrid-tanzania',\n",
       " 'geojson-hexagrid-vietnam']"
      ]
     },
     "execution_count": 3,
     "metadata": {},
     "output_type": "execute_result"
    }
   ],
   "source": [
    "def get_geojson_names():\n",
    "\n",
    "    home_dir = os.getcwd()\n",
    "    geojson_dir = os.path.join(home_dir, f\"geojson-regions\\\\geojson-hexagrid-states\", \"\")\n",
    "\n",
    "    # Construct the file pattern\n",
    "    file_pattern = os.path.join(geojson_dir, '*.geojson')\n",
    "    # print(file_pattern)\n",
    "\n",
    "    # Use glob to get the list of file names matching the pattern\n",
    "    file_names = glob.glob(file_pattern)\n",
    "    # print(file_names)\n",
    "\n",
    "    # Extract the base names of the files without the extension\n",
    "    names = [os.path.splitext(os.path.basename(file_name))[0]\n",
    "             for file_name in file_names]\n",
    "    # print(names)\n",
    "    # Print the names\n",
    "\n",
    "    return names\n",
    "\n",
    "\n",
    "geojson_names = get_geojson_names()\n",
    "geojson_names\n"
   ]
  },
  {
   "cell_type": "code",
   "execution_count": 4,
   "metadata": {},
   "outputs": [
    {
     "data": {
      "text/plain": [
       "{0: 'geojson-hexagrid-india',\n",
       " 1: 'geojson-hexagrid-kenya',\n",
       " 2: 'geojson-hexagrid-nigeria',\n",
       " 3: 'geojson-hexagrid-tanzania',\n",
       " 4: 'geojson-hexagrid-vietnam'}"
      ]
     },
     "execution_count": 4,
     "metadata": {},
     "output_type": "execute_result"
    }
   ],
   "source": [
    "geojson_dic = {k: v for k, v in enumerate(geojson_names)}\n",
    "geojson_dic\n"
   ]
  },
  {
   "cell_type": "code",
   "execution_count": 5,
   "metadata": {},
   "outputs": [],
   "source": [
    "# def get_geojson_names():\n",
    "\n",
    "#     os.chdir('..')\n",
    "#     home_dir = os.getcwd()\n",
    "#     geojson_dir = os.path.join(home_dir, f\"geojson-regions\\\\geojson-hexagrid-states\", \"\")\n",
    "\n",
    "#     geojson_names = []\n",
    "#     for root, dirs, files in os.walk(geojson_dir):\n",
    "#         for file in files:\n",
    "#             if file.endswith('.geojson'):\n",
    "#                 file_path = os.path.join(root, file)\n",
    "#                 file_name = os.path.splitext(os.path.basename(file_path))[0]\n",
    "#                 geojson_names.append(file_name)\n",
    "#         # geojson_names.extend(file_names)\n",
    "#     print(geojson_names)\n",
    "#     return geojson_names\n",
    "\n",
    "# geojson_names = get_geojson_names()\n"
   ]
  },
  {
   "cell_type": "code",
   "execution_count": 6,
   "metadata": {},
   "outputs": [
    {
     "data": {
      "text/plain": [
       "{0: 'geojson-hexagrid-india',\n",
       " 1: 'geojson-hexagrid-kenya',\n",
       " 2: 'geojson-hexagrid-nigeria',\n",
       " 3: 'geojson-hexagrid-tanzania',\n",
       " 4: 'geojson-hexagrid-vietnam'}"
      ]
     },
     "execution_count": 6,
     "metadata": {},
     "output_type": "execute_result"
    }
   ],
   "source": [
    "geojson_dic = {k:v for k,v in enumerate(geojson_names)}\n",
    "geojson_dic\n"
   ]
  },
  {
   "cell_type": "code",
   "execution_count": null,
   "metadata": {},
   "outputs": [],
   "source": []
  },
  {
   "cell_type": "code",
   "execution_count": 7,
   "metadata": {},
   "outputs": [],
   "source": [
    "# define the dictinaries\n",
    "\n",
    "# data_dic = {0: \"blds_continent-states_18-23_ai\",\n",
    "#             1: \"blds_africa-states_18-23_ai\",\n",
    "#             2: \"blds_northamerica-states_18-23_ai\",\n",
    "#             3: \"blds_europe-states_18-23_ai\",\n",
    "#             4: \"blds_asia-states_18-23_ai\", }\n",
    "\n",
    "# geojson_dic = {0: \"geojson-continent-states\",\n",
    "#                       1: \"geojson-africa-states\",\n",
    "#                       2: \"geojson-northamerica-states\",\n",
    "#                       3: \"geojson-europe-states\",\n",
    "#                       4: \"geojson-asia-states\",}"
   ]
  },
  {
   "cell_type": "code",
   "execution_count": 8,
   "metadata": {},
   "outputs": [
    {
     "name": "stdout",
     "output_type": "stream",
     "text": [
      "Dictionary is not empty\n"
     ]
    }
   ],
   "source": [
    "if bool(geojson_dic):\n",
    "    print(\"Dictionary is not empty\")"
   ]
  },
  {
   "cell_type": "code",
   "execution_count": 9,
   "metadata": {},
   "outputs": [],
   "source": [
    "# define the user input\n",
    "\n",
    "while True:\n",
    "    if bool(geojson_dic):\n",
    "        try:\n",
    "            user_d_spec = int(input(f\"Which data do you want to download?\\\n",
    "                                Enter {geojson_dic}\"\n",
    "                                    ))\n",
    "        except ValueError:\n",
    "            print(\"Please enter a number.\")\n",
    "            continue\n",
    "        if user_d_spec not in range(len(geojson_dic)):\n",
    "            print(f\"Please enter {len(geojson_dic.keys())}\")\n",
    "            continue\n",
    "        break\n",
    "    else:\n",
    "        print(\"Geojson_dic is empty, restart the kernel, please.\")\n",
    "        break\n",
    "\n",
    "while True:\n",
    "    try:\n",
    "        user_d_format = int(input(\"Which data format do you want to export?\\\n",
    "                            Enter 0 for json format\\\n",
    "                            or 1 for geojson format\"\n",
    "                                ))\n",
    "    except ValueError:\n",
    "        print(\"Please enter a number.\")\n",
    "        continue\n",
    "    if user_d_format not in range(0, 2):\n",
    "        print(\"Please enter 0 or 1.\")\n",
    "        continue\n",
    "    break\n"
   ]
  },
  {
   "cell_type": "code",
   "execution_count": 10,
   "metadata": {},
   "outputs": [],
   "source": [
    "# define the functions\n",
    "\n",
    "def convert_geojson_structure(original_dict):\n",
    "    new_dict = {}\n",
    "    new_dict[\"type\"] = \"FeatureCollection\"\n",
    "    new_dict[\"features\"] = []\n",
    "\n",
    "    feature_dict = {}\n",
    "    feature_dict[\"type\"] = \"Feature\"\n",
    "    feature_dict[\"geometry\"] = {}\n",
    "    feature_dict[\"geometry\"][\"type\"] = \"MultiPolygon\"\n",
    "\n",
    "    new_dict[\"features\"].append(feature_dict)\n",
    "\n",
    "    feature_dict[\"geometry\"][\"coordinates\"] = original_dict[\"geometry\"][\"coordinates\"]\n",
    "    # feature_dict[\"geometry\"][\"type\"] = \"MultiPolygon\"\n",
    "    feature_dict[\"properties\"] = original_dict[\"properties\"]\n",
    "\n",
    "    return new_dict\n",
    "\n",
    "def data_gen(feature):\n",
    "\n",
    "    desired_geojson_structure = convert_geojson_structure(feature)\n",
    "\n",
    "    parameters = {\n",
    "        # pass GeoJSON as string.\n",
    "        \"bpolys\": json.dumps(desired_geojson_structure),\n",
    "        \"filter\": \"building=* and building!=no and geometry:polygon\",\n",
    "        \"groupByKey\": \"source\",\n",
    "        \"groupByValues\": \"microsoft/BuildingFootprints\",\n",
    "        \"format\": \"json\",\n",
    "        \"time\": \"2018-01-01/2023-01-01/P1Y\",\n",
    "        }\n",
    "    headers = {\n",
    "        \"accept\": \"application/json\",\n",
    "        \"Content-Type\": \"application/x-www-form-urlencoded\",\n",
    "        }\n",
    "\n",
    "    for value in parameters.values():\n",
    "        assert value != \"\", \"Please provide values for the parameters\"\n",
    "\n",
    "    while True:\n",
    "        try:\n",
    "            response = requests.post(url, data=parameters, headers=headers)\n",
    "            response.raise_for_status()  # Raise an Exception if HTTP Status Code is not 200\n",
    "\n",
    "            # print(\"Response:\")\n",
    "            # print(desired_geojson_structure[\"features\"][0][\"properties\"][\"NAME_EN\"])\n",
    "            # print(json.dumps(response.json(), indent=4))  # Pretty print response\n",
    "\n",
    "            result = response.json()[\"groupByResult\"]\n",
    "\n",
    "            for state in result:\n",
    "                state[\"groupByObject\"][0] = desired_geojson_structure[\"features\"][0][\"properties\"][\"id\"]\n",
    "\n",
    "            return result\n",
    "        except requests.exceptions.RequestException:\n",
    "            # Wi-Fi connection error occurred, wait for connection to be restored\n",
    "            print(\"Waiting for Wi-Fi connection to be restored...\")\n",
    "            time.sleep(5)  # Wait for 5 seconds\n",
    "            continue  # Continue to the next iteration of the loop\n",
    "\n",
    "\n",
    "def connect_feat_data(feature, data):\n",
    "\n",
    "    rem_value_to_add = None\n",
    "    ai_value_to_add = None\n",
    "\n",
    "    for elem in data:\n",
    "        if elem['groupByObject'][1] == 'remainder':\n",
    "            rem_value_to_add = find_value(elem, '2023-01-01T00:00:00Z')\n",
    "        elif elem['groupByObject'][1] == 'source=microsoft/BuildingFootprints':\n",
    "            ai_value_to_add = find_value(elem, '2023-01-01T00:00:00Z')\n",
    "\n",
    "    blds_total = rem_value_to_add + ai_value_to_add\\\n",
    "        if rem_value_to_add is not None and ai_value_to_add is not None else None\n",
    "    ai_percentage = (ai_value_to_add / (ai_value_to_add + rem_value_to_add)) * 100\\\n",
    "        if rem_value_to_add is not None and ai_value_to_add is not None else None\n",
    "\n",
    "    if rem_value_to_add is not None:\n",
    "        feature['properties']['mm_blds_2023'] = rem_value_to_add\n",
    "\n",
    "    if ai_value_to_add is not None:\n",
    "        feature['properties']['ai_blds_2023'] = ai_value_to_add\n",
    "\n",
    "    if blds_total is not None:\n",
    "        feature['properties']['blds_total'] = blds_total\n",
    "\n",
    "    if ai_percentage is not None:\n",
    "        feature['properties']['ai_percentage'] = ai_percentage\n",
    "\n",
    "    return feature\n",
    "\n",
    "\n",
    "def find_value(elem, timestamp):\n",
    "    for result in elem['result']:\n",
    "        if result['timestamp'] == timestamp:\n",
    "            return result['value']\n",
    "    return None\n",
    "\n",
    "\n",
    "def return_json_data():\n",
    "\n",
    "    data = []\n",
    "\n",
    "    features = bpolys[\"features\"]\n",
    "    for i, feature in tqdm(enumerate(features), total=len(features)):\n",
    "\n",
    "        obtained_data = data_gen(feature)\n",
    "        # print(data)\n",
    "        data.append(obtained_data)\n",
    "\n",
    "    return data\n",
    "\n",
    "\n",
    "def return_geojson_data():\n",
    "\n",
    "    data = []\n",
    "\n",
    "    features = bpolys[\"features\"]\n",
    "    for i, feature in tqdm(enumerate(features), total=len(features)):\n",
    "\n",
    "        obtained_data = data_gen(feature)\n",
    "        # print(data)\n",
    "        feat_with_data = connect_feat_data(feature, obtained_data)\n",
    "        # print(feat_with_data)\n",
    "        # print(feature)\n",
    "\n",
    "        data.append(feat_with_data)\n",
    "\n",
    "    return data\n",
    "\n",
    "# export the data\n",
    "\n",
    "\n",
    "def export_data_as_json(name, data):\n",
    "    with open(f\"downloaded-data\\\\{name}.json\", \"w\") as file:\n",
    "        json.dump(data, file, indent=4)\n",
    "\n",
    "\n",
    "# export_data_as_json(data_dic[user_d_spec], return_json_data)\n",
    "\n",
    "\n",
    "def export_data_as_geojson(name, data):\n",
    "\n",
    "    # Define the filename for the GeoJSON file\n",
    "    filename = f'{name}.geojson'\n",
    "\n",
    "    # Create a FeatureCollection from the structure\n",
    "    feature_collection = {\n",
    "        'type': 'FeatureCollection',\n",
    "        'features': data\n",
    "    }\n",
    "\n",
    "    # Write the FeatureCollection to a GeoJSON file\n",
    "    with open(f\"downloaded-data-geojson\\\\{filename}\", 'w') as file:\n",
    "        json.dump(feature_collection, file, indent=4)\n",
    "\n",
    "\n",
    "# export_data_as_geojson(data_dic[user_d_spec], return_geojson_data)\n"
   ]
  },
  {
   "cell_type": "code",
   "execution_count": 11,
   "metadata": {},
   "outputs": [],
   "source": [
    "# define the URL\n",
    "\n",
    "base_url = \"https://api.ohsome.org/v1\"\n",
    "endpoint = \"/elements/count/groupBy/boundary/groupBy/tag\"\n",
    "url = base_url + endpoint"
   ]
  },
  {
   "attachments": {},
   "cell_type": "markdown",
   "metadata": {},
   "source": [
    "#### Get the data"
   ]
  },
  {
   "cell_type": "code",
   "execution_count": 12,
   "metadata": {},
   "outputs": [],
   "source": [
    "# read geojson data\n",
    "\n",
    "# os.chdir('..')\n",
    "home_wd = os.getcwd()\n",
    "# downloaded_data_geojson_dir = os.path.join(home_wd, \"downloaded-data-geojson\", \"\")\n",
    "\n",
    "with open(f\"geojson-regions\\\\geojson-hexagrid-states\\\\{geojson_dic[user_d_spec]}.geojson\", \"r\") as file:\n",
    "    bpolys = json.load(file)\n"
   ]
  },
  {
   "cell_type": "code",
   "execution_count": 13,
   "metadata": {},
   "outputs": [],
   "source": [
    "# convert_geojson_structure(bpolys[\"features\"][0])"
   ]
  },
  {
   "cell_type": "code",
   "execution_count": 14,
   "metadata": {},
   "outputs": [],
   "source": [
    "# convert_geojson_structure(bpolys[\"features\"][3])\n"
   ]
  },
  {
   "cell_type": "code",
   "execution_count": 15,
   "metadata": {},
   "outputs": [
    {
     "name": "stderr",
     "output_type": "stream",
     "text": [
      " 93%|█████████▎| 6326/6770 [7:56:12<33:25,  4.52s/it]  \n"
     ]
    },
    {
     "ename": "ConnectionError",
     "evalue": "('Connection aborted.', RemoteDisconnected('Remote end closed connection without response'))",
     "output_type": "error",
     "traceback": [
      "\u001b[1;31m---------------------------------------------------------------------------\u001b[0m",
      "\u001b[1;31mRemoteDisconnected\u001b[0m                        Traceback (most recent call last)",
      "File \u001b[1;32mc:\\Users\\milan\\general_py_venv\\lib\\site-packages\\urllib3\\connectionpool.py:703\u001b[0m, in \u001b[0;36mHTTPConnectionPool.urlopen\u001b[1;34m(self, method, url, body, headers, retries, redirect, assert_same_host, timeout, pool_timeout, release_conn, chunked, body_pos, **response_kw)\u001b[0m\n\u001b[0;32m    702\u001b[0m \u001b[39m# Make the request on the httplib connection object.\u001b[39;00m\n\u001b[1;32m--> 703\u001b[0m httplib_response \u001b[39m=\u001b[39m \u001b[39mself\u001b[39;49m\u001b[39m.\u001b[39;49m_make_request(\n\u001b[0;32m    704\u001b[0m     conn,\n\u001b[0;32m    705\u001b[0m     method,\n\u001b[0;32m    706\u001b[0m     url,\n\u001b[0;32m    707\u001b[0m     timeout\u001b[39m=\u001b[39;49mtimeout_obj,\n\u001b[0;32m    708\u001b[0m     body\u001b[39m=\u001b[39;49mbody,\n\u001b[0;32m    709\u001b[0m     headers\u001b[39m=\u001b[39;49mheaders,\n\u001b[0;32m    710\u001b[0m     chunked\u001b[39m=\u001b[39;49mchunked,\n\u001b[0;32m    711\u001b[0m )\n\u001b[0;32m    713\u001b[0m \u001b[39m# If we're going to release the connection in ``finally:``, then\u001b[39;00m\n\u001b[0;32m    714\u001b[0m \u001b[39m# the response doesn't need to know about the connection. Otherwise\u001b[39;00m\n\u001b[0;32m    715\u001b[0m \u001b[39m# it will also try to release it and we'll have a double-release\u001b[39;00m\n\u001b[0;32m    716\u001b[0m \u001b[39m# mess.\u001b[39;00m\n",
      "File \u001b[1;32mc:\\Users\\milan\\general_py_venv\\lib\\site-packages\\urllib3\\connectionpool.py:449\u001b[0m, in \u001b[0;36mHTTPConnectionPool._make_request\u001b[1;34m(self, conn, method, url, timeout, chunked, **httplib_request_kw)\u001b[0m\n\u001b[0;32m    445\u001b[0m         \u001b[39mexcept\u001b[39;00m \u001b[39mBaseException\u001b[39;00m \u001b[39mas\u001b[39;00m e:\n\u001b[0;32m    446\u001b[0m             \u001b[39m# Remove the TypeError from the exception chain in\u001b[39;00m\n\u001b[0;32m    447\u001b[0m             \u001b[39m# Python 3 (including for exceptions like SystemExit).\u001b[39;00m\n\u001b[0;32m    448\u001b[0m             \u001b[39m# Otherwise it looks like a bug in the code.\u001b[39;00m\n\u001b[1;32m--> 449\u001b[0m             six\u001b[39m.\u001b[39;49mraise_from(e, \u001b[39mNone\u001b[39;49;00m)\n\u001b[0;32m    450\u001b[0m \u001b[39mexcept\u001b[39;00m (SocketTimeout, BaseSSLError, SocketError) \u001b[39mas\u001b[39;00m e:\n",
      "File \u001b[1;32m<string>:3\u001b[0m, in \u001b[0;36mraise_from\u001b[1;34m(value, from_value)\u001b[0m\n",
      "File \u001b[1;32mc:\\Users\\milan\\general_py_venv\\lib\\site-packages\\urllib3\\connectionpool.py:444\u001b[0m, in \u001b[0;36mHTTPConnectionPool._make_request\u001b[1;34m(self, conn, method, url, timeout, chunked, **httplib_request_kw)\u001b[0m\n\u001b[0;32m    443\u001b[0m \u001b[39mtry\u001b[39;00m:\n\u001b[1;32m--> 444\u001b[0m     httplib_response \u001b[39m=\u001b[39m conn\u001b[39m.\u001b[39;49mgetresponse()\n\u001b[0;32m    445\u001b[0m \u001b[39mexcept\u001b[39;00m \u001b[39mBaseException\u001b[39;00m \u001b[39mas\u001b[39;00m e:\n\u001b[0;32m    446\u001b[0m     \u001b[39m# Remove the TypeError from the exception chain in\u001b[39;00m\n\u001b[0;32m    447\u001b[0m     \u001b[39m# Python 3 (including for exceptions like SystemExit).\u001b[39;00m\n\u001b[0;32m    448\u001b[0m     \u001b[39m# Otherwise it looks like a bug in the code.\u001b[39;00m\n",
      "File \u001b[1;32m~\\AppData\\Local\\Programs\\Python\\Python310\\lib\\http\\client.py:1374\u001b[0m, in \u001b[0;36mHTTPConnection.getresponse\u001b[1;34m(self)\u001b[0m\n\u001b[0;32m   1373\u001b[0m \u001b[39mtry\u001b[39;00m:\n\u001b[1;32m-> 1374\u001b[0m     response\u001b[39m.\u001b[39;49mbegin()\n\u001b[0;32m   1375\u001b[0m \u001b[39mexcept\u001b[39;00m \u001b[39mConnectionError\u001b[39;00m:\n",
      "File \u001b[1;32m~\\AppData\\Local\\Programs\\Python\\Python310\\lib\\http\\client.py:318\u001b[0m, in \u001b[0;36mHTTPResponse.begin\u001b[1;34m(self)\u001b[0m\n\u001b[0;32m    317\u001b[0m \u001b[39mwhile\u001b[39;00m \u001b[39mTrue\u001b[39;00m:\n\u001b[1;32m--> 318\u001b[0m     version, status, reason \u001b[39m=\u001b[39m \u001b[39mself\u001b[39;49m\u001b[39m.\u001b[39;49m_read_status()\n\u001b[0;32m    319\u001b[0m     \u001b[39mif\u001b[39;00m status \u001b[39m!=\u001b[39m CONTINUE:\n",
      "File \u001b[1;32m~\\AppData\\Local\\Programs\\Python\\Python310\\lib\\http\\client.py:287\u001b[0m, in \u001b[0;36mHTTPResponse._read_status\u001b[1;34m(self)\u001b[0m\n\u001b[0;32m    284\u001b[0m \u001b[39mif\u001b[39;00m \u001b[39mnot\u001b[39;00m line:\n\u001b[0;32m    285\u001b[0m     \u001b[39m# Presumably, the server closed the connection before\u001b[39;00m\n\u001b[0;32m    286\u001b[0m     \u001b[39m# sending a valid response.\u001b[39;00m\n\u001b[1;32m--> 287\u001b[0m     \u001b[39mraise\u001b[39;00m RemoteDisconnected(\u001b[39m\"\u001b[39m\u001b[39mRemote end closed connection without\u001b[39m\u001b[39m\"\u001b[39m\n\u001b[0;32m    288\u001b[0m                              \u001b[39m\"\u001b[39m\u001b[39m response\u001b[39m\u001b[39m\"\u001b[39m)\n\u001b[0;32m    289\u001b[0m \u001b[39mtry\u001b[39;00m:\n",
      "\u001b[1;31mRemoteDisconnected\u001b[0m: Remote end closed connection without response",
      "\nDuring handling of the above exception, another exception occurred:\n",
      "\u001b[1;31mProtocolError\u001b[0m                             Traceback (most recent call last)",
      "File \u001b[1;32mc:\\Users\\milan\\general_py_venv\\lib\\site-packages\\requests\\adapters.py:489\u001b[0m, in \u001b[0;36mHTTPAdapter.send\u001b[1;34m(self, request, stream, timeout, verify, cert, proxies)\u001b[0m\n\u001b[0;32m    488\u001b[0m \u001b[39mif\u001b[39;00m \u001b[39mnot\u001b[39;00m chunked:\n\u001b[1;32m--> 489\u001b[0m     resp \u001b[39m=\u001b[39m conn\u001b[39m.\u001b[39;49murlopen(\n\u001b[0;32m    490\u001b[0m         method\u001b[39m=\u001b[39;49mrequest\u001b[39m.\u001b[39;49mmethod,\n\u001b[0;32m    491\u001b[0m         url\u001b[39m=\u001b[39;49murl,\n\u001b[0;32m    492\u001b[0m         body\u001b[39m=\u001b[39;49mrequest\u001b[39m.\u001b[39;49mbody,\n\u001b[0;32m    493\u001b[0m         headers\u001b[39m=\u001b[39;49mrequest\u001b[39m.\u001b[39;49mheaders,\n\u001b[0;32m    494\u001b[0m         redirect\u001b[39m=\u001b[39;49m\u001b[39mFalse\u001b[39;49;00m,\n\u001b[0;32m    495\u001b[0m         assert_same_host\u001b[39m=\u001b[39;49m\u001b[39mFalse\u001b[39;49;00m,\n\u001b[0;32m    496\u001b[0m         preload_content\u001b[39m=\u001b[39;49m\u001b[39mFalse\u001b[39;49;00m,\n\u001b[0;32m    497\u001b[0m         decode_content\u001b[39m=\u001b[39;49m\u001b[39mFalse\u001b[39;49;00m,\n\u001b[0;32m    498\u001b[0m         retries\u001b[39m=\u001b[39;49m\u001b[39mself\u001b[39;49m\u001b[39m.\u001b[39;49mmax_retries,\n\u001b[0;32m    499\u001b[0m         timeout\u001b[39m=\u001b[39;49mtimeout,\n\u001b[0;32m    500\u001b[0m     )\n\u001b[0;32m    502\u001b[0m \u001b[39m# Send the request.\u001b[39;00m\n\u001b[0;32m    503\u001b[0m \u001b[39melse\u001b[39;00m:\n",
      "File \u001b[1;32mc:\\Users\\milan\\general_py_venv\\lib\\site-packages\\urllib3\\connectionpool.py:787\u001b[0m, in \u001b[0;36mHTTPConnectionPool.urlopen\u001b[1;34m(self, method, url, body, headers, retries, redirect, assert_same_host, timeout, pool_timeout, release_conn, chunked, body_pos, **response_kw)\u001b[0m\n\u001b[0;32m    785\u001b[0m     e \u001b[39m=\u001b[39m ProtocolError(\u001b[39m\"\u001b[39m\u001b[39mConnection aborted.\u001b[39m\u001b[39m\"\u001b[39m, e)\n\u001b[1;32m--> 787\u001b[0m retries \u001b[39m=\u001b[39m retries\u001b[39m.\u001b[39;49mincrement(\n\u001b[0;32m    788\u001b[0m     method, url, error\u001b[39m=\u001b[39;49me, _pool\u001b[39m=\u001b[39;49m\u001b[39mself\u001b[39;49m, _stacktrace\u001b[39m=\u001b[39;49msys\u001b[39m.\u001b[39;49mexc_info()[\u001b[39m2\u001b[39;49m]\n\u001b[0;32m    789\u001b[0m )\n\u001b[0;32m    790\u001b[0m retries\u001b[39m.\u001b[39msleep()\n",
      "File \u001b[1;32mc:\\Users\\milan\\general_py_venv\\lib\\site-packages\\urllib3\\util\\retry.py:550\u001b[0m, in \u001b[0;36mRetry.increment\u001b[1;34m(self, method, url, response, error, _pool, _stacktrace)\u001b[0m\n\u001b[0;32m    549\u001b[0m \u001b[39mif\u001b[39;00m read \u001b[39mis\u001b[39;00m \u001b[39mFalse\u001b[39;00m \u001b[39mor\u001b[39;00m \u001b[39mnot\u001b[39;00m \u001b[39mself\u001b[39m\u001b[39m.\u001b[39m_is_method_retryable(method):\n\u001b[1;32m--> 550\u001b[0m     \u001b[39mraise\u001b[39;00m six\u001b[39m.\u001b[39;49mreraise(\u001b[39mtype\u001b[39;49m(error), error, _stacktrace)\n\u001b[0;32m    551\u001b[0m \u001b[39melif\u001b[39;00m read \u001b[39mis\u001b[39;00m \u001b[39mnot\u001b[39;00m \u001b[39mNone\u001b[39;00m:\n",
      "File \u001b[1;32mc:\\Users\\milan\\general_py_venv\\lib\\site-packages\\urllib3\\packages\\six.py:769\u001b[0m, in \u001b[0;36mreraise\u001b[1;34m(tp, value, tb)\u001b[0m\n\u001b[0;32m    768\u001b[0m \u001b[39mif\u001b[39;00m value\u001b[39m.\u001b[39m__traceback__ \u001b[39mis\u001b[39;00m \u001b[39mnot\u001b[39;00m tb:\n\u001b[1;32m--> 769\u001b[0m     \u001b[39mraise\u001b[39;00m value\u001b[39m.\u001b[39mwith_traceback(tb)\n\u001b[0;32m    770\u001b[0m \u001b[39mraise\u001b[39;00m value\n",
      "File \u001b[1;32mc:\\Users\\milan\\general_py_venv\\lib\\site-packages\\urllib3\\connectionpool.py:703\u001b[0m, in \u001b[0;36mHTTPConnectionPool.urlopen\u001b[1;34m(self, method, url, body, headers, retries, redirect, assert_same_host, timeout, pool_timeout, release_conn, chunked, body_pos, **response_kw)\u001b[0m\n\u001b[0;32m    702\u001b[0m \u001b[39m# Make the request on the httplib connection object.\u001b[39;00m\n\u001b[1;32m--> 703\u001b[0m httplib_response \u001b[39m=\u001b[39m \u001b[39mself\u001b[39;49m\u001b[39m.\u001b[39;49m_make_request(\n\u001b[0;32m    704\u001b[0m     conn,\n\u001b[0;32m    705\u001b[0m     method,\n\u001b[0;32m    706\u001b[0m     url,\n\u001b[0;32m    707\u001b[0m     timeout\u001b[39m=\u001b[39;49mtimeout_obj,\n\u001b[0;32m    708\u001b[0m     body\u001b[39m=\u001b[39;49mbody,\n\u001b[0;32m    709\u001b[0m     headers\u001b[39m=\u001b[39;49mheaders,\n\u001b[0;32m    710\u001b[0m     chunked\u001b[39m=\u001b[39;49mchunked,\n\u001b[0;32m    711\u001b[0m )\n\u001b[0;32m    713\u001b[0m \u001b[39m# If we're going to release the connection in ``finally:``, then\u001b[39;00m\n\u001b[0;32m    714\u001b[0m \u001b[39m# the response doesn't need to know about the connection. Otherwise\u001b[39;00m\n\u001b[0;32m    715\u001b[0m \u001b[39m# it will also try to release it and we'll have a double-release\u001b[39;00m\n\u001b[0;32m    716\u001b[0m \u001b[39m# mess.\u001b[39;00m\n",
      "File \u001b[1;32mc:\\Users\\milan\\general_py_venv\\lib\\site-packages\\urllib3\\connectionpool.py:449\u001b[0m, in \u001b[0;36mHTTPConnectionPool._make_request\u001b[1;34m(self, conn, method, url, timeout, chunked, **httplib_request_kw)\u001b[0m\n\u001b[0;32m    445\u001b[0m         \u001b[39mexcept\u001b[39;00m \u001b[39mBaseException\u001b[39;00m \u001b[39mas\u001b[39;00m e:\n\u001b[0;32m    446\u001b[0m             \u001b[39m# Remove the TypeError from the exception chain in\u001b[39;00m\n\u001b[0;32m    447\u001b[0m             \u001b[39m# Python 3 (including for exceptions like SystemExit).\u001b[39;00m\n\u001b[0;32m    448\u001b[0m             \u001b[39m# Otherwise it looks like a bug in the code.\u001b[39;00m\n\u001b[1;32m--> 449\u001b[0m             six\u001b[39m.\u001b[39;49mraise_from(e, \u001b[39mNone\u001b[39;49;00m)\n\u001b[0;32m    450\u001b[0m \u001b[39mexcept\u001b[39;00m (SocketTimeout, BaseSSLError, SocketError) \u001b[39mas\u001b[39;00m e:\n",
      "File \u001b[1;32m<string>:3\u001b[0m, in \u001b[0;36mraise_from\u001b[1;34m(value, from_value)\u001b[0m\n",
      "File \u001b[1;32mc:\\Users\\milan\\general_py_venv\\lib\\site-packages\\urllib3\\connectionpool.py:444\u001b[0m, in \u001b[0;36mHTTPConnectionPool._make_request\u001b[1;34m(self, conn, method, url, timeout, chunked, **httplib_request_kw)\u001b[0m\n\u001b[0;32m    443\u001b[0m \u001b[39mtry\u001b[39;00m:\n\u001b[1;32m--> 444\u001b[0m     httplib_response \u001b[39m=\u001b[39m conn\u001b[39m.\u001b[39;49mgetresponse()\n\u001b[0;32m    445\u001b[0m \u001b[39mexcept\u001b[39;00m \u001b[39mBaseException\u001b[39;00m \u001b[39mas\u001b[39;00m e:\n\u001b[0;32m    446\u001b[0m     \u001b[39m# Remove the TypeError from the exception chain in\u001b[39;00m\n\u001b[0;32m    447\u001b[0m     \u001b[39m# Python 3 (including for exceptions like SystemExit).\u001b[39;00m\n\u001b[0;32m    448\u001b[0m     \u001b[39m# Otherwise it looks like a bug in the code.\u001b[39;00m\n",
      "File \u001b[1;32m~\\AppData\\Local\\Programs\\Python\\Python310\\lib\\http\\client.py:1374\u001b[0m, in \u001b[0;36mHTTPConnection.getresponse\u001b[1;34m(self)\u001b[0m\n\u001b[0;32m   1373\u001b[0m \u001b[39mtry\u001b[39;00m:\n\u001b[1;32m-> 1374\u001b[0m     response\u001b[39m.\u001b[39;49mbegin()\n\u001b[0;32m   1375\u001b[0m \u001b[39mexcept\u001b[39;00m \u001b[39mConnectionError\u001b[39;00m:\n",
      "File \u001b[1;32m~\\AppData\\Local\\Programs\\Python\\Python310\\lib\\http\\client.py:318\u001b[0m, in \u001b[0;36mHTTPResponse.begin\u001b[1;34m(self)\u001b[0m\n\u001b[0;32m    317\u001b[0m \u001b[39mwhile\u001b[39;00m \u001b[39mTrue\u001b[39;00m:\n\u001b[1;32m--> 318\u001b[0m     version, status, reason \u001b[39m=\u001b[39m \u001b[39mself\u001b[39;49m\u001b[39m.\u001b[39;49m_read_status()\n\u001b[0;32m    319\u001b[0m     \u001b[39mif\u001b[39;00m status \u001b[39m!=\u001b[39m CONTINUE:\n",
      "File \u001b[1;32m~\\AppData\\Local\\Programs\\Python\\Python310\\lib\\http\\client.py:287\u001b[0m, in \u001b[0;36mHTTPResponse._read_status\u001b[1;34m(self)\u001b[0m\n\u001b[0;32m    284\u001b[0m \u001b[39mif\u001b[39;00m \u001b[39mnot\u001b[39;00m line:\n\u001b[0;32m    285\u001b[0m     \u001b[39m# Presumably, the server closed the connection before\u001b[39;00m\n\u001b[0;32m    286\u001b[0m     \u001b[39m# sending a valid response.\u001b[39;00m\n\u001b[1;32m--> 287\u001b[0m     \u001b[39mraise\u001b[39;00m RemoteDisconnected(\u001b[39m\"\u001b[39m\u001b[39mRemote end closed connection without\u001b[39m\u001b[39m\"\u001b[39m\n\u001b[0;32m    288\u001b[0m                              \u001b[39m\"\u001b[39m\u001b[39m response\u001b[39m\u001b[39m\"\u001b[39m)\n\u001b[0;32m    289\u001b[0m \u001b[39mtry\u001b[39;00m:\n",
      "\u001b[1;31mProtocolError\u001b[0m: ('Connection aborted.', RemoteDisconnected('Remote end closed connection without response'))",
      "\nDuring handling of the above exception, another exception occurred:\n",
      "\u001b[1;31mConnectionError\u001b[0m                           Traceback (most recent call last)",
      "\u001b[1;32mc:\\Users\\milan\\OneDrive - MUNI\\VŠ\\PhD\\Zahraniční stáž\\Work\\HeiGIT_notebooks\\analysis\\ai-assisted-osm-mapping-stats\\notebooks-blds\\blds-download-export-data-ver2-hexagrid.ipynb Cell 22\u001b[0m in \u001b[0;36m9\n\u001b[0;32m      <a href='vscode-notebook-cell:/c%3A/Users/milan/OneDrive%20-%20MUNI/V%C5%A0/PhD/Zahrani%C4%8Dn%C3%AD%20st%C3%A1%C5%BE/Work/HeiGIT_notebooks/analysis/ai-assisted-osm-mapping-stats/notebooks-blds/blds-download-export-data-ver2-hexagrid.ipynb#X26sZmlsZQ%3D%3D?line=6'>7</a>\u001b[0m     export_data_as_json(geojson_dic[user_d_spec], obtained_json_data)\n\u001b[0;32m      <a href='vscode-notebook-cell:/c%3A/Users/milan/OneDrive%20-%20MUNI/V%C5%A0/PhD/Zahrani%C4%8Dn%C3%AD%20st%C3%A1%C5%BE/Work/HeiGIT_notebooks/analysis/ai-assisted-osm-mapping-stats/notebooks-blds/blds-download-export-data-ver2-hexagrid.ipynb#X26sZmlsZQ%3D%3D?line=7'>8</a>\u001b[0m \u001b[39melse\u001b[39;00m:\n\u001b[1;32m----> <a href='vscode-notebook-cell:/c%3A/Users/milan/OneDrive%20-%20MUNI/V%C5%A0/PhD/Zahrani%C4%8Dn%C3%AD%20st%C3%A1%C5%BE/Work/HeiGIT_notebooks/analysis/ai-assisted-osm-mapping-stats/notebooks-blds/blds-download-export-data-ver2-hexagrid.ipynb#X26sZmlsZQ%3D%3D?line=8'>9</a>\u001b[0m     obtained_geojson_data \u001b[39m=\u001b[39m return_geojson_data()\n\u001b[0;32m     <a href='vscode-notebook-cell:/c%3A/Users/milan/OneDrive%20-%20MUNI/V%C5%A0/PhD/Zahrani%C4%8Dn%C3%AD%20st%C3%A1%C5%BE/Work/HeiGIT_notebooks/analysis/ai-assisted-osm-mapping-stats/notebooks-blds/blds-download-export-data-ver2-hexagrid.ipynb#X26sZmlsZQ%3D%3D?line=9'>10</a>\u001b[0m     geojson_data\u001b[39m.\u001b[39mextend(obtained_geojson_data)\n\u001b[0;32m     <a href='vscode-notebook-cell:/c%3A/Users/milan/OneDrive%20-%20MUNI/V%C5%A0/PhD/Zahrani%C4%8Dn%C3%AD%20st%C3%A1%C5%BE/Work/HeiGIT_notebooks/analysis/ai-assisted-osm-mapping-stats/notebooks-blds/blds-download-export-data-ver2-hexagrid.ipynb#X26sZmlsZQ%3D%3D?line=10'>11</a>\u001b[0m     export_data_as_geojson(geojson_dic[user_d_spec], obtained_geojson_data)\n",
      "\u001b[1;32mc:\\Users\\milan\\OneDrive - MUNI\\VŠ\\PhD\\Zahraniční stáž\\Work\\HeiGIT_notebooks\\analysis\\ai-assisted-osm-mapping-stats\\notebooks-blds\\blds-download-export-data-ver2-hexagrid.ipynb Cell 22\u001b[0m in \u001b[0;36m1\n\u001b[0;32m    <a href='vscode-notebook-cell:/c%3A/Users/milan/OneDrive%20-%20MUNI/V%C5%A0/PhD/Zahrani%C4%8Dn%C3%AD%20st%C3%A1%C5%BE/Work/HeiGIT_notebooks/analysis/ai-assisted-osm-mapping-stats/notebooks-blds/blds-download-export-data-ver2-hexagrid.ipynb#X26sZmlsZQ%3D%3D?line=112'>113</a>\u001b[0m features \u001b[39m=\u001b[39m bpolys[\u001b[39m\"\u001b[39m\u001b[39mfeatures\u001b[39m\u001b[39m\"\u001b[39m]\n\u001b[0;32m    <a href='vscode-notebook-cell:/c%3A/Users/milan/OneDrive%20-%20MUNI/V%C5%A0/PhD/Zahrani%C4%8Dn%C3%AD%20st%C3%A1%C5%BE/Work/HeiGIT_notebooks/analysis/ai-assisted-osm-mapping-stats/notebooks-blds/blds-download-export-data-ver2-hexagrid.ipynb#X26sZmlsZQ%3D%3D?line=113'>114</a>\u001b[0m \u001b[39mfor\u001b[39;00m i, feature \u001b[39min\u001b[39;00m tqdm(\u001b[39menumerate\u001b[39m(features), total\u001b[39m=\u001b[39m\u001b[39mlen\u001b[39m(features)):\n\u001b[1;32m--> <a href='vscode-notebook-cell:/c%3A/Users/milan/OneDrive%20-%20MUNI/V%C5%A0/PhD/Zahrani%C4%8Dn%C3%AD%20st%C3%A1%C5%BE/Work/HeiGIT_notebooks/analysis/ai-assisted-osm-mapping-stats/notebooks-blds/blds-download-export-data-ver2-hexagrid.ipynb#X26sZmlsZQ%3D%3D?line=115'>116</a>\u001b[0m     obtained_data \u001b[39m=\u001b[39m data_gen(feature)\n\u001b[0;32m    <a href='vscode-notebook-cell:/c%3A/Users/milan/OneDrive%20-%20MUNI/V%C5%A0/PhD/Zahrani%C4%8Dn%C3%AD%20st%C3%A1%C5%BE/Work/HeiGIT_notebooks/analysis/ai-assisted-osm-mapping-stats/notebooks-blds/blds-download-export-data-ver2-hexagrid.ipynb#X26sZmlsZQ%3D%3D?line=116'>117</a>\u001b[0m     \u001b[39m# print(data)\u001b[39;00m\n\u001b[0;32m    <a href='vscode-notebook-cell:/c%3A/Users/milan/OneDrive%20-%20MUNI/V%C5%A0/PhD/Zahrani%C4%8Dn%C3%AD%20st%C3%A1%C5%BE/Work/HeiGIT_notebooks/analysis/ai-assisted-osm-mapping-stats/notebooks-blds/blds-download-export-data-ver2-hexagrid.ipynb#X26sZmlsZQ%3D%3D?line=117'>118</a>\u001b[0m     feat_with_data \u001b[39m=\u001b[39m connect_feat_data(feature, obtained_data)\n",
      "\u001b[1;32mc:\\Users\\milan\\OneDrive - MUNI\\VŠ\\PhD\\Zahraniční stáž\\Work\\HeiGIT_notebooks\\analysis\\ai-assisted-osm-mapping-stats\\notebooks-blds\\blds-download-export-data-ver2-hexagrid.ipynb Cell 22\u001b[0m in \u001b[0;36m4\n\u001b[0;32m     <a href='vscode-notebook-cell:/c%3A/Users/milan/OneDrive%20-%20MUNI/V%C5%A0/PhD/Zahrani%C4%8Dn%C3%AD%20st%C3%A1%C5%BE/Work/HeiGIT_notebooks/analysis/ai-assisted-osm-mapping-stats/notebooks-blds/blds-download-export-data-ver2-hexagrid.ipynb#X26sZmlsZQ%3D%3D?line=38'>39</a>\u001b[0m \u001b[39mfor\u001b[39;00m value \u001b[39min\u001b[39;00m parameters\u001b[39m.\u001b[39mvalues():\n\u001b[0;32m     <a href='vscode-notebook-cell:/c%3A/Users/milan/OneDrive%20-%20MUNI/V%C5%A0/PhD/Zahrani%C4%8Dn%C3%AD%20st%C3%A1%C5%BE/Work/HeiGIT_notebooks/analysis/ai-assisted-osm-mapping-stats/notebooks-blds/blds-download-export-data-ver2-hexagrid.ipynb#X26sZmlsZQ%3D%3D?line=39'>40</a>\u001b[0m     \u001b[39massert\u001b[39;00m value \u001b[39m!=\u001b[39m \u001b[39m\"\u001b[39m\u001b[39m\"\u001b[39m, \u001b[39m\"\u001b[39m\u001b[39mPlease provide values for the parameters\u001b[39m\u001b[39m\"\u001b[39m\n\u001b[1;32m---> <a href='vscode-notebook-cell:/c%3A/Users/milan/OneDrive%20-%20MUNI/V%C5%A0/PhD/Zahrani%C4%8Dn%C3%AD%20st%C3%A1%C5%BE/Work/HeiGIT_notebooks/analysis/ai-assisted-osm-mapping-stats/notebooks-blds/blds-download-export-data-ver2-hexagrid.ipynb#X26sZmlsZQ%3D%3D?line=41'>42</a>\u001b[0m response \u001b[39m=\u001b[39m requests\u001b[39m.\u001b[39;49mpost(url, data\u001b[39m=\u001b[39;49mparameters, headers\u001b[39m=\u001b[39;49mheaders)\n\u001b[0;32m     <a href='vscode-notebook-cell:/c%3A/Users/milan/OneDrive%20-%20MUNI/V%C5%A0/PhD/Zahrani%C4%8Dn%C3%AD%20st%C3%A1%C5%BE/Work/HeiGIT_notebooks/analysis/ai-assisted-osm-mapping-stats/notebooks-blds/blds-download-export-data-ver2-hexagrid.ipynb#X26sZmlsZQ%3D%3D?line=42'>43</a>\u001b[0m response\u001b[39m.\u001b[39mraise_for_status()  \u001b[39m# Raise an Exception if HTTP Status Code is not 200\u001b[39;00m\n\u001b[0;32m     <a href='vscode-notebook-cell:/c%3A/Users/milan/OneDrive%20-%20MUNI/V%C5%A0/PhD/Zahrani%C4%8Dn%C3%AD%20st%C3%A1%C5%BE/Work/HeiGIT_notebooks/analysis/ai-assisted-osm-mapping-stats/notebooks-blds/blds-download-export-data-ver2-hexagrid.ipynb#X26sZmlsZQ%3D%3D?line=44'>45</a>\u001b[0m \u001b[39m# print(\"Response:\")\u001b[39;00m\n\u001b[0;32m     <a href='vscode-notebook-cell:/c%3A/Users/milan/OneDrive%20-%20MUNI/V%C5%A0/PhD/Zahrani%C4%8Dn%C3%AD%20st%C3%A1%C5%BE/Work/HeiGIT_notebooks/analysis/ai-assisted-osm-mapping-stats/notebooks-blds/blds-download-export-data-ver2-hexagrid.ipynb#X26sZmlsZQ%3D%3D?line=45'>46</a>\u001b[0m \u001b[39m# print(desired_geojson_structure[\"features\"][0][\"properties\"][\"NAME_EN\"])\u001b[39;00m\n\u001b[0;32m     <a href='vscode-notebook-cell:/c%3A/Users/milan/OneDrive%20-%20MUNI/V%C5%A0/PhD/Zahrani%C4%8Dn%C3%AD%20st%C3%A1%C5%BE/Work/HeiGIT_notebooks/analysis/ai-assisted-osm-mapping-stats/notebooks-blds/blds-download-export-data-ver2-hexagrid.ipynb#X26sZmlsZQ%3D%3D?line=46'>47</a>\u001b[0m \u001b[39m# print(json.dumps(response.json(), indent=4))  # Pretty print response\u001b[39;00m\n",
      "File \u001b[1;32mc:\\Users\\milan\\general_py_venv\\lib\\site-packages\\requests\\api.py:115\u001b[0m, in \u001b[0;36mpost\u001b[1;34m(url, data, json, **kwargs)\u001b[0m\n\u001b[0;32m    103\u001b[0m \u001b[39mdef\u001b[39;00m \u001b[39mpost\u001b[39m(url, data\u001b[39m=\u001b[39m\u001b[39mNone\u001b[39;00m, json\u001b[39m=\u001b[39m\u001b[39mNone\u001b[39;00m, \u001b[39m*\u001b[39m\u001b[39m*\u001b[39mkwargs):\n\u001b[0;32m    104\u001b[0m     \u001b[39mr\u001b[39m\u001b[39m\"\"\"Sends a POST request.\u001b[39;00m\n\u001b[0;32m    105\u001b[0m \n\u001b[0;32m    106\u001b[0m \u001b[39m    :param url: URL for the new :class:`Request` object.\u001b[39;00m\n\u001b[1;32m   (...)\u001b[0m\n\u001b[0;32m    112\u001b[0m \u001b[39m    :rtype: requests.Response\u001b[39;00m\n\u001b[0;32m    113\u001b[0m \u001b[39m    \"\"\"\u001b[39;00m\n\u001b[1;32m--> 115\u001b[0m     \u001b[39mreturn\u001b[39;00m request(\u001b[39m\"\u001b[39m\u001b[39mpost\u001b[39m\u001b[39m\"\u001b[39m, url, data\u001b[39m=\u001b[39mdata, json\u001b[39m=\u001b[39mjson, \u001b[39m*\u001b[39m\u001b[39m*\u001b[39mkwargs)\n",
      "File \u001b[1;32mc:\\Users\\milan\\general_py_venv\\lib\\site-packages\\requests\\api.py:59\u001b[0m, in \u001b[0;36mrequest\u001b[1;34m(method, url, **kwargs)\u001b[0m\n\u001b[0;32m     55\u001b[0m \u001b[39m# By using the 'with' statement we are sure the session is closed, thus we\u001b[39;00m\n\u001b[0;32m     56\u001b[0m \u001b[39m# avoid leaving sockets open which can trigger a ResourceWarning in some\u001b[39;00m\n\u001b[0;32m     57\u001b[0m \u001b[39m# cases, and look like a memory leak in others.\u001b[39;00m\n\u001b[0;32m     58\u001b[0m \u001b[39mwith\u001b[39;00m sessions\u001b[39m.\u001b[39mSession() \u001b[39mas\u001b[39;00m session:\n\u001b[1;32m---> 59\u001b[0m     \u001b[39mreturn\u001b[39;00m session\u001b[39m.\u001b[39mrequest(method\u001b[39m=\u001b[39mmethod, url\u001b[39m=\u001b[39murl, \u001b[39m*\u001b[39m\u001b[39m*\u001b[39mkwargs)\n",
      "File \u001b[1;32mc:\\Users\\milan\\general_py_venv\\lib\\site-packages\\requests\\sessions.py:587\u001b[0m, in \u001b[0;36mSession.request\u001b[1;34m(self, method, url, params, data, headers, cookies, files, auth, timeout, allow_redirects, proxies, hooks, stream, verify, cert, json)\u001b[0m\n\u001b[0;32m    582\u001b[0m send_kwargs \u001b[39m=\u001b[39m {\n\u001b[0;32m    583\u001b[0m     \u001b[39m\"\u001b[39m\u001b[39mtimeout\u001b[39m\u001b[39m\"\u001b[39m: timeout,\n\u001b[0;32m    584\u001b[0m     \u001b[39m\"\u001b[39m\u001b[39mallow_redirects\u001b[39m\u001b[39m\"\u001b[39m: allow_redirects,\n\u001b[0;32m    585\u001b[0m }\n\u001b[0;32m    586\u001b[0m send_kwargs\u001b[39m.\u001b[39mupdate(settings)\n\u001b[1;32m--> 587\u001b[0m resp \u001b[39m=\u001b[39m \u001b[39mself\u001b[39m\u001b[39m.\u001b[39msend(prep, \u001b[39m*\u001b[39m\u001b[39m*\u001b[39msend_kwargs)\n\u001b[0;32m    589\u001b[0m \u001b[39mreturn\u001b[39;00m resp\n",
      "File \u001b[1;32mc:\\Users\\milan\\general_py_venv\\lib\\site-packages\\requests\\sessions.py:701\u001b[0m, in \u001b[0;36mSession.send\u001b[1;34m(self, request, **kwargs)\u001b[0m\n\u001b[0;32m    698\u001b[0m start \u001b[39m=\u001b[39m preferred_clock()\n\u001b[0;32m    700\u001b[0m \u001b[39m# Send the request\u001b[39;00m\n\u001b[1;32m--> 701\u001b[0m r \u001b[39m=\u001b[39m adapter\u001b[39m.\u001b[39msend(request, \u001b[39m*\u001b[39m\u001b[39m*\u001b[39mkwargs)\n\u001b[0;32m    703\u001b[0m \u001b[39m# Total elapsed time of the request (approximately)\u001b[39;00m\n\u001b[0;32m    704\u001b[0m elapsed \u001b[39m=\u001b[39m preferred_clock() \u001b[39m-\u001b[39m start\n",
      "File \u001b[1;32mc:\\Users\\milan\\general_py_venv\\lib\\site-packages\\requests\\adapters.py:547\u001b[0m, in \u001b[0;36mHTTPAdapter.send\u001b[1;34m(self, request, stream, timeout, verify, cert, proxies)\u001b[0m\n\u001b[0;32m    544\u001b[0m             \u001b[39mraise\u001b[39;00m\n\u001b[0;32m    546\u001b[0m \u001b[39mexcept\u001b[39;00m (ProtocolError, \u001b[39mOSError\u001b[39;00m) \u001b[39mas\u001b[39;00m err:\n\u001b[1;32m--> 547\u001b[0m     \u001b[39mraise\u001b[39;00m \u001b[39mConnectionError\u001b[39;00m(err, request\u001b[39m=\u001b[39mrequest)\n\u001b[0;32m    549\u001b[0m \u001b[39mexcept\u001b[39;00m MaxRetryError \u001b[39mas\u001b[39;00m e:\n\u001b[0;32m    550\u001b[0m     \u001b[39mif\u001b[39;00m \u001b[39misinstance\u001b[39m(e\u001b[39m.\u001b[39mreason, ConnectTimeoutError):\n\u001b[0;32m    551\u001b[0m         \u001b[39m# TODO: Remove this in 3.0.0: see #2811\u001b[39;00m\n",
      "\u001b[1;31mConnectionError\u001b[0m: ('Connection aborted.', RemoteDisconnected('Remote end closed connection without response'))"
     ]
    }
   ],
   "source": [
    "json_data = []\n",
    "geojson_data = []\n",
    "\n",
    "if user_d_format == 0:\n",
    "    obtained_json_data = return_json_data()\n",
    "    json_data.extend(obtained_json_data)\n",
    "    export_data_as_json(geojson_dic[user_d_spec], obtained_json_data)\n",
    "else:\n",
    "    obtained_geojson_data = return_geojson_data()\n",
    "    geojson_data.extend(obtained_geojson_data)\n",
    "    export_data_as_geojson(geojson_dic[user_d_spec], obtained_geojson_data)\n"
   ]
  },
  {
   "cell_type": "code",
   "execution_count": null,
   "metadata": {},
   "outputs": [
    {
     "data": {
      "text/plain": [
       "[{'type': 'Feature',\n",
       "  'properties': {'fid': 246392,\n",
       "   'id': 4072130,\n",
       "   'timestamp': '2023-01-01T00:00:00Z',\n",
       "   'value': 51514.35408373167,\n",
       "   'value_per_area': 0.0005388078912835399,\n",
       "   'mm_blds_2023': 790.0,\n",
       "   'ai_blds_2023': 0.0,\n",
       "   'blds_total': 790.0,\n",
       "   'ai_percentage': 0.0},\n",
       "  'geometry': {'type': 'MultiPolygon',\n",
       "   'coordinates': [[[[3.6460351, 12.3803401],\n",
       "      [3.6015933, 12.3526239],\n",
       "      [3.5563413, 12.3840161],\n",
       "      [3.5555351, 12.4431547],\n",
       "      [3.5999638, 12.470856],\n",
       "      [3.6452118, 12.4394336],\n",
       "      [3.6460351, 12.3803401]]]]}},\n",
       " {'type': 'Feature',\n",
       "  'properties': {'fid': 246393,\n",
       "   'id': 4072131,\n",
       "   'timestamp': '2023-01-01T00:00:00Z',\n",
       "   'value': 130.7064119613401,\n",
       "   'value_per_area': 1.3670961259039557e-06,\n",
       "   'mm_blds_2023': 2.0,\n",
       "   'ai_blds_2023': 0.0,\n",
       "   'blds_total': 2.0,\n",
       "   'ai_percentage': 0.0},\n",
       "  'geometry': {'type': 'MultiPolygon',\n",
       "   'coordinates': [[[[3.6896659, 12.4671339],\n",
       "      [3.6452118, 12.4394336],\n",
       "      [3.5999638, 12.470856],\n",
       "      [3.5991742, 12.5300091],\n",
       "      [3.6436151, 12.5576941],\n",
       "      [3.6888587, 12.5262412],\n",
       "      [3.6896659, 12.4671339]]]]}}]"
      ]
     },
     "execution_count": 16,
     "metadata": {},
     "output_type": "execute_result"
    }
   ],
   "source": [
    "geojson_data\n"
   ]
  },
  {
   "cell_type": "code",
   "execution_count": null,
   "metadata": {},
   "outputs": [],
   "source": [
    "import geopandas as gpd"
   ]
  },
  {
   "cell_type": "code",
   "execution_count": null,
   "metadata": {},
   "outputs": [],
   "source": [
    "# gpd.read_file(geojson_data)\n"
   ]
  },
  {
   "cell_type": "code",
   "execution_count": null,
   "metadata": {},
   "outputs": [],
   "source": [
    "# gpd.GeoDataFrame(geojson_data).set_geometry('geometry')\n"
   ]
  },
  {
   "cell_type": "code",
   "execution_count": null,
   "metadata": {},
   "outputs": [],
   "source": []
  }
 ],
 "metadata": {
  "kernelspec": {
   "display_name": "general_py_venv",
   "language": "python",
   "name": "python3"
  },
  "language_info": {
   "codemirror_mode": {
    "name": "ipython",
    "version": 3
   },
   "file_extension": ".py",
   "mimetype": "text/x-python",
   "name": "python",
   "nbconvert_exporter": "python",
   "pygments_lexer": "ipython3",
   "version": "3.10.7"
  },
  "orig_nbformat": 4
 },
 "nbformat": 4,
 "nbformat_minor": 2
}
