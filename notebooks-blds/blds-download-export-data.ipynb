{
 "cells": [
  {
   "attachments": {},
   "cell_type": "markdown",
   "metadata": {},
   "source": [
    "# Download the buildings data"
   ]
  },
  {
   "attachments": {},
   "cell_type": "markdown",
   "metadata": {},
   "source": [
    "Question: How many buildings were mapped with RapID (Microsoft buildings) in selected region?"
   ]
  },
  {
   "attachments": {},
   "cell_type": "markdown",
   "metadata": {},
   "source": [
    "#### Import libs"
   ]
  },
  {
   "cell_type": "code",
   "execution_count": 7,
   "metadata": {},
   "outputs": [],
   "source": [
    "import json\n",
    "import os\n",
    "import requests"
   ]
  },
  {
   "attachments": {},
   "cell_type": "markdown",
   "metadata": {},
   "source": [
    "### Get the data for every specified region"
   ]
  },
  {
   "attachments": {},
   "cell_type": "markdown",
   "metadata": {},
   "source": [
    "#### Definitions"
   ]
  },
  {
   "cell_type": "code",
   "execution_count": 8,
   "metadata": {},
   "outputs": [],
   "source": [
    "# define the dictinaries\n",
    "\n",
    "data_dic = {0: \"blds_continent_data_18-23_ai.json\",\n",
    "            1: \"blds_africa_states_18-23_ai.json\",\n",
    "            2: \"blds_northamerica_states_18-23_ai.json\",\n",
    "            3: \"blds_europe_states_18-23_ai.json\",\n",
    "            4: \"blds_asia_states_18-23_ai.json\", }\n",
    "\n",
    "geojson_folder_dic = {0: \"geojson-continent-states\",\n",
    "                      1: \"geojson-africa-states\",\n",
    "                      2: \"geojson-northamerica-states\",\n",
    "                      3: \"geojson-europe-states\",\n",
    "                      4: \"geojson-asia-states\",}"
   ]
  },
  {
   "cell_type": "code",
   "execution_count": 9,
   "metadata": {},
   "outputs": [],
   "source": [
    "# define the user input\n",
    "\n",
    "while True:\n",
    "    try:\n",
    "        user_d_spec = int(input(\"Which data do you want to download?\\\n",
    "                            Enter 0 for continents (2018–2023),\\\n",
    "                            1 for Africa states (2018–2023),\\\n",
    "                            2 for North-Central America states (2018–2023)\\\n",
    "                            3 for Europe states (2018–2023)\\\n",
    "                            4 for Asia states (2018–2023)\"\n",
    "                                ))\n",
    "    except ValueError:\n",
    "        print(\"Please enter a number.\")\n",
    "        continue\n",
    "    if user_d_spec not in range(len(geojson_folder_dic)):\n",
    "        print(\"Please enter 0, 1, 2, 3 or 4.\")\n",
    "        continue\n",
    "    break\n"
   ]
  },
  {
   "cell_type": "code",
   "execution_count": 10,
   "metadata": {},
   "outputs": [],
   "source": [
    "# define the functions\n",
    "\n",
    "\n",
    "def data_gen(geojson_folder_dic, name):\n",
    "\n",
    "    with open(f\"geojson-regions\\\\{geojson_folder_dic}\\\\{name}\", \"r\") as file:\n",
    "        bpolys = json.load(file)\n",
    "\n",
    "    parameters = {\n",
    "        \"bpolys\": json.dumps(bpolys),  # pass GeoJSON as string.\n",
    "        \"filter\": \"building=* and building!=no and geometry:polygon\",\n",
    "        \"groupByKey\": \"source\",\n",
    "        \"groupByValues\": \"microsoft/BuildingFootprints\",\n",
    "        \"format\": \"json\",\n",
    "        \"time\": \"2018-01-01/2023-01-01/P1Y\",\n",
    "    }\n",
    "    headers = {\n",
    "        \"accept\": \"application/json\",\n",
    "        \"Content-Type\": \"application/x-www-form-urlencoded\",\n",
    "    }\n",
    "\n",
    "    for value in parameters.values():\n",
    "        assert value != \"\", \"Please provide values for the parameters\"\n",
    "\n",
    "    response = requests.post(url, data=parameters, headers=headers)\n",
    "    response.raise_for_status()  # Raise an Exception if HTTP Status Code is not 200\n",
    "\n",
    "    print(\"Response:\")\n",
    "    print(json.dumps(response.json(), indent=4))  # Pretty print response\n",
    "\n",
    "    result = response.json()[\"groupByResult\"]\n",
    "    return result\n",
    "\n",
    "\n",
    "def get_geojson_names(geojson_folder_dic):\n",
    "\n",
    "    os.chdir('..')\n",
    "    home_dir = os.getcwd()\n",
    "    geojson_dir = os.path.join(home_dir, f\"geojson-regions\\\\{geojson_folder_dic}\", \"\")\n",
    "\n",
    "    geojson_names = []\n",
    "    for (dir_path, dir_names, file_names) in os.walk(geojson_dir):  # give the path\n",
    "        geojson_names.extend(file_names)\n",
    "    print(geojson_names)\n",
    "    return geojson_names\n"
   ]
  },
  {
   "cell_type": "code",
   "execution_count": 11,
   "metadata": {},
   "outputs": [],
   "source": [
    "# define the URL\n",
    "\n",
    "base_url = \"https://api.ohsome.org/v1\"\n",
    "endpoint = \"/elements/count/groupBy/boundary/groupBy/tag\"\n",
    "url = base_url + endpoint"
   ]
  },
  {
   "attachments": {},
   "cell_type": "markdown",
   "metadata": {},
   "source": [
    "#### Get the data"
   ]
  },
  {
   "cell_type": "code",
   "execution_count": 6,
   "metadata": {},
   "outputs": [
    {
     "name": "stdout",
     "output_type": "stream",
     "text": [
      "['0_Indonesia.geojson', '10_Bhutan.geojson', '11_Oman.geojson', '12_Uzbekistan.geojson', '13_Kazakhstan.geojson', '14_Tajikistan.geojson', '15_Mongolia.geojson', '16_Russia.geojson', '17_Vietnam.geojson', '18_Cambodia.geojson', '19_United Arab Emirates.geojson', '1_Malaysia.geojson', '20_Georgia.geojson', '21_Azerbaijan.geojson', '22_Turkey.geojson', '23_Laos.geojson', '24_Kyrgyzstan.geojson', '25_Armenia.geojson', '26_Iraq.geojson', '27_Iran.geojson', '28_Qatar.geojson', '29_Saudi Arabia.geojson', '2_Cyprus.geojson', '30_Pakistan.geojson', '31_Thailand.geojson', '32_Kuwait.geojson', '33_Timor-Leste.geojson', '34_Brunei.geojson', '35_Myanmar.geojson', '36_Bangladesh.geojson', '37_Afghanistan.geojson', '38_Turkmenistan.geojson', '39_Jordan.geojson', '3_India.geojson', '40_Nepal.geojson', '41_Yemen.geojson', '42_N. Cyprus.geojson', '43_Cyprus U.N. Buffer Zone.geojson', '44_Siachen Glacier.geojson', '45_Philippines.geojson', '46_Sri Lanka.geojson', '47_Taiwan.geojson', '48_Japan.geojson', '49_Singapore.geojson', '4_China.geojson', '50_Bahrain.geojson', '51_Spratly Is..geojson', '52_Scarborough Reef.geojson', '5_Israel.geojson', '6_Lebanon.geojson', '7_Syria.geojson', '8_South Korea.geojson', '9_North Korea.geojson']\n",
      "0_Indonesia.geojson\n",
      "10_Bhutan.geojson\n",
      "11_Oman.geojson\n",
      "12_Uzbekistan.geojson\n",
      "13_Kazakhstan.geojson\n",
      "14_Tajikistan.geojson\n",
      "15_Mongolia.geojson\n",
      "16_Russia.geojson\n",
      "17_Vietnam.geojson\n",
      "18_Cambodia.geojson\n",
      "19_United Arab Emirates.geojson\n",
      "1_Malaysia.geojson\n",
      "20_Georgia.geojson\n",
      "21_Azerbaijan.geojson\n",
      "22_Turkey.geojson\n",
      "23_Laos.geojson\n",
      "24_Kyrgyzstan.geojson\n",
      "25_Armenia.geojson\n",
      "26_Iraq.geojson\n",
      "27_Iran.geojson\n",
      "28_Qatar.geojson\n",
      "29_Saudi Arabia.geojson\n",
      "2_Cyprus.geojson\n",
      "30_Pakistan.geojson\n",
      "31_Thailand.geojson\n",
      "32_Kuwait.geojson\n",
      "33_Timor-Leste.geojson\n",
      "34_Brunei.geojson\n",
      "35_Myanmar.geojson\n",
      "36_Bangladesh.geojson\n",
      "37_Afghanistan.geojson\n",
      "38_Turkmenistan.geojson\n",
      "39_Jordan.geojson\n",
      "3_India.geojson\n",
      "40_Nepal.geojson\n",
      "41_Yemen.geojson\n",
      "42_N. Cyprus.geojson\n",
      "43_Cyprus U.N. Buffer Zone.geojson\n",
      "44_Siachen Glacier.geojson\n",
      "45_Philippines.geojson\n",
      "46_Sri Lanka.geojson\n",
      "47_Taiwan.geojson\n",
      "48_Japan.geojson\n",
      "49_Singapore.geojson\n",
      "4_China.geojson\n",
      "50_Bahrain.geojson\n",
      "51_Spratly Is..geojson\n",
      "52_Scarborough Reef.geojson\n",
      "5_Israel.geojson\n",
      "6_Lebanon.geojson\n",
      "7_Syria.geojson\n",
      "8_South Korea.geojson\n",
      "9_North Korea.geojson\n"
     ]
    }
   ],
   "source": [
    "data = []\n",
    "\n",
    "for geojson_name in get_geojson_names(geojson_folder_dic[user_d_spec]):\n",
    "\n",
    "    data.append(data_gen(geojson_folder_dic[user_d_spec], geojson_name))\n",
    "    # print(geojson_name)\n"
   ]
  },
  {
   "cell_type": "code",
   "execution_count": 7,
   "metadata": {},
   "outputs": [],
   "source": [
    "# export the data\n",
    "\n",
    "def export_data(name):\n",
    "    with open(f\"downloaded-data\\\\{name}\", \"w\") as file:\n",
    "        json.dump(data, file, indent=4)\n",
    "\n",
    "\n",
    "export_data(data_dic[user_d_spec])\n"
   ]
  }
 ],
 "metadata": {
  "kernelspec": {
   "display_name": "general_py_venv",
   "language": "python",
   "name": "python3"
  },
  "language_info": {
   "codemirror_mode": {
    "name": "ipython",
    "version": 3
   },
   "file_extension": ".py",
   "mimetype": "text/x-python",
   "name": "python",
   "nbconvert_exporter": "python",
   "pygments_lexer": "ipython3",
   "version": "3.10.7"
  },
  "orig_nbformat": 4
 },
 "nbformat": 4,
 "nbformat_minor": 2
}
