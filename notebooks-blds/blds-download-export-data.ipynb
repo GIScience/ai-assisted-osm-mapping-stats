{
 "cells": [
  {
   "attachments": {},
   "cell_type": "markdown",
   "metadata": {},
   "source": [
    "# Download the buildings data"
   ]
  },
  {
   "attachments": {},
   "cell_type": "markdown",
   "metadata": {},
   "source": [
    "Question: How many buildings were mapped with RapID (Microsoft buildings) in every continent?"
   ]
  },
  {
   "attachments": {},
   "cell_type": "markdown",
   "metadata": {},
   "source": [
    "#### Import libs"
   ]
  },
  {
   "cell_type": "code",
   "execution_count": 1,
   "metadata": {},
   "outputs": [],
   "source": [
    "import json\n",
    "import os\n",
    "import requests"
   ]
  },
  {
   "attachments": {},
   "cell_type": "markdown",
   "metadata": {},
   "source": [
    "### Get the data for every specified region"
   ]
  },
  {
   "attachments": {},
   "cell_type": "markdown",
   "metadata": {},
   "source": [
    "#### Definitions"
   ]
  },
  {
   "cell_type": "code",
   "execution_count": 2,
   "metadata": {},
   "outputs": [],
   "source": [
    "# define the dictinaries\n",
    "\n",
    "data_dic = {0: \"blds_continent_data_18-23_ai.json\",\n",
    "            1: \"blds_africa_states_18-23_ai.json\",\n",
    "            2: \"blds_northamerica_states_18-23_ai.json\",\n",
    "            3: \"blds_europe_states_18-23_ai.json\",\n",
    "            4: \"blds_asia_states_18-23_ai.json\", }\n",
    "\n",
    "geojson_folder_dic = {0: \"geojson-continent-states\",\n",
    "                      1: \"geojson-africa-states\",\n",
    "                      2: \"geojson-northamerica-states\",\n",
    "                      3: \"geojson-europe-states\",\n",
    "                      4: \"geojson-asia-states\",}"
   ]
  },
  {
   "cell_type": "code",
   "execution_count": 3,
   "metadata": {},
   "outputs": [],
   "source": [
    "# define the user input\n",
    "\n",
    "while True:\n",
    "    try:\n",
    "        user_d_spec = int(input(\"Which data do you want to download?\\\n",
    "                            Enter 0 for continents (2018–2023),\\\n",
    "                            1 for Africa states (2018–2023),\\\n",
    "                            2 for North-Central America states (2018–2023)\\\n",
    "                            3 for Europe states (2018–2023)\\\n",
    "                            4 for Asia states (2018–2023)\"\n",
    "                                ))\n",
    "    except ValueError:\n",
    "        print(\"Please enter a number.\")\n",
    "        continue\n",
    "    if user_d_spec not in range(len(geojson_folder_dic)):\n",
    "        print(\"Please enter 0, 1, 2, 3 or 4.\")\n",
    "        continue\n",
    "    break\n"
   ]
  },
  {
   "cell_type": "code",
   "execution_count": 4,
   "metadata": {},
   "outputs": [],
   "source": [
    "# define the functions\n",
    "\n",
    "\n",
    "def data_gen(geojson_folder_dic, name):\n",
    "\n",
    "    with open(f\"{geojson_folder_dic}\\\\{name}\", \"r\") as file:\n",
    "        bpolys = json.load(file)\n",
    "\n",
    "    parameters = {\n",
    "        \"bpolys\": json.dumps(bpolys),  # pass GeoJSON as string.\n",
    "        \"filter\": \"building=* and building!=no and geometry:polygon\",\n",
    "        \"groupByKey\": \"source\",\n",
    "        \"groupByValues\": \"microsoft/BuildingFootprints\",\n",
    "        \"format\": \"json\",\n",
    "        \"time\": \"2018-01-01/2023-01-01/P1Y\",\n",
    "    }\n",
    "    headers = {\n",
    "        \"accept\": \"application/json\",\n",
    "        \"Content-Type\": \"application/x-www-form-urlencoded\",\n",
    "    }\n",
    "\n",
    "    for value in parameters.values():\n",
    "        assert value != \"\", \"Please provide values for the parameters\"\n",
    "\n",
    "    response = requests.post(url, data=parameters, headers=headers)\n",
    "    response.raise_for_status()  # Raise an Exception if HTTP Status Code is not 200\n",
    "\n",
    "    print(\"Response:\")\n",
    "    print(json.dumps(response.json(), indent=4))  # Pretty print response\n",
    "\n",
    "    result = response.json()[\"groupByResult\"]\n",
    "    return result\n",
    "\n",
    "\n",
    "def get_geojson_names(geojson_folder_dic):\n",
    "\n",
    "    os.chdir('..')\n",
    "    home_dir = os.getcwd()\n",
    "    geojson_dir = os.path.join(home_dir, geojson_folder_dic, \"\")\n",
    "\n",
    "    geojson_names = []\n",
    "    for (dir_path, dir_names, file_names) in os.walk(geojson_dir):  # give the path\n",
    "        geojson_names.extend(file_names)\n",
    "    print(geojson_names)\n",
    "    return geojson_names\n"
   ]
  },
  {
   "cell_type": "code",
   "execution_count": 5,
   "metadata": {},
   "outputs": [],
   "source": [
    "# define the URL\n",
    "\n",
    "base_url = \"https://api.ohsome.org/v1\"\n",
    "endpoint = \"/elements/count/groupBy/boundary/groupBy/tag\"\n",
    "url = base_url + endpoint"
   ]
  },
  {
   "attachments": {},
   "cell_type": "markdown",
   "metadata": {},
   "source": [
    "#### Get the data"
   ]
  },
  {
   "cell_type": "code",
   "execution_count": 6,
   "metadata": {},
   "outputs": [
    {
     "name": "stdout",
     "output_type": "stream",
     "text": [
      "['46_Egypt.geojson']\n",
      "Response:\n",
      "{\n",
      "    \"attribution\": {\n",
      "        \"url\": \"https://ohsome.org/copyrights\",\n",
      "        \"text\": \"\\u00a9 OpenStreetMap contributors\"\n",
      "    },\n",
      "    \"apiVersion\": \"1.9.0\",\n",
      "    \"groupByResult\": [\n",
      "        {\n",
      "            \"groupByObject\": [\n",
      "                \"feature1\",\n",
      "                \"remainder\"\n",
      "            ],\n",
      "            \"result\": [\n",
      "                {\n",
      "                    \"timestamp\": \"2018-01-01T00:00:00Z\",\n",
      "                    \"value\": 59622.0\n",
      "                },\n",
      "                {\n",
      "                    \"timestamp\": \"2019-01-01T00:00:00Z\",\n",
      "                    \"value\": 73296.0\n",
      "                },\n",
      "                {\n",
      "                    \"timestamp\": \"2020-01-01T00:00:00Z\",\n",
      "                    \"value\": 82020.0\n",
      "                },\n",
      "                {\n",
      "                    \"timestamp\": \"2021-01-01T00:00:00Z\",\n",
      "                    \"value\": 98403.0\n",
      "                },\n",
      "                {\n",
      "                    \"timestamp\": \"2022-01-01T00:00:00Z\",\n",
      "                    \"value\": 109751.0\n",
      "                },\n",
      "                {\n",
      "                    \"timestamp\": \"2023-01-01T00:00:00Z\",\n",
      "                    \"value\": 149410.0\n",
      "                }\n",
      "            ]\n",
      "        },\n",
      "        {\n",
      "            \"groupByObject\": [\n",
      "                \"feature1\",\n",
      "                \"source=microsoft/BuildingFootprints\"\n",
      "            ],\n",
      "            \"result\": [\n",
      "                {\n",
      "                    \"timestamp\": \"2018-01-01T00:00:00Z\",\n",
      "                    \"value\": 0.0\n",
      "                },\n",
      "                {\n",
      "                    \"timestamp\": \"2019-01-01T00:00:00Z\",\n",
      "                    \"value\": 0.0\n",
      "                },\n",
      "                {\n",
      "                    \"timestamp\": \"2020-01-01T00:00:00Z\",\n",
      "                    \"value\": 0.0\n",
      "                },\n",
      "                {\n",
      "                    \"timestamp\": \"2021-01-01T00:00:00Z\",\n",
      "                    \"value\": 0.0\n",
      "                },\n",
      "                {\n",
      "                    \"timestamp\": \"2022-01-01T00:00:00Z\",\n",
      "                    \"value\": 0.0\n",
      "                },\n",
      "                {\n",
      "                    \"timestamp\": \"2023-01-01T00:00:00Z\",\n",
      "                    \"value\": 12065.0\n",
      "                }\n",
      "            ]\n",
      "        }\n",
      "    ]\n",
      "}\n"
     ]
    }
   ],
   "source": [
    "data = []\n",
    "\n",
    "for geojson_name in get_geojson_names(geojson_folder_dic[user_d_spec]):\n",
    "\n",
    "    data.append(data_gen(geojson_folder_dic[user_d_spec], geojson_name))\n"
   ]
  },
  {
   "cell_type": "code",
   "execution_count": 7,
   "metadata": {},
   "outputs": [],
   "source": [
    "# export the data\n",
    "\n",
    "def export_data(name):\n",
    "    with open(f\"downloaded-data\\\\{name}\", \"w\") as file:\n",
    "        json.dump(data, file, indent=4)\n",
    "\n",
    "\n",
    "export_data(data_dic[user_d_spec])\n"
   ]
  }
 ],
 "metadata": {
  "kernelspec": {
   "display_name": "general_py_venv",
   "language": "python",
   "name": "python3"
  },
  "language_info": {
   "codemirror_mode": {
    "name": "ipython",
    "version": 3
   },
   "file_extension": ".py",
   "mimetype": "text/x-python",
   "name": "python",
   "nbconvert_exporter": "python",
   "pygments_lexer": "ipython3",
   "version": "3.10.7"
  },
  "orig_nbformat": 4
 },
 "nbformat": 4,
 "nbformat_minor": 2
}
