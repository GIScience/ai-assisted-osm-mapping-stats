{
 "cells": [
  {
   "attachments": {},
   "cell_type": "markdown",
   "metadata": {},
   "source": [
    "# Download the buildings data"
   ]
  },
  {
   "attachments": {},
   "cell_type": "markdown",
   "metadata": {},
   "source": [
    "Question: How many buildings were mapped with RapID (Microsoft buildings) in selected region?"
   ]
  },
  {
   "attachments": {},
   "cell_type": "markdown",
   "metadata": {},
   "source": [
    "#### Import libs"
   ]
  },
  {
   "cell_type": "code",
   "execution_count": 1,
   "metadata": {},
   "outputs": [],
   "source": [
    "import json\n",
    "import os\n",
    "import requests\n",
    "import time\n",
    "import pandas as pd"
   ]
  },
  {
   "attachments": {},
   "cell_type": "markdown",
   "metadata": {},
   "source": [
    "### Get the data for every specified region"
   ]
  },
  {
   "attachments": {},
   "cell_type": "markdown",
   "metadata": {},
   "source": [
    "#### Definitions"
   ]
  },
  {
   "cell_type": "code",
   "execution_count": 2,
   "metadata": {},
   "outputs": [],
   "source": [
    "os.chdir('..')\n"
   ]
  },
  {
   "cell_type": "code",
   "execution_count": 3,
   "metadata": {},
   "outputs": [],
   "source": [
    "\n",
    "\n",
    "def data_gen():\n",
    "    \"\"\" Get data from the API.\"\"\"\n",
    "\n",
    "    parameters = {\n",
    "        \"bboxes\": \"-180,-90,180,90\",  # World bounding box\n",
    "        \"filter\": \"building=* and building!=no and geometry:polygon\",\n",
    "        \"groupByKey\": \"source\",\n",
    "        \"groupByValues\": \"microsoft/BuildingFootprints,esri/Google_Africa_Buildings\",\n",
    "        \"format\": \"json\",\n",
    "        \"time\": \"2018-01-01/2023-06-01/P1Y\"  # \"2018-01-01/2023-06-01/P1Y\" 2023-06-01\n",
    "        }\n",
    "    headers = {\n",
    "        \"accept\": \"application/json\",\n",
    "        \"Content-Type\": \"application/x-www-form-urlencoded\",\n",
    "        }\n",
    "\n",
    "    for value in parameters.values():\n",
    "        assert value != \"\", \"Please provide values for the parameters\"\n",
    "\n",
    "    while True:\n",
    "        try:\n",
    "            response = requests.post(url, data=parameters, headers=headers)\n",
    "            response.raise_for_status()  # Raise an Exception if HTTP Status Code is not 200\n",
    "\n",
    "            result = response.json()[\"groupByResult\"]\n",
    "\n",
    "            return result\n",
    "        \n",
    "        except requests.exceptions.RequestException:\n",
    "            # Wi-Fi connection error occurred, wait for connection to be restored\n",
    "            print(\"Waiting for Wi-Fi connection to be restored...\")\n",
    "            time.sleep(5)  # Wait for 5 seconds\n",
    "            continue  # Continue to the next iteration of the loop\n",
    "\n",
    "\n",
    "# export the data\n",
    "def export_data_as_json(data):\n",
    "\n",
    "    user_file_name = input(\"Enter the name of the file you want to save the data as: \")\n",
    "\n",
    "    with open(f\"downloaded-data-json\\\\blds_{user_file_name}.json\", \"w\") as file:\n",
    "        json.dump(data, file, indent=4)\n",
    "\n"
   ]
  },
  {
   "cell_type": "code",
   "execution_count": 6,
   "metadata": {},
   "outputs": [],
   "source": [
    "# define the URL\n",
    "\n",
    "base_url = \"https://api.ohsome.org/v1\"\n",
    "endpoint = \"/elements/count/groupBy/tag\"\n",
    "url = base_url + endpoint"
   ]
  },
  {
   "attachments": {},
   "cell_type": "markdown",
   "metadata": {},
   "source": [
    "#### Get the data"
   ]
  },
  {
   "cell_type": "code",
   "execution_count": 7,
   "metadata": {},
   "outputs": [],
   "source": [
    "json_data = data_gen()"
   ]
  },
  {
   "cell_type": "code",
   "execution_count": 8,
   "metadata": {},
   "outputs": [
    {
     "data": {
      "text/plain": [
       "[{'groupByObject': 'remainder',\n",
       "  'result': [{'timestamp': '2018-01-01T00:00:00Z', 'value': 263924742.0},\n",
       "   {'timestamp': '2019-01-01T00:00:00Z', 'value': 327508069.0},\n",
       "   {'timestamp': '2020-01-01T00:00:00Z', 'value': 372853802.0},\n",
       "   {'timestamp': '2021-01-01T00:00:00Z', 'value': 427088397.0},\n",
       "   {'timestamp': '2022-01-01T00:00:00Z', 'value': 482992649.0},\n",
       "   {'timestamp': '2023-01-01T00:00:00Z', 'value': 528906701.0}]},\n",
       " {'groupByObject': 'source=microsoft/BuildingFootprints',\n",
       "  'result': [{'timestamp': '2018-01-01T00:00:00Z', 'value': 0.0},\n",
       "   {'timestamp': '2019-01-01T00:00:00Z', 'value': 0.0},\n",
       "   {'timestamp': '2020-01-01T00:00:00Z', 'value': 13935.0},\n",
       "   {'timestamp': '2021-01-01T00:00:00Z', 'value': 2550046.0},\n",
       "   {'timestamp': '2022-01-01T00:00:00Z', 'value': 5902604.0},\n",
       "   {'timestamp': '2023-01-01T00:00:00Z', 'value': 12540539.0}]},\n",
       " {'groupByObject': 'source=esri/Google_Africa_Buildings',\n",
       "  'result': [{'timestamp': '2018-01-01T00:00:00Z', 'value': 0.0},\n",
       "   {'timestamp': '2019-01-01T00:00:00Z', 'value': 0.0},\n",
       "   {'timestamp': '2020-01-01T00:00:00Z', 'value': 0.0},\n",
       "   {'timestamp': '2021-01-01T00:00:00Z', 'value': 0.0},\n",
       "   {'timestamp': '2022-01-01T00:00:00Z', 'value': 73.0},\n",
       "   {'timestamp': '2023-01-01T00:00:00Z', 'value': 947.0}]}]"
      ]
     },
     "execution_count": 8,
     "metadata": {},
     "output_type": "execute_result"
    }
   ],
   "source": [
    "json_data"
   ]
  }
 ],
 "metadata": {
  "kernelspec": {
   "display_name": "general_py_venv",
   "language": "python",
   "name": "python3"
  },
  "language_info": {
   "codemirror_mode": {
    "name": "ipython",
    "version": 3
   },
   "file_extension": ".py",
   "mimetype": "text/x-python",
   "name": "python",
   "nbconvert_exporter": "python",
   "pygments_lexer": "ipython3",
   "version": "3.10.7"
  },
  "orig_nbformat": 4
 },
 "nbformat": 4,
 "nbformat_minor": 2
}
