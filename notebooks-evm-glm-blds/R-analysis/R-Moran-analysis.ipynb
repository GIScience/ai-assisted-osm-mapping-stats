{
 "cells": [
  {
   "cell_type": "markdown",
   "metadata": {},
   "source": [
    "# Moran I – Monte Carlo"
   ]
  },
  {
   "cell_type": "markdown",
   "metadata": {},
   "source": [
    "## Libraries and cwd"
   ]
  },
  {
   "cell_type": "code",
   "execution_count": 1,
   "metadata": {
    "vscode": {
     "languageId": "r"
    }
   },
   "outputs": [
    {
     "data": {
      "text/html": [
       "'c:/Users/milan/OneDrive - MUNI/VŠ/PhD/Zahraniční stáž/Work/HeiGIT_notebooks/analysis/ai-assisted-osm-mapping-stats/notebooks-evm-glm-blds/R-analysis'"
      ],
      "text/latex": [
       "'c:/Users/milan/OneDrive - MUNI/VŠ/PhD/Zahraniční stáž/Work/HeiGIT\\_notebooks/analysis/ai-assisted-osm-mapping-stats/notebooks-evm-glm-blds/R-analysis'"
      ],
      "text/markdown": [
       "'c:/Users/milan/OneDrive - MUNI/VŠ/PhD/Zahraniční stáž/Work/HeiGIT_notebooks/analysis/ai-assisted-osm-mapping-stats/notebooks-evm-glm-blds/R-analysis'"
      ],
      "text/plain": [
       "[1] \"c:/Users/milan/OneDrive - MUNI/VŠ/PhD/Zahraniční stáž/Work/HeiGIT_notebooks/analysis/ai-assisted-osm-mapping-stats/notebooks-evm-glm-blds/R-analysis\""
      ]
     },
     "metadata": {},
     "output_type": "display_data"
    }
   ],
   "source": [
    "getwd()"
   ]
  },
  {
   "cell_type": "code",
   "execution_count": 2,
   "metadata": {
    "vscode": {
     "languageId": "r"
    }
   },
   "outputs": [
    {
     "name": "stdout",
     "output_type": "stream",
     "text": [
      "<environment: R_GlobalEnv>\n"
     ]
    }
   ],
   "source": [
    "print(environment())"
   ]
  },
  {
   "cell_type": "code",
   "execution_count": 3,
   "metadata": {
    "vscode": {
     "languageId": "r"
    }
   },
   "outputs": [],
   "source": [
    "# library()"
   ]
  },
  {
   "cell_type": "code",
   "execution_count": 4,
   "metadata": {
    "vscode": {
     "languageId": "r"
    }
   },
   "outputs": [],
   "source": [
    "# Set the working directory to a specific path\n",
    "setwd(\"C:/Users/milan/OneDrive - MUNI/VŠ/PhD/Zahraniční stáž/Work/HeiGIT_notebooks/analysis/ai-assisted-osm-mapping-stats/notebooks-evm-glm-blds\")"
   ]
  },
  {
   "cell_type": "code",
   "execution_count": 5,
   "metadata": {
    "vscode": {
     "languageId": "r"
    }
   },
   "outputs": [
    {
     "data": {
      "text/html": [
       "'C:/Users/milan/OneDrive - MUNI/VŠ/PhD/Zahraniční stáž/Work/HeiGIT_notebooks/analysis/ai-assisted-osm-mapping-stats/notebooks-evm-glm-blds'"
      ],
      "text/latex": [
       "'C:/Users/milan/OneDrive - MUNI/VŠ/PhD/Zahraniční stáž/Work/HeiGIT\\_notebooks/analysis/ai-assisted-osm-mapping-stats/notebooks-evm-glm-blds'"
      ],
      "text/markdown": [
       "'C:/Users/milan/OneDrive - MUNI/VŠ/PhD/Zahraniční stáž/Work/HeiGIT_notebooks/analysis/ai-assisted-osm-mapping-stats/notebooks-evm-glm-blds'"
      ],
      "text/plain": [
       "[1] \"C:/Users/milan/OneDrive - MUNI/VŠ/PhD/Zahraniční stáž/Work/HeiGIT_notebooks/analysis/ai-assisted-osm-mapping-stats/notebooks-evm-glm-blds\""
      ]
     },
     "metadata": {},
     "output_type": "display_data"
    }
   ],
   "source": [
    "getwd()"
   ]
  },
  {
   "cell_type": "code",
   "execution_count": 6,
   "metadata": {
    "vscode": {
     "languageId": "r"
    }
   },
   "outputs": [
    {
     "name": "stderr",
     "output_type": "stream",
     "text": [
      "\n",
      "Attaching package: 'dplyr'\n",
      "\n",
      "\n",
      "The following objects are masked from 'package:stats':\n",
      "\n",
      "    filter, lag\n",
      "\n",
      "\n",
      "The following objects are masked from 'package:base':\n",
      "\n",
      "    intersect, setdiff, setequal, union\n",
      "\n",
      "\n",
      "\n",
      "Attaching package: 'tidyr'\n",
      "\n",
      "\n",
      "The following object is masked from 'package:magrittr':\n",
      "\n",
      "    extract\n",
      "\n",
      "\n",
      "Linking to GEOS 3.11.2, GDAL 3.6.2, PROJ 9.2.0; sf_use_s2() is TRUE\n",
      "\n",
      "Loading required package: spData\n",
      "\n",
      "To access larger datasets in this package, install the spDataLarge\n",
      "package with: `install.packages('spDataLarge',\n",
      "repos='https://nowosad.github.io/drat/', type='source')`\n",
      "\n",
      "Linking to liblwgeom 3.0.0beta1 r16016, GEOS 3.11.2, PROJ 9.2.0\n",
      "\n",
      "Loading required package: Matrix\n",
      "\n",
      "\n",
      "Attaching package: 'Matrix'\n",
      "\n",
      "\n",
      "The following objects are masked from 'package:tidyr':\n",
      "\n",
      "    expand, pack, unpack\n",
      "\n",
      "\n",
      "\n",
      "Attaching package: 'spatialreg'\n",
      "\n",
      "\n",
      "The following objects are masked from 'package:spdep':\n",
      "\n",
      "    get.ClusterOption, get.coresOption, get.mcOption,\n",
      "    get.VerboseOption, get.ZeroPolicyOption, set.ClusterOption,\n",
      "    set.coresOption, set.mcOption, set.VerboseOption,\n",
      "    set.ZeroPolicyOption\n",
      "\n",
      "\n",
      "Warning message:\n",
      "\"package 'tmap' was built under R version 4.3.1\"\n"
     ]
    }
   ],
   "source": [
    "library(magrittr)\n",
    "library(dplyr)\n",
    "library(tidyr)\n",
    "library(sf)\n",
    "library(spdep)\n",
    "library(reticulate)\n",
    "library(sp)\n",
    "library(lwgeom)\n",
    "library(spatialreg)\n",
    "library(openxlsx)\n",
    "library(tmap)"
   ]
  },
  {
   "cell_type": "markdown",
   "metadata": {},
   "source": [
    "## Load the data"
   ]
  },
  {
   "cell_type": "code",
   "execution_count": 7,
   "metadata": {
    "vscode": {
     "languageId": "r"
    }
   },
   "outputs": [
    {
     "name": "stdout",
     "output_type": "stream",
     "text": [
      "Reading layer `geo_df_stats_norm_no-nan_prj' from data source \n",
      "  `C:\\Users\\milan\\OneDrive - MUNI\\VŠ\\PhD\\Zahraniční stáž\\Work\\HeiGIT_notebooks\\analysis\\ai-assisted-osm-mapping-stats\\notebooks-evm-glm-blds\\geo_df_stats_norm_no-nan_prj.geojson' \n",
      "  using driver `GeoJSON'\n",
      "Simple feature collection with 219 features and 15 fields\n",
      "Geometry type: MULTIPOLYGON\n",
      "Dimension:     XY\n",
      "Bounding box:  xmin: -16921330 ymin: -8392928 xmax: 17125350 ymax: 8315958\n",
      "Projected CRS: WGS 84 / Equal Earth Greenwich\n"
     ]
    }
   ],
   "source": [
    "datSf <- st_read(\"geo_df_stats_norm_no-nan_prj.geojson\")"
   ]
  },
  {
   "cell_type": "code",
   "execution_count": 8,
   "metadata": {
    "vscode": {
     "languageId": "r"
    }
   },
   "outputs": [
    {
     "data": {
      "text/plain": [
       "Coordinate Reference System:\n",
       "  User input: WGS 84 / Equal Earth Greenwich \n",
       "  wkt:\n",
       "PROJCRS[\"WGS 84 / Equal Earth Greenwich\",\n",
       "    BASEGEOGCRS[\"WGS 84\",\n",
       "        ENSEMBLE[\"World Geodetic System 1984 ensemble\",\n",
       "            MEMBER[\"World Geodetic System 1984 (Transit)\"],\n",
       "            MEMBER[\"World Geodetic System 1984 (G730)\"],\n",
       "            MEMBER[\"World Geodetic System 1984 (G873)\"],\n",
       "            MEMBER[\"World Geodetic System 1984 (G1150)\"],\n",
       "            MEMBER[\"World Geodetic System 1984 (G1674)\"],\n",
       "            MEMBER[\"World Geodetic System 1984 (G1762)\"],\n",
       "            MEMBER[\"World Geodetic System 1984 (G2139)\"],\n",
       "            ELLIPSOID[\"WGS 84\",6378137,298.257223563,\n",
       "                LENGTHUNIT[\"metre\",1]],\n",
       "            ENSEMBLEACCURACY[2.0]],\n",
       "        PRIMEM[\"Greenwich\",0,\n",
       "            ANGLEUNIT[\"degree\",0.0174532925199433]],\n",
       "        ID[\"EPSG\",4326]],\n",
       "    CONVERSION[\"Equal Earth Greenwich\",\n",
       "        METHOD[\"Equal Earth\",\n",
       "            ID[\"EPSG\",1078]],\n",
       "        PARAMETER[\"Longitude of natural origin\",0,\n",
       "            ANGLEUNIT[\"degree\",0.0174532925199433],\n",
       "            ID[\"EPSG\",8802]],\n",
       "        PARAMETER[\"False easting\",0,\n",
       "            LENGTHUNIT[\"metre\",1],\n",
       "            ID[\"EPSG\",8806]],\n",
       "        PARAMETER[\"False northing\",0,\n",
       "            LENGTHUNIT[\"metre\",1],\n",
       "            ID[\"EPSG\",8807]]],\n",
       "    CS[Cartesian,2],\n",
       "        AXIS[\"(E)\",east,\n",
       "            ORDER[1],\n",
       "            LENGTHUNIT[\"metre\",1]],\n",
       "        AXIS[\"(N)\",north,\n",
       "            ORDER[2],\n",
       "            LENGTHUNIT[\"metre\",1]],\n",
       "    USAGE[\n",
       "        SCOPE[\"Very small scale equal-area mapping - Europe-Africa-centred.\"],\n",
       "        AREA[\"World.\"],\n",
       "        BBOX[-90,-180,90,180]],\n",
       "    ID[\"EPSG\",8857]]"
      ]
     },
     "metadata": {},
     "output_type": "display_data"
    }
   ],
   "source": [
    "st_crs(datSf)"
   ]
  },
  {
   "cell_type": "code",
   "execution_count": 9,
   "metadata": {
    "vscode": {
     "languageId": "r"
    }
   },
   "outputs": [],
   "source": [
    "# Write to GeoPackage\n",
    "#gpkg_file <- \"geo_df_stats_norm_no-nan.gpkg\"\n",
    "#st_write(datSf, gpkg_file, layer = \"world-states\", driver = \"GPKG\")\n"
   ]
  },
  {
   "cell_type": "code",
   "execution_count": 10,
   "metadata": {
    "vscode": {
     "languageId": "r"
    }
   },
   "outputs": [
    {
     "data": {
      "text/html": [
       "<style>\n",
       ".list-inline {list-style: none; margin:0; padding: 0}\n",
       ".list-inline>li {display: inline-block}\n",
       ".list-inline>li:not(:last-child)::after {content: \"\\00b7\"; padding: 0 .5ex}\n",
       "</style>\n",
       "<ol class=list-inline><li>'NAME_EN'</li><li>'ADM0_ISO'</li><li>'name_en'</li><li>'adm0_iso'</li><li>'pop_est'</li><li>'gdp_md'</li><li>'num_of_blds'</li><li>'pop_2021'</li><li>'hdi_2021'</li><li>'deaths_2021'</li><li>'num_of_blds_norm'</li><li>'gdp_md_norm'</li><li>'pop_2021_norm'</li><li>'hdi_2021_norm'</li><li>'deaths_2021_norm'</li><li>'geometry'</li></ol>\n"
      ],
      "text/latex": [
       "\\begin{enumerate*}\n",
       "\\item 'NAME\\_EN'\n",
       "\\item 'ADM0\\_ISO'\n",
       "\\item 'name\\_en'\n",
       "\\item 'adm0\\_iso'\n",
       "\\item 'pop\\_est'\n",
       "\\item 'gdp\\_md'\n",
       "\\item 'num\\_of\\_blds'\n",
       "\\item 'pop\\_2021'\n",
       "\\item 'hdi\\_2021'\n",
       "\\item 'deaths\\_2021'\n",
       "\\item 'num\\_of\\_blds\\_norm'\n",
       "\\item 'gdp\\_md\\_norm'\n",
       "\\item 'pop\\_2021\\_norm'\n",
       "\\item 'hdi\\_2021\\_norm'\n",
       "\\item 'deaths\\_2021\\_norm'\n",
       "\\item 'geometry'\n",
       "\\end{enumerate*}\n"
      ],
      "text/markdown": [
       "1. 'NAME_EN'\n",
       "2. 'ADM0_ISO'\n",
       "3. 'name_en'\n",
       "4. 'adm0_iso'\n",
       "5. 'pop_est'\n",
       "6. 'gdp_md'\n",
       "7. 'num_of_blds'\n",
       "8. 'pop_2021'\n",
       "9. 'hdi_2021'\n",
       "10. 'deaths_2021'\n",
       "11. 'num_of_blds_norm'\n",
       "12. 'gdp_md_norm'\n",
       "13. 'pop_2021_norm'\n",
       "14. 'hdi_2021_norm'\n",
       "15. 'deaths_2021_norm'\n",
       "16. 'geometry'\n",
       "\n",
       "\n"
      ],
      "text/plain": [
       " [1] \"NAME_EN\"          \"ADM0_ISO\"         \"name_en\"          \"adm0_iso\"        \n",
       " [5] \"pop_est\"          \"gdp_md\"           \"num_of_blds\"      \"pop_2021\"        \n",
       " [9] \"hdi_2021\"         \"deaths_2021\"      \"num_of_blds_norm\" \"gdp_md_norm\"     \n",
       "[13] \"pop_2021_norm\"    \"hdi_2021_norm\"    \"deaths_2021_norm\" \"geometry\"        "
      ]
     },
     "metadata": {},
     "output_type": "display_data"
    }
   ],
   "source": [
    "names(datSf)"
   ]
  },
  {
   "cell_type": "code",
   "execution_count": 11,
   "metadata": {
    "vscode": {
     "languageId": "r"
    }
   },
   "outputs": [
    {
     "data": {
      "text/html": [
       "<style>\n",
       ".list-inline {list-style: none; margin:0; padding: 0}\n",
       ".list-inline>li {display: inline-block}\n",
       ".list-inline>li:not(:last-child)::after {content: \"\\00b7\"; padding: 0 .5ex}\n",
       "</style>\n",
       "<ol class=list-inline><li>'Indonesia'</li><li>'Malaysia'</li><li>'Chile'</li><li>'Bolivia'</li><li>'Peru'</li><li>'Argentina'</li><li>'United Kingdom'</li><li>'Cyprus'</li><li>'Cyprus'</li><li>'Cyprus'</li><li>'India'</li><li>'People\\'s Republic of China'</li><li>'Israel'</li><li>'Lebanon'</li><li>'Ethiopia'</li><li>'South Sudan'</li><li>'Somalia'</li><li>'Somalia'</li><li>'Kenya'</li><li>'Malawi'</li><li>'Tanzania'</li><li>'Syria'</li><li>'Somaliland'</li><li>'Somaliland'</li><li>'France'</li><li>'Suriname'</li><li>'Guyana'</li><li>'South Korea'</li><li>'North Korea'</li><li>'Morocco'</li><li>'Western Sahara'</li><li>'Costa Rica'</li><li>'Nicaragua'</li><li>'Republic of the Congo'</li><li>'Democratic Republic of the Congo'</li><li>'Bhutan'</li><li>'Ukraine'</li><li>'Belarus'</li><li>'Namibia'</li><li>'South Africa'</li><li>'Netherlands'</li><li>'Oman'</li><li>'Uzbekistan'</li><li>'Kazakhstan'</li><li>'Tajikistan'</li><li>'Lithuania'</li><li>'Brazil'</li><li>'Uruguay'</li><li>'Mongolia'</li><li>'Russia'</li><li>'Czech Republic'</li><li>'Germany'</li><li>'Estonia'</li><li>'Latvia'</li><li>'Norway'</li><li>'Sweden'</li><li>'Finland'</li><li>'Vietnam'</li><li>'Cambodia'</li><li>'Luxembourg'</li><li>'United Arab Emirates'</li><li>'Belgium'</li><li>'Abkhazia'</li><li>'North Macedonia'</li><li>'Albania'</li><li>'Azerbaijan'</li><li>'Kosovo'</li><li>'Kosovo'</li><li>'Turkey'</li><li>'Spain'</li><li>'Laos'</li><li>'Kyrgyzstan'</li><li>'Armenia'</li><li>'Denmark'</li><li>'Libya'</li><li>'Tunisia'</li><li>'Romania'</li><li>'Hungary'</li><li>'Slovakia'</li><li>'Poland'</li><li>'Ireland'</li><li>'Greece'</li><li>'Zambia'</li><li>'Sierra Leone'</li><li>'Guinea'</li><li>'Liberia'</li><li>'Central African Republic'</li><li>'Sudan'</li><li>'Djibouti'</li><li>'Eritrea'</li><li>'Austria'</li><li>'Iraq'</li><li>'Italy'</li><li>'Switzerland'</li><li>'Iran'</li><li>'Liechtenstein'</li><li>'Ivory Coast'</li><li>'Serbia'</li><li>'Serbia'</li><li>'Mali'</li><li>'Senegal'</li><li>'Nigeria'</li><li>'Benin'</li><li>'Angola'</li><li>'Croatia'</li><li>'Slovenia'</li><li>'Qatar'</li><li>'Saudi Arabia'</li><li>'Botswana'</li><li>'Zimbabwe'</li><li>'Pakistan'</li><li>'Bulgaria'</li><li>'Thailand'</li><li>'San Marino'</li><li>'Haiti'</li><li>'Dominican Republic'</li><li>'Chad'</li><li>'Kuwait'</li><li>'El Salvador'</li><li>'Guatemala'</li><li>'East Timor'</li><li>'Brunei'</li><li>'Monaco'</li><li>'Algeria'</li><li>'Mozambique'</li><li>'Eswatini'</li><li>'Burundi'</li><li>'Rwanda'</li><li>'Myanmar'</li><li>'Bangladesh'</li><li>'Andorra'</li><li>'Afghanistan'</li><li>'Montenegro'</li><li>'Bosnia and Herzegovina'</li><li>'Uganda'</li><li>'Cuba'</li><li>'Honduras'</li><li>'Ecuador'</li><li>'Colombia'</li><li>'Paraguay'</li><li>'Brazilian Island'</li><li>'Portugal'</li><li>'Moldova'</li><li>'Turkmenistan'</li><li>'Jordan'</li><li>'Nepal'</li><li>'Lesotho'</li><li>'Cameroon'</li><li>'Gabon'</li><li>'Niger'</li><li>'Burkina Faso'</li><li>'Togo'</li><li>'Ghana'</li><li>'Guinea-Bissau'</li><li>'United States of America'</li><li>'Canada'</li><li>'Mexico'</li><li>'Belize'</li><li>'Panama'</li><li>'Venezuela'</li><li>'Papua New Guinea'</li><li>'Egypt'</li><li>'Yemen'</li><li>'Mauritania'</li><li>'Equatorial Guinea'</li><li>'The Gambia'</li><li>'Vatican City'</li><li>'Turkish Republic of Northern Cyprus'</li><li>'Turkish Republic of Northern Cyprus'</li><li>'Turkish Republic of Northern Cyprus'</li><li>'United Nations Buffer Zone in Cyprus'</li><li>'United Nations Buffer Zone in Cyprus'</li><li>'United Nations Buffer Zone in Cyprus'</li><li>'Siachen Glacier'</li><li>'Southern Patagonian Ice Field'</li><li>'Bir Tawil'</li><li>'Antarctica'</li><li>'Australia'</li><li>'Fiji'</li><li>'New Zealand'</li><li>'Madagascar'</li><li>'Philippines'</li><li>'Sri Lanka'</li><li>'The Bahamas'</li><li>'Taiwan'</li><li>'Japan'</li><li>'Iceland'</li><li>'Seychelles'</li><li>'Kiribati'</li><li>'Marshall Islands'</li><li>'Trinidad and Tobago'</li><li>'Grenada'</li><li>'Saint Vincent and the Grenadines'</li><li>'Barbados'</li><li>'Saint Lucia'</li><li>'Dominica'</li><li>'Antigua and Barbuda'</li><li>'Saint Kitts and Nevis'</li><li>'Jamaica'</li><li>'Mauritius'</li><li>'Comoros'</li><li>'São Tomé and Príncipe'</li><li>'Cape Verde'</li><li>'Malta'</li><li>'Singapore'</li><li>'Tonga'</li><li>'Samoa'</li><li>'Solomon Islands'</li><li>'Tuvalu'</li><li>'Maldives'</li><li>'Nauru'</li><li>'Federated States of Micronesia'</li><li>'Vanuatu'</li><li>'Palau'</li><li>'Bahrain'</li><li>'Wake Island'</li><li>'Bajo Nuevo Bank'</li><li>'Serranilla Bank'</li><li>'Scarborough Shoal'</li></ol>\n"
      ],
      "text/latex": [
       "\\begin{enumerate*}\n",
       "\\item 'Indonesia'\n",
       "\\item 'Malaysia'\n",
       "\\item 'Chile'\n",
       "\\item 'Bolivia'\n",
       "\\item 'Peru'\n",
       "\\item 'Argentina'\n",
       "\\item 'United Kingdom'\n",
       "\\item 'Cyprus'\n",
       "\\item 'Cyprus'\n",
       "\\item 'Cyprus'\n",
       "\\item 'India'\n",
       "\\item 'People\\textbackslash{}'s Republic of China'\n",
       "\\item 'Israel'\n",
       "\\item 'Lebanon'\n",
       "\\item 'Ethiopia'\n",
       "\\item 'South Sudan'\n",
       "\\item 'Somalia'\n",
       "\\item 'Somalia'\n",
       "\\item 'Kenya'\n",
       "\\item 'Malawi'\n",
       "\\item 'Tanzania'\n",
       "\\item 'Syria'\n",
       "\\item 'Somaliland'\n",
       "\\item 'Somaliland'\n",
       "\\item 'France'\n",
       "\\item 'Suriname'\n",
       "\\item 'Guyana'\n",
       "\\item 'South Korea'\n",
       "\\item 'North Korea'\n",
       "\\item 'Morocco'\n",
       "\\item 'Western Sahara'\n",
       "\\item 'Costa Rica'\n",
       "\\item 'Nicaragua'\n",
       "\\item 'Republic of the Congo'\n",
       "\\item 'Democratic Republic of the Congo'\n",
       "\\item 'Bhutan'\n",
       "\\item 'Ukraine'\n",
       "\\item 'Belarus'\n",
       "\\item 'Namibia'\n",
       "\\item 'South Africa'\n",
       "\\item 'Netherlands'\n",
       "\\item 'Oman'\n",
       "\\item 'Uzbekistan'\n",
       "\\item 'Kazakhstan'\n",
       "\\item 'Tajikistan'\n",
       "\\item 'Lithuania'\n",
       "\\item 'Brazil'\n",
       "\\item 'Uruguay'\n",
       "\\item 'Mongolia'\n",
       "\\item 'Russia'\n",
       "\\item 'Czech Republic'\n",
       "\\item 'Germany'\n",
       "\\item 'Estonia'\n",
       "\\item 'Latvia'\n",
       "\\item 'Norway'\n",
       "\\item 'Sweden'\n",
       "\\item 'Finland'\n",
       "\\item 'Vietnam'\n",
       "\\item 'Cambodia'\n",
       "\\item 'Luxembourg'\n",
       "\\item 'United Arab Emirates'\n",
       "\\item 'Belgium'\n",
       "\\item 'Abkhazia'\n",
       "\\item 'North Macedonia'\n",
       "\\item 'Albania'\n",
       "\\item 'Azerbaijan'\n",
       "\\item 'Kosovo'\n",
       "\\item 'Kosovo'\n",
       "\\item 'Turkey'\n",
       "\\item 'Spain'\n",
       "\\item 'Laos'\n",
       "\\item 'Kyrgyzstan'\n",
       "\\item 'Armenia'\n",
       "\\item 'Denmark'\n",
       "\\item 'Libya'\n",
       "\\item 'Tunisia'\n",
       "\\item 'Romania'\n",
       "\\item 'Hungary'\n",
       "\\item 'Slovakia'\n",
       "\\item 'Poland'\n",
       "\\item 'Ireland'\n",
       "\\item 'Greece'\n",
       "\\item 'Zambia'\n",
       "\\item 'Sierra Leone'\n",
       "\\item 'Guinea'\n",
       "\\item 'Liberia'\n",
       "\\item 'Central African Republic'\n",
       "\\item 'Sudan'\n",
       "\\item 'Djibouti'\n",
       "\\item 'Eritrea'\n",
       "\\item 'Austria'\n",
       "\\item 'Iraq'\n",
       "\\item 'Italy'\n",
       "\\item 'Switzerland'\n",
       "\\item 'Iran'\n",
       "\\item 'Liechtenstein'\n",
       "\\item 'Ivory Coast'\n",
       "\\item 'Serbia'\n",
       "\\item 'Serbia'\n",
       "\\item 'Mali'\n",
       "\\item 'Senegal'\n",
       "\\item 'Nigeria'\n",
       "\\item 'Benin'\n",
       "\\item 'Angola'\n",
       "\\item 'Croatia'\n",
       "\\item 'Slovenia'\n",
       "\\item 'Qatar'\n",
       "\\item 'Saudi Arabia'\n",
       "\\item 'Botswana'\n",
       "\\item 'Zimbabwe'\n",
       "\\item 'Pakistan'\n",
       "\\item 'Bulgaria'\n",
       "\\item 'Thailand'\n",
       "\\item 'San Marino'\n",
       "\\item 'Haiti'\n",
       "\\item 'Dominican Republic'\n",
       "\\item 'Chad'\n",
       "\\item 'Kuwait'\n",
       "\\item 'El Salvador'\n",
       "\\item 'Guatemala'\n",
       "\\item 'East Timor'\n",
       "\\item 'Brunei'\n",
       "\\item 'Monaco'\n",
       "\\item 'Algeria'\n",
       "\\item 'Mozambique'\n",
       "\\item 'Eswatini'\n",
       "\\item 'Burundi'\n",
       "\\item 'Rwanda'\n",
       "\\item 'Myanmar'\n",
       "\\item 'Bangladesh'\n",
       "\\item 'Andorra'\n",
       "\\item 'Afghanistan'\n",
       "\\item 'Montenegro'\n",
       "\\item 'Bosnia and Herzegovina'\n",
       "\\item 'Uganda'\n",
       "\\item 'Cuba'\n",
       "\\item 'Honduras'\n",
       "\\item 'Ecuador'\n",
       "\\item 'Colombia'\n",
       "\\item 'Paraguay'\n",
       "\\item 'Brazilian Island'\n",
       "\\item 'Portugal'\n",
       "\\item 'Moldova'\n",
       "\\item 'Turkmenistan'\n",
       "\\item 'Jordan'\n",
       "\\item 'Nepal'\n",
       "\\item 'Lesotho'\n",
       "\\item 'Cameroon'\n",
       "\\item 'Gabon'\n",
       "\\item 'Niger'\n",
       "\\item 'Burkina Faso'\n",
       "\\item 'Togo'\n",
       "\\item 'Ghana'\n",
       "\\item 'Guinea-Bissau'\n",
       "\\item 'United States of America'\n",
       "\\item 'Canada'\n",
       "\\item 'Mexico'\n",
       "\\item 'Belize'\n",
       "\\item 'Panama'\n",
       "\\item 'Venezuela'\n",
       "\\item 'Papua New Guinea'\n",
       "\\item 'Egypt'\n",
       "\\item 'Yemen'\n",
       "\\item 'Mauritania'\n",
       "\\item 'Equatorial Guinea'\n",
       "\\item 'The Gambia'\n",
       "\\item 'Vatican City'\n",
       "\\item 'Turkish Republic of Northern Cyprus'\n",
       "\\item 'Turkish Republic of Northern Cyprus'\n",
       "\\item 'Turkish Republic of Northern Cyprus'\n",
       "\\item 'United Nations Buffer Zone in Cyprus'\n",
       "\\item 'United Nations Buffer Zone in Cyprus'\n",
       "\\item 'United Nations Buffer Zone in Cyprus'\n",
       "\\item 'Siachen Glacier'\n",
       "\\item 'Southern Patagonian Ice Field'\n",
       "\\item 'Bir Tawil'\n",
       "\\item 'Antarctica'\n",
       "\\item 'Australia'\n",
       "\\item 'Fiji'\n",
       "\\item 'New Zealand'\n",
       "\\item 'Madagascar'\n",
       "\\item 'Philippines'\n",
       "\\item 'Sri Lanka'\n",
       "\\item 'The Bahamas'\n",
       "\\item 'Taiwan'\n",
       "\\item 'Japan'\n",
       "\\item 'Iceland'\n",
       "\\item 'Seychelles'\n",
       "\\item 'Kiribati'\n",
       "\\item 'Marshall Islands'\n",
       "\\item 'Trinidad and Tobago'\n",
       "\\item 'Grenada'\n",
       "\\item 'Saint Vincent and the Grenadines'\n",
       "\\item 'Barbados'\n",
       "\\item 'Saint Lucia'\n",
       "\\item 'Dominica'\n",
       "\\item 'Antigua and Barbuda'\n",
       "\\item 'Saint Kitts and Nevis'\n",
       "\\item 'Jamaica'\n",
       "\\item 'Mauritius'\n",
       "\\item 'Comoros'\n",
       "\\item 'São Tomé and Príncipe'\n",
       "\\item 'Cape Verde'\n",
       "\\item 'Malta'\n",
       "\\item 'Singapore'\n",
       "\\item 'Tonga'\n",
       "\\item 'Samoa'\n",
       "\\item 'Solomon Islands'\n",
       "\\item 'Tuvalu'\n",
       "\\item 'Maldives'\n",
       "\\item 'Nauru'\n",
       "\\item 'Federated States of Micronesia'\n",
       "\\item 'Vanuatu'\n",
       "\\item 'Palau'\n",
       "\\item 'Bahrain'\n",
       "\\item 'Wake Island'\n",
       "\\item 'Bajo Nuevo Bank'\n",
       "\\item 'Serranilla Bank'\n",
       "\\item 'Scarborough Shoal'\n",
       "\\end{enumerate*}\n"
      ],
      "text/markdown": [
       "1. 'Indonesia'\n",
       "2. 'Malaysia'\n",
       "3. 'Chile'\n",
       "4. 'Bolivia'\n",
       "5. 'Peru'\n",
       "6. 'Argentina'\n",
       "7. 'United Kingdom'\n",
       "8. 'Cyprus'\n",
       "9. 'Cyprus'\n",
       "10. 'Cyprus'\n",
       "11. 'India'\n",
       "12. 'People\\'s Republic of China'\n",
       "13. 'Israel'\n",
       "14. 'Lebanon'\n",
       "15. 'Ethiopia'\n",
       "16. 'South Sudan'\n",
       "17. 'Somalia'\n",
       "18. 'Somalia'\n",
       "19. 'Kenya'\n",
       "20. 'Malawi'\n",
       "21. 'Tanzania'\n",
       "22. 'Syria'\n",
       "23. 'Somaliland'\n",
       "24. 'Somaliland'\n",
       "25. 'France'\n",
       "26. 'Suriname'\n",
       "27. 'Guyana'\n",
       "28. 'South Korea'\n",
       "29. 'North Korea'\n",
       "30. 'Morocco'\n",
       "31. 'Western Sahara'\n",
       "32. 'Costa Rica'\n",
       "33. 'Nicaragua'\n",
       "34. 'Republic of the Congo'\n",
       "35. 'Democratic Republic of the Congo'\n",
       "36. 'Bhutan'\n",
       "37. 'Ukraine'\n",
       "38. 'Belarus'\n",
       "39. 'Namibia'\n",
       "40. 'South Africa'\n",
       "41. 'Netherlands'\n",
       "42. 'Oman'\n",
       "43. 'Uzbekistan'\n",
       "44. 'Kazakhstan'\n",
       "45. 'Tajikistan'\n",
       "46. 'Lithuania'\n",
       "47. 'Brazil'\n",
       "48. 'Uruguay'\n",
       "49. 'Mongolia'\n",
       "50. 'Russia'\n",
       "51. 'Czech Republic'\n",
       "52. 'Germany'\n",
       "53. 'Estonia'\n",
       "54. 'Latvia'\n",
       "55. 'Norway'\n",
       "56. 'Sweden'\n",
       "57. 'Finland'\n",
       "58. 'Vietnam'\n",
       "59. 'Cambodia'\n",
       "60. 'Luxembourg'\n",
       "61. 'United Arab Emirates'\n",
       "62. 'Belgium'\n",
       "63. 'Abkhazia'\n",
       "64. 'North Macedonia'\n",
       "65. 'Albania'\n",
       "66. 'Azerbaijan'\n",
       "67. 'Kosovo'\n",
       "68. 'Kosovo'\n",
       "69. 'Turkey'\n",
       "70. 'Spain'\n",
       "71. 'Laos'\n",
       "72. 'Kyrgyzstan'\n",
       "73. 'Armenia'\n",
       "74. 'Denmark'\n",
       "75. 'Libya'\n",
       "76. 'Tunisia'\n",
       "77. 'Romania'\n",
       "78. 'Hungary'\n",
       "79. 'Slovakia'\n",
       "80. 'Poland'\n",
       "81. 'Ireland'\n",
       "82. 'Greece'\n",
       "83. 'Zambia'\n",
       "84. 'Sierra Leone'\n",
       "85. 'Guinea'\n",
       "86. 'Liberia'\n",
       "87. 'Central African Republic'\n",
       "88. 'Sudan'\n",
       "89. 'Djibouti'\n",
       "90. 'Eritrea'\n",
       "91. 'Austria'\n",
       "92. 'Iraq'\n",
       "93. 'Italy'\n",
       "94. 'Switzerland'\n",
       "95. 'Iran'\n",
       "96. 'Liechtenstein'\n",
       "97. 'Ivory Coast'\n",
       "98. 'Serbia'\n",
       "99. 'Serbia'\n",
       "100. 'Mali'\n",
       "101. 'Senegal'\n",
       "102. 'Nigeria'\n",
       "103. 'Benin'\n",
       "104. 'Angola'\n",
       "105. 'Croatia'\n",
       "106. 'Slovenia'\n",
       "107. 'Qatar'\n",
       "108. 'Saudi Arabia'\n",
       "109. 'Botswana'\n",
       "110. 'Zimbabwe'\n",
       "111. 'Pakistan'\n",
       "112. 'Bulgaria'\n",
       "113. 'Thailand'\n",
       "114. 'San Marino'\n",
       "115. 'Haiti'\n",
       "116. 'Dominican Republic'\n",
       "117. 'Chad'\n",
       "118. 'Kuwait'\n",
       "119. 'El Salvador'\n",
       "120. 'Guatemala'\n",
       "121. 'East Timor'\n",
       "122. 'Brunei'\n",
       "123. 'Monaco'\n",
       "124. 'Algeria'\n",
       "125. 'Mozambique'\n",
       "126. 'Eswatini'\n",
       "127. 'Burundi'\n",
       "128. 'Rwanda'\n",
       "129. 'Myanmar'\n",
       "130. 'Bangladesh'\n",
       "131. 'Andorra'\n",
       "132. 'Afghanistan'\n",
       "133. 'Montenegro'\n",
       "134. 'Bosnia and Herzegovina'\n",
       "135. 'Uganda'\n",
       "136. 'Cuba'\n",
       "137. 'Honduras'\n",
       "138. 'Ecuador'\n",
       "139. 'Colombia'\n",
       "140. 'Paraguay'\n",
       "141. 'Brazilian Island'\n",
       "142. 'Portugal'\n",
       "143. 'Moldova'\n",
       "144. 'Turkmenistan'\n",
       "145. 'Jordan'\n",
       "146. 'Nepal'\n",
       "147. 'Lesotho'\n",
       "148. 'Cameroon'\n",
       "149. 'Gabon'\n",
       "150. 'Niger'\n",
       "151. 'Burkina Faso'\n",
       "152. 'Togo'\n",
       "153. 'Ghana'\n",
       "154. 'Guinea-Bissau'\n",
       "155. 'United States of America'\n",
       "156. 'Canada'\n",
       "157. 'Mexico'\n",
       "158. 'Belize'\n",
       "159. 'Panama'\n",
       "160. 'Venezuela'\n",
       "161. 'Papua New Guinea'\n",
       "162. 'Egypt'\n",
       "163. 'Yemen'\n",
       "164. 'Mauritania'\n",
       "165. 'Equatorial Guinea'\n",
       "166. 'The Gambia'\n",
       "167. 'Vatican City'\n",
       "168. 'Turkish Republic of Northern Cyprus'\n",
       "169. 'Turkish Republic of Northern Cyprus'\n",
       "170. 'Turkish Republic of Northern Cyprus'\n",
       "171. 'United Nations Buffer Zone in Cyprus'\n",
       "172. 'United Nations Buffer Zone in Cyprus'\n",
       "173. 'United Nations Buffer Zone in Cyprus'\n",
       "174. 'Siachen Glacier'\n",
       "175. 'Southern Patagonian Ice Field'\n",
       "176. 'Bir Tawil'\n",
       "177. 'Antarctica'\n",
       "178. 'Australia'\n",
       "179. 'Fiji'\n",
       "180. 'New Zealand'\n",
       "181. 'Madagascar'\n",
       "182. 'Philippines'\n",
       "183. 'Sri Lanka'\n",
       "184. 'The Bahamas'\n",
       "185. 'Taiwan'\n",
       "186. 'Japan'\n",
       "187. 'Iceland'\n",
       "188. 'Seychelles'\n",
       "189. 'Kiribati'\n",
       "190. 'Marshall Islands'\n",
       "191. 'Trinidad and Tobago'\n",
       "192. 'Grenada'\n",
       "193. 'Saint Vincent and the Grenadines'\n",
       "194. 'Barbados'\n",
       "195. 'Saint Lucia'\n",
       "196. 'Dominica'\n",
       "197. 'Antigua and Barbuda'\n",
       "198. 'Saint Kitts and Nevis'\n",
       "199. 'Jamaica'\n",
       "200. 'Mauritius'\n",
       "201. 'Comoros'\n",
       "202. 'São Tomé and Príncipe'\n",
       "203. 'Cape Verde'\n",
       "204. 'Malta'\n",
       "205. 'Singapore'\n",
       "206. 'Tonga'\n",
       "207. 'Samoa'\n",
       "208. 'Solomon Islands'\n",
       "209. 'Tuvalu'\n",
       "210. 'Maldives'\n",
       "211. 'Nauru'\n",
       "212. 'Federated States of Micronesia'\n",
       "213. 'Vanuatu'\n",
       "214. 'Palau'\n",
       "215. 'Bahrain'\n",
       "216. 'Wake Island'\n",
       "217. 'Bajo Nuevo Bank'\n",
       "218. 'Serranilla Bank'\n",
       "219. 'Scarborough Shoal'\n",
       "\n",
       "\n"
      ],
      "text/plain": [
       "  [1] \"Indonesia\"                           \n",
       "  [2] \"Malaysia\"                            \n",
       "  [3] \"Chile\"                               \n",
       "  [4] \"Bolivia\"                             \n",
       "  [5] \"Peru\"                                \n",
       "  [6] \"Argentina\"                           \n",
       "  [7] \"United Kingdom\"                      \n",
       "  [8] \"Cyprus\"                              \n",
       "  [9] \"Cyprus\"                              \n",
       " [10] \"Cyprus\"                              \n",
       " [11] \"India\"                               \n",
       " [12] \"People's Republic of China\"          \n",
       " [13] \"Israel\"                              \n",
       " [14] \"Lebanon\"                             \n",
       " [15] \"Ethiopia\"                            \n",
       " [16] \"South Sudan\"                         \n",
       " [17] \"Somalia\"                             \n",
       " [18] \"Somalia\"                             \n",
       " [19] \"Kenya\"                               \n",
       " [20] \"Malawi\"                              \n",
       " [21] \"Tanzania\"                            \n",
       " [22] \"Syria\"                               \n",
       " [23] \"Somaliland\"                          \n",
       " [24] \"Somaliland\"                          \n",
       " [25] \"France\"                              \n",
       " [26] \"Suriname\"                            \n",
       " [27] \"Guyana\"                              \n",
       " [28] \"South Korea\"                         \n",
       " [29] \"North Korea\"                         \n",
       " [30] \"Morocco\"                             \n",
       " [31] \"Western Sahara\"                      \n",
       " [32] \"Costa Rica\"                          \n",
       " [33] \"Nicaragua\"                           \n",
       " [34] \"Republic of the Congo\"               \n",
       " [35] \"Democratic Republic of the Congo\"    \n",
       " [36] \"Bhutan\"                              \n",
       " [37] \"Ukraine\"                             \n",
       " [38] \"Belarus\"                             \n",
       " [39] \"Namibia\"                             \n",
       " [40] \"South Africa\"                        \n",
       " [41] \"Netherlands\"                         \n",
       " [42] \"Oman\"                                \n",
       " [43] \"Uzbekistan\"                          \n",
       " [44] \"Kazakhstan\"                          \n",
       " [45] \"Tajikistan\"                          \n",
       " [46] \"Lithuania\"                           \n",
       " [47] \"Brazil\"                              \n",
       " [48] \"Uruguay\"                             \n",
       " [49] \"Mongolia\"                            \n",
       " [50] \"Russia\"                              \n",
       " [51] \"Czech Republic\"                      \n",
       " [52] \"Germany\"                             \n",
       " [53] \"Estonia\"                             \n",
       " [54] \"Latvia\"                              \n",
       " [55] \"Norway\"                              \n",
       " [56] \"Sweden\"                              \n",
       " [57] \"Finland\"                             \n",
       " [58] \"Vietnam\"                             \n",
       " [59] \"Cambodia\"                            \n",
       " [60] \"Luxembourg\"                          \n",
       " [61] \"United Arab Emirates\"                \n",
       " [62] \"Belgium\"                             \n",
       " [63] \"Abkhazia\"                            \n",
       " [64] \"North Macedonia\"                     \n",
       " [65] \"Albania\"                             \n",
       " [66] \"Azerbaijan\"                          \n",
       " [67] \"Kosovo\"                              \n",
       " [68] \"Kosovo\"                              \n",
       " [69] \"Turkey\"                              \n",
       " [70] \"Spain\"                               \n",
       " [71] \"Laos\"                                \n",
       " [72] \"Kyrgyzstan\"                          \n",
       " [73] \"Armenia\"                             \n",
       " [74] \"Denmark\"                             \n",
       " [75] \"Libya\"                               \n",
       " [76] \"Tunisia\"                             \n",
       " [77] \"Romania\"                             \n",
       " [78] \"Hungary\"                             \n",
       " [79] \"Slovakia\"                            \n",
       " [80] \"Poland\"                              \n",
       " [81] \"Ireland\"                             \n",
       " [82] \"Greece\"                              \n",
       " [83] \"Zambia\"                              \n",
       " [84] \"Sierra Leone\"                        \n",
       " [85] \"Guinea\"                              \n",
       " [86] \"Liberia\"                             \n",
       " [87] \"Central African Republic\"            \n",
       " [88] \"Sudan\"                               \n",
       " [89] \"Djibouti\"                            \n",
       " [90] \"Eritrea\"                             \n",
       " [91] \"Austria\"                             \n",
       " [92] \"Iraq\"                                \n",
       " [93] \"Italy\"                               \n",
       " [94] \"Switzerland\"                         \n",
       " [95] \"Iran\"                                \n",
       " [96] \"Liechtenstein\"                       \n",
       " [97] \"Ivory Coast\"                         \n",
       " [98] \"Serbia\"                              \n",
       " [99] \"Serbia\"                              \n",
       "[100] \"Mali\"                                \n",
       "[101] \"Senegal\"                             \n",
       "[102] \"Nigeria\"                             \n",
       "[103] \"Benin\"                               \n",
       "[104] \"Angola\"                              \n",
       "[105] \"Croatia\"                             \n",
       "[106] \"Slovenia\"                            \n",
       "[107] \"Qatar\"                               \n",
       "[108] \"Saudi Arabia\"                        \n",
       "[109] \"Botswana\"                            \n",
       "[110] \"Zimbabwe\"                            \n",
       "[111] \"Pakistan\"                            \n",
       "[112] \"Bulgaria\"                            \n",
       "[113] \"Thailand\"                            \n",
       "[114] \"San Marino\"                          \n",
       "[115] \"Haiti\"                               \n",
       "[116] \"Dominican Republic\"                  \n",
       "[117] \"Chad\"                                \n",
       "[118] \"Kuwait\"                              \n",
       "[119] \"El Salvador\"                         \n",
       "[120] \"Guatemala\"                           \n",
       "[121] \"East Timor\"                          \n",
       "[122] \"Brunei\"                              \n",
       "[123] \"Monaco\"                              \n",
       "[124] \"Algeria\"                             \n",
       "[125] \"Mozambique\"                          \n",
       "[126] \"Eswatini\"                            \n",
       "[127] \"Burundi\"                             \n",
       "[128] \"Rwanda\"                              \n",
       "[129] \"Myanmar\"                             \n",
       "[130] \"Bangladesh\"                          \n",
       "[131] \"Andorra\"                             \n",
       "[132] \"Afghanistan\"                         \n",
       "[133] \"Montenegro\"                          \n",
       "[134] \"Bosnia and Herzegovina\"              \n",
       "[135] \"Uganda\"                              \n",
       "[136] \"Cuba\"                                \n",
       "[137] \"Honduras\"                            \n",
       "[138] \"Ecuador\"                             \n",
       "[139] \"Colombia\"                            \n",
       "[140] \"Paraguay\"                            \n",
       "[141] \"Brazilian Island\"                    \n",
       "[142] \"Portugal\"                            \n",
       "[143] \"Moldova\"                             \n",
       "[144] \"Turkmenistan\"                        \n",
       "[145] \"Jordan\"                              \n",
       "[146] \"Nepal\"                               \n",
       "[147] \"Lesotho\"                             \n",
       "[148] \"Cameroon\"                            \n",
       "[149] \"Gabon\"                               \n",
       "[150] \"Niger\"                               \n",
       "[151] \"Burkina Faso\"                        \n",
       "[152] \"Togo\"                                \n",
       "[153] \"Ghana\"                               \n",
       "[154] \"Guinea-Bissau\"                       \n",
       "[155] \"United States of America\"            \n",
       "[156] \"Canada\"                              \n",
       "[157] \"Mexico\"                              \n",
       "[158] \"Belize\"                              \n",
       "[159] \"Panama\"                              \n",
       "[160] \"Venezuela\"                           \n",
       "[161] \"Papua New Guinea\"                    \n",
       "[162] \"Egypt\"                               \n",
       "[163] \"Yemen\"                               \n",
       "[164] \"Mauritania\"                          \n",
       "[165] \"Equatorial Guinea\"                   \n",
       "[166] \"The Gambia\"                          \n",
       "[167] \"Vatican City\"                        \n",
       "[168] \"Turkish Republic of Northern Cyprus\" \n",
       "[169] \"Turkish Republic of Northern Cyprus\" \n",
       "[170] \"Turkish Republic of Northern Cyprus\" \n",
       "[171] \"United Nations Buffer Zone in Cyprus\"\n",
       "[172] \"United Nations Buffer Zone in Cyprus\"\n",
       "[173] \"United Nations Buffer Zone in Cyprus\"\n",
       "[174] \"Siachen Glacier\"                     \n",
       "[175] \"Southern Patagonian Ice Field\"       \n",
       "[176] \"Bir Tawil\"                           \n",
       "[177] \"Antarctica\"                          \n",
       "[178] \"Australia\"                           \n",
       "[179] \"Fiji\"                                \n",
       "[180] \"New Zealand\"                         \n",
       "[181] \"Madagascar\"                          \n",
       "[182] \"Philippines\"                         \n",
       "[183] \"Sri Lanka\"                           \n",
       "[184] \"The Bahamas\"                         \n",
       "[185] \"Taiwan\"                              \n",
       "[186] \"Japan\"                               \n",
       "[187] \"Iceland\"                             \n",
       "[188] \"Seychelles\"                          \n",
       "[189] \"Kiribati\"                            \n",
       "[190] \"Marshall Islands\"                    \n",
       "[191] \"Trinidad and Tobago\"                 \n",
       "[192] \"Grenada\"                             \n",
       "[193] \"Saint Vincent and the Grenadines\"    \n",
       "[194] \"Barbados\"                            \n",
       "[195] \"Saint Lucia\"                         \n",
       "[196] \"Dominica\"                            \n",
       "[197] \"Antigua and Barbuda\"                 \n",
       "[198] \"Saint Kitts and Nevis\"               \n",
       "[199] \"Jamaica\"                             \n",
       "[200] \"Mauritius\"                           \n",
       "[201] \"Comoros\"                             \n",
       "[202] \"São Tomé and Príncipe\"               \n",
       "[203] \"Cape Verde\"                          \n",
       "[204] \"Malta\"                               \n",
       "[205] \"Singapore\"                           \n",
       "[206] \"Tonga\"                               \n",
       "[207] \"Samoa\"                               \n",
       "[208] \"Solomon Islands\"                     \n",
       "[209] \"Tuvalu\"                              \n",
       "[210] \"Maldives\"                            \n",
       "[211] \"Nauru\"                               \n",
       "[212] \"Federated States of Micronesia\"      \n",
       "[213] \"Vanuatu\"                             \n",
       "[214] \"Palau\"                               \n",
       "[215] \"Bahrain\"                             \n",
       "[216] \"Wake Island\"                         \n",
       "[217] \"Bajo Nuevo Bank\"                     \n",
       "[218] \"Serranilla Bank\"                     \n",
       "[219] \"Scarborough Shoal\"                   "
      ]
     },
     "metadata": {},
     "output_type": "display_data"
    }
   ],
   "source": [
    "datSf$NAME_EN"
   ]
  },
  {
   "cell_type": "code",
   "execution_count": 12,
   "metadata": {
    "vscode": {
     "languageId": "r"
    }
   },
   "outputs": [
    {
     "data": {
      "text/html": [
       "<table class=\"dataframe\">\n",
       "<caption>A data.frame: 10 × 16</caption>\n",
       "<thead>\n",
       "\t<tr><th></th><th scope=col>NAME_EN</th><th scope=col>ADM0_ISO</th><th scope=col>name_en</th><th scope=col>adm0_iso</th><th scope=col>pop_est</th><th scope=col>gdp_md</th><th scope=col>num_of_blds</th><th scope=col>pop_2021</th><th scope=col>hdi_2021</th><th scope=col>deaths_2021</th><th scope=col>num_of_blds_norm</th><th scope=col>gdp_md_norm</th><th scope=col>pop_2021_norm</th><th scope=col>hdi_2021_norm</th><th scope=col>deaths_2021_norm</th><th scope=col>geometry</th></tr>\n",
       "\t<tr><th></th><th scope=col>&lt;chr&gt;</th><th scope=col>&lt;chr&gt;</th><th scope=col>&lt;chr&gt;</th><th scope=col>&lt;chr&gt;</th><th scope=col>&lt;dbl&gt;</th><th scope=col>&lt;dbl&gt;</th><th scope=col>&lt;dbl&gt;</th><th scope=col>&lt;dbl&gt;</th><th scope=col>&lt;dbl&gt;</th><th scope=col>&lt;dbl&gt;</th><th scope=col>&lt;dbl&gt;</th><th scope=col>&lt;dbl&gt;</th><th scope=col>&lt;dbl&gt;</th><th scope=col>&lt;dbl&gt;</th><th scope=col>&lt;dbl&gt;</th><th scope=col>&lt;MULTIPOLYGON [m]&gt;</th></tr>\n",
       "</thead>\n",
       "<tbody>\n",
       "\t<tr><th scope=row>1</th><td>Indonesia     </td><td>IDN</td><td>Indonesia                           </td><td>IDN</td><td>541251136</td><td>2238380</td><td>203216</td><td>273753191</td><td>0.705</td><td>696</td><td>2.428910e-02</td><td>5.195009e-02</td><td>0.1938203847</td><td>0.5723794</td><td>0.1791505792</td><td>MULTIPOLYGON (((11261888 53...</td></tr>\n",
       "\t<tr><th scope=row>2</th><td>Malaysia      </td><td>MYS</td><td>Malaysia                            </td><td>MYS</td><td> 63899554</td><td> 729362</td><td> 11160</td><td> 33573874</td><td>0.803</td><td>117</td><td>1.333883e-03</td><td>1.692614e-02</td><td>0.0237637261</td><td>0.7354409</td><td>0.0301158301</td><td>MULTIPOLYGON (((11261888 53...</td></tr>\n",
       "\t<tr><th scope=row>3</th><td>Chile         </td><td>CHL</td><td>Chile                               </td><td>CHL</td><td> 37904076</td><td> 564636</td><td>  1361</td><td> 19493184</td><td>0.855</td><td>  0</td><td>1.626716e-04</td><td>1.310289e-02</td><td>0.0137940288</td><td>0.8219634</td><td>0.0000000000</td><td>MULTIPOLYGON (((-6512442 -2...</td></tr>\n",
       "\t<tr><th scope=row>4</th><td>Bolivia       </td><td>BOL</td><td>Bolivia                             </td><td>BOL</td><td> 23026200</td><td>  81790</td><td>  8063</td><td> 12079472</td><td>0.692</td><td>127</td><td>9.637186e-04</td><td>1.896145e-03</td><td>0.0085448212</td><td>0.5507488</td><td>0.0326898327</td><td>MULTIPOLYGON (((-6512442 -2...</td></tr>\n",
       "\t<tr><th scope=row>5</th><td>Peru          </td><td>PER</td><td>Peru                                </td><td>PER</td><td> 65020906</td><td> 453696</td><td>   128</td><td> 33715471</td><td>0.762</td><td>103</td><td>1.529902e-05</td><td>1.052800e-02</td><td>0.0238639825</td><td>0.6672213</td><td>0.0265122265</td><td>MULTIPOLYGON (((-6512442 -2...</td></tr>\n",
       "\t<tr><th scope=row>6</th><td>Argentina     </td><td>ARG</td><td>Argentina                           </td><td>ARG</td><td> 89877424</td><td> 890890</td><td>  7557</td><td> 45808747</td><td>0.842</td><td> 15</td><td>9.032397e-04</td><td>2.067516e-02</td><td>0.0324265105</td><td>0.8003328</td><td>0.0038610039</td><td>MULTIPOLYGON (((-6196962 -2...</td></tr>\n",
       "\t<tr><th scope=row>7</th><td>United Kingdom</td><td>GBR</td><td>United Kingdom                      </td><td>GBR</td><td>134732930</td><td>5726332</td><td> 27522</td><td> 67326569</td><td>0.929</td><td>  1</td><td>3.289528e-03</td><td>1.329046e-01</td><td>0.0476619977</td><td>0.9450915</td><td>0.0002574003</td><td>MULTIPOLYGON (((2955191 434...</td></tr>\n",
       "\t<tr><th scope=row>8</th><td>Cyprus        </td><td>CYP</td><td>Cyprus                              </td><td>CYP</td><td>  2397150</td><td>  49896</td><td>   706</td><td>  1244188</td><td>0.896</td><td>  4</td><td>8.438365e-05</td><td>1.155893e-03</td><td>0.0008730025</td><td>0.8901830</td><td>0.0010296010</td><td>MULTIPOLYGON (((2955271 434...</td></tr>\n",
       "\t<tr><th scope=row>9</th><td>Cyprus        </td><td>CYP</td><td>Turkish Republic of Northern Cyprus </td><td>CYP</td><td>   652000</td><td>   7200</td><td>  3729</td><td>  1244188</td><td>0.896</td><td>  4</td><td>4.457034e-04</td><td>1.649286e-04</td><td>0.0008730025</td><td>0.8901830</td><td>0.0010296010</td><td>MULTIPOLYGON (((2955271 434...</td></tr>\n",
       "\t<tr><th scope=row>10</th><td>Cyprus        </td><td>CYP</td><td>United Nations Buffer Zone in Cyprus</td><td>CYP</td><td>    20000</td><td>    560</td><td>    35</td><td>  1244188</td><td>0.896</td><td>  4</td><td>4.183325e-06</td><td>1.081575e-05</td><td>0.0008730025</td><td>0.8901830</td><td>0.0010296010</td><td>MULTIPOLYGON (((2955271 434...</td></tr>\n",
       "</tbody>\n",
       "</table>\n"
      ],
      "text/latex": [
       "A data.frame: 10 × 16\n",
       "\\begin{tabular}{r|llllllllllllllll}\n",
       "  & NAME\\_EN & ADM0\\_ISO & name\\_en & adm0\\_iso & pop\\_est & gdp\\_md & num\\_of\\_blds & pop\\_2021 & hdi\\_2021 & deaths\\_2021 & num\\_of\\_blds\\_norm & gdp\\_md\\_norm & pop\\_2021\\_norm & hdi\\_2021\\_norm & deaths\\_2021\\_norm & geometry\\\\\n",
       "  & <chr> & <chr> & <chr> & <chr> & <dbl> & <dbl> & <dbl> & <dbl> & <dbl> & <dbl> & <dbl> & <dbl> & <dbl> & <dbl> & <dbl> & <MULTIPOLYGON {[}m{]}>\\\\\n",
       "\\hline\n",
       "\t1 & Indonesia      & IDN & Indonesia                            & IDN & 541251136 & 2238380 & 203216 & 273753191 & 0.705 & 696 & 2.428910e-02 & 5.195009e-02 & 0.1938203847 & 0.5723794 & 0.1791505792 & MULTIPOLYGON (((11261888 53...\\\\\n",
       "\t2 & Malaysia       & MYS & Malaysia                             & MYS &  63899554 &  729362 &  11160 &  33573874 & 0.803 & 117 & 1.333883e-03 & 1.692614e-02 & 0.0237637261 & 0.7354409 & 0.0301158301 & MULTIPOLYGON (((11261888 53...\\\\\n",
       "\t3 & Chile          & CHL & Chile                                & CHL &  37904076 &  564636 &   1361 &  19493184 & 0.855 &   0 & 1.626716e-04 & 1.310289e-02 & 0.0137940288 & 0.8219634 & 0.0000000000 & MULTIPOLYGON (((-6512442 -2...\\\\\n",
       "\t4 & Bolivia        & BOL & Bolivia                              & BOL &  23026200 &   81790 &   8063 &  12079472 & 0.692 & 127 & 9.637186e-04 & 1.896145e-03 & 0.0085448212 & 0.5507488 & 0.0326898327 & MULTIPOLYGON (((-6512442 -2...\\\\\n",
       "\t5 & Peru           & PER & Peru                                 & PER &  65020906 &  453696 &    128 &  33715471 & 0.762 & 103 & 1.529902e-05 & 1.052800e-02 & 0.0238639825 & 0.6672213 & 0.0265122265 & MULTIPOLYGON (((-6512442 -2...\\\\\n",
       "\t6 & Argentina      & ARG & Argentina                            & ARG &  89877424 &  890890 &   7557 &  45808747 & 0.842 &  15 & 9.032397e-04 & 2.067516e-02 & 0.0324265105 & 0.8003328 & 0.0038610039 & MULTIPOLYGON (((-6196962 -2...\\\\\n",
       "\t7 & United Kingdom & GBR & United Kingdom                       & GBR & 134732930 & 5726332 &  27522 &  67326569 & 0.929 &   1 & 3.289528e-03 & 1.329046e-01 & 0.0476619977 & 0.9450915 & 0.0002574003 & MULTIPOLYGON (((2955191 434...\\\\\n",
       "\t8 & Cyprus         & CYP & Cyprus                               & CYP &   2397150 &   49896 &    706 &   1244188 & 0.896 &   4 & 8.438365e-05 & 1.155893e-03 & 0.0008730025 & 0.8901830 & 0.0010296010 & MULTIPOLYGON (((2955271 434...\\\\\n",
       "\t9 & Cyprus         & CYP & Turkish Republic of Northern Cyprus  & CYP &    652000 &    7200 &   3729 &   1244188 & 0.896 &   4 & 4.457034e-04 & 1.649286e-04 & 0.0008730025 & 0.8901830 & 0.0010296010 & MULTIPOLYGON (((2955271 434...\\\\\n",
       "\t10 & Cyprus         & CYP & United Nations Buffer Zone in Cyprus & CYP &     20000 &     560 &     35 &   1244188 & 0.896 &   4 & 4.183325e-06 & 1.081575e-05 & 0.0008730025 & 0.8901830 & 0.0010296010 & MULTIPOLYGON (((2955271 434...\\\\\n",
       "\\end{tabular}\n"
      ],
      "text/markdown": [
       "\n",
       "A data.frame: 10 × 16\n",
       "\n",
       "| <!--/--> | NAME_EN &lt;chr&gt; | ADM0_ISO &lt;chr&gt; | name_en &lt;chr&gt; | adm0_iso &lt;chr&gt; | pop_est &lt;dbl&gt; | gdp_md &lt;dbl&gt; | num_of_blds &lt;dbl&gt; | pop_2021 &lt;dbl&gt; | hdi_2021 &lt;dbl&gt; | deaths_2021 &lt;dbl&gt; | num_of_blds_norm &lt;dbl&gt; | gdp_md_norm &lt;dbl&gt; | pop_2021_norm &lt;dbl&gt; | hdi_2021_norm &lt;dbl&gt; | deaths_2021_norm &lt;dbl&gt; | geometry &lt;MULTIPOLYGON [m]&gt; |\n",
       "|---|---|---|---|---|---|---|---|---|---|---|---|---|---|---|---|---|\n",
       "| 1 | Indonesia      | IDN | Indonesia                            | IDN | 541251136 | 2238380 | 203216 | 273753191 | 0.705 | 696 | 2.428910e-02 | 5.195009e-02 | 0.1938203847 | 0.5723794 | 0.1791505792 | MULTIPOLYGON (((11261888 53... |\n",
       "| 2 | Malaysia       | MYS | Malaysia                             | MYS |  63899554 |  729362 |  11160 |  33573874 | 0.803 | 117 | 1.333883e-03 | 1.692614e-02 | 0.0237637261 | 0.7354409 | 0.0301158301 | MULTIPOLYGON (((11261888 53... |\n",
       "| 3 | Chile          | CHL | Chile                                | CHL |  37904076 |  564636 |   1361 |  19493184 | 0.855 |   0 | 1.626716e-04 | 1.310289e-02 | 0.0137940288 | 0.8219634 | 0.0000000000 | MULTIPOLYGON (((-6512442 -2... |\n",
       "| 4 | Bolivia        | BOL | Bolivia                              | BOL |  23026200 |   81790 |   8063 |  12079472 | 0.692 | 127 | 9.637186e-04 | 1.896145e-03 | 0.0085448212 | 0.5507488 | 0.0326898327 | MULTIPOLYGON (((-6512442 -2... |\n",
       "| 5 | Peru           | PER | Peru                                 | PER |  65020906 |  453696 |    128 |  33715471 | 0.762 | 103 | 1.529902e-05 | 1.052800e-02 | 0.0238639825 | 0.6672213 | 0.0265122265 | MULTIPOLYGON (((-6512442 -2... |\n",
       "| 6 | Argentina      | ARG | Argentina                            | ARG |  89877424 |  890890 |   7557 |  45808747 | 0.842 |  15 | 9.032397e-04 | 2.067516e-02 | 0.0324265105 | 0.8003328 | 0.0038610039 | MULTIPOLYGON (((-6196962 -2... |\n",
       "| 7 | United Kingdom | GBR | United Kingdom                       | GBR | 134732930 | 5726332 |  27522 |  67326569 | 0.929 |   1 | 3.289528e-03 | 1.329046e-01 | 0.0476619977 | 0.9450915 | 0.0002574003 | MULTIPOLYGON (((2955191 434... |\n",
       "| 8 | Cyprus         | CYP | Cyprus                               | CYP |   2397150 |   49896 |    706 |   1244188 | 0.896 |   4 | 8.438365e-05 | 1.155893e-03 | 0.0008730025 | 0.8901830 | 0.0010296010 | MULTIPOLYGON (((2955271 434... |\n",
       "| 9 | Cyprus         | CYP | Turkish Republic of Northern Cyprus  | CYP |    652000 |    7200 |   3729 |   1244188 | 0.896 |   4 | 4.457034e-04 | 1.649286e-04 | 0.0008730025 | 0.8901830 | 0.0010296010 | MULTIPOLYGON (((2955271 434... |\n",
       "| 10 | Cyprus         | CYP | United Nations Buffer Zone in Cyprus | CYP |     20000 |     560 |     35 |   1244188 | 0.896 |   4 | 4.183325e-06 | 1.081575e-05 | 0.0008730025 | 0.8901830 | 0.0010296010 | MULTIPOLYGON (((2955271 434... |\n",
       "\n"
      ],
      "text/plain": [
       "   NAME_EN        ADM0_ISO name_en                              adm0_iso\n",
       "1  Indonesia      IDN      Indonesia                            IDN     \n",
       "2  Malaysia       MYS      Malaysia                             MYS     \n",
       "3  Chile          CHL      Chile                                CHL     \n",
       "4  Bolivia        BOL      Bolivia                              BOL     \n",
       "5  Peru           PER      Peru                                 PER     \n",
       "6  Argentina      ARG      Argentina                            ARG     \n",
       "7  United Kingdom GBR      United Kingdom                       GBR     \n",
       "8  Cyprus         CYP      Cyprus                               CYP     \n",
       "9  Cyprus         CYP      Turkish Republic of Northern Cyprus  CYP     \n",
       "10 Cyprus         CYP      United Nations Buffer Zone in Cyprus CYP     \n",
       "   pop_est   gdp_md  num_of_blds pop_2021  hdi_2021 deaths_2021\n",
       "1  541251136 2238380 203216      273753191 0.705    696        \n",
       "2   63899554  729362  11160       33573874 0.803    117        \n",
       "3   37904076  564636   1361       19493184 0.855      0        \n",
       "4   23026200   81790   8063       12079472 0.692    127        \n",
       "5   65020906  453696    128       33715471 0.762    103        \n",
       "6   89877424  890890   7557       45808747 0.842     15        \n",
       "7  134732930 5726332  27522       67326569 0.929      1        \n",
       "8    2397150   49896    706        1244188 0.896      4        \n",
       "9     652000    7200   3729        1244188 0.896      4        \n",
       "10     20000     560     35        1244188 0.896      4        \n",
       "   num_of_blds_norm gdp_md_norm  pop_2021_norm hdi_2021_norm deaths_2021_norm\n",
       "1  2.428910e-02     5.195009e-02 0.1938203847  0.5723794     0.1791505792    \n",
       "2  1.333883e-03     1.692614e-02 0.0237637261  0.7354409     0.0301158301    \n",
       "3  1.626716e-04     1.310289e-02 0.0137940288  0.8219634     0.0000000000    \n",
       "4  9.637186e-04     1.896145e-03 0.0085448212  0.5507488     0.0326898327    \n",
       "5  1.529902e-05     1.052800e-02 0.0238639825  0.6672213     0.0265122265    \n",
       "6  9.032397e-04     2.067516e-02 0.0324265105  0.8003328     0.0038610039    \n",
       "7  3.289528e-03     1.329046e-01 0.0476619977  0.9450915     0.0002574003    \n",
       "8  8.438365e-05     1.155893e-03 0.0008730025  0.8901830     0.0010296010    \n",
       "9  4.457034e-04     1.649286e-04 0.0008730025  0.8901830     0.0010296010    \n",
       "10 4.183325e-06     1.081575e-05 0.0008730025  0.8901830     0.0010296010    \n",
       "   geometry                      \n",
       "1  MULTIPOLYGON (((11261888 53...\n",
       "2  MULTIPOLYGON (((11261888 53...\n",
       "3  MULTIPOLYGON (((-6512442 -2...\n",
       "4  MULTIPOLYGON (((-6512442 -2...\n",
       "5  MULTIPOLYGON (((-6512442 -2...\n",
       "6  MULTIPOLYGON (((-6196962 -2...\n",
       "7  MULTIPOLYGON (((2955191 434...\n",
       "8  MULTIPOLYGON (((2955271 434...\n",
       "9  MULTIPOLYGON (((2955271 434...\n",
       "10 MULTIPOLYGON (((2955271 434..."
      ]
     },
     "metadata": {},
     "output_type": "display_data"
    }
   ],
   "source": [
    "datSf_df <- as.data.frame(datSf)\n",
    "head(datSf_df, 10)"
   ]
  },
  {
   "cell_type": "markdown",
   "metadata": {},
   "source": [
    "## Explore the data and data wrangling"
   ]
  },
  {
   "cell_type": "code",
   "execution_count": 13,
   "metadata": {
    "vscode": {
     "languageId": "r"
    }
   },
   "outputs": [],
   "source": [
    "# Replace NaN values with 0\n",
    "# datSf <- datSf %>%\n",
    "#    mutate_all(~ ifelse(is.na(.), 0, .))"
   ]
  },
  {
   "cell_type": "code",
   "execution_count": 14,
   "metadata": {
    "vscode": {
     "languageId": "r"
    }
   },
   "outputs": [],
   "source": [
    "# st_is_valid(datSf)"
   ]
  },
  {
   "cell_type": "code",
   "execution_count": 15,
   "metadata": {
    "vscode": {
     "languageId": "r"
    }
   },
   "outputs": [],
   "source": [
    "# Replace NaN values in attributes with 0\n",
    "#datSf <- datSf %>%\n",
    "#    mutate_all(~ ifelse(is.na(.), 0, .))"
   ]
  },
  {
   "cell_type": "code",
   "execution_count": 16,
   "metadata": {
    "vscode": {
     "languageId": "r"
    }
   },
   "outputs": [
    {
     "name": "stdout",
     "output_type": "stream",
     "text": [
      "integer(0)\n"
     ]
    }
   ],
   "source": [
    "# Check for invalid geometries\n",
    "invalid_geom <- st_is_valid(datSf)\n",
    "\n",
    "# Identify which features have invalid geometries\n",
    "invalid_indices <- which(!invalid_geom)\n",
    "\n",
    "# Print the indices of features with invalid geometries\n",
    "print(invalid_indices)\n",
    "\n",
    "# Fix the invalid geometries (if possible)\n",
    "datSf <- st_make_valid(datSf)"
   ]
  },
  {
   "cell_type": "code",
   "execution_count": 17,
   "metadata": {
    "vscode": {
     "languageId": "r"
    }
   },
   "outputs": [],
   "source": [
    "# Check for empty geometries\n",
    "datSf <- datSf[!st_is_empty(datSf), , drop = FALSE]"
   ]
  },
  {
   "cell_type": "code",
   "execution_count": 18,
   "metadata": {
    "vscode": {
     "languageId": "r"
    }
   },
   "outputs": [],
   "source": [
    "# Exclude specific columns from datSf\n",
    "columns_to_exclude <- c(\"pop_est_norm\", \"gdp_md_norm\", \"num_of_blds_norm\", \"pop_2021_norm\", \"hdi_2021_norm\", \"deaths_2021_norm\", \"geometry\") # \"geometry\"\n",
    "datSf_subset <- datSf[, (names(datSf) %in% columns_to_exclude)]\n",
    "\n",
    "# Drop rows with NaN values from datSf\n",
    "datSf_subset_noNAN <- na.omit(datSf_subset)"
   ]
  },
  {
   "cell_type": "code",
   "execution_count": 18,
   "metadata": {
    "vscode": {
     "languageId": "r"
    }
   },
   "outputs": [
    {
     "data": {
      "image/png": "[encoded data removed]",
      "text/plain": [
       "plot without title"
      ]
     },
     "metadata": {
      "image/png": {
       "height": 420,
       "width": 420
      }
     },
     "output_type": "display_data"
    }
   ],
   "source": [
    "hist(datSf$deaths_2021, main=NULL)"
   ]
  },
  {
   "cell_type": "code",
   "execution_count": 19,
   "metadata": {
    "vscode": {
     "languageId": "r"
    }
   },
   "outputs": [
    {
     "data": {
      "image/png": "[encoded data removed]",
      "text/plain": [
       "plot without title"
      ]
     },
     "metadata": {
      "image/png": {
       "height": 420,
       "width": 420
      }
     },
     "output_type": "display_data"
    }
   ],
   "source": [
    "boxplot(datSf$deaths_2021, horizontal = TRUE)"
   ]
  },
  {
   "cell_type": "code",
   "execution_count": 20,
   "metadata": {
    "vscode": {
     "languageId": "r"
    }
   },
   "outputs": [
    {
     "data": {
      "image/png": "[encoded data removed]",
      "text/plain": [
       "plot without title"
      ]
     },
     "metadata": {
      "image/png": {
       "height": 420,
       "width": 420
      }
     },
     "output_type": "display_data"
    }
   ],
   "source": [
    "tm_shape(datSf) + tm_fill(col = \"num_of_blds\", style = \"quantile\", n = 8, palette = \"Greens\") +\n",
    "    tm_legend(outside = TRUE)"
   ]
  },
  {
   "cell_type": "markdown",
   "metadata": {},
   "source": [
    "## Step 1: Define neighboring polygons"
   ]
  },
  {
   "cell_type": "markdown",
   "metadata": {},
   "source": [
    "\n",
    "The first step in a Moran’s I analysis requires that we define “neighboring” polygons. This could refer to contiguous polygons, polygons within a certain distance, or it could be non-spatial in nature and defined by social, political or cultural “neighbors”.\n",
    "\n",
    "Here, we’ll adopt a contiguous neighbor definition. We’ll accept any contiguous polygons that share at least one vertex; this is the “queen” case (if one chooses to adopt the chess analogy) and it’s parameterized as queen = TRUE in the call to poly2nb. If we required that just edges be shared between polygons then we would set queen = FALSE (the rook analogy)."
   ]
  },
  {
   "cell_type": "code",
   "execution_count": 21,
   "metadata": {
    "vscode": {
     "languageId": "r"
    }
   },
   "outputs": [
    {
     "data": {
      "text/html": [
       "<ol>\n",
       "\t<li><style>\n",
       ".list-inline {list-style: none; margin:0; padding: 0}\n",
       ".list-inline>li {display: inline-block}\n",
       ".list-inline>li:not(:last-child)::after {content: \"\\00b7\"; padding: 0 .5ex}\n",
       "</style>\n",
       "<ol class=list-inline><li>2</li><li>121</li><li>161</li></ol>\n",
       "</li>\n",
       "</ol>\n"
      ],
      "text/latex": [
       "\\begin{enumerate}\n",
       "\\item \\begin{enumerate*}\n",
       "\\item 2\n",
       "\\item 121\n",
       "\\item 161\n",
       "\\end{enumerate*}\n",
       "\n",
       "\\end{enumerate}\n"
      ],
      "text/markdown": [
       "1. 1. 2\n",
       "2. 121\n",
       "3. 161\n",
       "\n",
       "\n",
       "\n",
       "\n",
       "\n"
      ],
      "text/plain": [
       "[[1]]\n",
       "[1]   2 121 161\n"
      ]
     },
     "metadata": {},
     "output_type": "display_data"
    }
   ],
   "source": [
    "nb <- poly2nb(datSf, queen = TRUE) # queen = TRUE\n",
    "nb[1]"
   ]
  },
  {
   "cell_type": "code",
   "execution_count": 22,
   "metadata": {
    "vscode": {
     "languageId": "r"
    }
   },
   "outputs": [
    {
     "data": {
      "text/plain": [
       "Neighbour list object:\n",
       "Number of regions: 219 \n",
       "Number of nonzero links: 784 \n",
       "Percentage nonzero weights: 1.634661 \n",
       "Average number of links: 3.579909 \n",
       "44 regions with no links:\n",
       "136 177 178 179 180 181 182 183 184 185 186 187 188 189 190 191 192 193\n",
       "194 195 196 197 198 199 200 201 202 203 204 205 206 207 208 209 210 211\n",
       "212 213 214 215 216 217 218 219"
      ]
     },
     "metadata": {},
     "output_type": "display_data"
    }
   ],
   "source": [
    "nb"
   ]
  },
  {
   "cell_type": "code",
   "execution_count": 23,
   "metadata": {
    "vscode": {
     "languageId": "r"
    }
   },
   "outputs": [
    {
     "data": {
      "text/html": [
       "FALSE"
      ],
      "text/latex": [
       "FALSE"
      ],
      "text/markdown": [
       "FALSE"
      ],
      "text/plain": [
       "[1] FALSE"
      ]
     },
     "metadata": {},
     "output_type": "display_data"
    }
   ],
   "source": [
    "get.ZeroPolicyOption()"
   ]
  },
  {
   "cell_type": "code",
   "execution_count": 24,
   "metadata": {
    "vscode": {
     "languageId": "r"
    }
   },
   "outputs": [
    {
     "data": {
      "text/html": [
       "FALSE"
      ],
      "text/latex": [
       "FALSE"
      ],
      "text/markdown": [
       "FALSE"
      ],
      "text/plain": [
       "[1] FALSE"
      ]
     },
     "metadata": {},
     "output_type": "display_data"
    }
   ],
   "source": [
    "set.ZeroPolicyOption(TRUE)"
   ]
  },
  {
   "cell_type": "code",
   "execution_count": 32,
   "metadata": {
    "vscode": {
     "languageId": "r"
    }
   },
   "outputs": [],
   "source": [
    "# neighbors_count <- lengths(st_touches(datSf, datSf))\n",
    "\n",
    "# filtered_datSf <- datSf[neighbors_count > 0, ]"
   ]
  },
  {
   "cell_type": "code",
   "execution_count": 25,
   "metadata": {
    "vscode": {
     "languageId": "r"
    }
   },
   "outputs": [
    {
     "data": {
      "image/png": "[encoded data removed]",
      "text/plain": [
       "plot without title"
      ]
     },
     "metadata": {
      "image/png": {
       "height": 420,
       "width": 420
      }
     },
     "output_type": "display_data"
    }
   ],
   "source": [
    "plot(st_geometry(datSf))\n",
    "plot(st_geometry(datSf)[card(nb) == 0L], add = TRUE, col = \"red\")"
   ]
  },
  {
   "cell_type": "code",
   "execution_count": 47,
   "metadata": {
    "vscode": {
     "languageId": "r"
    }
   },
   "outputs": [
    {
     "data": {
      "text/html": [
       "<pre class=language-r><code>function (pl, row.names = NULL, snap = sqrt(.Machine$double.eps), \n",
       "<span style=white-space:pre-wrap>    queen = TRUE, useC = TRUE, foundInBox = NULL) </span>\n",
       "NULL</code></pre>"
      ],
      "text/latex": [
       "\\begin{minted}{r}\n",
       "function (pl, row.names = NULL, snap = sqrt(.Machine\\$double.eps), \n",
       "    queen = TRUE, useC = TRUE, foundInBox = NULL) \n",
       "NULL\n",
       "\\end{minted}"
      ],
      "text/markdown": [
       "```r\n",
       "function (pl, row.names = NULL, snap = sqrt(.Machine$double.eps), \n",
       "    queen = TRUE, useC = TRUE, foundInBox = NULL) \n",
       "NULL\n",
       "```"
      ],
      "text/plain": [
       "function (pl, row.names = NULL, snap = sqrt(.Machine$double.eps), \n",
       "    queen = TRUE, useC = TRUE, foundInBox = NULL) \n",
       "NULL"
      ]
     },
     "metadata": {},
     "output_type": "display_data"
    },
    {
     "data": {
      "text/html": [
       "1.49011611938477e-08"
      ],
      "text/latex": [
       "1.49011611938477e-08"
      ],
      "text/markdown": [
       "1.49011611938477e-08"
      ],
      "text/plain": [
       "[1] 1.490116e-08"
      ]
     },
     "metadata": {},
     "output_type": "display_data"
    },
    {
     "data": {
      "text/plain": [
       "Neighbour list object:\n",
       "Number of regions: 219 \n",
       "Number of nonzero links: 784 \n",
       "Percentage nonzero weights: 1.634661 \n",
       "Average number of links: 3.579909 \n",
       "44 regions with no links:\n",
       "136 177 178 179 180 181 182 183 184 185 186 187 188 189 190 191 192 193\n",
       "194 195 196 197 198 199 200 201 202 203 204 205 206 207 208 209 210 211\n",
       "212 213 214 215 216 217 218 219"
      ]
     },
     "metadata": {},
     "output_type": "display_data"
    }
   ],
   "source": [
    "args(poly2nb)\n",
    "# function (pl, row.names = NULL, snap = sqrt(.Machine$double.eps),\n",
    "#   queen = TRUE, useC = TRUE, foundInBox = NULL)\n",
    "sqrt(.Machine$double.eps)\n",
    "#  [1] 1.490116e-08\n",
    "nb <- poly2nb(datSf, snap = 1e-5)\n",
    "nb"
   ]
  },
  {
   "cell_type": "markdown",
   "metadata": {},
   "source": [
    "## Step 2: Assign weights to the neighbors"
   ]
  },
  {
   "cell_type": "markdown",
   "metadata": {},
   "source": [
    "Next, we need to assign weights to each neighboring polygon. In this example, each neighboring polygon will be assigned equal weight when computing the neighboring mean variable (num_of_blds) values."
   ]
  },
  {
   "cell_type": "code",
   "execution_count": 48,
   "metadata": {
    "vscode": {
     "languageId": "r"
    }
   },
   "outputs": [
    {
     "name": "stderr",
     "output_type": "stream",
     "text": [
      "ERROR while rich displaying an object: Error in print.listw(obj): regions with no neighbours found, use zero.policy=TRUE\n",
      "\n",
      "Traceback:\n",
      "1. tryCatch(withCallingHandlers({\n",
      " .     if (!mime %in% names(repr::mime2repr)) \n",
      " .         stop(\"No repr_* for mimetype \", mime, \" in repr::mime2repr\")\n",
      " .     rpr <- repr::mime2repr[[mime]](obj)\n",
      " .     if (is.null(rpr)) \n",
      " .         return(NULL)\n",
      " .     prepare_content(is.raw(rpr), rpr)\n",
      " . }, error = error_handler), error = outer_handler)\n",
      "2. tryCatchList(expr, classes, parentenv, handlers)\n",
      "3. tryCatchOne(expr, names, parentenv, handlers[[1L]])\n",
      "4. doTryCatch(return(expr), name, parentenv, handler)\n",
      "5. withCallingHandlers({\n",
      " .     if (!mime %in% names(repr::mime2repr)) \n",
      " .         stop(\"No repr_* for mimetype \", mime, \" in repr::mime2repr\")\n",
      " .     rpr <- repr::mime2repr[[mime]](obj)\n",
      " .     if (is.null(rpr)) \n",
      " .         return(NULL)\n",
      " .     prepare_content(is.raw(rpr), rpr)\n",
      " . }, error = error_handler)\n",
      "6. repr::mime2repr[[mime]](obj)\n",
      "7. repr_text.default(obj)\n",
      "8. paste(capture.output(print(obj)), collapse = \"\\n\")\n",
      "9. capture.output(print(obj))\n",
      "10. withVisible(...elt(i))\n",
      "11. print(obj)\n",
      "12. print.listw(obj)\n",
      "13. stop(\"regions with no neighbours found, use zero.policy=TRUE\")\n"
     ]
    }
   ],
   "source": [
    "lw <- nb2listw(neighbours = nb, style = \"W\", zero.policy = TRUE)\n",
    "lw"
   ]
  },
  {
   "cell_type": "code",
   "execution_count": 21,
   "metadata": {
    "vscode": {
     "languageId": "r"
    }
   },
   "outputs": [
    {
     "data": {
      "text/html": [
       "<ol>\n",
       "\t<li><style>\n",
       ".list-inline {list-style: none; margin:0; padding: 0}\n",
       ".list-inline>li {display: inline-block}\n",
       ".list-inline>li:not(:last-child)::after {content: \"\\00b7\"; padding: 0 .5ex}\n",
       "</style>\n",
       "<ol class=list-inline><li>0.333333333333333</li><li>0.333333333333333</li><li>0.333333333333333</li></ol>\n",
       "</li>\n",
       "</ol>\n"
      ],
      "text/latex": [
       "\\begin{enumerate}\n",
       "\\item \\begin{enumerate*}\n",
       "\\item 0.333333333333333\n",
       "\\item 0.333333333333333\n",
       "\\item 0.333333333333333\n",
       "\\end{enumerate*}\n",
       "\n",
       "\\end{enumerate}\n"
      ],
      "text/markdown": [
       "1. 1. 0.333333333333333\n",
       "2. 0.333333333333333\n",
       "3. 0.333333333333333\n",
       "\n",
       "\n",
       "\n",
       "\n",
       "\n"
      ],
      "text/plain": [
       "[[1]]\n",
       "[1] 0.3333333 0.3333333 0.3333333\n"
      ]
     },
     "metadata": {},
     "output_type": "display_data"
    }
   ],
   "source": [
    "lw$weights[1]"
   ]
  },
  {
   "cell_type": "markdown",
   "metadata": {},
   "source": [
    "These are the weights each neighboring income value will be multiplied by before being summed. If a polygon has 5 neighbors, each neighbor will have a weight of 1/5 or 0.2. This weight will then be used to compute the mean neighbor values as in 0.2(neighbor1) + 0.2(neighbor2) + 0.2(neighbor3) + 0.2(neighbor4) + 0.2(neighbor5). This is equivalent to summing all five income values then dividing by 5."
   ]
  },
  {
   "cell_type": "markdown",
   "metadata": {},
   "source": [
    "## Step 3 (optional): Compute the (weighted) neighbor mean variable (num_of_blds) values"
   ]
  },
  {
   "cell_type": "markdown",
   "metadata": {},
   "source": [
    "NOTE: This step does not need to be performed when running the moran or moran.test functions outlined in Steps 4 and 5. This step is only needed if you wish to generate a scatter plot between the variable (num_of_blds) values and their lagged states.\n",
    "\n",
    "Next, we’ll have R compute the average neighbor variable (num_of_blds) value for each polygon. These values are often referred to as spatially lagged values."
   ]
  },
  {
   "cell_type": "code",
   "execution_count": 22,
   "metadata": {
    "vscode": {
     "languageId": "r"
    }
   },
   "outputs": [
    {
     "name": "stderr",
     "output_type": "stream",
     "text": [
      "Warning message in lag.listw(lw, datSf$num_of_blds):\n",
      "\"NAs in lagged values\"\n"
     ]
    },
    {
     "data": {
      "text/html": [
       "<style>\n",
       ".list-inline {list-style: none; margin:0; padding: 0}\n",
       ".list-inline>li {display: inline-block}\n",
       ".list-inline>li:not(:last-child)::after {content: \"\\00b7\"; padding: 0 .5ex}\n",
       "</style>\n",
       "<ol class=list-inline><li>3720</li><li>82372</li><li>3937</li><li>31159.4</li><li>52151</li><li>22310.7142857143</li><li>1241.27272727273</li><li>5959.33333333333</li><li>5455.5</li><li>6071.16666666667</li><li>5223.57142857143</li><li>1842.06666666667</li><li>3062.5</li><li>163</li><li>94820.1111111111</li><li>158707.166666667</li><li>171953.6</li><li>171955.2</li><li>49673.3333333333</li><li>127520</li><li>138464.625</li><li>17138.8</li><li>1280.6</li><li>1282.2</li><li>16762</li><li>48949.6666666667</li><li>57440.6666666667</li><li>0</li><li>2535.66666666667</li><li>261</li><li>17430</li><li>1219</li><li>2102</li><li>5066.6</li><li>50450</li><li>8055.5</li><li>3790.71428571429</li><li>1822.6</li><li>33744.4</li><li>84.5</li><li>1963.33333333333</li><li>23.3333333333333</li><li>454.4</li><li>1525.2</li><li>537.25</li><li>1913.5</li><li>13516.8181818182</li><li>50800.6666666667</li><li>3803.5</li><li>149.214285714286</li><li>1041</li><li>235.222222222222</li><li>3803.5</li><li>1901.75</li><li>5117</li><li>0</li><li>5117</li><li>23</li><li>14662.6666666667</li><li>1963.33333333333</li><li>0</li><li>1472.5</li><li>23143.25</li><li>18754.7142857143</li><li>15027.2</li><li>18589.8</li><li>6707.83333333333</li><li>10594.8333333333</li><li>8361.625</li><li>15710.2</li><li>8817</li><li>40.25</li><li>21335.5</li><li>3886</li><li>2199</li><li>8189.5</li><li>8463.83333333333</li><li>6209.25</li><li>314.4</li><li>1891.28571428571</li><li>27522</li><li>28463.25</li><li>30806.625</li><li>1085</li><li>452.166666666667</li><li>71</li><li>4118.16666666667</li><li>4305.5</li><li>1600.75</li><li>2131.66666666667</li><li>4947.625</li><li>14194.5</li><li>335</li><li>8260.4</li><li>12677.2857142857</li><li>2.5</li><li>755</li><li>7201.6</li><li>9533.8</li><li>657.571428571428</li><li>675.4</li><li>513</li><li>264217.25</li><li>45791.25</li><li>4823.16666666667</li><li>8950.5</li><li>0</li><li>93.8571428571428</li><li>42076.75</li><li>33697</li><li>3651.4</li><li>29792.8333333333</li><li>2823.75</li><li>35407</li><li>237</li><li>1</li><li>178889.833333333</li><li>293.5</li><li>2771</li><li>1963</li><li>203216</li><li>11160</li><li>2004</li><li>9806.28571428571</li><li>65112.1666666667</li><li>4227.5</li><li>81924</li><li>79065</li><li>19024.6</li><li>8088.5</li><li>1124</li><li>182.166666666667</li><li>9418.28571428571</li><li>7332</li><li>219827.4</li><li>&lt;NA&gt;</li><li>1196</li><li>50839</li><li>35964.8</li><li>53488.3333333333</li><li>50800.6666666667</li><li>244</li><li>10057</li><li>576.75</li><li>228.25</li><li>8055.5</li><li>8227</li><li>175988.5</li><li>539.666666666667</li><li>153444.428571429</li><li>183.166666666667</li><li>527</li><li>397.333333333333</li><li>53.5</li><li>82224</li><li>8366550</li><li>2789346</li><li>1593</li><li>50850</li><li>82131.6666666667</li><li>203216</li><li>3995.25</li><li>0</li><li>250.5</li><li>787</li><li>0</li><li>35407</li><li>5959.33333333333</li><li>5455.5</li><li>6071.16666666667</li><li>4469.55555555555</li><li>4133.66666666667</li><li>4544.11111111111</li><li>5723</li><li>4459</li><li>6032.5</li><li>&lt;NA&gt;</li><li>&lt;NA&gt;</li><li>&lt;NA&gt;</li><li>&lt;NA&gt;</li><li>&lt;NA&gt;</li><li>&lt;NA&gt;</li><li>&lt;NA&gt;</li><li>&lt;NA&gt;</li><li>&lt;NA&gt;</li><li>&lt;NA&gt;</li><li>&lt;NA&gt;</li><li>&lt;NA&gt;</li><li>&lt;NA&gt;</li><li>&lt;NA&gt;</li><li>&lt;NA&gt;</li><li>&lt;NA&gt;</li><li>&lt;NA&gt;</li><li>&lt;NA&gt;</li><li>&lt;NA&gt;</li><li>&lt;NA&gt;</li><li>&lt;NA&gt;</li><li>&lt;NA&gt;</li><li>&lt;NA&gt;</li><li>&lt;NA&gt;</li><li>&lt;NA&gt;</li><li>&lt;NA&gt;</li><li>&lt;NA&gt;</li><li>&lt;NA&gt;</li><li>&lt;NA&gt;</li><li>&lt;NA&gt;</li><li>&lt;NA&gt;</li><li>&lt;NA&gt;</li><li>&lt;NA&gt;</li><li>&lt;NA&gt;</li><li>&lt;NA&gt;</li><li>&lt;NA&gt;</li><li>&lt;NA&gt;</li><li>&lt;NA&gt;</li><li>&lt;NA&gt;</li><li>&lt;NA&gt;</li><li>&lt;NA&gt;</li><li>&lt;NA&gt;</li><li>&lt;NA&gt;</li></ol>\n"
      ],
      "text/latex": [
       "\\begin{enumerate*}\n",
       "\\item 3720\n",
       "\\item 82372\n",
       "\\item 3937\n",
       "\\item 31159.4\n",
       "\\item 52151\n",
       "\\item 22310.7142857143\n",
       "\\item 1241.27272727273\n",
       "\\item 5959.33333333333\n",
       "\\item 5455.5\n",
       "\\item 6071.16666666667\n",
       "\\item 5223.57142857143\n",
       "\\item 1842.06666666667\n",
       "\\item 3062.5\n",
       "\\item 163\n",
       "\\item 94820.1111111111\n",
       "\\item 158707.166666667\n",
       "\\item 171953.6\n",
       "\\item 171955.2\n",
       "\\item 49673.3333333333\n",
       "\\item 127520\n",
       "\\item 138464.625\n",
       "\\item 17138.8\n",
       "\\item 1280.6\n",
       "\\item 1282.2\n",
       "\\item 16762\n",
       "\\item 48949.6666666667\n",
       "\\item 57440.6666666667\n",
       "\\item 0\n",
       "\\item 2535.66666666667\n",
       "\\item 261\n",
       "\\item 17430\n",
       "\\item 1219\n",
       "\\item 2102\n",
       "\\item 5066.6\n",
       "\\item 50450\n",
       "\\item 8055.5\n",
       "\\item 3790.71428571429\n",
       "\\item 1822.6\n",
       "\\item 33744.4\n",
       "\\item 84.5\n",
       "\\item 1963.33333333333\n",
       "\\item 23.3333333333333\n",
       "\\item 454.4\n",
       "\\item 1525.2\n",
       "\\item 537.25\n",
       "\\item 1913.5\n",
       "\\item 13516.8181818182\n",
       "\\item 50800.6666666667\n",
       "\\item 3803.5\n",
       "\\item 149.214285714286\n",
       "\\item 1041\n",
       "\\item 235.222222222222\n",
       "\\item 3803.5\n",
       "\\item 1901.75\n",
       "\\item 5117\n",
       "\\item 0\n",
       "\\item 5117\n",
       "\\item 23\n",
       "\\item 14662.6666666667\n",
       "\\item 1963.33333333333\n",
       "\\item 0\n",
       "\\item 1472.5\n",
       "\\item 23143.25\n",
       "\\item 18754.7142857143\n",
       "\\item 15027.2\n",
       "\\item 18589.8\n",
       "\\item 6707.83333333333\n",
       "\\item 10594.8333333333\n",
       "\\item 8361.625\n",
       "\\item 15710.2\n",
       "\\item 8817\n",
       "\\item 40.25\n",
       "\\item 21335.5\n",
       "\\item 3886\n",
       "\\item 2199\n",
       "\\item 8189.5\n",
       "\\item 8463.83333333333\n",
       "\\item 6209.25\n",
       "\\item 314.4\n",
       "\\item 1891.28571428571\n",
       "\\item 27522\n",
       "\\item 28463.25\n",
       "\\item 30806.625\n",
       "\\item 1085\n",
       "\\item 452.166666666667\n",
       "\\item 71\n",
       "\\item 4118.16666666667\n",
       "\\item 4305.5\n",
       "\\item 1600.75\n",
       "\\item 2131.66666666667\n",
       "\\item 4947.625\n",
       "\\item 14194.5\n",
       "\\item 335\n",
       "\\item 8260.4\n",
       "\\item 12677.2857142857\n",
       "\\item 2.5\n",
       "\\item 755\n",
       "\\item 7201.6\n",
       "\\item 9533.8\n",
       "\\item 657.571428571428\n",
       "\\item 675.4\n",
       "\\item 513\n",
       "\\item 264217.25\n",
       "\\item 45791.25\n",
       "\\item 4823.16666666667\n",
       "\\item 8950.5\n",
       "\\item 0\n",
       "\\item 93.8571428571428\n",
       "\\item 42076.75\n",
       "\\item 33697\n",
       "\\item 3651.4\n",
       "\\item 29792.8333333333\n",
       "\\item 2823.75\n",
       "\\item 35407\n",
       "\\item 237\n",
       "\\item 1\n",
       "\\item 178889.833333333\n",
       "\\item 293.5\n",
       "\\item 2771\n",
       "\\item 1963\n",
       "\\item 203216\n",
       "\\item 11160\n",
       "\\item 2004\n",
       "\\item 9806.28571428571\n",
       "\\item 65112.1666666667\n",
       "\\item 4227.5\n",
       "\\item 81924\n",
       "\\item 79065\n",
       "\\item 19024.6\n",
       "\\item 8088.5\n",
       "\\item 1124\n",
       "\\item 182.166666666667\n",
       "\\item 9418.28571428571\n",
       "\\item 7332\n",
       "\\item 219827.4\n",
       "\\item <NA>\n",
       "\\item 1196\n",
       "\\item 50839\n",
       "\\item 35964.8\n",
       "\\item 53488.3333333333\n",
       "\\item 50800.6666666667\n",
       "\\item 244\n",
       "\\item 10057\n",
       "\\item 576.75\n",
       "\\item 228.25\n",
       "\\item 8055.5\n",
       "\\item 8227\n",
       "\\item 175988.5\n",
       "\\item 539.666666666667\n",
       "\\item 153444.428571429\n",
       "\\item 183.166666666667\n",
       "\\item 527\n",
       "\\item 397.333333333333\n",
       "\\item 53.5\n",
       "\\item 82224\n",
       "\\item 8366550\n",
       "\\item 2789346\n",
       "\\item 1593\n",
       "\\item 50850\n",
       "\\item 82131.6666666667\n",
       "\\item 203216\n",
       "\\item 3995.25\n",
       "\\item 0\n",
       "\\item 250.5\n",
       "\\item 787\n",
       "\\item 0\n",
       "\\item 35407\n",
       "\\item 5959.33333333333\n",
       "\\item 5455.5\n",
       "\\item 6071.16666666667\n",
       "\\item 4469.55555555555\n",
       "\\item 4133.66666666667\n",
       "\\item 4544.11111111111\n",
       "\\item 5723\n",
       "\\item 4459\n",
       "\\item 6032.5\n",
       "\\item <NA>\n",
       "\\item <NA>\n",
       "\\item <NA>\n",
       "\\item <NA>\n",
       "\\item <NA>\n",
       "\\item <NA>\n",
       "\\item <NA>\n",
       "\\item <NA>\n",
       "\\item <NA>\n",
       "\\item <NA>\n",
       "\\item <NA>\n",
       "\\item <NA>\n",
       "\\item <NA>\n",
       "\\item <NA>\n",
       "\\item <NA>\n",
       "\\item <NA>\n",
       "\\item <NA>\n",
       "\\item <NA>\n",
       "\\item <NA>\n",
       "\\item <NA>\n",
       "\\item <NA>\n",
       "\\item <NA>\n",
       "\\item <NA>\n",
       "\\item <NA>\n",
       "\\item <NA>\n",
       "\\item <NA>\n",
       "\\item <NA>\n",
       "\\item <NA>\n",
       "\\item <NA>\n",
       "\\item <NA>\n",
       "\\item <NA>\n",
       "\\item <NA>\n",
       "\\item <NA>\n",
       "\\item <NA>\n",
       "\\item <NA>\n",
       "\\item <NA>\n",
       "\\item <NA>\n",
       "\\item <NA>\n",
       "\\item <NA>\n",
       "\\item <NA>\n",
       "\\item <NA>\n",
       "\\item <NA>\n",
       "\\item <NA>\n",
       "\\end{enumerate*}\n"
      ],
      "text/markdown": [
       "1. 3720\n",
       "2. 82372\n",
       "3. 3937\n",
       "4. 31159.4\n",
       "5. 52151\n",
       "6. 22310.7142857143\n",
       "7. 1241.27272727273\n",
       "8. 5959.33333333333\n",
       "9. 5455.5\n",
       "10. 6071.16666666667\n",
       "11. 5223.57142857143\n",
       "12. 1842.06666666667\n",
       "13. 3062.5\n",
       "14. 163\n",
       "15. 94820.1111111111\n",
       "16. 158707.166666667\n",
       "17. 171953.6\n",
       "18. 171955.2\n",
       "19. 49673.3333333333\n",
       "20. 127520\n",
       "21. 138464.625\n",
       "22. 17138.8\n",
       "23. 1280.6\n",
       "24. 1282.2\n",
       "25. 16762\n",
       "26. 48949.6666666667\n",
       "27. 57440.6666666667\n",
       "28. 0\n",
       "29. 2535.66666666667\n",
       "30. 261\n",
       "31. 17430\n",
       "32. 1219\n",
       "33. 2102\n",
       "34. 5066.6\n",
       "35. 50450\n",
       "36. 8055.5\n",
       "37. 3790.71428571429\n",
       "38. 1822.6\n",
       "39. 33744.4\n",
       "40. 84.5\n",
       "41. 1963.33333333333\n",
       "42. 23.3333333333333\n",
       "43. 454.4\n",
       "44. 1525.2\n",
       "45. 537.25\n",
       "46. 1913.5\n",
       "47. 13516.8181818182\n",
       "48. 50800.6666666667\n",
       "49. 3803.5\n",
       "50. 149.214285714286\n",
       "51. 1041\n",
       "52. 235.222222222222\n",
       "53. 3803.5\n",
       "54. 1901.75\n",
       "55. 5117\n",
       "56. 0\n",
       "57. 5117\n",
       "58. 23\n",
       "59. 14662.6666666667\n",
       "60. 1963.33333333333\n",
       "61. 0\n",
       "62. 1472.5\n",
       "63. 23143.25\n",
       "64. 18754.7142857143\n",
       "65. 15027.2\n",
       "66. 18589.8\n",
       "67. 6707.83333333333\n",
       "68. 10594.8333333333\n",
       "69. 8361.625\n",
       "70. 15710.2\n",
       "71. 8817\n",
       "72. 40.25\n",
       "73. 21335.5\n",
       "74. 3886\n",
       "75. 2199\n",
       "76. 8189.5\n",
       "77. 8463.83333333333\n",
       "78. 6209.25\n",
       "79. 314.4\n",
       "80. 1891.28571428571\n",
       "81. 27522\n",
       "82. 28463.25\n",
       "83. 30806.625\n",
       "84. 1085\n",
       "85. 452.166666666667\n",
       "86. 71\n",
       "87. 4118.16666666667\n",
       "88. 4305.5\n",
       "89. 1600.75\n",
       "90. 2131.66666666667\n",
       "91. 4947.625\n",
       "92. 14194.5\n",
       "93. 335\n",
       "94. 8260.4\n",
       "95. 12677.2857142857\n",
       "96. 2.5\n",
       "97. 755\n",
       "98. 7201.6\n",
       "99. 9533.8\n",
       "100. 657.571428571428\n",
       "101. 675.4\n",
       "102. 513\n",
       "103. 264217.25\n",
       "104. 45791.25\n",
       "105. 4823.16666666667\n",
       "106. 8950.5\n",
       "107. 0\n",
       "108. 93.8571428571428\n",
       "109. 42076.75\n",
       "110. 33697\n",
       "111. 3651.4\n",
       "112. 29792.8333333333\n",
       "113. 2823.75\n",
       "114. 35407\n",
       "115. 237\n",
       "116. 1\n",
       "117. 178889.833333333\n",
       "118. 293.5\n",
       "119. 2771\n",
       "120. 1963\n",
       "121. 203216\n",
       "122. 11160\n",
       "123. 2004\n",
       "124. 9806.28571428571\n",
       "125. 65112.1666666667\n",
       "126. 4227.5\n",
       "127. 81924\n",
       "128. 79065\n",
       "129. 19024.6\n",
       "130. 8088.5\n",
       "131. 1124\n",
       "132. 182.166666666667\n",
       "133. 9418.28571428571\n",
       "134. 7332\n",
       "135. 219827.4\n",
       "136. &lt;NA&gt;\n",
       "137. 1196\n",
       "138. 50839\n",
       "139. 35964.8\n",
       "140. 53488.3333333333\n",
       "141. 50800.6666666667\n",
       "142. 244\n",
       "143. 10057\n",
       "144. 576.75\n",
       "145. 228.25\n",
       "146. 8055.5\n",
       "147. 8227\n",
       "148. 175988.5\n",
       "149. 539.666666666667\n",
       "150. 153444.428571429\n",
       "151. 183.166666666667\n",
       "152. 527\n",
       "153. 397.333333333333\n",
       "154. 53.5\n",
       "155. 82224\n",
       "156. 8366550\n",
       "157. 2789346\n",
       "158. 1593\n",
       "159. 50850\n",
       "160. 82131.6666666667\n",
       "161. 203216\n",
       "162. 3995.25\n",
       "163. 0\n",
       "164. 250.5\n",
       "165. 787\n",
       "166. 0\n",
       "167. 35407\n",
       "168. 5959.33333333333\n",
       "169. 5455.5\n",
       "170. 6071.16666666667\n",
       "171. 4469.55555555555\n",
       "172. 4133.66666666667\n",
       "173. 4544.11111111111\n",
       "174. 5723\n",
       "175. 4459\n",
       "176. 6032.5\n",
       "177. &lt;NA&gt;\n",
       "178. &lt;NA&gt;\n",
       "179. &lt;NA&gt;\n",
       "180. &lt;NA&gt;\n",
       "181. &lt;NA&gt;\n",
       "182. &lt;NA&gt;\n",
       "183. &lt;NA&gt;\n",
       "184. &lt;NA&gt;\n",
       "185. &lt;NA&gt;\n",
       "186. &lt;NA&gt;\n",
       "187. &lt;NA&gt;\n",
       "188. &lt;NA&gt;\n",
       "189. &lt;NA&gt;\n",
       "190. &lt;NA&gt;\n",
       "191. &lt;NA&gt;\n",
       "192. &lt;NA&gt;\n",
       "193. &lt;NA&gt;\n",
       "194. &lt;NA&gt;\n",
       "195. &lt;NA&gt;\n",
       "196. &lt;NA&gt;\n",
       "197. &lt;NA&gt;\n",
       "198. &lt;NA&gt;\n",
       "199. &lt;NA&gt;\n",
       "200. &lt;NA&gt;\n",
       "201. &lt;NA&gt;\n",
       "202. &lt;NA&gt;\n",
       "203. &lt;NA&gt;\n",
       "204. &lt;NA&gt;\n",
       "205. &lt;NA&gt;\n",
       "206. &lt;NA&gt;\n",
       "207. &lt;NA&gt;\n",
       "208. &lt;NA&gt;\n",
       "209. &lt;NA&gt;\n",
       "210. &lt;NA&gt;\n",
       "211. &lt;NA&gt;\n",
       "212. &lt;NA&gt;\n",
       "213. &lt;NA&gt;\n",
       "214. &lt;NA&gt;\n",
       "215. &lt;NA&gt;\n",
       "216. &lt;NA&gt;\n",
       "217. &lt;NA&gt;\n",
       "218. &lt;NA&gt;\n",
       "219. &lt;NA&gt;\n",
       "\n",
       "\n"
      ],
      "text/plain": [
       "  [1] 3.720000e+03 8.237200e+04 3.937000e+03 3.115940e+04 5.215100e+04\n",
       "  [6] 2.231071e+04 1.241273e+03 5.959333e+03 5.455500e+03 6.071167e+03\n",
       " [11] 5.223571e+03 1.842067e+03 3.062500e+03 1.630000e+02 9.482011e+04\n",
       " [16] 1.587072e+05 1.719536e+05 1.719552e+05 4.967333e+04 1.275200e+05\n",
       " [21] 1.384646e+05 1.713880e+04 1.280600e+03 1.282200e+03 1.676200e+04\n",
       " [26] 4.894967e+04 5.744067e+04 0.000000e+00 2.535667e+03 2.610000e+02\n",
       " [31] 1.743000e+04 1.219000e+03 2.102000e+03 5.066600e+03 5.045000e+04\n",
       " [36] 8.055500e+03 3.790714e+03 1.822600e+03 3.374440e+04 8.450000e+01\n",
       " [41] 1.963333e+03 2.333333e+01 4.544000e+02 1.525200e+03 5.372500e+02\n",
       " [46] 1.913500e+03 1.351682e+04 5.080067e+04 3.803500e+03 1.492143e+02\n",
       " [51] 1.041000e+03 2.352222e+02 3.803500e+03 1.901750e+03 5.117000e+03\n",
       " [56] 0.000000e+00 5.117000e+03 2.300000e+01 1.466267e+04 1.963333e+03\n",
       " [61] 0.000000e+00 1.472500e+03 2.314325e+04 1.875471e+04 1.502720e+04\n",
       " [66] 1.858980e+04 6.707833e+03 1.059483e+04 8.361625e+03 1.571020e+04\n",
       " [71] 8.817000e+03 4.025000e+01 2.133550e+04 3.886000e+03 2.199000e+03\n",
       " [76] 8.189500e+03 8.463833e+03 6.209250e+03 3.144000e+02 1.891286e+03\n",
       " [81] 2.752200e+04 2.846325e+04 3.080663e+04 1.085000e+03 4.521667e+02\n",
       " [86] 7.100000e+01 4.118167e+03 4.305500e+03 1.600750e+03 2.131667e+03\n",
       " [91] 4.947625e+03 1.419450e+04 3.350000e+02 8.260400e+03 1.267729e+04\n",
       " [96] 2.500000e+00 7.550000e+02 7.201600e+03 9.533800e+03 6.575714e+02\n",
       "[101] 6.754000e+02 5.130000e+02 2.642173e+05 4.579125e+04 4.823167e+03\n",
       "[106] 8.950500e+03 0.000000e+00 9.385714e+01 4.207675e+04 3.369700e+04\n",
       "[111] 3.651400e+03 2.979283e+04 2.823750e+03 3.540700e+04 2.370000e+02\n",
       "[116] 1.000000e+00 1.788898e+05 2.935000e+02 2.771000e+03 1.963000e+03\n",
       "[121] 2.032160e+05 1.116000e+04 2.004000e+03 9.806286e+03 6.511217e+04\n",
       "[126] 4.227500e+03 8.192400e+04 7.906500e+04 1.902460e+04 8.088500e+03\n",
       "[131] 1.124000e+03 1.821667e+02 9.418286e+03 7.332000e+03 2.198274e+05\n",
       "[136]           NA 1.196000e+03 5.083900e+04 3.596480e+04 5.348833e+04\n",
       "[141] 5.080067e+04 2.440000e+02 1.005700e+04 5.767500e+02 2.282500e+02\n",
       "[146] 8.055500e+03 8.227000e+03 1.759885e+05 5.396667e+02 1.534444e+05\n",
       "[151] 1.831667e+02 5.270000e+02 3.973333e+02 5.350000e+01 8.222400e+04\n",
       "[156] 8.366550e+06 2.789346e+06 1.593000e+03 5.085000e+04 8.213167e+04\n",
       "[161] 2.032160e+05 3.995250e+03 0.000000e+00 2.505000e+02 7.870000e+02\n",
       "[166] 0.000000e+00 3.540700e+04 5.959333e+03 5.455500e+03 6.071167e+03\n",
       "[171] 4.469556e+03 4.133667e+03 4.544111e+03 5.723000e+03 4.459000e+03\n",
       "[176] 6.032500e+03           NA           NA           NA           NA\n",
       "[181]           NA           NA           NA           NA           NA\n",
       "[186]           NA           NA           NA           NA           NA\n",
       "[191]           NA           NA           NA           NA           NA\n",
       "[196]           NA           NA           NA           NA           NA\n",
       "[201]           NA           NA           NA           NA           NA\n",
       "[206]           NA           NA           NA           NA           NA\n",
       "[211]           NA           NA           NA           NA           NA\n",
       "[216]           NA           NA           NA           NA"
      ]
     },
     "metadata": {},
     "output_type": "display_data"
    }
   ],
   "source": [
    "nob.lag <- lag.listw(lw, datSf$num_of_blds)\n",
    "nob.lag"
   ]
  },
  {
   "cell_type": "markdown",
   "metadata": {},
   "source": [
    "You can plot the relationship between income and its spatially lagged counterpart as follows. The fitted blue line added to the plot is the result of an OLS regression model."
   ]
  },
  {
   "cell_type": "code",
   "execution_count": 23,
   "metadata": {
    "vscode": {
     "languageId": "r"
    }
   },
   "outputs": [
    {
     "data": {
      "image/png": "[encoded data removed]",
      "text/plain": [
       "plot without title"
      ]
     },
     "metadata": {
      "image/png": {
       "height": 420,
       "width": 420
      }
     },
     "output_type": "display_data"
    }
   ],
   "source": [
    "plot(nob.lag ~ datSf$num_of_blds, pch = 16, asp = 1)\n",
    "M1 <- lm(nob.lag ~ datSf$num_of_blds)\n",
    "abline(M1, col = \"blue\")"
   ]
  },
  {
   "cell_type": "code",
   "execution_count": 24,
   "metadata": {
    "vscode": {
     "languageId": "r"
    }
   },
   "outputs": [
    {
     "data": {
      "text/html": [
       "<strong>datSf$num_of_blds:</strong> 0.0155549960056377"
      ],
      "text/latex": [
       "\\textbf{datSf\\textbackslash{}\\$num\\textbackslash{}\\_of\\textbackslash{}\\_blds:} 0.0155549960056377"
      ],
      "text/markdown": [
       "**datSf$num_of_blds:** 0.0155549960056377"
      ],
      "text/plain": [
       "datSf$num_of_blds \n",
       "         0.015555 "
      ]
     },
     "metadata": {},
     "output_type": "display_data"
    }
   ],
   "source": [
    "coef(M1)[2]"
   ]
  },
  {
   "cell_type": "markdown",
   "metadata": {},
   "source": [
    "NOTE:\n",
    "The moran’s I coefficient is 0.68. The positive (upward) slope suggests that as the income value of a said polygon increases, so does those of its neighboring polygons. If the slope were negative (i.e. sloping downward), this would suggest a negative relationship whereby increasing values in a said polygon would be surrounded by polygons with decreasing income values."
   ]
  },
  {
   "cell_type": "markdown",
   "metadata": {},
   "source": [
    "## Step 4: Computing the Moran’s I statistic"
   ]
  },
  {
   "cell_type": "markdown",
   "metadata": {},
   "source": [
    "The Moran’s I statistic can be computed using the moran function."
   ]
  },
  {
   "cell_type": "code",
   "execution_count": 25,
   "metadata": {
    "vscode": {
     "languageId": "r"
    }
   },
   "outputs": [
    {
     "name": "stderr",
     "output_type": "stream",
     "text": [
      "Warning message in lag.listw(listw, z, zero.policy = zero.policy, NAOK = NAOK):\n",
      "\"NAs in lagged values\"\n"
     ]
    },
    {
     "data": {
      "text/html": [
       "<strong>$I</strong> = &lt;NA&gt;"
      ],
      "text/latex": [
       "\\textbf{\\$I} = <NA>"
      ],
      "text/markdown": [
       "**$I** = &lt;NA&gt;"
      ],
      "text/plain": [
       "$I\n",
       "[1] NA\n"
      ]
     },
     "metadata": {},
     "output_type": "display_data"
    }
   ],
   "source": [
    "I <- moran(datSf$num_of_blds, lw, length(nb), Szero(lw))[1]\n",
    "I"
   ]
  },
  {
   "cell_type": "markdown",
   "metadata": {},
   "source": [
    "Recall that the Moran’s I value is the slope of the line that best fits the relationship between neighboring income values and each polygon’s income in the dataset."
   ]
  },
  {
   "cell_type": "markdown",
   "metadata": {},
   "source": [
    "## Step 5: Performing a hypothesis test"
   ]
  },
  {
   "cell_type": "markdown",
   "metadata": {},
   "source": [
    "The hypothesis we are testing states that “the income values are randomly distributed across counties following a completely random process”. There are two methods to testing this hypothesis: an analytical method and a Monte Carlo method. We’ll explore both approaches in the following examples.\n",
    "\n",
    "Analytical method\n",
    "\n",
    "To run the Moran’s I analysis using the analytical method, use the moran.test function."
   ]
  },
  {
   "cell_type": "code",
   "execution_count": 26,
   "metadata": {
    "vscode": {
     "languageId": "r"
    }
   },
   "outputs": [
    {
     "ename": "ERROR",
     "evalue": "Error in spweights.constants(listw, zero.policy = zero.policy, adjust.n = adjust.n): regions with no neighbours found\n",
     "output_type": "error",
     "traceback": [
      "Error in spweights.constants(listw, zero.policy = zero.policy, adjust.n = adjust.n): regions with no neighbours found\nTraceback:\n",
      "1. moran.test(datSf$num_of_blds, lw, alternative = \"greater\")",
      "2. spweights.constants(listw, zero.policy = zero.policy, adjust.n = adjust.n)",
      "3. stop(\"regions with no neighbours found\")"
     ]
    }
   ],
   "source": [
    "moran.test(datSf$num_of_blds, lw, alternative = \"greater\")"
   ]
  },
  {
   "cell_type": "markdown",
   "metadata": {},
   "source": [
    "The Moran’s I statistic is 0.683 (same value that was computed using the moran function, as expected). The p-value is very small. Usually, when the p-value is very small it’s common practice to report it as < 0.001.\n",
    "\n",
    "Note that ArcMap adopts this analytical approach to its hypothesis test however, it implements a two-sided test as opposed to the one-sided test adopted in the above example (i.e. alternative = \"greater\"). A two-sided p-value is nothing more than twice the one-sided p-value. Unfortunately, ArcMap does not seem to make this important distinction in any of its documentation. This distinction can have important ramifications as shown in the next example (Florida crime data). Fortunately, the income data is so strongly clustered that both a one-sided and two-sided test produce the same outcome (a p-value close to 0).\n",
    "\n",
    "Monte Carlo method\n",
    "\n",
    "The analytical approach to the Moran’s I analysis benefits from being fast. But it may be sensitive to irregularly distributed polygons. A safer approach to hypothesis testing is to run an MC simulation using the moran.mc() function. The moran.mc function takes an extra argument n, the number of simulations."
   ]
  },
  {
   "cell_type": "code",
   "execution_count": 27,
   "metadata": {
    "vscode": {
     "languageId": "r"
    }
   },
   "outputs": [
    {
     "ename": "ERROR",
     "evalue": "Error in moran.mc(datSf$num_of_blds, lw, nsim = 999, alternative = \"greater\"): regions with no neighbours found\n",
     "output_type": "error",
     "traceback": [
      "Error in moran.mc(datSf$num_of_blds, lw, nsim = 999, alternative = \"greater\"): regions with no neighbours found\nTraceback:\n",
      "1. moran.mc(datSf$num_of_blds, lw, nsim = 999, alternative = \"greater\")",
      "2. stop(\"regions with no neighbours found\")"
     ]
    }
   ],
   "source": [
    "MC <- moran.mc(datSf$num_of_blds, lw, nsim = 999, alternative = \"greater\")\n",
    "\n",
    "# View results (including p-value)\n",
    "MC"
   ]
  },
  {
   "cell_type": "markdown",
   "metadata": {},
   "source": [
    "The MC simulation generates a very small p-value, 0.001. This is not surprising given that the income values are strongly clustered. We can see the results graphically by passing the Moran’s I model to the plot function:"
   ]
  },
  {
   "cell_type": "code",
   "execution_count": 28,
   "metadata": {
    "vscode": {
     "languageId": "r"
    }
   },
   "outputs": [
    {
     "ename": "ERROR",
     "evalue": "Error in h(simpleError(msg, call)): error in evaluating the argument 'x' in selecting a method for function 'plot': object 'MC' not found\n",
     "output_type": "error",
     "traceback": [
      "Error in h(simpleError(msg, call)): error in evaluating the argument 'x' in selecting a method for function 'plot': object 'MC' not found\nTraceback:\n",
      "1. plot(MC)",
      "2. .handleSimpleError(function (cond) \n . .Internal(C_tryCatchHelper(addr, 1L, cond)), \"object 'MC' not found\", \n .     base::quote(eval(expr, envir, enclos)))",
      "3. h(simpleError(msg, call))"
     ]
    }
   ],
   "source": [
    "# Plot the Null distribution (note that this is a density plot instead of a histogram)\n",
    "plot(MC)"
   ]
  },
  {
   "cell_type": "markdown",
   "metadata": {},
   "source": [
    "The curve shows the distribution of Moran I values we could expect had the incomes been randomly distributed across the counties. Note that our observed statistic, 0.683, falls way to the right of the distribution suggesting that the income values are clustered (a positive Moran’s I value suggests clustering whereas a negative Moran’s I value suggests dispersion).\n",
    "\n",
    "Now, had the Moran’s I statistic been negative (suggesting a dispersed pattern), you would probably want to set the alternative argument to less thus giving you the fraction of simulated I values more dispersed than your observed I value.\n",
    "\n",
    "A visual exercise that you can perform to assess how “typical” or “atypical” your pattern may be relative to a randomly distributed pattern is to plot your observed pattern alongside a few simulated patterns generated under the null hypothesis."
   ]
  },
  {
   "cell_type": "markdown",
   "metadata": {},
   "source": [
    "Can you tell the difference between our observed income distribution and those generated from a completely random process? The map on the left is our observed distribution. The three maps on the right are realizations of a completely random process."
   ]
  },
  {
   "cell_type": "markdown",
   "metadata": {},
   "source": [
    "## Another example"
   ]
  },
  {
   "cell_type": "code",
   "execution_count": 1,
   "metadata": {
    "vscode": {
     "languageId": "r"
    }
   },
   "outputs": [
    {
     "ename": "ERROR",
     "evalue": "Error in poly2nb(s, queen = TRUE): could not find function \"poly2nb\"\n",
     "output_type": "error",
     "traceback": [
      "Error in poly2nb(s, queen = TRUE): could not find function \"poly2nb\"\nTraceback:\n"
     ]
    }
   ],
   "source": [
    "set.seed(2354)\n",
    "# Load the shapefile\n",
    "s <- readRDS(url(\"https://github.com/mgimond/Data/raw/gh-pages/Exercises/fl_hr80.rds\"))\n",
    "\n",
    "# Define the neighbors (use queen case)\n",
    "nb <- poly2nb(s, queen = TRUE)\n",
    "\n",
    "# Compute the neighboring average homicide rates\n",
    "lw <- nb2listw(nb, style = \"W\", zero.policy = TRUE)\n",
    "\n",
    "# Run the MC simulation version of the Moran's I test\n",
    "M1 <- moran.mc(s$HR80, lw, nsim = 9999, alternative = \"greater\")\n",
    "\n",
    "# Plot the results\n",
    "plot(M1)\n",
    "\n",
    "# Display the resulting statistics\n",
    "M1"
   ]
  },
  {
   "cell_type": "markdown",
   "metadata": {},
   "source": [
    "### From Sven"
   ]
  },
  {
   "cell_type": "code",
   "execution_count": 26,
   "metadata": {
    "vscode": {
     "languageId": "r"
    }
   },
   "outputs": [],
   "source": [
    "# Create a neighbor list based on polygon relationships\n",
    "polynb <- poly2nb(datSf)"
   ]
  },
  {
   "cell_type": "code",
   "execution_count": 27,
   "metadata": {
    "vscode": {
     "languageId": "r"
    }
   },
   "outputs": [
    {
     "data": {
      "text/plain": [
       "Neighbour list object:\n",
       "Number of regions: 219 \n",
       "Number of nonzero links: 784 \n",
       "Percentage nonzero weights: 1.634661 \n",
       "Average number of links: 3.579909 \n",
       "44 regions with no links:\n",
       "136 177 178 179 180 181 182 183 184 185 186 187 188 189 190 191 192 193\n",
       "194 195 196 197 198 199 200 201 202 203 204 205 206 207 208 209 210 211\n",
       "212 213 214 215 216 217 218 219"
      ]
     },
     "metadata": {},
     "output_type": "display_data"
    }
   ],
   "source": [
    "polynb"
   ]
  },
  {
   "cell_type": "code",
   "execution_count": 31,
   "metadata": {
    "vscode": {
     "languageId": "r"
    }
   },
   "outputs": [
    {
     "name": "stderr",
     "output_type": "stream",
     "text": [
      "Warning message:\n",
      "\"st_point_on_surface assumes attributes are constant over geometries\"\n"
     ]
    }
   ],
   "source": [
    "# Generate representative points for the polygons\n",
    "podatSf <- st_point_on_surface(datSf)"
   ]
  },
  {
   "cell_type": "code",
   "execution_count": 28,
   "metadata": {
    "vscode": {
     "languageId": "r"
    }
   },
   "outputs": [
    {
     "name": "stderr",
     "output_type": "stream",
     "text": [
      "Warning message:\n",
      "\"st_centroid assumes attributes are constant over geometries\"\n"
     ]
    }
   ],
   "source": [
    "podatSf <- st_centroid(datSf, of_largest_polygon = TRUE)"
   ]
  },
  {
   "cell_type": "code",
   "execution_count": 35,
   "metadata": {
    "vscode": {
     "languageId": "r"
    }
   },
   "outputs": [
    {
     "name": "stdout",
     "output_type": "stream",
     "text": [
      "integer(0)\n"
     ]
    }
   ],
   "source": [
    "# Check lengths of neighbor lists\n",
    "empty_neighbors <- which(sapply(distnb$nn, length) == 0)\n",
    "print(empty_neighbors)"
   ]
  },
  {
   "cell_type": "code",
   "execution_count": 36,
   "metadata": {
    "vscode": {
     "languageId": "r"
    }
   },
   "outputs": [],
   "source": [
    "# Remove isolated points from your data\n",
    "podatSf_edited <- podatSf[-empty_neighbors, ]"
   ]
  },
  {
   "cell_type": "code",
   "execution_count": 29,
   "metadata": {
    "vscode": {
     "languageId": "r"
    }
   },
   "outputs": [
    {
     "name": "stderr",
     "output_type": "stream",
     "text": [
      "ERROR while rich displaying an object: Error in loadNamespace(x): there is no package called 'geojsonio'\n",
      "\n",
      "Traceback:\n",
      "1. tryCatch(withCallingHandlers({\n",
      " .     if (!mime %in% names(repr::mime2repr)) \n",
      " .         stop(\"No repr_* for mimetype \", mime, \" in repr::mime2repr\")\n",
      " .     rpr <- repr::mime2repr[[mime]](obj)\n",
      " .     if (is.null(rpr)) \n",
      " .         return(NULL)\n",
      " .     prepare_content(is.raw(rpr), rpr)\n",
      " . }, error = error_handler), error = outer_handler)\n",
      "2. tryCatchList(expr, classes, parentenv, handlers)\n",
      "3. tryCatchOne(expr, names, parentenv, handlers[[1L]])\n",
      "4. doTryCatch(return(expr), name, parentenv, handler)\n",
      "5. withCallingHandlers({\n",
      " .     if (!mime %in% names(repr::mime2repr)) \n",
      " .         stop(\"No repr_* for mimetype \", mime, \" in repr::mime2repr\")\n",
      " .     rpr <- repr::mime2repr[[mime]](obj)\n",
      " .     if (is.null(rpr)) \n",
      " .         return(NULL)\n",
      " .     prepare_content(is.raw(rpr), rpr)\n",
      " . }, error = error_handler)\n",
      "6. repr::mime2repr[[mime]](obj)\n",
      "7. repr_geojson.sf(obj)\n",
      "8. repr_geojson(geojsonio::geojson_list(obj), ...)\n",
      "9. loadNamespace(x)\n",
      "10. withRestarts(stop(cond), retry_loadNamespace = function() NULL)\n",
      "11. withOneRestart(expr, restarts[[1L]])\n",
      "12. doWithOneRestart(return(expr), restart)\n"
     ]
    },
    {
     "data": {
      "text/html": [
       "<table class=\"dataframe\">\n",
       "<caption>A sf: 6 × 16</caption>\n",
       "<thead>\n",
       "\t<tr><th></th><th scope=col>NAME_EN</th><th scope=col>ADM0_ISO</th><th scope=col>name_en</th><th scope=col>adm0_iso</th><th scope=col>pop_est</th><th scope=col>gdp_md</th><th scope=col>num_of_blds</th><th scope=col>pop_2021</th><th scope=col>hdi_2021</th><th scope=col>deaths_2021</th><th scope=col>num_of_blds_norm</th><th scope=col>gdp_md_norm</th><th scope=col>pop_2021_norm</th><th scope=col>hdi_2021_norm</th><th scope=col>deaths_2021_norm</th><th scope=col>geometry</th></tr>\n",
       "\t<tr><th></th><th scope=col>&lt;chr&gt;</th><th scope=col>&lt;chr&gt;</th><th scope=col>&lt;chr&gt;</th><th scope=col>&lt;chr&gt;</th><th scope=col>&lt;dbl&gt;</th><th scope=col>&lt;dbl&gt;</th><th scope=col>&lt;dbl&gt;</th><th scope=col>&lt;dbl&gt;</th><th scope=col>&lt;dbl&gt;</th><th scope=col>&lt;dbl&gt;</th><th scope=col>&lt;dbl&gt;</th><th scope=col>&lt;dbl&gt;</th><th scope=col>&lt;dbl&gt;</th><th scope=col>&lt;dbl&gt;</th><th scope=col>&lt;dbl&gt;</th><th scope=col>&lt;POINT [m]&gt;</th></tr>\n",
       "</thead>\n",
       "<tbody>\n",
       "\t<tr><th scope=row>1</th><td>Indonesia</td><td>IDN</td><td>Indonesia</td><td>IDN</td><td>541251136</td><td>2238380</td><td>203216</td><td>273753191</td><td>0.705</td><td>696</td><td>2.428910e-02</td><td>0.051950089</td><td>0.193820385</td><td>0.5723794</td><td>0.179150579</td><td>POINT (10920200 -24589.9)</td></tr>\n",
       "\t<tr><th scope=row>2</th><td>Malaysia </td><td>MYS</td><td>Malaysia </td><td>MYS</td><td> 63899554</td><td> 729362</td><td> 11160</td><td> 33573874</td><td>0.803</td><td>117</td><td>1.333883e-03</td><td>0.016926138</td><td>0.023763726</td><td>0.7354409</td><td>0.030115830</td><td>POINT (10977511 463859.2)</td></tr>\n",
       "\t<tr><th scope=row>3</th><td>Chile    </td><td>CHL</td><td>Chile    </td><td>CHL</td><td> 37904076</td><td> 564636</td><td>  1361</td><td> 19493184</td><td>0.855</td><td>  0</td><td>1.626716e-04</td><td>0.013102886</td><td>0.013794029</td><td>0.8219634</td><td>0.000000000</td><td>POINT (-6194145 -4210590)</td></tr>\n",
       "\t<tr><th scope=row>4</th><td>Bolivia  </td><td>BOL</td><td>Bolivia  </td><td>BOL</td><td> 23026200</td><td>  81790</td><td>  8063</td><td> 12079472</td><td>0.692</td><td>127</td><td>9.637186e-04</td><td>0.001896145</td><td>0.008544821</td><td>0.5507488</td><td>0.032689833</td><td>POINT (-6070145 -2124291)</td></tr>\n",
       "\t<tr><th scope=row>5</th><td>Peru     </td><td>PER</td><td>Peru     </td><td>PER</td><td> 65020906</td><td> 453696</td><td>   128</td><td> 33715471</td><td>0.762</td><td>103</td><td>1.529902e-05</td><td>0.010527995</td><td>0.023863983</td><td>0.6672213</td><td>0.026512227</td><td>POINT (-7075507 -1164978)</td></tr>\n",
       "\t<tr><th scope=row>6</th><td>Argentina</td><td>ARG</td><td>Argentina</td><td>ARG</td><td> 89877424</td><td> 890890</td><td>  7557</td><td> 45808747</td><td>0.842</td><td> 15</td><td>9.032397e-04</td><td>0.020675165</td><td>0.032426510</td><td>0.8003328</td><td>0.003861004</td><td>POINT (-5667208 -4272191)</td></tr>\n",
       "</tbody>\n",
       "</table>\n"
      ],
      "text/latex": [
       "A sf: 6 × 16\n",
       "\\begin{tabular}{r|llllllllllllllll}\n",
       "  & NAME\\_EN & ADM0\\_ISO & name\\_en & adm0\\_iso & pop\\_est & gdp\\_md & num\\_of\\_blds & pop\\_2021 & hdi\\_2021 & deaths\\_2021 & num\\_of\\_blds\\_norm & gdp\\_md\\_norm & pop\\_2021\\_norm & hdi\\_2021\\_norm & deaths\\_2021\\_norm & geometry\\\\\n",
       "  & <chr> & <chr> & <chr> & <chr> & <dbl> & <dbl> & <dbl> & <dbl> & <dbl> & <dbl> & <dbl> & <dbl> & <dbl> & <dbl> & <dbl> & <POINT {[}m{]}>\\\\\n",
       "\\hline\n",
       "\t1 & Indonesia & IDN & Indonesia & IDN & 541251136 & 2238380 & 203216 & 273753191 & 0.705 & 696 & 2.428910e-02 & 0.051950089 & 0.193820385 & 0.5723794 & 0.179150579 & POINT (10920200 -24589.9)\\\\\n",
       "\t2 & Malaysia  & MYS & Malaysia  & MYS &  63899554 &  729362 &  11160 &  33573874 & 0.803 & 117 & 1.333883e-03 & 0.016926138 & 0.023763726 & 0.7354409 & 0.030115830 & POINT (10977511 463859.2)\\\\\n",
       "\t3 & Chile     & CHL & Chile     & CHL &  37904076 &  564636 &   1361 &  19493184 & 0.855 &   0 & 1.626716e-04 & 0.013102886 & 0.013794029 & 0.8219634 & 0.000000000 & POINT (-6194145 -4210590)\\\\\n",
       "\t4 & Bolivia   & BOL & Bolivia   & BOL &  23026200 &   81790 &   8063 &  12079472 & 0.692 & 127 & 9.637186e-04 & 0.001896145 & 0.008544821 & 0.5507488 & 0.032689833 & POINT (-6070145 -2124291)\\\\\n",
       "\t5 & Peru      & PER & Peru      & PER &  65020906 &  453696 &    128 &  33715471 & 0.762 & 103 & 1.529902e-05 & 0.010527995 & 0.023863983 & 0.6672213 & 0.026512227 & POINT (-7075507 -1164978)\\\\\n",
       "\t6 & Argentina & ARG & Argentina & ARG &  89877424 &  890890 &   7557 &  45808747 & 0.842 &  15 & 9.032397e-04 & 0.020675165 & 0.032426510 & 0.8003328 & 0.003861004 & POINT (-5667208 -4272191)\\\\\n",
       "\\end{tabular}\n"
      ],
      "text/markdown": [
       "\n",
       "A sf: 6 × 16\n",
       "\n",
       "| <!--/--> | NAME_EN &lt;chr&gt; | ADM0_ISO &lt;chr&gt; | name_en &lt;chr&gt; | adm0_iso &lt;chr&gt; | pop_est &lt;dbl&gt; | gdp_md &lt;dbl&gt; | num_of_blds &lt;dbl&gt; | pop_2021 &lt;dbl&gt; | hdi_2021 &lt;dbl&gt; | deaths_2021 &lt;dbl&gt; | num_of_blds_norm &lt;dbl&gt; | gdp_md_norm &lt;dbl&gt; | pop_2021_norm &lt;dbl&gt; | hdi_2021_norm &lt;dbl&gt; | deaths_2021_norm &lt;dbl&gt; | geometry &lt;POINT [m]&gt; |\n",
       "|---|---|---|---|---|---|---|---|---|---|---|---|---|---|---|---|---|\n",
       "| 1 | Indonesia | IDN | Indonesia | IDN | 541251136 | 2238380 | 203216 | 273753191 | 0.705 | 696 | 2.428910e-02 | 0.051950089 | 0.193820385 | 0.5723794 | 0.179150579 | POINT (10920200 -24589.9) |\n",
       "| 2 | Malaysia  | MYS | Malaysia  | MYS |  63899554 |  729362 |  11160 |  33573874 | 0.803 | 117 | 1.333883e-03 | 0.016926138 | 0.023763726 | 0.7354409 | 0.030115830 | POINT (10977511 463859.2) |\n",
       "| 3 | Chile     | CHL | Chile     | CHL |  37904076 |  564636 |   1361 |  19493184 | 0.855 |   0 | 1.626716e-04 | 0.013102886 | 0.013794029 | 0.8219634 | 0.000000000 | POINT (-6194145 -4210590) |\n",
       "| 4 | Bolivia   | BOL | Bolivia   | BOL |  23026200 |   81790 |   8063 |  12079472 | 0.692 | 127 | 9.637186e-04 | 0.001896145 | 0.008544821 | 0.5507488 | 0.032689833 | POINT (-6070145 -2124291) |\n",
       "| 5 | Peru      | PER | Peru      | PER |  65020906 |  453696 |    128 |  33715471 | 0.762 | 103 | 1.529902e-05 | 0.010527995 | 0.023863983 | 0.6672213 | 0.026512227 | POINT (-7075507 -1164978) |\n",
       "| 6 | Argentina | ARG | Argentina | ARG |  89877424 |  890890 |   7557 |  45808747 | 0.842 |  15 | 9.032397e-04 | 0.020675165 | 0.032426510 | 0.8003328 | 0.003861004 | POINT (-5667208 -4272191) |\n",
       "\n"
      ],
      "text/plain": [
       "  NAME_EN   ADM0_ISO name_en   adm0_iso pop_est   gdp_md  num_of_blds pop_2021 \n",
       "1 Indonesia IDN      Indonesia IDN      541251136 2238380 203216      273753191\n",
       "2 Malaysia  MYS      Malaysia  MYS       63899554  729362  11160       33573874\n",
       "3 Chile     CHL      Chile     CHL       37904076  564636   1361       19493184\n",
       "4 Bolivia   BOL      Bolivia   BOL       23026200   81790   8063       12079472\n",
       "5 Peru      PER      Peru      PER       65020906  453696    128       33715471\n",
       "6 Argentina ARG      Argentina ARG       89877424  890890   7557       45808747\n",
       "  hdi_2021 deaths_2021 num_of_blds_norm gdp_md_norm pop_2021_norm hdi_2021_norm\n",
       "1 0.705    696         2.428910e-02     0.051950089 0.193820385   0.5723794    \n",
       "2 0.803    117         1.333883e-03     0.016926138 0.023763726   0.7354409    \n",
       "3 0.855      0         1.626716e-04     0.013102886 0.013794029   0.8219634    \n",
       "4 0.692    127         9.637186e-04     0.001896145 0.008544821   0.5507488    \n",
       "5 0.762    103         1.529902e-05     0.010527995 0.023863983   0.6672213    \n",
       "6 0.842     15         9.032397e-04     0.020675165 0.032426510   0.8003328    \n",
       "  deaths_2021_norm geometry                 \n",
       "1 0.179150579      POINT (10920200 -24589.9)\n",
       "2 0.030115830      POINT (10977511 463859.2)\n",
       "3 0.000000000      POINT (-6194145 -4210590)\n",
       "4 0.032689833      POINT (-6070145 -2124291)\n",
       "5 0.026512227      POINT (-7075507 -1164978)\n",
       "6 0.003861004      POINT (-5667208 -4272191)"
      ]
     },
     "metadata": {},
     "output_type": "display_data"
    }
   ],
   "source": [
    "# Print first few rows of podatSf\n",
    "head(podatSf)"
   ]
  },
  {
   "cell_type": "code",
   "execution_count": 30,
   "metadata": {
    "vscode": {
     "languageId": "r"
    }
   },
   "outputs": [
    {
     "name": "stdout",
     "output_type": "stream",
     "text": [
      "[[1]]\n",
      "[1] 2.033347e-06 6.482405e-07 3.369332e-07\n",
      "\n",
      "[[2]]\n",
      "[1] 2.033347e-06 4.827144e-07 8.758962e-06\n",
      "\n",
      "[[3]]\n",
      "[1] 4.784731e-07 3.154000e-07 1.884925e-06 5.664349e-07\n",
      "\n",
      "[[4]]\n",
      "[1] 4.784731e-07 7.196230e-07 4.575888e-07 7.724844e-07 9.373240e-07\n",
      "\n",
      "[[5]]\n",
      "[1] 3.154000e-07 7.196230e-07 4.876831e-07 9.346134e-07 5.998061e-07\n",
      "\n",
      "[[6]]\n",
      "[1] 1.884925e-06 4.575888e-07 3.343458e-07 1.363992e-06 7.327495e-07\n",
      "[6] 1.426825e-06 5.982483e-07\n",
      "\n",
      "[[7]]\n",
      " [1] 2.721692e-07 2.721692e-07 2.721692e-07 7.111108e-07 2.253839e-06\n",
      " [6] 2.707158e-07 2.707158e-07 2.707158e-07 2.716140e-07 2.716140e-07\n",
      "[11] 2.716140e-07\n",
      "\n",
      "[[8]]\n",
      "[1] 2.721692e-07 1.000000e+10 1.000000e+10 1.515711e-05 1.515711e-05\n",
      "[6] 1.515711e-05 3.123797e-05 3.123797e-05 3.123797e-05\n",
      "\n",
      "[[9]]\n",
      "[1] 2.721692e-07 1.000000e+10 1.000000e+10 1.515711e-05 1.515711e-05\n",
      "[6] 1.515711e-05 3.123797e-05 3.123797e-05 3.123797e-05\n",
      "\n",
      "[[10]]\n",
      "[1] 2.721692e-07 1.000000e+10 1.000000e+10 1.515711e-05 1.515711e-05\n",
      "[6] 1.515711e-05 3.123797e-05 3.123797e-05 3.123797e-05\n",
      "\n",
      "[[11]]\n",
      "[1] 4.389963e-07 9.527838e-07 7.058794e-07 6.143571e-07 1.021109e-06\n",
      "[6] 1.370384e-06 6.115933e-07\n",
      "\n",
      "[[12]]\n",
      " [1] 4.389963e-07 5.290563e-07 7.954138e-07 2.626640e-07 3.451881e-07\n",
      " [6] 7.423737e-07 3.155905e-07 3.934251e-07 4.517248e-07 3.609371e-07\n",
      "[11] 3.505183e-07 5.670963e-07 3.149528e-07 6.064043e-07 4.476200e-07\n",
      "\n",
      "[[13]]\n",
      "[1] 3.547110e-06 2.104990e-06 6.166479e-06 1.361978e-06\n",
      "\n",
      "[[14]]\n",
      "[1] 3.547110e-06 4.080616e-06\n",
      "\n",
      "[[15]]\n",
      "[1] 1.114822e-06 1.292389e-06 1.292389e-06 9.589206e-07 1.550324e-06\n",
      "[6] 1.550324e-06 7.483878e-07 2.078199e-06 1.156348e-06\n",
      "\n",
      "[[16]]\n",
      "[1] 1.114822e-06 8.845906e-07 6.918112e-07 1.061422e-06 9.087335e-07\n",
      "[6] 1.254104e-06\n",
      "\n",
      "[[17]]\n",
      "[1] 1.292389e-06 1.000000e+10 1.089726e-06 1.560715e-06 1.560715e-06\n",
      "\n",
      "[[18]]\n",
      "[1] 1.292389e-06 1.000000e+10 1.089726e-06 1.560715e-06 1.560715e-06\n",
      "\n",
      "[[19]]\n",
      "[1] 9.589206e-07 8.845906e-07 1.089726e-06 1.089726e-06 1.081980e-06\n",
      "[6] 1.885955e-06\n",
      "\n",
      "[[20]]\n",
      "[1] 1.125088e-06 1.624397e-06 1.971096e-06\n",
      "\n",
      "[[21]]\n",
      "[1] 1.081980e-06 1.125088e-06 8.713278e-07 8.708091e-07 7.223053e-07\n",
      "[6] 1.685377e-06 1.403177e-06 1.007790e-06\n",
      "\n",
      "[[22]]\n",
      "[1] 2.104990e-06 4.080616e-06 1.772904e-06 1.806983e-06 2.218297e-06\n",
      "\n",
      "[[23]]\n",
      "[1] 1.550324e-06 1.560715e-06 1.560715e-06 1.000000e+10 2.244866e-06\n",
      "\n",
      "[[24]]\n",
      "[1] 1.550324e-06 1.560715e-06 1.560715e-06 1.000000e+10 2.244866e-06\n",
      "\n",
      "[[25]]\n",
      " [1] 1.327172e-07 1.586516e-06 1.146618e-07 1.307840e-06 2.287021e-06\n",
      " [6] 2.207061e-06 1.193027e-06 1.132967e-06 2.139594e-06 1.965566e-06\n",
      "[11] 2.316369e-06\n",
      "\n",
      "[[26]]\n",
      "[1] 1.327172e-07 3.309530e-06 5.246645e-07\n",
      "\n",
      "[[27]]\n",
      "[1] 3.309530e-06 4.865379e-07 1.357495e-06\n",
      "\n",
      "[[28]]\n",
      "[1] 1.949961e-06\n",
      "\n",
      "[[29]]\n",
      "[1] 5.290563e-07 1.949961e-06 2.322571e-07\n",
      "\n",
      "[[30]]\n",
      "[1] 1.329608e-06 7.593767e-07 9.692085e-07\n",
      "\n",
      "[[31]]\n",
      "[1] 1.329608e-06 6.952766e-07 1.918448e-06\n",
      "\n",
      "[[32]]\n",
      "[1] 2.724137e-06 2.398426e-06\n",
      "\n",
      "[[33]]\n",
      "[1] 2.724137e-06 3.613381e-06\n",
      "\n",
      "[[34]]\n",
      "[1] 1.185126e-06 9.333906e-07 6.761129e-07 1.148639e-06 3.034969e-06\n",
      "\n",
      "[[35]]\n",
      "[1] 6.918112e-07 8.713278e-07 1.185126e-06 7.142746e-07 8.017488e-07\n",
      "[6] 7.434126e-07 1.658899e-06 1.625393e-06 1.006646e-06\n",
      "\n",
      "[[36]]\n",
      "[1] 9.527838e-07 7.954138e-07\n",
      "\n",
      "[[37]]\n",
      "[1] 1.809063e-06 2.183021e-07 1.765271e-06 1.056328e-06 1.066669e-06\n",
      "[6] 9.731123e-07 3.634618e-06\n",
      "\n",
      "[[38]]\n",
      "[1] 1.809063e-06 2.585332e-06 2.064215e-07 2.316922e-06 1.521361e-06\n",
      "\n",
      "[[39]]\n",
      "[1] 9.302188e-07 6.681701e-07 8.157286e-07 1.637552e-06 7.969654e-07\n",
      "\n",
      "[[40]]\n",
      "[1] 9.302188e-07 1.212523e-06 7.566120e-07 5.568127e-07 1.512321e-06\n",
      "[6] 3.539442e-06\n",
      "\n",
      "[[41]]\n",
      "[1] 1.586516e-06 2.526236e-06 5.639218e-06\n",
      "\n",
      "[[42]]\n",
      "[1] 2.135222e-06 8.397201e-07 1.067493e-06\n",
      "\n",
      "[[43]]\n",
      "[1] 1.490795e-06 1.173585e-06 1.042425e-06 9.770843e-07 2.661094e-06\n",
      "\n",
      "[[44]]\n",
      "[1] 2.626640e-07 1.490795e-06 5.201229e-07 8.986008e-07 9.898729e-07\n",
      "\n",
      "[[45]]\n",
      "[1] 3.451881e-07 1.173585e-06 2.666451e-06 1.624999e-06\n",
      "\n",
      "[[46]]\n",
      "[1] 2.585332e-06 1.933413e-07 6.671785e-06 2.326534e-06\n",
      "\n",
      "[[47]]\n",
      " [1] 7.724844e-07 4.876831e-07 3.343458e-07 1.146618e-07 5.246645e-07\n",
      " [6] 4.865379e-07 3.642636e-07 3.716652e-07 6.149321e-07 4.096864e-07\n",
      "[11] 3.849075e-07\n",
      "\n",
      "[[48]]\n",
      "[1] 1.363992e-06 3.642636e-07 2.708852e-06\n",
      "\n",
      "[[49]]\n",
      "[1] 7.423737e-07 5.328495e-07\n",
      "\n",
      "[[50]]\n",
      " [1] 3.155905e-07 2.322571e-07 2.183021e-07 2.064215e-07 5.201229e-07\n",
      " [6] 1.933413e-07 5.328495e-07 1.971325e-07 1.955665e-07 1.645752e-07\n",
      "[11] 1.937583e-07 2.671447e-07 2.852337e-07 1.818453e-07\n",
      "\n",
      "[[51]]\n",
      "[1] 2.371224e-06 2.796878e-06 2.658357e-06 4.294585e-06\n",
      "\n",
      "[[52]]\n",
      "[1] 1.307840e-06 2.526236e-06 2.371224e-06 2.831252e-06 2.230919e-06\n",
      "[6] 2.585729e-07 1.418497e-06 2.099615e-06 2.207796e-06\n",
      "\n",
      "[[53]]\n",
      "[1] 1.971325e-07 5.948815e-06\n",
      "\n",
      "[[54]]\n",
      "[1] 2.316922e-06 6.671785e-06 1.955665e-07 5.948815e-06\n",
      "\n",
      "[[55]]\n",
      "[1] 1.645752e-07 3.567956e-06 1.084717e-06\n",
      "\n",
      "[[56]]\n",
      "[1] 3.567956e-06 1.482446e-06\n",
      "\n",
      "[[57]]\n",
      "[1] 1.937583e-07 1.084717e-06 1.482446e-06\n",
      "\n",
      "[[58]]\n",
      "[1] 3.934251e-07 2.069679e-06 2.705901e-06\n",
      "\n",
      "[[59]]\n",
      "[1] 2.069679e-06 1.308945e-06 1.932782e-06\n",
      "\n",
      "[[60]]\n",
      "[1] 2.287021e-06 2.831252e-06 6.905168e-06\n",
      "\n",
      "[[61]]\n",
      "[1] 2.135222e-06 1.118365e-06\n",
      "\n",
      "[[62]]\n",
      "[1] 2.207061e-06 5.639218e-06 2.230919e-06 6.905168e-06\n",
      "\n",
      "[[63]]\n",
      "[1] 2.671447e-07 2.256322e-06 1.400979e-06 3.772060e-06\n",
      "\n",
      "[[64]]\n",
      "[1] 7.073552e-06 7.493495e-06 7.493495e-06 3.861648e-06 3.302133e-06\n",
      "[6] 3.302133e-06 3.244341e-06\n",
      "\n",
      "[[65]]\n",
      "[1] 7.073552e-06 6.002693e-06 6.002693e-06 3.347816e-06 4.980796e-06\n",
      "\n",
      "[[66]]\n",
      "[1] 2.852337e-07 2.256322e-06 9.755685e-07 4.349157e-06 8.377197e-07\n",
      "\n",
      "[[67]]\n",
      "[1] 7.493495e-06 6.002693e-06 1.000000e+10 5.598046e-06 5.598046e-06\n",
      "[6] 7.097560e-06\n",
      "\n",
      "[[68]]\n",
      "[1] 7.493495e-06 6.002693e-06 1.000000e+10 5.598046e-06 5.598046e-06\n",
      "[6] 7.097560e-06\n",
      "\n",
      "[[69]]\n",
      "[1] 1.772904e-06 1.400979e-06 9.755685e-07 1.254037e-06 9.045501e-07\n",
      "[6] 9.222720e-07 5.153083e-07 9.849690e-07\n",
      "\n",
      "[[70]]\n",
      "[1] 7.111108e-07 1.193027e-06 7.593767e-07 2.009966e-06 2.602276e-06\n",
      "\n",
      "[[71]]\n",
      "[1] 4.517248e-07 2.705901e-06 1.308945e-06 2.155495e-06 1.215474e-06\n",
      "\n",
      "[[72]]\n",
      "[1] 3.609371e-07 1.042425e-06 8.986008e-07 2.666451e-06\n",
      "\n",
      "[[73]]\n",
      "[1] 3.772060e-06 4.349157e-06 1.254037e-06 7.406096e-07\n",
      "\n",
      "[[74]]\n",
      "[1] 2.585729e-07\n",
      "\n",
      "[[75]]\n",
      "[1] 8.569399e-07 5.559691e-07 6.886554e-07 7.125676e-07 7.114765e-07\n",
      "[6] 9.251973e-07\n",
      "\n",
      "[[76]]\n",
      "[1] 8.569399e-07 1.060268e-06\n",
      "\n",
      "[[77]]\n",
      "[1] 1.765271e-06 2.030213e-06 2.740205e-06 2.740205e-06 2.981503e-06\n",
      "[6] 3.355938e-06\n",
      "\n",
      "[[78]]\n",
      "[1] 1.056328e-06 2.030213e-06 6.237187e-06 2.315548e-06 2.883040e-06\n",
      "[6] 2.883040e-06 3.271693e-06 2.651276e-06\n",
      "\n",
      "[[79]]\n",
      "[1] 1.066669e-06 2.796878e-06 6.237187e-06 2.930475e-06 2.305023e-06\n",
      "\n",
      "[[80]]\n",
      "[1] 9.731123e-07 1.521361e-06 2.326534e-06 1.818453e-07 2.658357e-06\n",
      "[6] 1.418497e-06 2.930475e-06\n",
      "\n",
      "[[81]]\n",
      "[1] 2.253839e-06\n",
      "\n",
      "[[82]]\n",
      "[1] 3.861648e-06 3.347816e-06 9.045501e-07 2.448401e-06\n",
      "\n",
      "[[83]]\n",
      "[1] 1.624397e-06 8.708091e-07 7.142746e-07 6.681701e-07 1.025019e-06\n",
      "[6] 8.529670e-07 1.396392e-06 1.179626e-06\n",
      "\n",
      "[[84]]\n",
      "[1] 3.975925e-06 2.795389e-06\n",
      "\n",
      "[[85]]\n",
      "[1] 3.975925e-06 1.886758e-06 1.607689e-06 8.962332e-07 1.677658e-06\n",
      "[6] 2.331546e-06\n",
      "\n",
      "[[86]]\n",
      "[1] 2.795389e-06 1.886758e-06 2.571784e-06\n",
      "\n",
      "[[87]]\n",
      "[1] 1.061422e-06 9.333906e-07 8.017488e-07 6.822073e-07 8.902499e-07\n",
      "[6] 1.340860e-06\n",
      "\n",
      "[[88]]\n",
      "[1] 7.483878e-07 9.087335e-07 5.559691e-07 6.822073e-07 1.175509e-06\n",
      "[6] 9.430363e-07 7.664322e-07 1.241058e-06\n",
      "\n",
      "[[89]]\n",
      "[1] 2.078199e-06 2.244866e-06 2.244866e-06 1.688007e-06\n",
      "\n",
      "[[90]]\n",
      "[1] 1.156348e-06 1.175509e-06 1.688007e-06\n",
      "\n",
      "[[91]]\n",
      "[1] 4.294585e-06 2.099615e-06 2.315548e-06 2.305023e-06 2.191130e-06\n",
      "[6] 2.086846e-06 2.707301e-06 5.963470e-06\n",
      "\n",
      "[[92]]\n",
      "[1] 1.806983e-06 9.222720e-07 1.050736e-06 9.062487e-07 1.673844e-06\n",
      "[6] 1.599084e-06\n",
      "\n",
      "[[93]]\n",
      "[1] 1.132967e-06 2.191130e-06 1.989194e-06 2.910074e-06 1.770824e-05\n",
      "[6] 5.946799e-06\n",
      "\n",
      "[[94]]\n",
      "[1] 2.139594e-06 2.207796e-06 2.086846e-06 1.989194e-06 8.961173e-06\n",
      "\n",
      "[[95]]\n",
      "[1] 8.377197e-07 5.153083e-07 7.406096e-07 1.050736e-06 7.028354e-07\n",
      "[6] 9.998563e-07 1.234902e-06\n",
      "\n",
      "[[96]]\n",
      "[1] 2.707301e-06 8.961173e-06\n",
      "\n",
      "[[97]]\n",
      "[1] 1.607689e-06 2.571784e-06 8.070840e-07 1.439023e-06 2.396493e-06\n",
      "\n",
      "[[98]]\n",
      " [1] 3.302133e-06 5.598046e-06 5.598046e-06 2.740205e-06 2.883040e-06\n",
      " [6] 1.000000e+10 2.599102e-06 2.403939e-06 5.235844e-06 4.009453e-06\n",
      "\n",
      "[[99]]\n",
      " [1] 3.302133e-06 5.598046e-06 5.598046e-06 2.740205e-06 2.883040e-06\n",
      " [6] 1.000000e+10 2.599102e-06 2.403939e-06 5.235844e-06 4.009453e-06\n",
      "\n",
      "[[100]]\n",
      "[1] 8.962332e-07 8.070840e-07 9.143694e-07 6.965696e-07 8.262582e-07\n",
      "[6] 1.530002e-06 1.376605e-06\n",
      "\n",
      "[[101]]\n",
      "[1] 1.677658e-06 9.143694e-07 3.374175e-06 1.198280e-06 6.819779e-06\n",
      "\n",
      "[[102]]\n",
      "[1] 1.825982e-06 8.199473e-07 1.492483e-06 1.007835e-06\n",
      "\n",
      "[[103]]\n",
      "[1] 1.825982e-06 8.490276e-07 1.950480e-06 5.200913e-06\n",
      "\n",
      "[[104]]\n",
      "[1] 6.761129e-07 7.434126e-07 8.157286e-07 1.025019e-06\n",
      "\n",
      "[[105]]\n",
      "[1] 3.271693e-06 2.599102e-06 2.599102e-06 5.739884e-06 2.761424e-06\n",
      "[6] 6.216426e-06\n",
      "\n",
      "[[106]]\n",
      "[1] 2.651276e-06 5.963470e-06 2.910074e-06 5.739884e-06\n",
      "\n",
      "[[107]]\n",
      "[1] 1.651401e-06\n",
      "\n",
      "[[108]]\n",
      "[1] 8.397201e-07 1.118365e-06 9.062487e-07 1.651401e-06 1.491250e-06\n",
      "[6] 8.355737e-07 9.325893e-07\n",
      "\n",
      "[[109]]\n",
      "[1] 1.637552e-06 1.212523e-06 8.529670e-07 1.418049e-06\n",
      "\n",
      "[[110]]\n",
      "[1] 7.969654e-07 7.566120e-07 1.396392e-06 1.418049e-06 1.684014e-06\n",
      "\n",
      "[[111]]\n",
      "[1] 7.058794e-07 3.505183e-07 7.028354e-07 1.622052e-06 1.184603e-06\n",
      "\n",
      "[[112]]\n",
      "[1] 3.244341e-06 9.849690e-07 2.981503e-06 2.448401e-06 2.403939e-06\n",
      "[6] 2.403939e-06\n",
      "\n",
      "[[113]]\n",
      "[1] 4.827144e-07 1.932782e-06 2.155495e-06 1.056508e-06\n",
      "\n",
      "[[114]]\n",
      "[1] 1.770824e-05\n",
      "\n",
      "[[115]]\n",
      "[1] 4.933754e-06\n",
      "\n",
      "[[116]]\n",
      "[1] 4.933754e-06\n",
      "\n",
      "[[117]]\n",
      "[1] 6.886554e-07 8.902499e-07 9.430363e-07 8.199473e-07 7.510049e-07\n",
      "[6] 1.089269e-06\n",
      "\n",
      "[[118]]\n",
      "[1] 1.673844e-06 1.491250e-06\n",
      "\n",
      "[[119]]\n",
      "[1] 3.731718e-06 3.729681e-06\n",
      "\n",
      "[[120]]\n",
      "[1] 3.731718e-06 2.834337e-06 7.483638e-07 3.764640e-06\n",
      "\n",
      "[[121]]\n",
      "[1] 6.482405e-07\n",
      "\n",
      "[[122]]\n",
      "[1] 8.758962e-06\n",
      "\n",
      "[[123]]\n",
      "[1] 1.965566e-06\n",
      "\n",
      "[[124]]\n",
      "[1] 9.692085e-07 6.952766e-07 7.125676e-07 1.060268e-06 6.965696e-07\n",
      "[6] 6.901364e-07 6.523085e-07\n",
      "\n",
      "[[125]]\n",
      "[1] 1.971096e-06 7.223053e-07 5.568127e-07 1.179626e-06 1.684014e-06\n",
      "[6] 7.975778e-07\n",
      "\n",
      "[[126]]\n",
      "[1] 1.512321e-06 7.975778e-07\n",
      "\n",
      "[[127]]\n",
      "[1] 1.685377e-06 1.658899e-06 5.704084e-06\n",
      "\n",
      "[[128]]\n",
      "[1] 1.403177e-06 1.625393e-06 5.704084e-06 2.079610e-06\n",
      "\n",
      "[[129]]\n",
      "[1] 6.143571e-07 5.670963e-07 1.215474e-06 1.056508e-06 1.364951e-06\n",
      "\n",
      "[[130]]\n",
      "[1] 1.021109e-06 1.364951e-06\n",
      "\n",
      "[[131]]\n",
      "[1] 2.316369e-06 2.009966e-06\n",
      "\n",
      "[[132]]\n",
      "[1] 3.149528e-07 9.770843e-07 1.624999e-06 9.998563e-07 1.622052e-06\n",
      "[6] 1.056338e-06\n",
      "\n",
      "[[133]]\n",
      "[1] 4.980796e-06 7.097560e-06 7.097560e-06 5.235844e-06 5.235844e-06\n",
      "[6] 2.761424e-06 4.951973e-06\n",
      "\n",
      "[[134]]\n",
      "[1] 4.009453e-06 4.009453e-06 6.216426e-06 4.951973e-06\n",
      "\n",
      "[[135]]\n",
      "[1] 1.254104e-06 1.885955e-06 1.007790e-06 1.006646e-06 2.079610e-06\n",
      "\n",
      "[[136]]\n",
      "numeric(0)\n",
      "\n",
      "[[137]]\n",
      "[1] 3.613381e-06 3.729681e-06 2.834337e-06\n",
      "\n",
      "[[138]]\n",
      "[1] 9.346134e-07 1.162195e-06\n",
      "\n",
      "[[139]]\n",
      "[1] 5.998061e-07 3.716652e-07 1.162195e-06 1.140271e-06 1.266295e-06\n",
      "\n",
      "[[140]]\n",
      "[1] 9.373240e-07 7.327495e-07 6.149321e-07\n",
      "\n",
      "[[141]]\n",
      "[1] 1.426825e-06 4.096864e-07 2.708852e-06\n",
      "\n",
      "[[142]]\n",
      "[1] 2.602276e-06\n",
      "\n",
      "[[143]]\n",
      "[1] 3.634618e-06 3.355938e-06\n",
      "\n",
      "[[144]]\n",
      "[1] 2.661094e-06 9.898729e-07 1.234902e-06 1.056338e-06\n",
      "\n",
      "[[145]]\n",
      "[1] 6.166479e-06 2.218297e-06 1.599084e-06 8.355737e-07\n",
      "\n",
      "[[146]]\n",
      "[1] 1.370384e-06 6.064043e-07\n",
      "\n",
      "[[147]]\n",
      "[1] 3.539442e-06\n",
      "\n",
      "[[148]]\n",
      "[1] 1.148639e-06 1.340860e-06 1.492483e-06 7.510049e-07 1.235080e-06\n",
      "[6] 1.755644e-06\n",
      "\n",
      "[[149]]\n",
      "[1] 3.034969e-06 1.235080e-06 3.282046e-06\n",
      "\n",
      "[[150]]\n",
      "[1] 7.114765e-07 8.262582e-07 1.007835e-06 8.490276e-07 1.089269e-06\n",
      "[6] 6.901364e-07 8.159415e-07\n",
      "\n",
      "[[151]]\n",
      "[1] 1.439023e-06 1.530002e-06 1.950480e-06 8.159415e-07 1.843701e-06\n",
      "[6] 1.809372e-06\n",
      "\n",
      "[[152]]\n",
      "[1] 5.200913e-06 1.843701e-06 4.536441e-06\n",
      "\n",
      "[[153]]\n",
      "[1] 2.396493e-06 1.809372e-06 4.536441e-06\n",
      "\n",
      "[[154]]\n",
      "[1] 2.331546e-06 3.374175e-06\n",
      "\n",
      "[[155]]\n",
      "[1] 4.872793e-07 4.901548e-07\n",
      "\n",
      "[[156]]\n",
      "[1] 4.872793e-07\n",
      "\n",
      "[[157]]\n",
      "[1] 7.483638e-07 4.901548e-07 7.447618e-07\n",
      "\n",
      "[[158]]\n",
      "[1] 3.764640e-06 7.447618e-07\n",
      "\n",
      "[[159]]\n",
      "[1] 2.398426e-06 1.140271e-06\n",
      "\n",
      "[[160]]\n",
      "[1] 1.357495e-06 3.849075e-07 1.266295e-06\n",
      "\n",
      "[[161]]\n",
      "[1] 3.369332e-07\n",
      "\n",
      "[[162]]\n",
      "[1] 1.361978e-06 9.251973e-07 7.664322e-07 1.462455e-06\n",
      "\n",
      "[[163]]\n",
      "[1] 1.067493e-06 9.325893e-07\n",
      "\n",
      "[[164]]\n",
      "[1] 1.918448e-06 1.376605e-06 1.198280e-06 6.523085e-07\n",
      "\n",
      "[[165]]\n",
      "[1] 1.755644e-06 3.282046e-06\n",
      "\n",
      "[[166]]\n",
      "[1] 6.819779e-06\n",
      "\n",
      "[[167]]\n",
      "[1] 5.946799e-06\n",
      "\n",
      "[[168]]\n",
      "[1] 2.707158e-07 1.515711e-05 1.515711e-05 1.515711e-05 1.000000e+10\n",
      "[6] 1.000000e+10 2.933884e-05 2.933884e-05 2.933884e-05\n",
      "\n",
      "[[169]]\n",
      "[1] 2.707158e-07 1.515711e-05 1.515711e-05 1.515711e-05 1.000000e+10\n",
      "[6] 1.000000e+10 2.933884e-05 2.933884e-05 2.933884e-05\n",
      "\n",
      "[[170]]\n",
      "[1] 2.707158e-07 1.515711e-05 1.515711e-05 1.515711e-05 1.000000e+10\n",
      "[6] 1.000000e+10 2.933884e-05 2.933884e-05 2.933884e-05\n",
      "\n",
      "[[171]]\n",
      "[1] 2.716140e-07 3.123797e-05 3.123797e-05 3.123797e-05 2.933884e-05\n",
      "[6] 2.933884e-05 2.933884e-05 1.000000e+10 1.000000e+10\n",
      "\n",
      "[[172]]\n",
      "[1] 2.716140e-07 3.123797e-05 3.123797e-05 3.123797e-05 2.933884e-05\n",
      "[6] 2.933884e-05 2.933884e-05 1.000000e+10 1.000000e+10\n",
      "\n",
      "[[173]]\n",
      "[1] 2.716140e-07 3.123797e-05 3.123797e-05 3.123797e-05 2.933884e-05\n",
      "[6] 2.933884e-05 2.933884e-05 1.000000e+10 1.000000e+10\n",
      "\n",
      "[[174]]\n",
      "[1] 6.115933e-07 4.476200e-07 1.184603e-06\n",
      "\n",
      "[[175]]\n",
      "[1] 5.664349e-07 5.982483e-07\n",
      "\n",
      "[[176]]\n",
      "[1] 1.241058e-06 1.462455e-06\n",
      "\n",
      "[[177]]\n",
      "numeric(0)\n",
      "\n",
      "[[178]]\n",
      "numeric(0)\n",
      "\n",
      "[[179]]\n",
      "numeric(0)\n",
      "\n",
      "[[180]]\n",
      "numeric(0)\n",
      "\n",
      "[[181]]\n",
      "numeric(0)\n",
      "\n",
      "[[182]]\n",
      "numeric(0)\n",
      "\n",
      "[[183]]\n",
      "numeric(0)\n",
      "\n",
      "[[184]]\n",
      "numeric(0)\n",
      "\n",
      "[[185]]\n",
      "numeric(0)\n",
      "\n",
      "[[186]]\n",
      "numeric(0)\n",
      "\n",
      "[[187]]\n",
      "numeric(0)\n",
      "\n",
      "[[188]]\n",
      "numeric(0)\n",
      "\n",
      "[[189]]\n",
      "numeric(0)\n",
      "\n",
      "[[190]]\n",
      "numeric(0)\n",
      "\n",
      "[[191]]\n",
      "numeric(0)\n",
      "\n",
      "[[192]]\n",
      "numeric(0)\n",
      "\n",
      "[[193]]\n",
      "numeric(0)\n",
      "\n",
      "[[194]]\n",
      "numeric(0)\n",
      "\n",
      "[[195]]\n",
      "numeric(0)\n",
      "\n",
      "[[196]]\n",
      "numeric(0)\n",
      "\n",
      "[[197]]\n",
      "numeric(0)\n",
      "\n",
      "[[198]]\n",
      "numeric(0)\n",
      "\n",
      "[[199]]\n",
      "numeric(0)\n",
      "\n",
      "[[200]]\n",
      "numeric(0)\n",
      "\n",
      "[[201]]\n",
      "numeric(0)\n",
      "\n",
      "[[202]]\n",
      "numeric(0)\n",
      "\n",
      "[[203]]\n",
      "numeric(0)\n",
      "\n",
      "[[204]]\n",
      "numeric(0)\n",
      "\n",
      "[[205]]\n",
      "numeric(0)\n",
      "\n",
      "[[206]]\n",
      "numeric(0)\n",
      "\n",
      "[[207]]\n",
      "numeric(0)\n",
      "\n",
      "[[208]]\n",
      "numeric(0)\n",
      "\n",
      "[[209]]\n",
      "numeric(0)\n",
      "\n",
      "[[210]]\n",
      "numeric(0)\n",
      "\n",
      "[[211]]\n",
      "numeric(0)\n",
      "\n",
      "[[212]]\n",
      "numeric(0)\n",
      "\n",
      "[[213]]\n",
      "numeric(0)\n",
      "\n",
      "[[214]]\n",
      "numeric(0)\n",
      "\n",
      "[[215]]\n",
      "numeric(0)\n",
      "\n",
      "[[216]]\n",
      "numeric(0)\n",
      "\n",
      "[[217]]\n",
      "numeric(0)\n",
      "\n",
      "[[218]]\n",
      "numeric(0)\n",
      "\n",
      "[[219]]\n",
      "numeric(0)\n",
      "\n"
     ]
    },
    {
     "ename": "ERROR",
     "evalue": "Error in nb2listw(unionedNb, glist = dlist, style = \"W\"): Empty neighbour sets found\n",
     "output_type": "error",
     "traceback": [
      "Error in nb2listw(unionedNb, glist = dlist, style = \"W\"): Empty neighbour sets found\nTraceback:\n",
      "1. nb2listw(unionedNb, glist = dlist, style = \"W\")",
      "2. stop(\"Empty neighbour sets found\")"
     ]
    }
   ],
   "source": [
    "distnb <- dnearneigh(podatSf, d1 = 1, d2 = 70 * 10^3)\n",
    "unionedNb <- union.nb(distnb, polynb)\n",
    "\n",
    "dlist <- nbdists(unionedNb, st_coordinates(podatSf))\n",
    "dlist <- lapply(dlist, function(x) 1 / (x + 1e-10)) \n",
    "print(dlist)\n",
    "unionedListw_d <- nb2listw(unionedNb, glist = dlist, style = \"W\")"
   ]
  },
  {
   "cell_type": "code",
   "execution_count": 16,
   "metadata": {
    "vscode": {
     "languageId": "r"
    }
   },
   "outputs": [
    {
     "data": {
      "text/plain": [
       "Neighbour list object:\n",
       "Number of regions: 219 \n",
       "Number of nonzero links: 47716 \n",
       "Percentage nonzero weights: 99.48917 \n",
       "Average number of links: 217.8813 "
      ]
     },
     "metadata": {},
     "output_type": "display_data"
    }
   ],
   "source": [
    "distnb"
   ]
  },
  {
   "cell_type": "code",
   "execution_count": 17,
   "metadata": {
    "vscode": {
     "languageId": "r"
    }
   },
   "outputs": [
    {
     "name": "stderr",
     "output_type": "stream",
     "text": [
      "Scale bar set for latitude km and will be different at the top and bottom of the map.\n",
      "\n"
     ]
    },
    {
     "data": {
      "image/png": "[encoded data removed]",
      "text/plain": [
       "plot without title"
      ]
     },
     "metadata": {
      "image/png": {
       "height": 420,
       "width": 420
      }
     },
     "output_type": "display_data"
    }
   ],
   "source": [
    "datSf %>%\n",
    "    tm_shape() + tm_polygons(\n",
    "        col = c(\"num_of_blds\"), legend.hist = TRUE, palette = \"-plasma\",\n",
    "        legend.reverse = TRUE, title = \"Incidence rate for total period\"\n",
    "    ) +\n",
    "    tm_layout(\n",
    "        legend.outside = TRUE, bg.color = \"darkgrey\", outer.bg.color = \"lightgrey\",\n",
    "        legend.outside.size = 0.5, attr.outside = TRUE,\n",
    "        main.title = \"Incidence rate total period\"\n",
    "    ) +\n",
    "    tm_scale_bar()\n"
   ]
  },
  {
   "cell_type": "code",
   "execution_count": 17,
   "metadata": {
    "vscode": {
     "languageId": "r"
    }
   },
   "outputs": [
    {
     "name": "stderr",
     "output_type": "stream",
     "text": [
      "Scale bar set for latitude km and will be different at the top and bottom of the map.\n",
      "\n"
     ]
    },
    {
     "data": {
      "image/png": "[encoded data removed]",
      "text/plain": [
       "plot without title"
      ]
     },
     "metadata": {
      "image/png": {
       "height": 420,
       "width": 420
      }
     },
     "output_type": "display_data"
    }
   ],
   "source": [
    "# Set tmap option to check and fix invalid polygons\n",
    "tmap_options(check.and.fix = TRUE)\n",
    "\n",
    "# Create the thematic map\n",
    "datSf %>%\n",
    "    tm_shape() +\n",
    "    tm_polygons(\n",
    "        col = \"num_of_blds_norm\", legend.hist = TRUE, palette = \"viridis\",\n",
    "        legend.reverse = TRUE, title = \"Incidence rate for total period\"\n",
    "    ) +\n",
    "    tm_layout(\n",
    "        legend.outside = TRUE, bg.color = \"#a9a9a9\", outer.bg.color = \"#d3d3d3\",\n",
    "        legend.outside.size = 0.5, attr.outside = TRUE,\n",
    "        main.title = \"Incidence rate total period\"\n",
    "    ) +\n",
    "    tm_scale_bar()"
   ]
  },
  {
   "cell_type": "code",
   "execution_count": 18,
   "metadata": {
    "vscode": {
     "languageId": "r"
    }
   },
   "outputs": [
    {
     "name": "stderr",
     "output_type": "stream",
     "text": [
      "Scale bar set for latitude km and will be different at the top and bottom of the map.\n",
      "\n"
     ]
    },
    {
     "data": {
      "image/png": "[encoded data removed]",
      "text/plain": [
       "plot without title"
      ]
     },
     "metadata": {
      "image/png": {
       "height": 420,
       "width": 420
      }
     },
     "output_type": "display_data"
    }
   ],
   "source": [
    "m_deaths_2021_norm <- datSf %>%\n",
    "    tm_shape() +\n",
    "    tm_polygons(\n",
    "        col = c(\"deaths_2021_norm\"),\n",
    "        legend.hist = TRUE,\n",
    "        legend.reverse = TRUE,\n",
    "        title = \"Share of foreigners of inhabitants [%]\",\n",
    "        style = \"pretty\"\n",
    "    ) +\n",
    "    tm_layout(\n",
    "        legend.outside = TRUE, bg.color = \"darkgrey\",\n",
    "        outer.bg.color = \"lightgrey\",\n",
    "        legend.outside.size = 0.5, attr.outside = TRUE,\n",
    "        main.title = \"Foreign population\"\n",
    "    ) +\n",
    "    tm_scale_bar()\n",
    "\n",
    "print(m_deaths_2021_norm)"
   ]
  },
  {
   "cell_type": "code",
   "execution_count": 20,
   "metadata": {
    "vscode": {
     "languageId": "r"
    }
   },
   "outputs": [
    {
     "data": {
      "text/plain": [
       "\n",
       "\tMonte-Carlo simulation of Moran I\n",
       "\n",
       "data:  datSf$hdi_2021_norm \n",
       "weights: unionedListw_d  \n",
       "number of simulations + 1: 1000 \n",
       "\n",
       "statistic = 0.16692, observed rank = 1000, p-value = 0.001\n",
       "alternative hypothesis: greater\n"
      ]
     },
     "metadata": {},
     "output_type": "display_data"
    }
   ],
   "source": [
    "moran.mc(\n",
    "    x = datSf$hdi_2021_norm,\n",
    "    listw = unionedListw_d, nsim = 999\n",
    ")"
   ]
  },
  {
   "cell_type": "code",
   "execution_count": null,
   "metadata": {
    "vscode": {
     "languageId": "r"
    }
   },
   "outputs": [],
   "source": []
  }
 ],
 "metadata": {
  "kernelspec": {
   "display_name": "R",
   "language": "R",
   "name": "ir"
  },
  "language_info": {
   "codemirror_mode": "r",
   "file_extension": ".r",
   "mimetype": "text/x-r-source",
   "name": "R",
   "pygments_lexer": "r",
   "version": "4.3.0"
  },
  "orig_nbformat": 4
 },
 "nbformat": 4,
 "nbformat_minor": 2
}
