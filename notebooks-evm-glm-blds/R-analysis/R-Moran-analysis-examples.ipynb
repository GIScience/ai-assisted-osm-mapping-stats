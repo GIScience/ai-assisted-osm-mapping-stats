{
 "cells": [
  {
   "cell_type": "markdown",
   "metadata": {},
   "source": [
    "# Moran I – Monte Carlo"
   ]
  },
  {
   "cell_type": "markdown",
   "metadata": {},
   "source": [
    "## Libraries and cwd"
   ]
  },
  {
   "cell_type": "code",
   "execution_count": 1,
   "metadata": {
    "vscode": {
     "languageId": "r"
    }
   },
   "outputs": [
    {
     "name": "stderr",
     "output_type": "stream",
     "text": [
      "Linking to GEOS 3.11.2, GDAL 3.6.2, PROJ 9.2.0; sf_use_s2() is TRUE\n",
      "\n",
      "Loading required package: spData\n",
      "\n",
      "To access larger datasets in this package, install the spDataLarge\n",
      "package with: `install.packages('spDataLarge',\n",
      "repos='https://nowosad.github.io/drat/', type='source')`\n",
      "\n",
      "Warning message:\n",
      "\"package 'tmap' was built under R version 4.3.1\"\n"
     ]
    }
   ],
   "source": [
    "library(sf)\n",
    "library(spdep)\n",
    "library(tmap)"
   ]
  },
  {
   "cell_type": "markdown",
   "metadata": {},
   "source": [
    "## Load the data"
   ]
  },
  {
   "cell_type": "code",
   "execution_count": 2,
   "metadata": {
    "vscode": {
     "languageId": "r"
    }
   },
   "outputs": [],
   "source": [
    "# Load the shapefile\n",
    "s <- readRDS(url(\"https://github.com/mgimond/Data/raw/gh-pages/Exercises/nhme.rds\"))"
   ]
  },
  {
   "cell_type": "code",
   "execution_count": 21,
   "metadata": {
    "vscode": {
     "languageId": "r"
    }
   },
   "outputs": [
    {
     "name": "stderr",
     "output_type": "stream",
     "text": [
      "old-style crs object detected; please recreate object with a recent sf::st_crs()\n",
      "\n"
     ]
    },
    {
     "data": {
      "text/plain": [
       "Coordinate Reference System:\n",
       "  User input: +proj=eqdc +lat_0=40 +lon_0=-96 +lat_1=20 +lat_2=60 +x_0=0 +y_0=0 +datum=NAD83 +units=m +no_defs \n",
       "  wkt:\n",
       "PROJCRS[\"unknown\",\n",
       "    BASEGEOGCRS[\"unknown\",\n",
       "        DATUM[\"North American Datum 1983\",\n",
       "            ELLIPSOID[\"GRS 1980\",6378137,298.257222101,\n",
       "                LENGTHUNIT[\"metre\",1]],\n",
       "            ID[\"EPSG\",6269]],\n",
       "        PRIMEM[\"Greenwich\",0,\n",
       "            ANGLEUNIT[\"degree\",0.0174532925199433],\n",
       "            ID[\"EPSG\",8901]]],\n",
       "    CONVERSION[\"unknown\",\n",
       "        METHOD[\"Equidistant Conic\"],\n",
       "        PARAMETER[\"Latitude of natural origin\",40,\n",
       "            ANGLEUNIT[\"degree\",0.0174532925199433],\n",
       "            ID[\"EPSG\",8801]],\n",
       "        PARAMETER[\"Longitude of natural origin\",-96,\n",
       "            ANGLEUNIT[\"degree\",0.0174532925199433],\n",
       "            ID[\"EPSG\",8802]],\n",
       "        PARAMETER[\"Latitude of 1st standard parallel\",20,\n",
       "            ANGLEUNIT[\"degree\",0.0174532925199433],\n",
       "            ID[\"EPSG\",8823]],\n",
       "        PARAMETER[\"Latitude of 2nd standard parallel\",60,\n",
       "            ANGLEUNIT[\"degree\",0.0174532925199433],\n",
       "            ID[\"EPSG\",8824]],\n",
       "        PARAMETER[\"False easting\",0,\n",
       "            LENGTHUNIT[\"metre\",1],\n",
       "            ID[\"EPSG\",8806]],\n",
       "        PARAMETER[\"False northing\",0,\n",
       "            LENGTHUNIT[\"metre\",1],\n",
       "            ID[\"EPSG\",8807]]],\n",
       "    CS[Cartesian,2],\n",
       "        AXIS[\"(E)\",east,\n",
       "            ORDER[1],\n",
       "            LENGTHUNIT[\"metre\",1,\n",
       "                ID[\"EPSG\",9001]]],\n",
       "        AXIS[\"(N)\",north,\n",
       "            ORDER[2],\n",
       "            LENGTHUNIT[\"metre\",1,\n",
       "                ID[\"EPSG\",9001]]]]"
      ]
     },
     "metadata": {},
     "output_type": "display_data"
    }
   ],
   "source": [
    "st_crs(s)"
   ]
  },
  {
   "cell_type": "markdown",
   "metadata": {},
   "source": [
    "## Explore the data and data wrangling"
   ]
  },
  {
   "cell_type": "code",
   "execution_count": 3,
   "metadata": {
    "vscode": {
     "languageId": "r"
    }
   },
   "outputs": [
    {
     "data": {
      "text/html": [
       "<style>\n",
       ".list-inline {list-style: none; margin:0; padding: 0}\n",
       ".list-inline>li {display: inline-block}\n",
       ".list-inline>li:not(:last-child)::after {content: \"\\00b7\"; padding: 0 .5ex}\n",
       "</style>\n",
       "<ol class=list-inline><li>'NAME'</li><li>'STATE_NAME'</li><li>'POP10_SQMI'</li><li>'AVE_HH_SZ'</li><li>'AVE_FAM_SZ'</li><li>'Income'</li><li>'House_year'</li><li>'geometry'</li></ol>\n"
      ],
      "text/latex": [
       "\\begin{enumerate*}\n",
       "\\item 'NAME'\n",
       "\\item 'STATE\\_NAME'\n",
       "\\item 'POP10\\_SQMI'\n",
       "\\item 'AVE\\_HH\\_SZ'\n",
       "\\item 'AVE\\_FAM\\_SZ'\n",
       "\\item 'Income'\n",
       "\\item 'House\\_year'\n",
       "\\item 'geometry'\n",
       "\\end{enumerate*}\n"
      ],
      "text/markdown": [
       "1. 'NAME'\n",
       "2. 'STATE_NAME'\n",
       "3. 'POP10_SQMI'\n",
       "4. 'AVE_HH_SZ'\n",
       "5. 'AVE_FAM_SZ'\n",
       "6. 'Income'\n",
       "7. 'House_year'\n",
       "8. 'geometry'\n",
       "\n",
       "\n"
      ],
      "text/plain": [
       "[1] \"NAME\"       \"STATE_NAME\" \"POP10_SQMI\" \"AVE_HH_SZ\"  \"AVE_FAM_SZ\"\n",
       "[6] \"Income\"     \"House_year\" \"geometry\"  "
      ]
     },
     "metadata": {},
     "output_type": "display_data"
    }
   ],
   "source": [
    "names(s)"
   ]
  },
  {
   "cell_type": "code",
   "execution_count": 4,
   "metadata": {
    "vscode": {
     "languageId": "r"
    }
   },
   "outputs": [
    {
     "data": {
      "text/html": [
       "<style>\n",
       ".list-inline {list-style: none; margin:0; padding: 0}\n",
       ".list-inline>li {display: inline-block}\n",
       ".list-inline>li:not(:last-child)::after {content: \"\\00b7\"; padding: 0 .5ex}\n",
       "</style>\n",
       "<ol class=list-inline><li>45765</li><li>59560</li><li>46559</li><li>50515</li><li>50027</li><li>40695</li><li>55046</li><li>43484</li><li>56701</li><li>60782</li><li>52393</li><li>56139</li><li>55045</li><li>70906</li><li>65226</li><li>79368</li><li>59580</li><li>56851</li><li>37378</li><li>41665</li><li>45747</li><li>44543</li><li>37110</li><li>39792</li><li>38239</li><li>42407</li></ol>\n"
      ],
      "text/latex": [
       "\\begin{enumerate*}\n",
       "\\item 45765\n",
       "\\item 59560\n",
       "\\item 46559\n",
       "\\item 50515\n",
       "\\item 50027\n",
       "\\item 40695\n",
       "\\item 55046\n",
       "\\item 43484\n",
       "\\item 56701\n",
       "\\item 60782\n",
       "\\item 52393\n",
       "\\item 56139\n",
       "\\item 55045\n",
       "\\item 70906\n",
       "\\item 65226\n",
       "\\item 79368\n",
       "\\item 59580\n",
       "\\item 56851\n",
       "\\item 37378\n",
       "\\item 41665\n",
       "\\item 45747\n",
       "\\item 44543\n",
       "\\item 37110\n",
       "\\item 39792\n",
       "\\item 38239\n",
       "\\item 42407\n",
       "\\end{enumerate*}\n"
      ],
      "text/markdown": [
       "1. 45765\n",
       "2. 59560\n",
       "3. 46559\n",
       "4. 50515\n",
       "5. 50027\n",
       "6. 40695\n",
       "7. 55046\n",
       "8. 43484\n",
       "9. 56701\n",
       "10. 60782\n",
       "11. 52393\n",
       "12. 56139\n",
       "13. 55045\n",
       "14. 70906\n",
       "15. 65226\n",
       "16. 79368\n",
       "17. 59580\n",
       "18. 56851\n",
       "19. 37378\n",
       "20. 41665\n",
       "21. 45747\n",
       "22. 44543\n",
       "23. 37110\n",
       "24. 39792\n",
       "25. 38239\n",
       "26. 42407\n",
       "\n",
       "\n"
      ],
      "text/plain": [
       " [1] 45765 59560 46559 50515 50027 40695 55046 43484 56701 60782 52393 56139\n",
       "[13] 55045 70906 65226 79368 59580 56851 37378 41665 45747 44543 37110 39792\n",
       "[25] 38239 42407"
      ]
     },
     "metadata": {},
     "output_type": "display_data"
    }
   ],
   "source": [
    "s$Income"
   ]
  },
  {
   "cell_type": "code",
   "execution_count": 5,
   "metadata": {
    "vscode": {
     "languageId": "r"
    }
   },
   "outputs": [
    {
     "data": {
      "image/png": "[encoded data removed]",
      "text/plain": [
       "plot without title"
      ]
     },
     "metadata": {
      "image/png": {
       "height": 420,
       "width": 420
      }
     },
     "output_type": "display_data"
    }
   ],
   "source": [
    "hist(s$Income, main=NULL)"
   ]
  },
  {
   "cell_type": "code",
   "execution_count": 6,
   "metadata": {
    "vscode": {
     "languageId": "r"
    }
   },
   "outputs": [
    {
     "data": {
      "image/png": "[encoded data removed]",
      "text/plain": [
       "plot without title"
      ]
     },
     "metadata": {
      "image/png": {
       "height": 420,
       "width": 420
      }
     },
     "output_type": "display_data"
    }
   ],
   "source": [
    "boxplot(s$Income, horizontal = TRUE)"
   ]
  },
  {
   "cell_type": "code",
   "execution_count": 7,
   "metadata": {
    "vscode": {
     "languageId": "r"
    }
   },
   "outputs": [
    {
     "name": "stderr",
     "output_type": "stream",
     "text": [
      "old-style crs object detected; please recreate object with a recent sf::st_crs()\n",
      "\n",
      "old-style crs object detected; please recreate object with a recent sf::st_crs()\n",
      "\n",
      "old-style crs object detected; please recreate object with a recent sf::st_crs()\n",
      "\n",
      "old-style crs object detected; please recreate object with a recent sf::st_crs()\n",
      "\n",
      "old-style crs object detected; please recreate object with a recent sf::st_crs()\n",
      "\n"
     ]
    },
    {
     "data": {
      "image/png": "[encoded data removed]",
      "text/plain": [
       "plot without title"
      ]
     },
     "metadata": {
      "image/png": {
       "height": 420,
       "width": 420
      }
     },
     "output_type": "display_data"
    }
   ],
   "source": [
    "tm_shape(s) + tm_fill(col = \"Income\", style = \"quantile\", n = 8, palette = \"Greens\") +\n",
    "    tm_legend(outside = TRUE)"
   ]
  },
  {
   "cell_type": "markdown",
   "metadata": {},
   "source": [
    "## Step 1: Define neighboring polygons"
   ]
  },
  {
   "cell_type": "markdown",
   "metadata": {},
   "source": [
    "\n",
    "The first step in a Moran’s I analysis requires that we define “neighboring” polygons. This could refer to contiguous polygons, polygons within a certain distance, or it could be non-spatial in nature and defined by social, political or cultural “neighbors”.\n",
    "\n",
    "Here, we’ll adopt a contiguous neighbor definition. We’ll accept any contiguous polygons that share at least one vertex; this is the “queen” case (if one chooses to adopt the chess analogy) and it’s parameterized as queen = TRUE in the call to poly2nb. If we required that just edges be shared between polygons then we would set queen = FALSE (the rook analogy)."
   ]
  },
  {
   "cell_type": "code",
   "execution_count": 9,
   "metadata": {
    "vscode": {
     "languageId": "r"
    }
   },
   "outputs": [
    {
     "name": "stderr",
     "output_type": "stream",
     "text": [
      "old-style crs object detected; please recreate object with a recent sf::st_crs()\n",
      "\n",
      "old-style crs object detected; please recreate object with a recent sf::st_crs()\n",
      "\n"
     ]
    },
    {
     "name": "stderr",
     "output_type": "stream",
     "text": [
      "old-style crs object detected; please recreate object with a recent sf::st_crs()\n",
      "\n"
     ]
    },
    {
     "data": {
      "text/html": [
       "<ol>\n",
       "\t<li><style>\n",
       ".list-inline {list-style: none; margin:0; padding: 0}\n",
       ".list-inline>li {display: inline-block}\n",
       ".list-inline>li:not(:last-child)::after {content: \"\\00b7\"; padding: 0 .5ex}\n",
       "</style>\n",
       "<ol class=list-inline><li>2</li><li>3</li><li>6</li><li>7</li><li>20</li></ol>\n",
       "</li>\n",
       "</ol>\n"
      ],
      "text/latex": [
       "\\begin{enumerate}\n",
       "\\item \\begin{enumerate*}\n",
       "\\item 2\n",
       "\\item 3\n",
       "\\item 6\n",
       "\\item 7\n",
       "\\item 20\n",
       "\\end{enumerate*}\n",
       "\n",
       "\\end{enumerate}\n"
      ],
      "text/markdown": [
       "1. 1. 2\n",
       "2. 3\n",
       "3. 6\n",
       "4. 7\n",
       "5. 20\n",
       "\n",
       "\n",
       "\n",
       "\n",
       "\n"
      ],
      "text/plain": [
       "[[1]]\n",
       "[1]  2  3  6  7 20\n"
      ]
     },
     "metadata": {},
     "output_type": "display_data"
    }
   ],
   "source": [
    "nb <- poly2nb(s, queen = TRUE)\n",
    "nb[1]"
   ]
  },
  {
   "cell_type": "markdown",
   "metadata": {},
   "source": [
    "## Step 2: Assign weights to the neighbors"
   ]
  },
  {
   "cell_type": "markdown",
   "metadata": {},
   "source": [
    "Next, we need to assign weights to each neighboring polygon. In this example, each neighboring polygon will be assigned equal weight when computing the neighboring mean variable (num_of_blds) values."
   ]
  },
  {
   "cell_type": "code",
   "execution_count": 11,
   "metadata": {
    "vscode": {
     "languageId": "r"
    }
   },
   "outputs": [
    {
     "data": {
      "text/html": [
       "<ol>\n",
       "\t<li><style>\n",
       ".list-inline {list-style: none; margin:0; padding: 0}\n",
       ".list-inline>li {display: inline-block}\n",
       ".list-inline>li:not(:last-child)::after {content: \"\\00b7\"; padding: 0 .5ex}\n",
       "</style>\n",
       "<ol class=list-inline><li>0.2</li><li>0.2</li><li>0.2</li><li>0.2</li><li>0.2</li></ol>\n",
       "</li>\n",
       "</ol>\n"
      ],
      "text/latex": [
       "\\begin{enumerate}\n",
       "\\item \\begin{enumerate*}\n",
       "\\item 0.2\n",
       "\\item 0.2\n",
       "\\item 0.2\n",
       "\\item 0.2\n",
       "\\item 0.2\n",
       "\\end{enumerate*}\n",
       "\n",
       "\\end{enumerate}\n"
      ],
      "text/markdown": [
       "1. 1. 0.2\n",
       "2. 0.2\n",
       "3. 0.2\n",
       "4. 0.2\n",
       "5. 0.2\n",
       "\n",
       "\n",
       "\n",
       "\n",
       "\n"
      ],
      "text/plain": [
       "[[1]]\n",
       "[1] 0.2 0.2 0.2 0.2 0.2\n"
      ]
     },
     "metadata": {},
     "output_type": "display_data"
    }
   ],
   "source": [
    "lw <- nb2listw(nb, style = \"W\", zero.policy = TRUE)\n",
    "lw$weights[1]"
   ]
  },
  {
   "cell_type": "markdown",
   "metadata": {},
   "source": [
    "These are the weights each neighboring income value will be multiplied by before being summed. If a polygon has 5 neighbors, each neighbor will have a weight of 1/5 or 0.2. This weight will then be used to compute the mean neighbor values as in 0.2(neighbor1) + 0.2(neighbor2) + 0.2(neighbor3) + 0.2(neighbor4) + 0.2(neighbor5). This is equivalent to summing all five income values then dividing by 5."
   ]
  },
  {
   "cell_type": "markdown",
   "metadata": {},
   "source": [
    "## Step 3 (optional): Compute the (weighted) neighbor mean variable (num_of_blds) values"
   ]
  },
  {
   "cell_type": "markdown",
   "metadata": {},
   "source": [
    "NOTE: This step does not need to be performed when running the moran or moran.test functions outlined in Steps 4 and 5. This step is only needed if you wish to generate a scatter plot between the variable (num_of_blds) values and their lagged states.\n",
    "\n",
    "Next, we’ll have R compute the average neighbor variable (num_of_blds) value for each polygon. These values are often referred to as spatially lagged values."
   ]
  },
  {
   "cell_type": "code",
   "execution_count": 12,
   "metadata": {
    "vscode": {
     "languageId": "r"
    }
   },
   "outputs": [
    {
     "data": {
      "text/html": [
       "<style>\n",
       ".list-inline {list-style: none; margin:0; padding: 0}\n",
       ".list-inline>li {display: inline-block}\n",
       ".list-inline>li:not(:last-child)::after {content: \"\\00b7\"; padding: 0 .5ex}\n",
       "</style>\n",
       "<ol class=list-inline><li>48705</li><li>49551.75</li><li>45963.1666666667</li><li>46755.5</li><li>48901</li><li>49748.5</li><li>50477.75</li><li>46197.1666666667</li><li>53057</li><li>58061</li><li>52535</li><li>63878.5</li><li>55531.8</li><li>64396</li><li>63755.3333333333</li><li>65237.3333333333</li><li>62894</li><li>61829</li><li>39921</li><li>43202.75</li><li>42088.6666666667</li><li>40291.6666666667</li><li>40571</li><li>41789.8333333333</li><li>42556</li><li>49377.6666666667</li></ol>\n"
      ],
      "text/latex": [
       "\\begin{enumerate*}\n",
       "\\item 48705\n",
       "\\item 49551.75\n",
       "\\item 45963.1666666667\n",
       "\\item 46755.5\n",
       "\\item 48901\n",
       "\\item 49748.5\n",
       "\\item 50477.75\n",
       "\\item 46197.1666666667\n",
       "\\item 53057\n",
       "\\item 58061\n",
       "\\item 52535\n",
       "\\item 63878.5\n",
       "\\item 55531.8\n",
       "\\item 64396\n",
       "\\item 63755.3333333333\n",
       "\\item 65237.3333333333\n",
       "\\item 62894\n",
       "\\item 61829\n",
       "\\item 39921\n",
       "\\item 43202.75\n",
       "\\item 42088.6666666667\n",
       "\\item 40291.6666666667\n",
       "\\item 40571\n",
       "\\item 41789.8333333333\n",
       "\\item 42556\n",
       "\\item 49377.6666666667\n",
       "\\end{enumerate*}\n"
      ],
      "text/markdown": [
       "1. 48705\n",
       "2. 49551.75\n",
       "3. 45963.1666666667\n",
       "4. 46755.5\n",
       "5. 48901\n",
       "6. 49748.5\n",
       "7. 50477.75\n",
       "8. 46197.1666666667\n",
       "9. 53057\n",
       "10. 58061\n",
       "11. 52535\n",
       "12. 63878.5\n",
       "13. 55531.8\n",
       "14. 64396\n",
       "15. 63755.3333333333\n",
       "16. 65237.3333333333\n",
       "17. 62894\n",
       "18. 61829\n",
       "19. 39921\n",
       "20. 43202.75\n",
       "21. 42088.6666666667\n",
       "22. 40291.6666666667\n",
       "23. 40571\n",
       "24. 41789.8333333333\n",
       "25. 42556\n",
       "26. 49377.6666666667\n",
       "\n",
       "\n"
      ],
      "text/plain": [
       " [1] 48705.00 49551.75 45963.17 46755.50 48901.00 49748.50 50477.75 46197.17\n",
       " [9] 53057.00 58061.00 52535.00 63878.50 55531.80 64396.00 63755.33 65237.33\n",
       "[17] 62894.00 61829.00 39921.00 43202.75 42088.67 40291.67 40571.00 41789.83\n",
       "[25] 42556.00 49377.67"
      ]
     },
     "metadata": {},
     "output_type": "display_data"
    }
   ],
   "source": [
    "inc.lag <- lag.listw(lw, s$Income)\n",
    "inc.lag"
   ]
  },
  {
   "cell_type": "markdown",
   "metadata": {},
   "source": [
    "You can plot the relationship between income and its spatially lagged counterpart as follows. The fitted blue line added to the plot is the result of an OLS regression model."
   ]
  },
  {
   "cell_type": "code",
   "execution_count": 13,
   "metadata": {
    "vscode": {
     "languageId": "r"
    }
   },
   "outputs": [
    {
     "data": {
      "image/png": "[encoded data removed]",
      "text/plain": [
       "plot without title"
      ]
     },
     "metadata": {
      "image/png": {
       "height": 420,
       "width": 420
      }
     },
     "output_type": "display_data"
    }
   ],
   "source": [
    "plot(inc.lag ~ s$Income, pch = 16, asp = 1)\n",
    "M1 <- lm(inc.lag ~ s$Income)\n",
    "abline(M1, col = \"blue\")"
   ]
  },
  {
   "cell_type": "code",
   "execution_count": 14,
   "metadata": {
    "vscode": {
     "languageId": "r"
    }
   },
   "outputs": [
    {
     "data": {
      "text/html": [
       "<strong>s$Income:</strong> 0.68279551202875"
      ],
      "text/latex": [
       "\\textbf{s\\textbackslash{}\\$Income:} 0.68279551202875"
      ],
      "text/markdown": [
       "**s$Income:** 0.68279551202875"
      ],
      "text/plain": [
       " s$Income \n",
       "0.6827955 "
      ]
     },
     "metadata": {},
     "output_type": "display_data"
    }
   ],
   "source": [
    "coef(M1)[2]"
   ]
  },
  {
   "cell_type": "markdown",
   "metadata": {},
   "source": [
    "NOTE:\n",
    "The moran’s I coefficient is 0.68. The positive (upward) slope suggests that as the income value of a said polygon increases, so does those of its neighboring polygons. If the slope were negative (i.e. sloping downward), this would suggest a negative relationship whereby increasing values in a said polygon would be surrounded by polygons with decreasing income values."
   ]
  },
  {
   "cell_type": "markdown",
   "metadata": {},
   "source": [
    "## Step 4: Computing the Moran’s I statistic"
   ]
  },
  {
   "cell_type": "markdown",
   "metadata": {},
   "source": [
    "The Moran’s I statistic can be computed using the moran function."
   ]
  },
  {
   "cell_type": "code",
   "execution_count": 15,
   "metadata": {
    "vscode": {
     "languageId": "r"
    }
   },
   "outputs": [
    {
     "data": {
      "text/html": [
       "<strong>$I</strong> = 0.68279551202875"
      ],
      "text/latex": [
       "\\textbf{\\$I} = 0.68279551202875"
      ],
      "text/markdown": [
       "**$I** = 0.68279551202875"
      ],
      "text/plain": [
       "$I\n",
       "[1] 0.6827955\n"
      ]
     },
     "metadata": {},
     "output_type": "display_data"
    }
   ],
   "source": [
    "I <- moran(s$Income, lw, length(nb), Szero(lw))[1]\n",
    "I"
   ]
  },
  {
   "cell_type": "markdown",
   "metadata": {},
   "source": [
    "Recall that the Moran’s I value is the slope of the line that best fits the relationship between neighboring income values and each polygon’s income in the dataset."
   ]
  },
  {
   "cell_type": "markdown",
   "metadata": {},
   "source": [
    "## Step 5: Performing a hypothesis test"
   ]
  },
  {
   "cell_type": "markdown",
   "metadata": {},
   "source": [
    "The hypothesis we are testing states that “the income values are randomly distributed across counties following a completely random process”. There are two methods to testing this hypothesis: an analytical method and a Monte Carlo method. We’ll explore both approaches in the following examples.\n",
    "\n",
    "Analytical method\n",
    "\n",
    "To run the Moran’s I analysis using the analytical method, use the moran.test function."
   ]
  },
  {
   "cell_type": "code",
   "execution_count": 16,
   "metadata": {
    "vscode": {
     "languageId": "r"
    }
   },
   "outputs": [
    {
     "data": {
      "text/plain": [
       "\n",
       "\tMoran I test under randomisation\n",
       "\n",
       "data:  s$Income  \n",
       "weights: lw    \n",
       "\n",
       "Moran I statistic standard deviate = 5.8525, p-value = 2.421e-09\n",
       "alternative hypothesis: greater\n",
       "sample estimates:\n",
       "Moran I statistic       Expectation          Variance \n",
       "       0.68279551       -0.04000000        0.01525284 \n"
      ]
     },
     "metadata": {},
     "output_type": "display_data"
    }
   ],
   "source": [
    "moran.test(s$Income, lw, alternative = \"greater\")"
   ]
  },
  {
   "cell_type": "markdown",
   "metadata": {},
   "source": [
    "The Moran’s I statistic is 0.683 (same value that was computed using the moran function, as expected). The p-value is very small. Usually, when the p-value is very small it’s common practice to report it as < 0.001.\n",
    "\n",
    "Note that ArcMap adopts this analytical approach to its hypothesis test however, it implements a two-sided test as opposed to the one-sided test adopted in the above example (i.e. alternative = \"greater\"). A two-sided p-value is nothing more than twice the one-sided p-value. Unfortunately, ArcMap does not seem to make this important distinction in any of its documentation. This distinction can have important ramifications as shown in the next example (Florida crime data). Fortunately, the income data is so strongly clustered that both a one-sided and two-sided test produce the same outcome (a p-value close to 0).\n",
    "\n",
    "Monte Carlo method\n",
    "\n",
    "The analytical approach to the Moran’s I analysis benefits from being fast. But it may be sensitive to irregularly distributed polygons. A safer approach to hypothesis testing is to run an MC simulation using the moran.mc() function. The moran.mc function takes an extra argument n, the number of simulations."
   ]
  },
  {
   "cell_type": "code",
   "execution_count": 17,
   "metadata": {
    "vscode": {
     "languageId": "r"
    }
   },
   "outputs": [
    {
     "data": {
      "text/plain": [
       "\n",
       "\tMonte-Carlo simulation of Moran I\n",
       "\n",
       "data:  s$Income \n",
       "weights: lw  \n",
       "number of simulations + 1: 1000 \n",
       "\n",
       "statistic = 0.6828, observed rank = 1000, p-value = 0.001\n",
       "alternative hypothesis: greater\n"
      ]
     },
     "metadata": {},
     "output_type": "display_data"
    }
   ],
   "source": [
    "MC <- moran.mc(s$Income, lw, nsim = 999, alternative = \"greater\")\n",
    "\n",
    "# View results (including p-value)\n",
    "MC"
   ]
  },
  {
   "cell_type": "markdown",
   "metadata": {},
   "source": [
    "The MC simulation generates a very small p-value, 0.001. This is not surprising given that the income values are strongly clustered. We can see the results graphically by passing the Moran’s I model to the plot function:"
   ]
  },
  {
   "cell_type": "code",
   "execution_count": 18,
   "metadata": {
    "vscode": {
     "languageId": "r"
    }
   },
   "outputs": [
    {
     "data": {
      "image/png": "[encoded data removed]",
      "text/plain": [
       "Plot with title \"Density plot of permutation outcomes\""
      ]
     },
     "metadata": {
      "image/png": {
       "height": 420,
       "width": 420
      }
     },
     "output_type": "display_data"
    }
   ],
   "source": [
    "# Plot the Null distribution (note that this is a density plot instead of a histogram)\n",
    "plot(MC)"
   ]
  },
  {
   "cell_type": "markdown",
   "metadata": {},
   "source": [
    "The curve shows the distribution of Moran I values we could expect had the incomes been randomly distributed across the counties. Note that our observed statistic, 0.683, falls way to the right of the distribution suggesting that the income values are clustered (a positive Moran’s I value suggests clustering whereas a negative Moran’s I value suggests dispersion).\n",
    "\n",
    "Now, had the Moran’s I statistic been negative (suggesting a dispersed pattern), you would probably want to set the alternative argument to less thus giving you the fraction of simulated I values more dispersed than your observed I value.\n",
    "\n",
    "A visual exercise that you can perform to assess how “typical” or “atypical” your pattern may be relative to a randomly distributed pattern is to plot your observed pattern alongside a few simulated patterns generated under the null hypothesis."
   ]
  },
  {
   "cell_type": "code",
   "execution_count": 19,
   "metadata": {
    "vscode": {
     "languageId": "r"
    }
   },
   "outputs": [
    {
     "name": "stderr",
     "output_type": "stream",
     "text": [
      "old-style crs object detected; please recreate object with a recent sf::st_crs()\n",
      "\n",
      "old-style crs object detected; please recreate object with a recent sf::st_crs()\n",
      "\n",
      "old-style crs object detected; please recreate object with a recent sf::st_crs()\n",
      "\n",
      "old-style crs object detected; please recreate object with a recent sf::st_crs()\n",
      "\n",
      "old-style crs object detected; please recreate object with a recent sf::st_crs()\n",
      "\n"
     ]
    },
    {
     "data": {
      "image/png": "[encoded data removed]",
      "text/plain": [
       "plot without title"
      ]
     },
     "metadata": {
      "image/png": {
       "height": 420,
       "width": 420
      }
     },
     "output_type": "display_data"
    }
   ],
   "source": [
    "set.seed(131)\n",
    "s$rand1 <- sample(s$Income, length(s$Income), replace = FALSE)\n",
    "s$rand2 <- sample(s$Income, length(s$Income), replace = FALSE)\n",
    "s$rand3 <- sample(s$Income, length(s$Income), replace = FALSE)\n",
    "\n",
    "tm_shape(s) + tm_fill(\n",
    "    col = c(\"Income\", \"rand1\", \"rand2\", \"rand3\"),\n",
    "    style = \"quantile\", n = 8, palette = \"Greens\", legend.show = FALSE\n",
    ") +\n",
    "    tm_facets(nrow = 1)"
   ]
  },
  {
   "cell_type": "markdown",
   "metadata": {},
   "source": [
    "## Another example"
   ]
  },
  {
   "cell_type": "code",
   "execution_count": 20,
   "metadata": {
    "vscode": {
     "languageId": "r"
    }
   },
   "outputs": [
    {
     "name": "stderr",
     "output_type": "stream",
     "text": [
      "old-style crs object detected; please recreate object with a recent sf::st_crs()\n",
      "\n",
      "old-style crs object detected; please recreate object with a recent sf::st_crs()\n",
      "\n",
      "old-style crs object detected; please recreate object with a recent sf::st_crs()\n",
      "\n"
     ]
    },
    {
     "data": {
      "text/plain": [
       "\n",
       "\tMonte-Carlo simulation of Moran I\n",
       "\n",
       "data:  s$HR80 \n",
       "weights: lw  \n",
       "number of simulations + 1: 10000 \n",
       "\n",
       "statistic = 0.13628, observed rank = 9575, p-value = 0.0425\n",
       "alternative hypothesis: greater\n"
      ]
     },
     "metadata": {},
     "output_type": "display_data"
    },
    {
     "data": {
      "image/png": "[encoded data removed]",
      "text/plain": [
       "Plot with title \"Density plot of permutation outcomes\""
      ]
     },
     "metadata": {
      "image/png": {
       "height": 420,
       "width": 420
      }
     },
     "output_type": "display_data"
    }
   ],
   "source": [
    "set.seed(2354)\n",
    "# Load the shapefile\n",
    "s <- readRDS(url(\"https://github.com/mgimond/Data/raw/gh-pages/Exercises/fl_hr80.rds\"))\n",
    "\n",
    "# Define the neighbors (use queen case)\n",
    "nb <- poly2nb(s, queen = TRUE)\n",
    "\n",
    "# Compute the neighboring average homicide rates\n",
    "lw <- nb2listw(nb, style = \"W\", zero.policy = TRUE)\n",
    "\n",
    "# Run the MC simulation version of the Moran's I test\n",
    "M1 <- moran.mc(s$HR80, lw, nsim = 9999, alternative = \"greater\")\n",
    "\n",
    "# Plot the results\n",
    "plot(M1)\n",
    "\n",
    "# Display the resulting statistics\n",
    "M1"
   ]
  },
  {
   "cell_type": "code",
   "execution_count": null,
   "metadata": {
    "vscode": {
     "languageId": "r"
    }
   },
   "outputs": [],
   "source": []
  }
 ],
 "metadata": {
  "kernelspec": {
   "display_name": "R",
   "language": "R",
   "name": "ir"
  },
  "language_info": {
   "codemirror_mode": "r",
   "file_extension": ".r",
   "mimetype": "text/x-r-source",
   "name": "R",
   "pygments_lexer": "r",
   "version": "4.3.0"
  },
  "orig_nbformat": 4
 },
 "nbformat": 4,
 "nbformat_minor": 2
}
