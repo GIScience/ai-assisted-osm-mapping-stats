{
 "cells": [
  {
   "cell_type": "code",
   "execution_count": 1,
   "metadata": {},
   "outputs": [],
   "source": [
    "# Prosessing libs\n",
    "import pandas as pd\n",
    "import os\n",
    "import numpy as np\n",
    "from fastparquet import ParquetFile\n",
    "import glob\n",
    "\n",
    "# PySpark\n",
    "from pyspark.sql import SparkSession\n",
    "from pyspark.sql import functions as psf\n",
    "\n",
    "# Visualisation libs\n",
    "from matplotlib import pyplot as plt\n",
    "import seaborn as sns\n",
    "import plotly.express as px\n"
   ]
  },
  {
   "cell_type": "code",
   "execution_count": 2,
   "metadata": {},
   "outputs": [],
   "source": [
    "# change memory allocation for pyarrow\n",
    "# os.environ['PYARROW_MEMORY_POOL_MAX_CHUNKSIZE'] = '3000000000'\n",
    "# os.environ['PYSPARK_DRIVER_PYTHON_OPTS'] = \"notebook\"\n",
    "# os.environ['PYSPARK_DRIVER_PYTHON'] = sys.executable\n",
    "# os.environ['PYSPARK_PYTHON'] = sys.executable"
   ]
  },
  {
   "attachments": {},
   "cell_type": "markdown",
   "metadata": {},
   "source": [
    "## Get the path of all files"
   ]
  },
  {
   "cell_type": "code",
   "execution_count": 3,
   "metadata": {},
   "outputs": [
    {
     "data": {
      "text/plain": [
       "'c:\\\\Users\\\\milan\\\\OneDrive - MUNI\\\\VŠ\\\\PhD\\\\Zahraniční stáž\\\\Work\\\\HeiGIT_notebooks\\\\analysis\\\\ai-assisted-osm-mapping-stats\\\\notebooks-contributions'"
      ]
     },
     "execution_count": 3,
     "metadata": {},
     "output_type": "execute_result"
    }
   ],
   "source": [
    "os.getcwd()"
   ]
  },
  {
   "cell_type": "code",
   "execution_count": 4,
   "metadata": {},
   "outputs": [],
   "source": [
    "os.chdir(\"..\")\n"
   ]
  },
  {
   "cell_type": "code",
   "execution_count": 5,
   "metadata": {},
   "outputs": [
    {
     "data": {
      "text/plain": [
       "'c:\\\\Users\\\\milan\\\\OneDrive - MUNI\\\\VŠ\\\\PhD\\\\Zahraniční stáž\\\\Work\\\\HeiGIT_notebooks\\\\analysis\\\\ai-assisted-osm-mapping-stats\\\\oshdb-contributions-parquet-data-test'"
      ]
     },
     "execution_count": 5,
     "metadata": {},
     "output_type": "execute_result"
    }
   ],
   "source": [
    "home_dir = os.getcwd()\n",
    "parquet_dir = os.path.join(home_dir, r\"oshdb-contributions-parquet-data-test\")\n",
    "parquet_dir\n",
    "\n",
    "# parquet_dir = r\"E:\\Rafael-data\\type=way\\state=latest\"\n"
   ]
  },
  {
   "cell_type": "code",
   "execution_count": 6,
   "metadata": {},
   "outputs": [
    {
     "data": {
      "text/plain": [
       "['c:\\\\Users\\\\milan\\\\OneDrive - MUNI\\\\VŠ\\\\PhD\\\\Zahraniční stáž\\\\Work\\\\HeiGIT_notebooks\\\\analysis\\\\ai-assisted-osm-mapping-stats\\\\oshdb-contributions-parquet-data-test\\\\year=2022\\\\data_0.parquet',\n",
       " 'c:\\\\Users\\\\milan\\\\OneDrive - MUNI\\\\VŠ\\\\PhD\\\\Zahraniční stáž\\\\Work\\\\HeiGIT_notebooks\\\\analysis\\\\ai-assisted-osm-mapping-stats\\\\oshdb-contributions-parquet-data-test\\\\year=2022\\\\data_1.parquet',\n",
       " 'c:\\\\Users\\\\milan\\\\OneDrive - MUNI\\\\VŠ\\\\PhD\\\\Zahraniční stáž\\\\Work\\\\HeiGIT_notebooks\\\\analysis\\\\ai-assisted-osm-mapping-stats\\\\oshdb-contributions-parquet-data-test\\\\year=2022\\\\data_10.parquet',\n",
       " 'c:\\\\Users\\\\milan\\\\OneDrive - MUNI\\\\VŠ\\\\PhD\\\\Zahraniční stáž\\\\Work\\\\HeiGIT_notebooks\\\\analysis\\\\ai-assisted-osm-mapping-stats\\\\oshdb-contributions-parquet-data-test\\\\year=2022\\\\data_11.parquet',\n",
       " 'c:\\\\Users\\\\milan\\\\OneDrive - MUNI\\\\VŠ\\\\PhD\\\\Zahraniční stáž\\\\Work\\\\HeiGIT_notebooks\\\\analysis\\\\ai-assisted-osm-mapping-stats\\\\oshdb-contributions-parquet-data-test\\\\year=2022\\\\data_2.parquet',\n",
       " 'c:\\\\Users\\\\milan\\\\OneDrive - MUNI\\\\VŠ\\\\PhD\\\\Zahraniční stáž\\\\Work\\\\HeiGIT_notebooks\\\\analysis\\\\ai-assisted-osm-mapping-stats\\\\oshdb-contributions-parquet-data-test\\\\year=2022\\\\data_3.parquet',\n",
       " 'c:\\\\Users\\\\milan\\\\OneDrive - MUNI\\\\VŠ\\\\PhD\\\\Zahraniční stáž\\\\Work\\\\HeiGIT_notebooks\\\\analysis\\\\ai-assisted-osm-mapping-stats\\\\oshdb-contributions-parquet-data-test\\\\year=2022\\\\data_4.parquet',\n",
       " 'c:\\\\Users\\\\milan\\\\OneDrive - MUNI\\\\VŠ\\\\PhD\\\\Zahraniční stáž\\\\Work\\\\HeiGIT_notebooks\\\\analysis\\\\ai-assisted-osm-mapping-stats\\\\oshdb-contributions-parquet-data-test\\\\year=2022\\\\data_5.parquet',\n",
       " 'c:\\\\Users\\\\milan\\\\OneDrive - MUNI\\\\VŠ\\\\PhD\\\\Zahraniční stáž\\\\Work\\\\HeiGIT_notebooks\\\\analysis\\\\ai-assisted-osm-mapping-stats\\\\oshdb-contributions-parquet-data-test\\\\year=2022\\\\data_6.parquet',\n",
       " 'c:\\\\Users\\\\milan\\\\OneDrive - MUNI\\\\VŠ\\\\PhD\\\\Zahraniční stáž\\\\Work\\\\HeiGIT_notebooks\\\\analysis\\\\ai-assisted-osm-mapping-stats\\\\oshdb-contributions-parquet-data-test\\\\year=2022\\\\data_7.parquet',\n",
       " 'c:\\\\Users\\\\milan\\\\OneDrive - MUNI\\\\VŠ\\\\PhD\\\\Zahraniční stáž\\\\Work\\\\HeiGIT_notebooks\\\\analysis\\\\ai-assisted-osm-mapping-stats\\\\oshdb-contributions-parquet-data-test\\\\year=2022\\\\data_8.parquet',\n",
       " 'c:\\\\Users\\\\milan\\\\OneDrive - MUNI\\\\VŠ\\\\PhD\\\\Zahraniční stáž\\\\Work\\\\HeiGIT_notebooks\\\\analysis\\\\ai-assisted-osm-mapping-stats\\\\oshdb-contributions-parquet-data-test\\\\year=2022\\\\data_9.parquet']"
      ]
     },
     "execution_count": 6,
     "metadata": {},
     "output_type": "execute_result"
    }
   ],
   "source": [
    "files = glob.glob(f'{parquet_dir}\\\\**\\\\*.parquet', recursive=True)\n",
    "files\n"
   ]
  },
  {
   "cell_type": "code",
   "execution_count": 7,
   "metadata": {},
   "outputs": [],
   "source": [
    "# os.chdir(\"..\")\n",
    "# home_dir = os.getcwd()\n",
    "# parquet_dir_node = os.path.join(home_dir, r\"oshdb-contributions-parquet-data\\type=node\")\n",
    "# parquet_dir = os.path.join(home_dir, r\"oshdb-contributions-parquet-data\")\n",
    "# duckdb_dir = os.path.join(home_dir, r\"notebooks-contributions\\duckdb\")\n",
    "# test_dir = os.path.join(home_dir, r\"oshdb-contributions-parquet-data\\type=node\\year=2023\")\n"
   ]
  },
  {
   "cell_type": "code",
   "execution_count": 8,
   "metadata": {},
   "outputs": [],
   "source": [
    "# files = glob.glob(f'{parquet_dir}\\\\**\\\\*.parquet', recursive=True)\n",
    "# files\n"
   ]
  },
  {
   "cell_type": "code",
   "execution_count": 9,
   "metadata": {},
   "outputs": [],
   "source": [
    "# files_location_lst = []\n",
    "\n",
    "# for (path_dir, folder_names, file_names) in os.walk(parquet_dir_node):\n",
    "#     for file_name in file_names:\n",
    "#         if file_name.endswith(\".parquet\"):\n",
    "#             file_location = os.path.join(path_dir, file_name)\n",
    "#             files_location_lst.append(file_location)\n",
    "# files_location_lst\n"
   ]
  },
  {
   "attachments": {},
   "cell_type": "markdown",
   "metadata": {},
   "source": [
    "## Load the all data with Apache PySpark"
   ]
  },
  {
   "cell_type": "code",
   "execution_count": 10,
   "metadata": {},
   "outputs": [],
   "source": [
    "spark = SparkSession.builder.appName(\"ReadParquetFiles\").getOrCreate()\n",
    "\n",
    "df = spark.read.parquet(*files)\n",
    "\n",
    "# df.show()\n"
   ]
  },
  {
   "cell_type": "code",
   "execution_count": 11,
   "metadata": {},
   "outputs": [],
   "source": [
    "# df.count()"
   ]
  },
  {
   "cell_type": "code",
   "execution_count": 12,
   "metadata": {},
   "outputs": [],
   "source": [
    "# spark.stop()"
   ]
  },
  {
   "cell_type": "code",
   "execution_count": 13,
   "metadata": {},
   "outputs": [],
   "source": [
    "# df.describe().show()"
   ]
  },
  {
   "cell_type": "code",
   "execution_count": 14,
   "metadata": {},
   "outputs": [],
   "source": [
    "# df.na.drop(how=\"any\",subset=[\"building_area\"]).show()"
   ]
  },
  {
   "attachments": {},
   "cell_type": "markdown",
   "metadata": {},
   "source": [
    "### Data transformation, Data types conversion"
   ]
  },
  {
   "cell_type": "code",
   "execution_count": 15,
   "metadata": {},
   "outputs": [],
   "source": [
    "# Cast the 'changeset_timestamp' column to a LongType\n",
    "df = df.withColumn('changeset_timestamp', psf.col(\n",
    "    'changeset_timestamp').cast('long'))\n",
    "\n",
    "# Use the 'changeset_timestamp' column to create a new 'datetime' column\n",
    "df = df.withColumn('datetime', psf.from_unixtime(\n",
    "    psf.col('changeset_timestamp')/1000, 'yyyy-MM-dd HH:mm:ss.SSSSSS'))\n",
    "\n",
    "# Show the resulting DataFrame\n",
    "# df.show()\n"
   ]
  },
  {
   "cell_type": "code",
   "execution_count": 16,
   "metadata": {},
   "outputs": [],
   "source": [
    "# Use the 'changeset_timestamp' column to create a new 'datetime' column\n",
    "df = df.withColumn('y_m', psf.from_unixtime(\n",
    "    psf.col('changeset_timestamp')/1000, 'yyyy-MM'))\n",
    "\n",
    "# Create a new column called 'year' containing the year from the 'datetime' column\n",
    "df = df.withColumn('year', psf.year('datetime'))\n",
    "\n",
    "\n",
    "\n",
    "# Show the resulting DataFrame\n",
    "# df.show()\n"
   ]
  },
  {
   "cell_type": "code",
   "execution_count": 17,
   "metadata": {},
   "outputs": [],
   "source": [
    "# Convert the 'tags' column to a string for filtering\n",
    "df = df.withColumn(\"tags_str\", df.tags.cast(\"string\"))\n",
    "df = df.withColumn(\"road_str\", df.road.cast(\"string\"))"
   ]
  },
  {
   "cell_type": "code",
   "execution_count": 18,
   "metadata": {},
   "outputs": [
    {
     "data": {
      "text/plain": [
       "\"['contrib_id', 'valid_from', 'valid_to', 'osm_id', 'osm_version', 'changeset_id', 'changeset_timestamp', 'hashtags', 'editor', 'user_id', 'tags', 'tags_delta', 'primary_feature', 'building', 'road', 'is_area', 'area', 'area_delta', 'length', 'length_delta', 'contrib_type', 'country_iso_a3', 'country', 'centroid', 'geometry_type', 'geometry_valid', 'geometry', 'state', 'type', 'datetime', 'y_m', 'year', 'tags_str', 'road_str']\""
      ]
     },
     "execution_count": 18,
     "metadata": {},
     "output_type": "execute_result"
    }
   ],
   "source": [
    "str(df.columns)"
   ]
  },
  {
   "cell_type": "code",
   "execution_count": 19,
   "metadata": {},
   "outputs": [],
   "source": [
    "# df.count()"
   ]
  },
  {
   "cell_type": "code",
   "execution_count": 20,
   "metadata": {},
   "outputs": [],
   "source": [
    "# df.groupBy(\"road\").count().show()"
   ]
  },
  {
   "cell_type": "code",
   "execution_count": 21,
   "metadata": {},
   "outputs": [],
   "source": [
    "# df.groupBy(\"state\").count().show()"
   ]
  },
  {
   "cell_type": "code",
   "execution_count": 22,
   "metadata": {},
   "outputs": [],
   "source": [
    "df = df.withColumn(\"hashtags_un\", psf.concat_ws(\",\", psf.col(\"hashtags\")))\n"
   ]
  },
  {
   "cell_type": "code",
   "execution_count": 23,
   "metadata": {},
   "outputs": [],
   "source": [
    "# df.groupBy(\"building\").count().show()"
   ]
  },
  {
   "cell_type": "code",
   "execution_count": 24,
   "metadata": {},
   "outputs": [
    {
     "data": {
      "text/plain": [
       "['contrib_id',\n",
       " 'valid_from',\n",
       " 'valid_to',\n",
       " 'osm_id',\n",
       " 'osm_version',\n",
       " 'changeset_id',\n",
       " 'changeset_timestamp',\n",
       " 'hashtags',\n",
       " 'editor',\n",
       " 'user_id',\n",
       " 'tags',\n",
       " 'tags_delta',\n",
       " 'primary_feature',\n",
       " 'building',\n",
       " 'road',\n",
       " 'is_area',\n",
       " 'area',\n",
       " 'area_delta',\n",
       " 'length',\n",
       " 'length_delta',\n",
       " 'contrib_type',\n",
       " 'country_iso_a3',\n",
       " 'country',\n",
       " 'centroid',\n",
       " 'geometry_type',\n",
       " 'geometry_valid',\n",
       " 'geometry',\n",
       " 'state',\n",
       " 'type',\n",
       " 'datetime',\n",
       " 'y_m',\n",
       " 'year',\n",
       " 'tags_str',\n",
       " 'road_str',\n",
       " 'hashtags_un']"
      ]
     },
     "execution_count": 24,
     "metadata": {},
     "output_type": "execute_result"
    }
   ],
   "source": [
    "df.columns"
   ]
  },
  {
   "cell_type": "code",
   "execution_count": 25,
   "metadata": {},
   "outputs": [],
   "source": [
    "# df.count()"
   ]
  },
  {
   "cell_type": "code",
   "execution_count": 26,
   "metadata": {},
   "outputs": [],
   "source": [
    "# df.show()"
   ]
  },
  {
   "cell_type": "code",
   "execution_count": 27,
   "metadata": {},
   "outputs": [],
   "source": [
    "# Try to identify Vietnam abbretiation\n",
    "\n",
    "#df_V = df.filter(psf.col(\"country\").startswith(\"V\"))\n",
    "# df_V.groupBy(\"country\").count().show()\n",
    "\n",
    "# Create temporary view\n",
    "#df_V.createOrReplaceTempView(\"TAB\")\n",
    "# spark.sql(\"SELECT DISTINCT * FROM TAB\").show()\n",
    "#spark.sql(\"SELECT DISTINCT country FROM TAB\").show()\n"
   ]
  },
  {
   "cell_type": "code",
   "execution_count": 28,
   "metadata": {},
   "outputs": [],
   "source": [
    "# Get the last edit\n",
    "# max_date = df.selectExpr(\"max(datetime)\").collect()\n",
    "# max_date[0]\n"
   ]
  },
  {
   "cell_type": "markdown",
   "metadata": {},
   "source": [
    "# Number of created buildings"
   ]
  },
  {
   "attachments": {},
   "cell_type": "markdown",
   "metadata": {},
   "source": [
    "### Data wrangling – buildings\n",
    "- select all buildings (col building) with 1 value and NULL value\n",
    "- use groupBy to count the last record of the users → the number of buildings"
   ]
  },
  {
   "cell_type": "code",
   "execution_count": 29,
   "metadata": {},
   "outputs": [],
   "source": [
    "# df.groupBy(\"building\").count().show()"
   ]
  },
  {
   "cell_type": "code",
   "execution_count": 30,
   "metadata": {},
   "outputs": [],
   "source": [
    "df_blds_created = df.filter(psf.col('building').isin([1]) | psf.col('building').isNull()) # | psf.col('building').isNull()\n"
   ]
  },
  {
   "cell_type": "code",
   "execution_count": 31,
   "metadata": {},
   "outputs": [],
   "source": [
    "# df_blds_created.show()"
   ]
  },
  {
   "cell_type": "code",
   "execution_count": 32,
   "metadata": {},
   "outputs": [],
   "source": [
    "# df_blds = df.filter(df.building.contains(1) | df.building.contains(0) | df.building.isNull())\n"
   ]
  },
  {
   "cell_type": "code",
   "execution_count": 33,
   "metadata": {},
   "outputs": [],
   "source": [
    "# df_blds.show()"
   ]
  },
  {
   "cell_type": "code",
   "execution_count": 34,
   "metadata": {},
   "outputs": [],
   "source": [
    "# df_blds.groupBy(\"building\").count().show()\n"
   ]
  },
  {
   "cell_type": "code",
   "execution_count": 35,
   "metadata": {},
   "outputs": [],
   "source": [
    "df_blds_created = df_blds_created.groupBy(\"osm_id\", \"editor\", \"country\", \"tags_str\", \"hashtags\", \"year\").agg(psf.last(\"datetime\").alias(\"datetime\"))"
   ]
  },
  {
   "cell_type": "code",
   "execution_count": 36,
   "metadata": {},
   "outputs": [],
   "source": [
    "# df_blds.show()"
   ]
  },
  {
   "cell_type": "code",
   "execution_count": 37,
   "metadata": {},
   "outputs": [],
   "source": [
    "# df_blds.show()"
   ]
  },
  {
   "cell_type": "code",
   "execution_count": 38,
   "metadata": {},
   "outputs": [],
   "source": [
    "df_blds_created = df_blds_created.withColumn(\"hashtags_un\", psf.concat_ws(\",\", psf.col(\"hashtags\")))\n"
   ]
  },
  {
   "cell_type": "markdown",
   "metadata": {},
   "source": [
    "## Building filter"
   ]
  },
  {
   "cell_type": "markdown",
   "metadata": {},
   "source": [
    "### Filter for numbers of  created buildings\n",
    "- column tag_str contains 'building' to filter all buildings"
   ]
  },
  {
   "cell_type": "code",
   "execution_count": 39,
   "metadata": {},
   "outputs": [],
   "source": [
    "df_all_blds_created = df_blds_created.filter(df_blds_created.tags_str.contains(\"building\"))\n",
    "# df_all_blds_created.show()"
   ]
  },
  {
   "cell_type": "code",
   "execution_count": 40,
   "metadata": {},
   "outputs": [
    {
     "data": {
      "text/html": [
       "<div>\n",
       "<style scoped>\n",
       "    .dataframe tbody tr th:only-of-type {\n",
       "        vertical-align: middle;\n",
       "    }\n",
       "\n",
       "    .dataframe tbody tr th {\n",
       "        vertical-align: top;\n",
       "    }\n",
       "\n",
       "    .dataframe thead th {\n",
       "        text-align: right;\n",
       "    }\n",
       "</style>\n",
       "<table border=\"1\" class=\"dataframe\">\n",
       "  <thead>\n",
       "    <tr style=\"text-align: right;\">\n",
       "      <th></th>\n",
       "      <th>year</th>\n",
       "      <th>df_all_blds_created_world</th>\n",
       "    </tr>\n",
       "  </thead>\n",
       "  <tbody>\n",
       "    <tr>\n",
       "      <th>0</th>\n",
       "      <td>2023</td>\n",
       "      <td>1592</td>\n",
       "    </tr>\n",
       "    <tr>\n",
       "      <th>1</th>\n",
       "      <td>2022</td>\n",
       "      <td>52289008</td>\n",
       "    </tr>\n",
       "  </tbody>\n",
       "</table>\n",
       "</div>"
      ],
      "text/plain": [
       "   year  df_all_blds_created_world\n",
       "0  2023                       1592\n",
       "1  2022                   52289008"
      ]
     },
     "execution_count": 40,
     "metadata": {},
     "output_type": "execute_result"
    }
   ],
   "source": [
    "# World\n",
    "df_all_blds_created_world = df_all_blds_created.groupBy(\"year\").count().withColumnRenamed(\"count\", \"df_all_blds_created_world\").toPandas()\n",
    "df_all_blds_created_world\n"
   ]
  },
  {
   "cell_type": "code",
   "execution_count": 41,
   "metadata": {},
   "outputs": [
    {
     "data": {
      "text/html": [
       "<div>\n",
       "<style scoped>\n",
       "    .dataframe tbody tr th:only-of-type {\n",
       "        vertical-align: middle;\n",
       "    }\n",
       "\n",
       "    .dataframe tbody tr th {\n",
       "        vertical-align: top;\n",
       "    }\n",
       "\n",
       "    .dataframe thead th {\n",
       "        text-align: right;\n",
       "    }\n",
       "</style>\n",
       "<table border=\"1\" class=\"dataframe\">\n",
       "  <thead>\n",
       "    <tr style=\"text-align: right;\">\n",
       "      <th></th>\n",
       "      <th>year</th>\n",
       "      <th>country</th>\n",
       "      <th>df_all_blds_created_country</th>\n",
       "    </tr>\n",
       "  </thead>\n",
       "  <tbody>\n",
       "    <tr>\n",
       "      <th>0</th>\n",
       "      <td>2022</td>\n",
       "      <td>USA</td>\n",
       "      <td>8779829</td>\n",
       "    </tr>\n",
       "    <tr>\n",
       "      <th>1</th>\n",
       "      <td>2022</td>\n",
       "      <td>NGA</td>\n",
       "      <td>2873253</td>\n",
       "    </tr>\n",
       "    <tr>\n",
       "      <th>2</th>\n",
       "      <td>2022</td>\n",
       "      <td>CZE</td>\n",
       "      <td>101841</td>\n",
       "    </tr>\n",
       "    <tr>\n",
       "      <th>3</th>\n",
       "      <td>2023</td>\n",
       "      <td>DEU</td>\n",
       "      <td>13</td>\n",
       "    </tr>\n",
       "    <tr>\n",
       "      <th>4</th>\n",
       "      <td>2023</td>\n",
       "      <td>USA</td>\n",
       "      <td>296</td>\n",
       "    </tr>\n",
       "    <tr>\n",
       "      <th>5</th>\n",
       "      <td>2022</td>\n",
       "      <td>VNM</td>\n",
       "      <td>70447</td>\n",
       "    </tr>\n",
       "    <tr>\n",
       "      <th>6</th>\n",
       "      <td>2023</td>\n",
       "      <td>NGA</td>\n",
       "      <td>144</td>\n",
       "    </tr>\n",
       "    <tr>\n",
       "      <th>7</th>\n",
       "      <td>2022</td>\n",
       "      <td>DEU</td>\n",
       "      <td>1968254</td>\n",
       "    </tr>\n",
       "  </tbody>\n",
       "</table>\n",
       "</div>"
      ],
      "text/plain": [
       "   year country  df_all_blds_created_country\n",
       "0  2022     USA                      8779829\n",
       "1  2022     NGA                      2873253\n",
       "2  2022     CZE                       101841\n",
       "3  2023     DEU                           13\n",
       "4  2023     USA                          296\n",
       "5  2022     VNM                        70447\n",
       "6  2023     NGA                          144\n",
       "7  2022     DEU                      1968254"
      ]
     },
     "execution_count": 41,
     "metadata": {},
     "output_type": "execute_result"
    }
   ],
   "source": [
    "# Selected countries\n",
    "df_all_blds_created_country = df_all_blds_created.filter(\"country == 'USA' OR country == 'NGA' OR country == 'VNM' OR country == 'DEU' OR country == 'CZE'\")\n",
    "df_all_blds_created_country = df_all_blds_created_country.groupBy(\"year\", \"country\").count().withColumnRenamed(\"count\", \"df_all_blds_created_country\").toPandas()\n",
    "df_all_blds_created_country"
   ]
  },
  {
   "cell_type": "code",
   "execution_count": 42,
   "metadata": {},
   "outputs": [],
   "source": [
    "# # USA - USA\n",
    "# df_all_blds_created_country = df_all_blds_created.groupBy(\"year\", \"country\").count().withColumnRenamed(\"count\", \"df_all_blds_created_country_USA\")\n",
    "# df_all_blds_created_country_USA = df_all_blds_created_country.filter(\"country == 'USA' OR country == 'CZE'\").toPandas()  # psf.col(\"country\") == \"USA\" | psf.col(\"country\") == \"CZE\"\n",
    "# df_all_blds_created_country_USA\n"
   ]
  },
  {
   "cell_type": "code",
   "execution_count": 43,
   "metadata": {},
   "outputs": [],
   "source": [
    "# # Nigeria - NGA\n",
    "# df_all_blds_created_country = df_all_blds_created.groupBy(\"year\", \"country\").count()\n",
    "# df_all_blds_created_country_NGA = df_all_blds_created_country.filter(df_all_blds_created_country.country == \"NGA\").toPandas()\n",
    "# df_all_blds_created_country_NGA"
   ]
  },
  {
   "cell_type": "code",
   "execution_count": 44,
   "metadata": {},
   "outputs": [],
   "source": [
    "# # Vietnam - VNM\n",
    "# df_all_blds_created_country = df_all_blds_created.groupBy(\"year\", \"country\").count()\n",
    "# df_all_blds_created_country_VNM = df_all_blds_created_country.filter(df_all_blds_created_country.country == \"VNM\").toPandas()\n",
    "# df_all_blds_created_country_VNM"
   ]
  },
  {
   "cell_type": "code",
   "execution_count": 45,
   "metadata": {},
   "outputs": [],
   "source": [
    "# # Germany - DEU\n",
    "# df_all_blds_created_country = df_all_blds_created.groupBy(\"year\", \"country\").count()\n",
    "# df_all_blds_created_country_DEU = df_all_blds_created_country.filter(df_all_blds_created_country.country == \"DEU\").toPandas()\n",
    "# df_all_blds_created_country_DEU"
   ]
  },
  {
   "cell_type": "code",
   "execution_count": 46,
   "metadata": {},
   "outputs": [],
   "source": [
    "# # Czechia - CZE\n",
    "# df_all_blds_created_country = df_all_blds_created.groupBy(\"year\", \"country\").count()\n",
    "# df_all_blds_created_country_CZE = df_all_blds_created_country.filter(df_all_blds_created_country.country == \"CZE\").toPandas()\n",
    "# df_all_blds_created_country_CZE\n"
   ]
  },
  {
   "attachments": {},
   "cell_type": "markdown",
   "metadata": {},
   "source": [
    "## AI created buildings filter"
   ]
  },
  {
   "attachments": {},
   "cell_type": "markdown",
   "metadata": {},
   "source": [
    "### Filter 1\n",
    "- column tag_str contains 'microsoft/BuildingFootprints' or 'esri/Google_Africa_Buildings'"
   ]
  },
  {
   "cell_type": "code",
   "execution_count": 47,
   "metadata": {},
   "outputs": [],
   "source": [
    "df_ai_blds_created = df_all_blds_created.filter(\n",
    "    df_all_blds_created.tags_str.contains(\"microsoft/BuildingFootprints\")\n",
    "    | df_all_blds_created.tags_str.contains(\"esri/Google_Africa_Buildings\")\n",
    "    )\n"
   ]
  },
  {
   "cell_type": "code",
   "execution_count": 48,
   "metadata": {},
   "outputs": [
    {
     "data": {
      "text/html": [
       "<div>\n",
       "<style scoped>\n",
       "    .dataframe tbody tr th:only-of-type {\n",
       "        vertical-align: middle;\n",
       "    }\n",
       "\n",
       "    .dataframe tbody tr th {\n",
       "        vertical-align: top;\n",
       "    }\n",
       "\n",
       "    .dataframe thead th {\n",
       "        text-align: right;\n",
       "    }\n",
       "</style>\n",
       "<table border=\"1\" class=\"dataframe\">\n",
       "  <thead>\n",
       "    <tr style=\"text-align: right;\">\n",
       "      <th></th>\n",
       "      <th>year</th>\n",
       "      <th>df_ai_blds_created_world</th>\n",
       "    </tr>\n",
       "  </thead>\n",
       "  <tbody>\n",
       "    <tr>\n",
       "      <th>0</th>\n",
       "      <td>2023</td>\n",
       "      <td>138</td>\n",
       "    </tr>\n",
       "    <tr>\n",
       "      <th>1</th>\n",
       "      <td>2022</td>\n",
       "      <td>6293525</td>\n",
       "    </tr>\n",
       "  </tbody>\n",
       "</table>\n",
       "</div>"
      ],
      "text/plain": [
       "   year  df_ai_blds_created_world\n",
       "0  2023                       138\n",
       "1  2022                   6293525"
      ]
     },
     "execution_count": 48,
     "metadata": {},
     "output_type": "execute_result"
    }
   ],
   "source": [
    "# World\n",
    "df_ai_blds_created_world = df_ai_blds_created.groupBy(\"year\").count().withColumnRenamed(\"count\", \"df_ai_blds_created_world\").toPandas()\n",
    "df_ai_blds_created_world\n"
   ]
  },
  {
   "cell_type": "code",
   "execution_count": 49,
   "metadata": {},
   "outputs": [
    {
     "data": {
      "text/html": [
       "<div>\n",
       "<style scoped>\n",
       "    .dataframe tbody tr th:only-of-type {\n",
       "        vertical-align: middle;\n",
       "    }\n",
       "\n",
       "    .dataframe tbody tr th {\n",
       "        vertical-align: top;\n",
       "    }\n",
       "\n",
       "    .dataframe thead th {\n",
       "        text-align: right;\n",
       "    }\n",
       "</style>\n",
       "<table border=\"1\" class=\"dataframe\">\n",
       "  <thead>\n",
       "    <tr style=\"text-align: right;\">\n",
       "      <th></th>\n",
       "      <th>year</th>\n",
       "      <th>country</th>\n",
       "      <th>df_all_blds_created_country</th>\n",
       "    </tr>\n",
       "  </thead>\n",
       "  <tbody>\n",
       "    <tr>\n",
       "      <th>0</th>\n",
       "      <td>2022</td>\n",
       "      <td>USA</td>\n",
       "      <td>8779829</td>\n",
       "    </tr>\n",
       "    <tr>\n",
       "      <th>1</th>\n",
       "      <td>2022</td>\n",
       "      <td>NGA</td>\n",
       "      <td>2873253</td>\n",
       "    </tr>\n",
       "    <tr>\n",
       "      <th>2</th>\n",
       "      <td>2022</td>\n",
       "      <td>CZE</td>\n",
       "      <td>101841</td>\n",
       "    </tr>\n",
       "    <tr>\n",
       "      <th>3</th>\n",
       "      <td>2023</td>\n",
       "      <td>DEU</td>\n",
       "      <td>13</td>\n",
       "    </tr>\n",
       "    <tr>\n",
       "      <th>4</th>\n",
       "      <td>2023</td>\n",
       "      <td>USA</td>\n",
       "      <td>296</td>\n",
       "    </tr>\n",
       "    <tr>\n",
       "      <th>5</th>\n",
       "      <td>2022</td>\n",
       "      <td>VNM</td>\n",
       "      <td>70447</td>\n",
       "    </tr>\n",
       "    <tr>\n",
       "      <th>6</th>\n",
       "      <td>2023</td>\n",
       "      <td>NGA</td>\n",
       "      <td>144</td>\n",
       "    </tr>\n",
       "    <tr>\n",
       "      <th>7</th>\n",
       "      <td>2022</td>\n",
       "      <td>DEU</td>\n",
       "      <td>1968254</td>\n",
       "    </tr>\n",
       "  </tbody>\n",
       "</table>\n",
       "</div>"
      ],
      "text/plain": [
       "   year country  df_all_blds_created_country\n",
       "0  2022     USA                      8779829\n",
       "1  2022     NGA                      2873253\n",
       "2  2022     CZE                       101841\n",
       "3  2023     DEU                           13\n",
       "4  2023     USA                          296\n",
       "5  2022     VNM                        70447\n",
       "6  2023     NGA                          144\n",
       "7  2022     DEU                      1968254"
      ]
     },
     "execution_count": 49,
     "metadata": {},
     "output_type": "execute_result"
    }
   ],
   "source": [
    "# Selected countries\n",
    "df_ai_blds_created_country = df_ai_blds_created.filter(\"country == 'USA' OR country == 'NGA' OR country == 'VNM' OR country == 'DEU' OR country == 'CZE'\")\n",
    "df_ai_blds_created_country = df_ai_blds_created_country.groupBy(\"year\", \"country\").count().withColumnRenamed(\"count\", \"df_ai_blds_created_country\").toPandas()\n",
    "df_all_blds_created_country"
   ]
  },
  {
   "cell_type": "code",
   "execution_count": 50,
   "metadata": {},
   "outputs": [],
   "source": [
    "# # USA - USA\n",
    "# df_ai_blds_created_country = df_ai_blds_created.groupBy(\"year\", \"country\").count()\n",
    "# df_ai_blds_created_country_USA = df_ai_blds_created_country.filter(df_ai_blds_created_country.country == \"USA\").toPandas()\n",
    "# df_ai_blds_created_country_USA"
   ]
  },
  {
   "cell_type": "code",
   "execution_count": 51,
   "metadata": {},
   "outputs": [],
   "source": [
    "# # Nigeria - NGA\n",
    "# df_ai_blds_created_country = df_ai_blds_created.groupBy(\"year\", \"country\").count()\n",
    "# df_ai_blds_created_country_NGA = df_ai_blds_created_country.filter(df_ai_blds_created_country.country == \"NGA\").toPandas()\n",
    "# df_ai_blds_created_country_NGA"
   ]
  },
  {
   "cell_type": "code",
   "execution_count": 52,
   "metadata": {},
   "outputs": [],
   "source": [
    "# # Vietnam - VNM\n",
    "# df_ai_blds_created_country = df_ai_blds_created.groupBy(\"year\", \"country\").count()\n",
    "# df_ai_blds_created_country_VNM = df_ai_blds_created_country.filter(df_ai_blds_created_country.country == \"VNM\").toPandas()\n",
    "# df_ai_blds_created_country_VNM\n"
   ]
  },
  {
   "cell_type": "code",
   "execution_count": 53,
   "metadata": {},
   "outputs": [],
   "source": [
    "# # Germany - DEU\n",
    "# df_ai_blds_created_country = df_ai_blds_created.groupBy(\"year\", \"country\").count()\n",
    "# df_ai_blds_created_country_DEU = df_ai_blds_created_country.filter(df_ai_blds_created_country.country == \"DEU\").toPandas()\n",
    "# df_ai_blds_created_country_DEU"
   ]
  },
  {
   "cell_type": "code",
   "execution_count": 54,
   "metadata": {},
   "outputs": [],
   "source": [
    "# # Czechia - CZE\n",
    "# df_ai_blds_created_country = df_ai_blds_created.groupBy(\"year\", \"country\").count()\n",
    "# df_ai_blds_created_country_CZE = df_ai_blds_created_country.filter(df_ai_blds_created_country.country == \"CZE\").toPandas()\n",
    "# df_ai_blds_created_country_CZE"
   ]
  },
  {
   "cell_type": "markdown",
   "metadata": {},
   "source": [
    "# Number of edited buildings"
   ]
  },
  {
   "cell_type": "code",
   "execution_count": 55,
   "metadata": {},
   "outputs": [],
   "source": [
    "df_blds_edited = df.filter(psf.col('building').isin([0]) | psf.col('building').isNull()) # | psf.col('building').isNull()\n"
   ]
  },
  {
   "cell_type": "code",
   "execution_count": 56,
   "metadata": {},
   "outputs": [],
   "source": [
    "# df_blds = df.filter(df.building.contains(1) | df.building.contains(0) | df.building.isNull())\n"
   ]
  },
  {
   "cell_type": "code",
   "execution_count": 57,
   "metadata": {},
   "outputs": [],
   "source": [
    "# df_blds.show()"
   ]
  },
  {
   "cell_type": "code",
   "execution_count": 58,
   "metadata": {},
   "outputs": [],
   "source": [
    "# df_blds.groupBy(\"building\").count().show()\n"
   ]
  },
  {
   "cell_type": "code",
   "execution_count": 59,
   "metadata": {},
   "outputs": [],
   "source": [
    "df_blds_edited = df_blds_edited.groupBy(\"osm_id\", \"editor\", \"country\", \"tags_str\", \"hashtags\", \"year\").agg(psf.last(\"datetime\").alias(\"datetime\"))\n"
   ]
  },
  {
   "cell_type": "code",
   "execution_count": 60,
   "metadata": {},
   "outputs": [],
   "source": [
    "# df_blds.show()"
   ]
  },
  {
   "cell_type": "code",
   "execution_count": 61,
   "metadata": {},
   "outputs": [],
   "source": [
    "# df_blds.show()"
   ]
  },
  {
   "cell_type": "code",
   "execution_count": 62,
   "metadata": {},
   "outputs": [],
   "source": [
    "df_blds_edited = df_blds_edited.withColumn(\"hashtags_un\", psf.concat_ws(\",\", psf.col(\"hashtags\")))\n"
   ]
  },
  {
   "cell_type": "markdown",
   "metadata": {},
   "source": [
    "## Building filter"
   ]
  },
  {
   "cell_type": "markdown",
   "metadata": {},
   "source": [
    "### Filter for numbers of  edited buildings\n",
    "- column tag_str contains 'building' to filter all buildings"
   ]
  },
  {
   "cell_type": "code",
   "execution_count": 63,
   "metadata": {},
   "outputs": [],
   "source": [
    "df_all_blds_edited = df_blds_edited.filter(df_blds_edited.tags_str.contains(\"building\"))\n"
   ]
  },
  {
   "cell_type": "code",
   "execution_count": 64,
   "metadata": {},
   "outputs": [
    {
     "data": {
      "text/html": [
       "<div>\n",
       "<style scoped>\n",
       "    .dataframe tbody tr th:only-of-type {\n",
       "        vertical-align: middle;\n",
       "    }\n",
       "\n",
       "    .dataframe tbody tr th {\n",
       "        vertical-align: top;\n",
       "    }\n",
       "\n",
       "    .dataframe thead th {\n",
       "        text-align: right;\n",
       "    }\n",
       "</style>\n",
       "<table border=\"1\" class=\"dataframe\">\n",
       "  <thead>\n",
       "    <tr style=\"text-align: right;\">\n",
       "      <th></th>\n",
       "      <th>year</th>\n",
       "      <th>df_all_blds_edited_world</th>\n",
       "    </tr>\n",
       "  </thead>\n",
       "  <tbody>\n",
       "    <tr>\n",
       "      <th>0</th>\n",
       "      <td>2023</td>\n",
       "      <td>515</td>\n",
       "    </tr>\n",
       "    <tr>\n",
       "      <th>1</th>\n",
       "      <td>2022</td>\n",
       "      <td>28913691</td>\n",
       "    </tr>\n",
       "  </tbody>\n",
       "</table>\n",
       "</div>"
      ],
      "text/plain": [
       "   year  df_all_blds_edited_world\n",
       "0  2023                       515\n",
       "1  2022                  28913691"
      ]
     },
     "execution_count": 64,
     "metadata": {},
     "output_type": "execute_result"
    }
   ],
   "source": [
    "# World\n",
    "df_all_blds_edited_world = df_all_blds_edited.groupBy(\"year\").count().withColumnRenamed(\"count\", \"df_all_blds_edited_world\").toPandas()\n",
    "df_all_blds_edited_world"
   ]
  },
  {
   "cell_type": "code",
   "execution_count": 65,
   "metadata": {},
   "outputs": [
    {
     "data": {
      "text/html": [
       "<div>\n",
       "<style scoped>\n",
       "    .dataframe tbody tr th:only-of-type {\n",
       "        vertical-align: middle;\n",
       "    }\n",
       "\n",
       "    .dataframe tbody tr th {\n",
       "        vertical-align: top;\n",
       "    }\n",
       "\n",
       "    .dataframe thead th {\n",
       "        text-align: right;\n",
       "    }\n",
       "</style>\n",
       "<table border=\"1\" class=\"dataframe\">\n",
       "  <thead>\n",
       "    <tr style=\"text-align: right;\">\n",
       "      <th></th>\n",
       "      <th>year</th>\n",
       "      <th>country</th>\n",
       "      <th>df_all_blds_edited_country</th>\n",
       "    </tr>\n",
       "  </thead>\n",
       "  <tbody>\n",
       "    <tr>\n",
       "      <th>0</th>\n",
       "      <td>2022</td>\n",
       "      <td>USA</td>\n",
       "      <td>2781094</td>\n",
       "    </tr>\n",
       "    <tr>\n",
       "      <th>1</th>\n",
       "      <td>2022</td>\n",
       "      <td>NGA</td>\n",
       "      <td>974370</td>\n",
       "    </tr>\n",
       "    <tr>\n",
       "      <th>2</th>\n",
       "      <td>2022</td>\n",
       "      <td>CZE</td>\n",
       "      <td>258883</td>\n",
       "    </tr>\n",
       "    <tr>\n",
       "      <th>3</th>\n",
       "      <td>2023</td>\n",
       "      <td>DEU</td>\n",
       "      <td>114</td>\n",
       "    </tr>\n",
       "    <tr>\n",
       "      <th>4</th>\n",
       "      <td>2023</td>\n",
       "      <td>USA</td>\n",
       "      <td>67</td>\n",
       "    </tr>\n",
       "    <tr>\n",
       "      <th>5</th>\n",
       "      <td>2022</td>\n",
       "      <td>VNM</td>\n",
       "      <td>17566</td>\n",
       "    </tr>\n",
       "    <tr>\n",
       "      <th>6</th>\n",
       "      <td>2022</td>\n",
       "      <td>DEU</td>\n",
       "      <td>3280971</td>\n",
       "    </tr>\n",
       "  </tbody>\n",
       "</table>\n",
       "</div>"
      ],
      "text/plain": [
       "   year country  df_all_blds_edited_country\n",
       "0  2022     USA                     2781094\n",
       "1  2022     NGA                      974370\n",
       "2  2022     CZE                      258883\n",
       "3  2023     DEU                         114\n",
       "4  2023     USA                          67\n",
       "5  2022     VNM                       17566\n",
       "6  2022     DEU                     3280971"
      ]
     },
     "execution_count": 65,
     "metadata": {},
     "output_type": "execute_result"
    }
   ],
   "source": [
    "# Selected countries\n",
    "df_all_blds_edited_country = df_all_blds_edited.filter(\"country == 'USA' OR country == 'NGA' OR country == 'VNM' OR country == 'DEU' OR country == 'CZE'\")\n",
    "df_all_blds_edited_country = df_all_blds_edited_country.groupBy(\"year\", \"country\").count().withColumnRenamed(\"count\", \"df_all_blds_edited_country\").toPandas()\n",
    "df_all_blds_edited_country"
   ]
  },
  {
   "cell_type": "code",
   "execution_count": 66,
   "metadata": {},
   "outputs": [],
   "source": [
    "# # USA - USA\n",
    "# df_all_blds_edited_country = df_all_blds_edited.groupBy(\"year\", \"country\").count()\n",
    "# df_all_blds_edited_country_USA = df_all_blds_edited_country.filter(df_all_blds_edited_country.country == \"USA\").toPandas()\n",
    "# df_all_blds_edited_country_USA"
   ]
  },
  {
   "cell_type": "code",
   "execution_count": 67,
   "metadata": {},
   "outputs": [],
   "source": [
    "# # Nigeria - NGA\n",
    "# df_all_blds_edited_country = df_all_blds_edited.groupBy(\"year\", \"country\").count()\n",
    "# df_all_blds_edited_country_NGA = df_all_blds_edited_country.filter(df_all_blds_edited_country.country == \"NGA\").toPandas()\n",
    "# df_all_blds_edited_country_NGA"
   ]
  },
  {
   "cell_type": "code",
   "execution_count": 68,
   "metadata": {},
   "outputs": [],
   "source": [
    "# # Vietnam - VNM\n",
    "# df_all_blds_edited_country = df_all_blds_edited.groupBy(\"year\", \"country\").count()\n",
    "# df_all_blds_edited_country_VNM = df_all_blds_edited_country.filter(df_all_blds_edited_country.country == \"VNM\").toPandas()\n",
    "# df_all_blds_edited_country_VNM\n"
   ]
  },
  {
   "cell_type": "code",
   "execution_count": 69,
   "metadata": {},
   "outputs": [],
   "source": [
    "# # Germany - DEU\n",
    "# df_all_blds_edited_country = df_all_blds_edited.groupBy(\"year\", \"country\").count()\n",
    "# df_all_blds_edited_country_DEU = df_all_blds_edited_country.filter(df_all_blds_edited_country.country == \"DEU\").toPandas()\n",
    "# df_all_blds_edited_country_DEU"
   ]
  },
  {
   "cell_type": "code",
   "execution_count": 70,
   "metadata": {},
   "outputs": [],
   "source": [
    "# # Czechia - CZE\n",
    "# df_all_blds_edited_country = df_all_blds_edited.groupBy(\"year\", \"country\").count()\n",
    "# df_all_blds_edited_country_CZE = df_all_blds_edited_country.filter(df_all_blds_edited_country.country == \"CZE\").toPandas()\n",
    "# df_all_blds_edited_country_CZE"
   ]
  },
  {
   "cell_type": "markdown",
   "metadata": {},
   "source": [
    "## AI edited buildings filter"
   ]
  },
  {
   "cell_type": "markdown",
   "metadata": {},
   "source": [
    "### Filter 1\n",
    "- column tag_str contains 'microsoft/BuildingFootprints' or 'esri/Google_Africa_Buildings'"
   ]
  },
  {
   "cell_type": "code",
   "execution_count": 71,
   "metadata": {},
   "outputs": [],
   "source": [
    "df_ai_blds_edited = df_all_blds_edited.filter(\n",
    "    df_all_blds_edited.tags_str.contains(\"microsoft/BuildingFootprints\")\n",
    "    | df_all_blds_edited.tags_str.contains(\"esri/Google_Africa_Buildings\")\n",
    "    )\n"
   ]
  },
  {
   "cell_type": "code",
   "execution_count": 72,
   "metadata": {},
   "outputs": [
    {
     "data": {
      "text/html": [
       "<div>\n",
       "<style scoped>\n",
       "    .dataframe tbody tr th:only-of-type {\n",
       "        vertical-align: middle;\n",
       "    }\n",
       "\n",
       "    .dataframe tbody tr th {\n",
       "        vertical-align: top;\n",
       "    }\n",
       "\n",
       "    .dataframe thead th {\n",
       "        text-align: right;\n",
       "    }\n",
       "</style>\n",
       "<table border=\"1\" class=\"dataframe\">\n",
       "  <thead>\n",
       "    <tr style=\"text-align: right;\">\n",
       "      <th></th>\n",
       "      <th>year</th>\n",
       "      <th>df_ai_blds_edited_world</th>\n",
       "    </tr>\n",
       "  </thead>\n",
       "  <tbody>\n",
       "    <tr>\n",
       "      <th>0</th>\n",
       "      <td>2023</td>\n",
       "      <td>6</td>\n",
       "    </tr>\n",
       "    <tr>\n",
       "      <th>1</th>\n",
       "      <td>2022</td>\n",
       "      <td>932986</td>\n",
       "    </tr>\n",
       "  </tbody>\n",
       "</table>\n",
       "</div>"
      ],
      "text/plain": [
       "   year  df_ai_blds_edited_world\n",
       "0  2023                        6\n",
       "1  2022                   932986"
      ]
     },
     "execution_count": 72,
     "metadata": {},
     "output_type": "execute_result"
    }
   ],
   "source": [
    "# World\n",
    "df_ai_blds_edited_world = df_ai_blds_edited.groupBy(\"year\").count().withColumnRenamed(\"count\", \"df_ai_blds_edited_world\").toPandas()\n",
    "df_ai_blds_edited_world\n"
   ]
  },
  {
   "cell_type": "code",
   "execution_count": 73,
   "metadata": {},
   "outputs": [
    {
     "data": {
      "text/html": [
       "<div>\n",
       "<style scoped>\n",
       "    .dataframe tbody tr th:only-of-type {\n",
       "        vertical-align: middle;\n",
       "    }\n",
       "\n",
       "    .dataframe tbody tr th {\n",
       "        vertical-align: top;\n",
       "    }\n",
       "\n",
       "    .dataframe thead th {\n",
       "        text-align: right;\n",
       "    }\n",
       "</style>\n",
       "<table border=\"1\" class=\"dataframe\">\n",
       "  <thead>\n",
       "    <tr style=\"text-align: right;\">\n",
       "      <th></th>\n",
       "      <th>year</th>\n",
       "      <th>country</th>\n",
       "      <th>df_ai_blds_edited_country</th>\n",
       "    </tr>\n",
       "  </thead>\n",
       "  <tbody>\n",
       "    <tr>\n",
       "      <th>0</th>\n",
       "      <td>2022</td>\n",
       "      <td>USA</td>\n",
       "      <td>555929</td>\n",
       "    </tr>\n",
       "    <tr>\n",
       "      <th>1</th>\n",
       "      <td>2022</td>\n",
       "      <td>NGA</td>\n",
       "      <td>195584</td>\n",
       "    </tr>\n",
       "    <tr>\n",
       "      <th>2</th>\n",
       "      <td>2023</td>\n",
       "      <td>USA</td>\n",
       "      <td>4</td>\n",
       "    </tr>\n",
       "    <tr>\n",
       "      <th>3</th>\n",
       "      <td>2022</td>\n",
       "      <td>DEU</td>\n",
       "      <td>450</td>\n",
       "    </tr>\n",
       "    <tr>\n",
       "      <th>4</th>\n",
       "      <td>2022</td>\n",
       "      <td>CZE</td>\n",
       "      <td>1</td>\n",
       "    </tr>\n",
       "  </tbody>\n",
       "</table>\n",
       "</div>"
      ],
      "text/plain": [
       "   year country  df_ai_blds_edited_country\n",
       "0  2022     USA                     555929\n",
       "1  2022     NGA                     195584\n",
       "2  2023     USA                          4\n",
       "3  2022     DEU                        450\n",
       "4  2022     CZE                          1"
      ]
     },
     "execution_count": 73,
     "metadata": {},
     "output_type": "execute_result"
    }
   ],
   "source": [
    "# Selected countries\n",
    "df_ai_blds_edited_country = df_ai_blds_edited.filter(\"country == 'USA' OR country == 'NGA' OR country == 'VNM' OR country == 'DEU' OR country == 'CZE'\")\n",
    "df_ai_blds_edited_country = df_ai_blds_edited_country.groupBy(\"year\", \"country\").count().withColumnRenamed(\"count\", \"df_ai_blds_edited_country\").toPandas()\n",
    "df_ai_blds_edited_country"
   ]
  },
  {
   "cell_type": "code",
   "execution_count": 74,
   "metadata": {},
   "outputs": [],
   "source": [
    "# # USA - USA\n",
    "# df_ai_blds_edited_country = df_ai_blds_edited.groupBy(\"year\", \"country\").count()\n",
    "# df_ai_blds_edited_country_USA = df_ai_blds_edited_country.filter(df_ai_blds_edited_country.country == \"USA\").toPandas()\n",
    "# df_ai_blds_edited_country_USA\n"
   ]
  },
  {
   "cell_type": "code",
   "execution_count": 75,
   "metadata": {},
   "outputs": [],
   "source": [
    "# # Nigeria - NGA\n",
    "# df_ai_blds_edited_country = df_ai_blds_edited.groupBy(\"year\", \"country\").count()\n",
    "# df_ai_blds_edited_country_NGA = df_ai_blds_edited_country.filter(df_ai_blds_edited_country.country == \"NGA\").toPandas()\n",
    "# df_ai_blds_edited_country_NGA"
   ]
  },
  {
   "cell_type": "code",
   "execution_count": 76,
   "metadata": {},
   "outputs": [],
   "source": [
    "# # Vietnam - VNM\n",
    "# df_ai_blds_edited_country = df_ai_blds_edited.groupBy(\"year\", \"country\").count()\n",
    "# df_ai_blds_edited_country_VNM = df_ai_blds_edited_country.filter(df_ai_blds_edited_country.country == \"VNM\").toPandas()\n",
    "# df_ai_blds_edited_country_VNM"
   ]
  },
  {
   "cell_type": "code",
   "execution_count": 77,
   "metadata": {},
   "outputs": [],
   "source": [
    "# # Germany - DEU\n",
    "# df_ai_blds_edited_country = df_ai_blds_edited.groupBy(\"year\", \"country\").count()\n",
    "# df_ai_blds_edited_country_DEU = df_ai_blds_edited_country.filter(df_ai_blds_edited_country.country == \"DEU\").toPandas()\n",
    "# df_ai_blds_edited_country_DEU"
   ]
  },
  {
   "cell_type": "code",
   "execution_count": 78,
   "metadata": {},
   "outputs": [],
   "source": [
    "# # Czechia - CZE\n",
    "# df_ai_blds_edited_country = df_ai_blds_edited.groupBy(\"year\", \"country\").count()\n",
    "# df_ai_blds_edited_country_CZE = df_ai_blds_edited_country.filter(df_ai_blds_edited_country.country == \"CZE\").toPandas()\n",
    "# df_ai_blds_edited_country_CZE"
   ]
  },
  {
   "cell_type": "markdown",
   "metadata": {},
   "source": [
    "# Length of created roads"
   ]
  },
  {
   "attachments": {},
   "cell_type": "markdown",
   "metadata": {},
   "source": [
    "### Data wrangling – roads\n",
    "- select distinct osm_id\n",
    "- remove all -1\n",
    "- then use groupby (osm_id) and function last (time column)"
   ]
  },
  {
   "cell_type": "code",
   "execution_count": 79,
   "metadata": {},
   "outputs": [],
   "source": [
    "df_roads_created = df.filter(psf.col('road').isin([1]) | psf.col('road').isNull()) # | psf.col('road').isNull()"
   ]
  },
  {
   "cell_type": "code",
   "execution_count": 80,
   "metadata": {},
   "outputs": [],
   "source": [
    "# df_roads = df.filter(~psf.col('road').isin([-1, 0]))"
   ]
  },
  {
   "cell_type": "code",
   "execution_count": 81,
   "metadata": {},
   "outputs": [],
   "source": [
    "df_roads_created = df_roads_created.groupBy(\"osm_id\", \"editor\", \"length\", \"country\", \"tags_str\", \"hashtags\", \"year\", \"road\").agg(psf.last(\"datetime\").alias(\"datetime\"))\n"
   ]
  },
  {
   "cell_type": "code",
   "execution_count": 82,
   "metadata": {},
   "outputs": [],
   "source": [
    "# df_roads.show()"
   ]
  },
  {
   "cell_type": "code",
   "execution_count": 83,
   "metadata": {},
   "outputs": [],
   "source": [
    "df_roads_created = df_roads_created.withColumn(\"hashtags_un\", psf.concat_ws(\",\", psf.col(\"hashtags\")))\n"
   ]
  },
  {
   "cell_type": "code",
   "execution_count": 84,
   "metadata": {},
   "outputs": [],
   "source": [
    "# df_roads.groupBy(\"hashtags_un\").count().show()\n"
   ]
  },
  {
   "cell_type": "code",
   "execution_count": 85,
   "metadata": {},
   "outputs": [],
   "source": [
    "# df_roads.show()"
   ]
  },
  {
   "cell_type": "markdown",
   "metadata": {},
   "source": [
    "## Road filter"
   ]
  },
  {
   "cell_type": "markdown",
   "metadata": {},
   "source": [
    "### Filter for the length of all roads\n",
    "- column tag_str contains motorway, trunk, motorway_link, trunk_link, primary, primary_link, secondary, secondary_link, tertiary, tertiary_link, unclassified, residential"
   ]
  },
  {
   "cell_type": "code",
   "execution_count": 86,
   "metadata": {},
   "outputs": [],
   "source": [
    "df_main_roads_created = df_roads_created.filter(\n",
    "    df_roads_created.tags_str.contains(\"motorway\")\\\n",
    "    | df_roads_created.tags_str.contains(\"trunk\")\\\n",
    "    | df_roads_created.tags_str.contains(\"motorway_link\")\\\n",
    "    | df_roads_created.tags_str.contains(\"trunk_link\")\\\n",
    "    | df_roads_created.tags_str.contains(\"primary\")\\\n",
    "    | df_roads_created.tags_str.contains(\"primary_link\")\\\n",
    "    | df_roads_created.tags_str.contains(\"secondary\")\\\n",
    "    | df_roads_created.tags_str.contains(\"secondary_link\")\\\n",
    "    | df_roads_created.tags_str.contains(\"tertiary\")\\\n",
    "    | df_roads_created.tags_str.contains(\"tertiary_link\")\\\n",
    "    | df_roads_created.tags_str.contains(\"unclassified\")\\\n",
    "    | df_roads_created.tags_str.contains(\"residential\")\\\n",
    "    )\n"
   ]
  },
  {
   "cell_type": "markdown",
   "metadata": {},
   "source": [
    "#### All roads"
   ]
  },
  {
   "cell_type": "code",
   "execution_count": 87,
   "metadata": {},
   "outputs": [
    {
     "data": {
      "text/html": [
       "<div>\n",
       "<style scoped>\n",
       "    .dataframe tbody tr th:only-of-type {\n",
       "        vertical-align: middle;\n",
       "    }\n",
       "\n",
       "    .dataframe tbody tr th {\n",
       "        vertical-align: top;\n",
       "    }\n",
       "\n",
       "    .dataframe thead th {\n",
       "        text-align: right;\n",
       "    }\n",
       "</style>\n",
       "<table border=\"1\" class=\"dataframe\">\n",
       "  <thead>\n",
       "    <tr style=\"text-align: right;\">\n",
       "      <th></th>\n",
       "      <th>year</th>\n",
       "      <th>sum(osm_id)</th>\n",
       "      <th>sum(length)</th>\n",
       "      <th>sum(year)</th>\n",
       "      <th>sum(road)</th>\n",
       "    </tr>\n",
       "  </thead>\n",
       "  <tbody>\n",
       "    <tr>\n",
       "      <th>0</th>\n",
       "      <td>2023</td>\n",
       "      <td>4052978511385</td>\n",
       "      <td>1684453</td>\n",
       "      <td>9184420</td>\n",
       "      <td>209</td>\n",
       "    </tr>\n",
       "    <tr>\n",
       "      <th>1</th>\n",
       "      <td>2022</td>\n",
       "      <td>112430116003053421</td>\n",
       "      <td>20090717326</td>\n",
       "      <td>257533392828</td>\n",
       "      <td>4660229</td>\n",
       "    </tr>\n",
       "  </tbody>\n",
       "</table>\n",
       "</div>"
      ],
      "text/plain": [
       "   year         sum(osm_id)  sum(length)     sum(year)  sum(road)\n",
       "0  2023       4052978511385      1684453       9184420        209\n",
       "1  2022  112430116003053421  20090717326  257533392828    4660229"
      ]
     },
     "execution_count": 87,
     "metadata": {},
     "output_type": "execute_result"
    }
   ],
   "source": [
    "# World – all roads\n",
    "df_all_roads_created_world = df_roads_created.groupBy(\"year\").sum().toPandas()\n",
    "df_all_roads_created_world\n"
   ]
  },
  {
   "cell_type": "code",
   "execution_count": 88,
   "metadata": {},
   "outputs": [
    {
     "data": {
      "text/html": [
       "<div>\n",
       "<style scoped>\n",
       "    .dataframe tbody tr th:only-of-type {\n",
       "        vertical-align: middle;\n",
       "    }\n",
       "\n",
       "    .dataframe tbody tr th {\n",
       "        vertical-align: top;\n",
       "    }\n",
       "\n",
       "    .dataframe thead th {\n",
       "        text-align: right;\n",
       "    }\n",
       "</style>\n",
       "<table border=\"1\" class=\"dataframe\">\n",
       "  <thead>\n",
       "    <tr style=\"text-align: right;\">\n",
       "      <th></th>\n",
       "      <th>year</th>\n",
       "      <th>country</th>\n",
       "      <th>sum(osm_id)</th>\n",
       "      <th>sum(length)</th>\n",
       "      <th>sum(year)</th>\n",
       "      <th>sum(road)</th>\n",
       "    </tr>\n",
       "  </thead>\n",
       "  <tbody>\n",
       "    <tr>\n",
       "      <th>0</th>\n",
       "      <td>2022</td>\n",
       "      <td>USA</td>\n",
       "      <td>18162075950283805</td>\n",
       "      <td>2737851895</td>\n",
       "      <td>39315774066</td>\n",
       "      <td>411999.0</td>\n",
       "    </tr>\n",
       "    <tr>\n",
       "      <th>1</th>\n",
       "      <td>2022</td>\n",
       "      <td>NGA</td>\n",
       "      <td>4122035800093102</td>\n",
       "      <td>76092852</td>\n",
       "      <td>7984107618</td>\n",
       "      <td>61021.0</td>\n",
       "    </tr>\n",
       "    <tr>\n",
       "      <th>2</th>\n",
       "      <td>2022</td>\n",
       "      <td>CZE</td>\n",
       "      <td>438570221239721</td>\n",
       "      <td>147976224</td>\n",
       "      <td>1613683386</td>\n",
       "      <td>14172.0</td>\n",
       "    </tr>\n",
       "    <tr>\n",
       "      <th>3</th>\n",
       "      <td>2023</td>\n",
       "      <td>DEU</td>\n",
       "      <td>159659026223</td>\n",
       "      <td>58728</td>\n",
       "      <td>746487</td>\n",
       "      <td>6.0</td>\n",
       "    </tr>\n",
       "    <tr>\n",
       "      <th>4</th>\n",
       "      <td>2023</td>\n",
       "      <td>USA</td>\n",
       "      <td>1107948439008</td>\n",
       "      <td>268761</td>\n",
       "      <td>2338588</td>\n",
       "      <td>26.0</td>\n",
       "    </tr>\n",
       "    <tr>\n",
       "      <th>5</th>\n",
       "      <td>2022</td>\n",
       "      <td>VNM</td>\n",
       "      <td>170752223858560</td>\n",
       "      <td>52606864</td>\n",
       "      <td>350066838</td>\n",
       "      <td>25116.0</td>\n",
       "    </tr>\n",
       "    <tr>\n",
       "      <th>6</th>\n",
       "      <td>2023</td>\n",
       "      <td>NGA</td>\n",
       "      <td>181754598639</td>\n",
       "      <td>16143</td>\n",
       "      <td>329749</td>\n",
       "      <td>16.0</td>\n",
       "    </tr>\n",
       "    <tr>\n",
       "      <th>7</th>\n",
       "      <td>2022</td>\n",
       "      <td>DEU</td>\n",
       "      <td>5806913758696467</td>\n",
       "      <td>789885217</td>\n",
       "      <td>18769847886</td>\n",
       "      <td>66478.0</td>\n",
       "    </tr>\n",
       "    <tr>\n",
       "      <th>8</th>\n",
       "      <td>2023</td>\n",
       "      <td>CZE</td>\n",
       "      <td>5518540754</td>\n",
       "      <td>526</td>\n",
       "      <td>14161</td>\n",
       "      <td>NaN</td>\n",
       "    </tr>\n",
       "  </tbody>\n",
       "</table>\n",
       "</div>"
      ],
      "text/plain": [
       "   year country        sum(osm_id)  sum(length)    sum(year)  sum(road)\n",
       "0  2022     USA  18162075950283805   2737851895  39315774066   411999.0\n",
       "1  2022     NGA   4122035800093102     76092852   7984107618    61021.0\n",
       "2  2022     CZE    438570221239721    147976224   1613683386    14172.0\n",
       "3  2023     DEU       159659026223        58728       746487        6.0\n",
       "4  2023     USA      1107948439008       268761      2338588       26.0\n",
       "5  2022     VNM    170752223858560     52606864    350066838    25116.0\n",
       "6  2023     NGA       181754598639        16143       329749       16.0\n",
       "7  2022     DEU   5806913758696467    789885217  18769847886    66478.0\n",
       "8  2023     CZE         5518540754          526        14161        NaN"
      ]
     },
     "execution_count": 88,
     "metadata": {},
     "output_type": "execute_result"
    }
   ],
   "source": [
    "# Selected countries – all roads\n",
    "df_all_roads_created_country = df_roads_created.filter(\"country == 'USA' OR country == 'NGA' OR country == 'VNM' OR country == 'DEU' OR country == 'CZE'\")\n",
    "df_all_roads_created_country = df_all_roads_created_country.groupBy(\"year\", \"country\").sum().toPandas()\n",
    "df_all_roads_created_country"
   ]
  },
  {
   "cell_type": "markdown",
   "metadata": {},
   "source": [
    "#### Main roads"
   ]
  },
  {
   "cell_type": "code",
   "execution_count": 89,
   "metadata": {},
   "outputs": [
    {
     "data": {
      "text/html": [
       "<div>\n",
       "<style scoped>\n",
       "    .dataframe tbody tr th:only-of-type {\n",
       "        vertical-align: middle;\n",
       "    }\n",
       "\n",
       "    .dataframe tbody tr th {\n",
       "        vertical-align: top;\n",
       "    }\n",
       "\n",
       "    .dataframe thead th {\n",
       "        text-align: right;\n",
       "    }\n",
       "</style>\n",
       "<table border=\"1\" class=\"dataframe\">\n",
       "  <thead>\n",
       "    <tr style=\"text-align: right;\">\n",
       "      <th></th>\n",
       "      <th>year</th>\n",
       "      <th>sum(osm_id)</th>\n",
       "      <th>sum(length)</th>\n",
       "      <th>sum(year)</th>\n",
       "      <th>sum(road)</th>\n",
       "    </tr>\n",
       "  </thead>\n",
       "  <tbody>\n",
       "    <tr>\n",
       "      <th>0</th>\n",
       "      <td>2023</td>\n",
       "      <td>305049589226</td>\n",
       "      <td>92700</td>\n",
       "      <td>720188</td>\n",
       "      <td>209</td>\n",
       "    </tr>\n",
       "    <tr>\n",
       "      <th>1</th>\n",
       "      <td>2022</td>\n",
       "      <td>8545669238698607</td>\n",
       "      <td>1585870001</td>\n",
       "      <td>18457208268</td>\n",
       "      <td>4660229</td>\n",
       "    </tr>\n",
       "  </tbody>\n",
       "</table>\n",
       "</div>"
      ],
      "text/plain": [
       "   year       sum(osm_id)  sum(length)    sum(year)  sum(road)\n",
       "0  2023      305049589226        92700       720188        209\n",
       "1  2022  8545669238698607   1585870001  18457208268    4660229"
      ]
     },
     "execution_count": 89,
     "metadata": {},
     "output_type": "execute_result"
    }
   ],
   "source": [
    "# World – main roads\n",
    "df_main_roads_created_world = df_main_roads_created.groupBy(\"year\").sum().toPandas()\n",
    "df_main_roads_created_world\n"
   ]
  },
  {
   "cell_type": "code",
   "execution_count": 90,
   "metadata": {},
   "outputs": [
    {
     "data": {
      "text/html": [
       "<div>\n",
       "<style scoped>\n",
       "    .dataframe tbody tr th:only-of-type {\n",
       "        vertical-align: middle;\n",
       "    }\n",
       "\n",
       "    .dataframe tbody tr th {\n",
       "        vertical-align: top;\n",
       "    }\n",
       "\n",
       "    .dataframe thead th {\n",
       "        text-align: right;\n",
       "    }\n",
       "</style>\n",
       "<table border=\"1\" class=\"dataframe\">\n",
       "  <thead>\n",
       "    <tr style=\"text-align: right;\">\n",
       "      <th></th>\n",
       "      <th>year</th>\n",
       "      <th>country</th>\n",
       "      <th>sum(osm_id)</th>\n",
       "      <th>sum(length)</th>\n",
       "      <th>sum(year)</th>\n",
       "      <th>sum(road)</th>\n",
       "    </tr>\n",
       "  </thead>\n",
       "  <tbody>\n",
       "    <tr>\n",
       "      <th>0</th>\n",
       "      <td>2022</td>\n",
       "      <td>USA</td>\n",
       "      <td>612863536403005</td>\n",
       "      <td>110489102</td>\n",
       "      <td>1252226622</td>\n",
       "      <td>411999.0</td>\n",
       "    </tr>\n",
       "    <tr>\n",
       "      <th>1</th>\n",
       "      <td>2022</td>\n",
       "      <td>NGA</td>\n",
       "      <td>132497126249363</td>\n",
       "      <td>16822783</td>\n",
       "      <td>290632170</td>\n",
       "      <td>61021.0</td>\n",
       "    </tr>\n",
       "    <tr>\n",
       "      <th>2</th>\n",
       "      <td>2022</td>\n",
       "      <td>CZE</td>\n",
       "      <td>41774418878223</td>\n",
       "      <td>2650393</td>\n",
       "      <td>213238098</td>\n",
       "      <td>14172.0</td>\n",
       "    </tr>\n",
       "    <tr>\n",
       "      <th>3</th>\n",
       "      <td>2023</td>\n",
       "      <td>DEU</td>\n",
       "      <td>15728191896</td>\n",
       "      <td>757</td>\n",
       "      <td>103173</td>\n",
       "      <td>6.0</td>\n",
       "    </tr>\n",
       "    <tr>\n",
       "      <th>4</th>\n",
       "      <td>2023</td>\n",
       "      <td>USA</td>\n",
       "      <td>62659560899</td>\n",
       "      <td>8000</td>\n",
       "      <td>123403</td>\n",
       "      <td>26.0</td>\n",
       "    </tr>\n",
       "    <tr>\n",
       "      <th>5</th>\n",
       "      <td>2022</td>\n",
       "      <td>VNM</td>\n",
       "      <td>28362641214638</td>\n",
       "      <td>6903442</td>\n",
       "      <td>54773958</td>\n",
       "      <td>25116.0</td>\n",
       "    </tr>\n",
       "    <tr>\n",
       "      <th>6</th>\n",
       "      <td>2023</td>\n",
       "      <td>NGA</td>\n",
       "      <td>18543158313</td>\n",
       "      <td>10777</td>\n",
       "      <td>34391</td>\n",
       "      <td>16.0</td>\n",
       "    </tr>\n",
       "    <tr>\n",
       "      <th>7</th>\n",
       "      <td>2022</td>\n",
       "      <td>DEU</td>\n",
       "      <td>199411478811635</td>\n",
       "      <td>10029466</td>\n",
       "      <td>669939150</td>\n",
       "      <td>66478.0</td>\n",
       "    </tr>\n",
       "    <tr>\n",
       "      <th>8</th>\n",
       "      <td>2023</td>\n",
       "      <td>CZE</td>\n",
       "      <td>5438511905</td>\n",
       "      <td>347</td>\n",
       "      <td>12138</td>\n",
       "      <td>NaN</td>\n",
       "    </tr>\n",
       "  </tbody>\n",
       "</table>\n",
       "</div>"
      ],
      "text/plain": [
       "   year country      sum(osm_id)  sum(length)   sum(year)  sum(road)\n",
       "0  2022     USA  612863536403005    110489102  1252226622   411999.0\n",
       "1  2022     NGA  132497126249363     16822783   290632170    61021.0\n",
       "2  2022     CZE   41774418878223      2650393   213238098    14172.0\n",
       "3  2023     DEU      15728191896          757      103173        6.0\n",
       "4  2023     USA      62659560899         8000      123403       26.0\n",
       "5  2022     VNM   28362641214638      6903442    54773958    25116.0\n",
       "6  2023     NGA      18543158313        10777       34391       16.0\n",
       "7  2022     DEU  199411478811635     10029466   669939150    66478.0\n",
       "8  2023     CZE       5438511905          347       12138        NaN"
      ]
     },
     "execution_count": 90,
     "metadata": {},
     "output_type": "execute_result"
    }
   ],
   "source": [
    "# Selected countries – main roads\n",
    "df_main_roads_created_country = df_main_roads_created.filter(\"country == 'USA' OR country == 'NGA' OR country == 'VNM' OR country == 'DEU' OR country == 'CZE'\")\n",
    "df_main_roads_created_country = df_main_roads_created_country.groupBy(\"year\", \"country\").sum().toPandas()\n",
    "df_main_roads_created_country"
   ]
  },
  {
   "cell_type": "code",
   "execution_count": 91,
   "metadata": {},
   "outputs": [],
   "source": [
    "# # USA - USA\n",
    "# df_all_roads_created_country = df_all_roads_created.groupBy(\"year\", \"country\").count()\n",
    "# df_all_roads_created_country.filter(df_all_roads_created_country.country == \"USA\").show()"
   ]
  },
  {
   "cell_type": "code",
   "execution_count": 92,
   "metadata": {},
   "outputs": [],
   "source": [
    "# # Nigeria - NGA\n",
    "# df_all_roads_created_country = df_all_roads_created.groupBy(\"year\", \"country\").count()\n",
    "# df_all_roads_created_country.filter(df_all_roads_created_country.country == \"NGA\").toPandas()"
   ]
  },
  {
   "cell_type": "code",
   "execution_count": 93,
   "metadata": {},
   "outputs": [],
   "source": [
    "# # Vietnam - VNM\n",
    "# df_all_roads_created_country = df_all_roads_created.groupBy(\"year\", \"country\").count()\n",
    "# df_all_roads_created_country.filter(df_all_roads_created_country.country == \"VNM\").show()"
   ]
  },
  {
   "cell_type": "code",
   "execution_count": 94,
   "metadata": {},
   "outputs": [],
   "source": [
    "# # Germany - DEU\n",
    "# df_all_roads_created_country = df_all_roads_created.groupBy(\"year\", \"country\").count()\n",
    "# df_all_roads_created_country.filter(df_all_roads_created_country.country == \"DEU\").toPandas()"
   ]
  },
  {
   "cell_type": "code",
   "execution_count": 95,
   "metadata": {},
   "outputs": [],
   "source": [
    "# # Czechia - CZE\n",
    "# df_all_roads_created_country = df_all_roads_created.groupBy(\"year\", \"country\").count()\n",
    "# df_all_roads_created_country.filter(df_all_roads_created_country.country == \"CZE\").show()"
   ]
  },
  {
   "attachments": {},
   "cell_type": "markdown",
   "metadata": {},
   "source": [
    "## AI road filter"
   ]
  },
  {
   "attachments": {},
   "cell_type": "markdown",
   "metadata": {},
   "source": [
    "### Filter 1\n",
    "- column tags contains “#mapwithai” or “#nsroadimport” or \"#MapWithAI\""
   ]
  },
  {
   "cell_type": "code",
   "execution_count": 96,
   "metadata": {},
   "outputs": [],
   "source": [
    "# df_roads_f1_created = df_roads_created.filter(\\\n",
    "#     df_roads_created.tags_str.contains(\"mapwithai\")\\\n",
    "#     | df_roads_created.tags_str.contains(\"MapWithAI\")\\\n",
    "#     | df_roads_created.tags_str.contains(\"nsroadimport\")\\\n",
    "#     )\n"
   ]
  },
  {
   "cell_type": "code",
   "execution_count": 97,
   "metadata": {},
   "outputs": [],
   "source": [
    "# df_roads_f1_created.groupBy(\"year\").sum().show()\n"
   ]
  },
  {
   "attachments": {},
   "cell_type": "markdown",
   "metadata": {},
   "source": [
    "### Filter 2\n",
    "- column tags_str contains (#nsroadimport\" or \"mapwithai\" or “MapWithAI\") and \"highway\"\n",
    "OR\n",
    "- column hashtags_un contains (#nsroadimport\" or \"mapwithai\") and it is highway (from column tags_str ???)"
   ]
  },
  {
   "cell_type": "code",
   "execution_count": 98,
   "metadata": {},
   "outputs": [],
   "source": [
    "# df_roads_f2_created = df_roads_created.filter(\\\n",
    "#     (\n",
    "#         (df_roads_created.tags_str.contains(\"mapwithai\")\\\n",
    "#         | df_roads_created.tags_str.contains(\"MapWithAI\")\\\n",
    "#         | df_roads_created.tags_str.contains(\"nsroadimport\"))\\\n",
    "#         & (df_roads_created.tags_str.contains(\"highway\")))\\\n",
    "#         |\\\n",
    "#         (df_roads_created.hashtags_un.contains(\"mapwithai\")\\\n",
    "#         | df_roads_created.hashtags_un.contains(\"nsroadimport\")\\\n",
    "#         & (df_roads_created.tags_str.contains(\"highway\")))\\\n",
    "#     )\n"
   ]
  },
  {
   "cell_type": "code",
   "execution_count": 99,
   "metadata": {},
   "outputs": [],
   "source": [
    "# df_roads_f2_created.groupBy(\"year\").sum().show()\n"
   ]
  },
  {
   "attachments": {},
   "cell_type": "markdown",
   "metadata": {},
   "source": [
    "### Filter 3\n",
    "3_1 – column editor contains RapiD\n",
    "\n",
    "3_2 – column editor contains RapiD or column tags_str/hashtags_un contains mapwithai\n",
    "\n",
    "3_3 – column editor contains RapiD and column tags_str/hashtags_un contains mapwithai"
   ]
  },
  {
   "attachments": {},
   "cell_type": "markdown",
   "metadata": {},
   "source": [
    "#### F3_1"
   ]
  },
  {
   "cell_type": "code",
   "execution_count": 100,
   "metadata": {},
   "outputs": [],
   "source": [
    "# df_roads_f3_1_created = df_roads_created.filter(df_roads_created.editor.contains(\"RapiD\"))\n"
   ]
  },
  {
   "cell_type": "code",
   "execution_count": 101,
   "metadata": {},
   "outputs": [],
   "source": [
    "# df_roads_f3_1_created.groupBy(\"year\").sum().show()\n"
   ]
  },
  {
   "attachments": {},
   "cell_type": "markdown",
   "metadata": {},
   "source": [
    "#### F3_2"
   ]
  },
  {
   "cell_type": "code",
   "execution_count": 102,
   "metadata": {},
   "outputs": [],
   "source": [
    "df_all_ai_roads_f3_2_created = df_roads_created.filter(\n",
    "    df_roads_created.editor.contains(\"RapiD\")\\\n",
    "    | df_roads_created.tags_str.contains(\"mapwithai\")\\\n",
    "    | df_roads_created.tags_str.contains(\"MapWithAI\")\\\n",
    "    | df_roads_created.tags_str.contains(\"nsroadimport\")\\\n",
    "    | df_roads_created.hashtags_un.contains(\"#mapwithai\")\\\n",
    "    | df_roads_created.hashtags_un.contains(\"#nsroadimport\")\\\n",
    "    | df_roads_created.hashtags_un.contains(\"#MapWithAI\")\\\n",
    ")\n"
   ]
  },
  {
   "cell_type": "code",
   "execution_count": 103,
   "metadata": {},
   "outputs": [],
   "source": [
    "df_main_ai_roads_f3_2_created = df_main_roads_created.filter(\n",
    "    df_main_roads_created.editor.contains(\"RapiD\")\n",
    "    | df_main_roads_created.tags_str.contains(\"mapwithai\")\n",
    "    | df_main_roads_created.tags_str.contains(\"MapWithAI\")\n",
    "    | df_main_roads_created.tags_str.contains(\"nsroadimport\")\n",
    "    | df_main_roads_created.hashtags_un.contains(\"#mapwithai\")\n",
    "    | df_main_roads_created.hashtags_un.contains(\"#nsroadimport\")\n",
    "    | df_main_roads_created.hashtags_un.contains(\"#MapWithAI\")\n",
    ")\n"
   ]
  },
  {
   "cell_type": "markdown",
   "metadata": {},
   "source": [
    "#### All AI roads "
   ]
  },
  {
   "cell_type": "code",
   "execution_count": 104,
   "metadata": {},
   "outputs": [
    {
     "data": {
      "text/html": [
       "<div>\n",
       "<style scoped>\n",
       "    .dataframe tbody tr th:only-of-type {\n",
       "        vertical-align: middle;\n",
       "    }\n",
       "\n",
       "    .dataframe tbody tr th {\n",
       "        vertical-align: top;\n",
       "    }\n",
       "\n",
       "    .dataframe thead th {\n",
       "        text-align: right;\n",
       "    }\n",
       "</style>\n",
       "<table border=\"1\" class=\"dataframe\">\n",
       "  <thead>\n",
       "    <tr style=\"text-align: right;\">\n",
       "      <th></th>\n",
       "      <th>year</th>\n",
       "      <th>sum(osm_id)</th>\n",
       "      <th>sum(length)</th>\n",
       "      <th>sum(year)</th>\n",
       "      <th>sum(road)</th>\n",
       "    </tr>\n",
       "  </thead>\n",
       "  <tbody>\n",
       "    <tr>\n",
       "      <th>0</th>\n",
       "      <td>2023</td>\n",
       "      <td>230135266671</td>\n",
       "      <td>5355</td>\n",
       "      <td>424830</td>\n",
       "      <td>4</td>\n",
       "    </tr>\n",
       "    <tr>\n",
       "      <th>1</th>\n",
       "      <td>2022</td>\n",
       "      <td>7352139887482507</td>\n",
       "      <td>674552968</td>\n",
       "      <td>14380269888</td>\n",
       "      <td>1115263</td>\n",
       "    </tr>\n",
       "  </tbody>\n",
       "</table>\n",
       "</div>"
      ],
      "text/plain": [
       "   year       sum(osm_id)  sum(length)    sum(year)  sum(road)\n",
       "0  2023      230135266671         5355       424830          4\n",
       "1  2022  7352139887482507    674552968  14380269888    1115263"
      ]
     },
     "execution_count": 104,
     "metadata": {},
     "output_type": "execute_result"
    }
   ],
   "source": [
    "# World\n",
    "df_all_ai_roads_created_world = df_all_ai_roads_f3_2_created.groupBy(\"year\").sum().toPandas()\n",
    "df_all_ai_roads_created_world\n"
   ]
  },
  {
   "cell_type": "code",
   "execution_count": 105,
   "metadata": {},
   "outputs": [
    {
     "data": {
      "text/html": [
       "<div>\n",
       "<style scoped>\n",
       "    .dataframe tbody tr th:only-of-type {\n",
       "        vertical-align: middle;\n",
       "    }\n",
       "\n",
       "    .dataframe tbody tr th {\n",
       "        vertical-align: top;\n",
       "    }\n",
       "\n",
       "    .dataframe thead th {\n",
       "        text-align: right;\n",
       "    }\n",
       "</style>\n",
       "<table border=\"1\" class=\"dataframe\">\n",
       "  <thead>\n",
       "    <tr style=\"text-align: right;\">\n",
       "      <th></th>\n",
       "      <th>year</th>\n",
       "      <th>country</th>\n",
       "      <th>sum(osm_id)</th>\n",
       "      <th>sum(length)</th>\n",
       "      <th>sum(year)</th>\n",
       "      <th>sum(road)</th>\n",
       "    </tr>\n",
       "  </thead>\n",
       "  <tbody>\n",
       "    <tr>\n",
       "      <th>0</th>\n",
       "      <td>2022</td>\n",
       "      <td>USA</td>\n",
       "      <td>3422392598178235</td>\n",
       "      <td>55804445</td>\n",
       "      <td>6583947432</td>\n",
       "      <td>8506</td>\n",
       "    </tr>\n",
       "    <tr>\n",
       "      <th>1</th>\n",
       "      <td>2022</td>\n",
       "      <td>NGA</td>\n",
       "      <td>367978405705376</td>\n",
       "      <td>1627735</td>\n",
       "      <td>703817760</td>\n",
       "      <td>3161</td>\n",
       "    </tr>\n",
       "    <tr>\n",
       "      <th>2</th>\n",
       "      <td>2022</td>\n",
       "      <td>CZE</td>\n",
       "      <td>127503966371</td>\n",
       "      <td>17638</td>\n",
       "      <td>266904</td>\n",
       "      <td>8</td>\n",
       "    </tr>\n",
       "    <tr>\n",
       "      <th>3</th>\n",
       "      <td>2023</td>\n",
       "      <td>USA</td>\n",
       "      <td>230135266671</td>\n",
       "      <td>5355</td>\n",
       "      <td>424830</td>\n",
       "      <td>4</td>\n",
       "    </tr>\n",
       "    <tr>\n",
       "      <th>4</th>\n",
       "      <td>2022</td>\n",
       "      <td>VNM</td>\n",
       "      <td>329441550790</td>\n",
       "      <td>179822</td>\n",
       "      <td>608622</td>\n",
       "      <td>108</td>\n",
       "    </tr>\n",
       "    <tr>\n",
       "      <th>5</th>\n",
       "      <td>2022</td>\n",
       "      <td>DEU</td>\n",
       "      <td>5416763449045</td>\n",
       "      <td>161554</td>\n",
       "      <td>12051120</td>\n",
       "      <td>14</td>\n",
       "    </tr>\n",
       "  </tbody>\n",
       "</table>\n",
       "</div>"
      ],
      "text/plain": [
       "   year country       sum(osm_id)  sum(length)   sum(year)  sum(road)\n",
       "0  2022     USA  3422392598178235     55804445  6583947432       8506\n",
       "1  2022     NGA   367978405705376      1627735   703817760       3161\n",
       "2  2022     CZE      127503966371        17638      266904          8\n",
       "3  2023     USA      230135266671         5355      424830          4\n",
       "4  2022     VNM      329441550790       179822      608622        108\n",
       "5  2022     DEU     5416763449045       161554    12051120         14"
      ]
     },
     "execution_count": 105,
     "metadata": {},
     "output_type": "execute_result"
    }
   ],
   "source": [
    "# Selected countries\n",
    "df_all_ai_roads_created_country = df_all_ai_roads_f3_2_created.filter(\"country == 'USA' OR country == 'NGA' OR country == 'VNM' OR country == 'DEU' OR country == 'CZE'\")\n",
    "df_all_ai_roads_created_country = df_all_ai_roads_created_country.groupBy(\"year\", \"country\").sum().toPandas()\n",
    "df_all_ai_roads_created_country"
   ]
  },
  {
   "cell_type": "markdown",
   "metadata": {},
   "source": [
    "#### Main AI roads"
   ]
  },
  {
   "cell_type": "code",
   "execution_count": 106,
   "metadata": {},
   "outputs": [
    {
     "data": {
      "text/html": [
       "<div>\n",
       "<style scoped>\n",
       "    .dataframe tbody tr th:only-of-type {\n",
       "        vertical-align: middle;\n",
       "    }\n",
       "\n",
       "    .dataframe tbody tr th {\n",
       "        vertical-align: top;\n",
       "    }\n",
       "\n",
       "    .dataframe thead th {\n",
       "        text-align: right;\n",
       "    }\n",
       "</style>\n",
       "<table border=\"1\" class=\"dataframe\">\n",
       "  <thead>\n",
       "    <tr style=\"text-align: right;\">\n",
       "      <th></th>\n",
       "      <th>year</th>\n",
       "      <th>sum(osm_id)</th>\n",
       "      <th>sum(length)</th>\n",
       "      <th>sum(year)</th>\n",
       "      <th>sum(road)</th>\n",
       "    </tr>\n",
       "  </thead>\n",
       "  <tbody>\n",
       "    <tr>\n",
       "      <th>0</th>\n",
       "      <td>2022</td>\n",
       "      <td>1195229411870664</td>\n",
       "      <td>237371841</td>\n",
       "      <td>2305573368</td>\n",
       "      <td>1115263</td>\n",
       "    </tr>\n",
       "    <tr>\n",
       "      <th>1</th>\n",
       "      <td>2023</td>\n",
       "      <td>4504479606</td>\n",
       "      <td>1284</td>\n",
       "      <td>8092</td>\n",
       "      <td>4</td>\n",
       "    </tr>\n",
       "  </tbody>\n",
       "</table>\n",
       "</div>"
      ],
      "text/plain": [
       "   year       sum(osm_id)  sum(length)   sum(year)  sum(road)\n",
       "0  2022  1195229411870664    237371841  2305573368    1115263\n",
       "1  2023        4504479606         1284        8092          4"
      ]
     },
     "execution_count": 106,
     "metadata": {},
     "output_type": "execute_result"
    }
   ],
   "source": [
    "# World\n",
    "df_main_ai_roads_created_world = df_main_ai_roads_f3_2_created.groupBy(\"year\").sum().toPandas()\n",
    "df_main_ai_roads_created_world\n"
   ]
  },
  {
   "cell_type": "code",
   "execution_count": 107,
   "metadata": {},
   "outputs": [
    {
     "data": {
      "text/html": [
       "<div>\n",
       "<style scoped>\n",
       "    .dataframe tbody tr th:only-of-type {\n",
       "        vertical-align: middle;\n",
       "    }\n",
       "\n",
       "    .dataframe tbody tr th {\n",
       "        vertical-align: top;\n",
       "    }\n",
       "\n",
       "    .dataframe thead th {\n",
       "        text-align: right;\n",
       "    }\n",
       "</style>\n",
       "<table border=\"1\" class=\"dataframe\">\n",
       "  <thead>\n",
       "    <tr style=\"text-align: right;\">\n",
       "      <th></th>\n",
       "      <th>year</th>\n",
       "      <th>country</th>\n",
       "      <th>sum(osm_id)</th>\n",
       "      <th>sum(length)</th>\n",
       "      <th>sum(year)</th>\n",
       "      <th>sum(road)</th>\n",
       "    </tr>\n",
       "  </thead>\n",
       "  <tbody>\n",
       "    <tr>\n",
       "      <th>0</th>\n",
       "      <td>2022</td>\n",
       "      <td>USA</td>\n",
       "      <td>12757623127701</td>\n",
       "      <td>2499279</td>\n",
       "      <td>29337198</td>\n",
       "      <td>8506</td>\n",
       "    </tr>\n",
       "    <tr>\n",
       "      <th>1</th>\n",
       "      <td>2022</td>\n",
       "      <td>NGA</td>\n",
       "      <td>3563479791279</td>\n",
       "      <td>960916</td>\n",
       "      <td>6795942</td>\n",
       "      <td>3161</td>\n",
       "    </tr>\n",
       "    <tr>\n",
       "      <th>2</th>\n",
       "      <td>2022</td>\n",
       "      <td>CZE</td>\n",
       "      <td>9114090399</td>\n",
       "      <td>1015</td>\n",
       "      <td>18198</td>\n",
       "      <td>8</td>\n",
       "    </tr>\n",
       "    <tr>\n",
       "      <th>3</th>\n",
       "      <td>2023</td>\n",
       "      <td>USA</td>\n",
       "      <td>4504479606</td>\n",
       "      <td>1284</td>\n",
       "      <td>8092</td>\n",
       "      <td>4</td>\n",
       "    </tr>\n",
       "    <tr>\n",
       "      <th>4</th>\n",
       "      <td>2022</td>\n",
       "      <td>VNM</td>\n",
       "      <td>121340191548</td>\n",
       "      <td>63061</td>\n",
       "      <td>218376</td>\n",
       "      <td>108</td>\n",
       "    </tr>\n",
       "    <tr>\n",
       "      <th>5</th>\n",
       "      <td>2022</td>\n",
       "      <td>DEU</td>\n",
       "      <td>190576058708</td>\n",
       "      <td>848</td>\n",
       "      <td>414510</td>\n",
       "      <td>14</td>\n",
       "    </tr>\n",
       "  </tbody>\n",
       "</table>\n",
       "</div>"
      ],
      "text/plain": [
       "   year country     sum(osm_id)  sum(length)  sum(year)  sum(road)\n",
       "0  2022     USA  12757623127701      2499279   29337198       8506\n",
       "1  2022     NGA   3563479791279       960916    6795942       3161\n",
       "2  2022     CZE      9114090399         1015      18198          8\n",
       "3  2023     USA      4504479606         1284       8092          4\n",
       "4  2022     VNM    121340191548        63061     218376        108\n",
       "5  2022     DEU    190576058708          848     414510         14"
      ]
     },
     "execution_count": 107,
     "metadata": {},
     "output_type": "execute_result"
    }
   ],
   "source": [
    "# Selected countries\n",
    "df_main_ai_roads_created_country = df_main_ai_roads_f3_2_created.filter(\"country == 'USA' OR country == 'NGA' OR country == 'VNM' OR country == 'DEU' OR country == 'CZE'\")\n",
    "df_main_ai_roads_created_country = df_main_ai_roads_created_country.groupBy(\"year\", \"country\").sum().toPandas()\n",
    "df_main_ai_roads_created_country"
   ]
  },
  {
   "cell_type": "code",
   "execution_count": 108,
   "metadata": {},
   "outputs": [],
   "source": [
    "# # USA - USA\n",
    "# df_roads_f3_2_created_country = df_roads_f3_2_created.groupBy(\"year\", \"country\").count()\n",
    "# df_roads_f3_2_created_country.filter(df_roads_f3_2_created_country.country == \"USA\").show()"
   ]
  },
  {
   "cell_type": "code",
   "execution_count": 109,
   "metadata": {},
   "outputs": [],
   "source": [
    "# # Nigeria - NGA\n",
    "# df_roads_f3_2_created_country = df_roads_f3_2_created.groupBy(\"year\", \"country\").count()\n",
    "# df_roads_f3_2_created_country.filter(df_roads_f3_2_created_country.country == \"NGA\").toPandas()"
   ]
  },
  {
   "cell_type": "code",
   "execution_count": 110,
   "metadata": {},
   "outputs": [],
   "source": [
    "# # Vietnam - VN\n",
    "# df_roads_f3_2_created_country = df_roads_f3_2_created.groupBy(\"year\", \"country\").count()\n",
    "# df_roads_f3_2_created_country.filter(df_roads_f3_2_created_country.country == \"VNM\").show()"
   ]
  },
  {
   "cell_type": "code",
   "execution_count": 111,
   "metadata": {},
   "outputs": [],
   "source": [
    "# # Germany - DEU\n",
    "# df_roads_f3_2_created_country = df_roads_f3_2_created.groupBy(\"year\", \"country\").count()\n",
    "# df_roads_f3_2_created_country.filter(df_roads_f3_2_created_country.country == \"DEU\").toPandas()"
   ]
  },
  {
   "cell_type": "code",
   "execution_count": 112,
   "metadata": {},
   "outputs": [],
   "source": [
    "# # Czechia - CZE\n",
    "# df_roads_f3_2_created_country = df_roads_f3_2_created.groupBy(\"year\", \"country\").count()\n",
    "# df_roads_f3_2_created_country.filter(df_roads_f3_2_created_country.country == \"CZE\").show()"
   ]
  },
  {
   "attachments": {},
   "cell_type": "markdown",
   "metadata": {},
   "source": [
    "#### F3_3"
   ]
  },
  {
   "cell_type": "code",
   "execution_count": 113,
   "metadata": {},
   "outputs": [],
   "source": [
    "# df_roads_f3_3_created = df_roads_created.filter(\\\n",
    "#     (df_roads_created.editor.contains(\"RapiD\")\\\n",
    "#      & (df_roads_created.tags_str.contains(\"mapwithai\")\\\n",
    "#         | df_roads_created.hashtags_un.contains(\"mapwithai\")\\\n",
    "#         | df_roads_created.tags_str.contains(\"MapWithAI\")\\\n",
    "#         | df_roads_created.hashtags_un.contains(\"MapWithAI\")))\\\n",
    "#     )\n"
   ]
  },
  {
   "cell_type": "code",
   "execution_count": 114,
   "metadata": {},
   "outputs": [],
   "source": [
    "# df_roads_f3_3_created.groupBy(\"year\").sum().show()\n"
   ]
  },
  {
   "cell_type": "markdown",
   "metadata": {},
   "source": [
    "# Length of edited roads"
   ]
  },
  {
   "cell_type": "code",
   "execution_count": 115,
   "metadata": {},
   "outputs": [],
   "source": [
    "df_roads_edited = df.filter(psf.col('road').isin([0]) | psf.col('road').isNull()) #  | psf.col('road').isNull()"
   ]
  },
  {
   "cell_type": "code",
   "execution_count": 116,
   "metadata": {},
   "outputs": [],
   "source": [
    "# df_roads = df.filter(~psf.col('road').isin([-1, 0]))"
   ]
  },
  {
   "cell_type": "code",
   "execution_count": 117,
   "metadata": {},
   "outputs": [],
   "source": [
    "df_roads_edited = df_roads_edited.groupBy(\"osm_id\", \"editor\", \"length\", \"country\", \"tags_str\", \"hashtags\", \"year\", \"road\").agg(psf.last(\"datetime\").alias(\"datetime\"))\n"
   ]
  },
  {
   "cell_type": "code",
   "execution_count": 118,
   "metadata": {},
   "outputs": [],
   "source": [
    "# df_roads.show()"
   ]
  },
  {
   "cell_type": "code",
   "execution_count": 119,
   "metadata": {},
   "outputs": [],
   "source": [
    "df_roads_edited = df_roads_edited.withColumn(\"hashtags_un\", psf.concat_ws(\",\", psf.col(\"hashtags\")))\n"
   ]
  },
  {
   "cell_type": "code",
   "execution_count": 120,
   "metadata": {},
   "outputs": [],
   "source": [
    "# df_roads.groupBy(\"hashtags_un\").count().show()\n"
   ]
  },
  {
   "cell_type": "code",
   "execution_count": 121,
   "metadata": {},
   "outputs": [],
   "source": [
    "# df_roads.show()"
   ]
  },
  {
   "cell_type": "markdown",
   "metadata": {},
   "source": [
    "## Edited roads filter"
   ]
  },
  {
   "cell_type": "markdown",
   "metadata": {},
   "source": [
    "### Filter for the length of all edited roads\n",
    "- column tag_str contains motorway, trunk, motorway_link, trunk_link, primary, primary_link, secondary, secondary_link, tertiary, tertiary_link, unclassified, residential"
   ]
  },
  {
   "cell_type": "code",
   "execution_count": 122,
   "metadata": {},
   "outputs": [],
   "source": [
    "df_main_roads_edited = df_roads_edited.filter(\n",
    "    df_roads_edited.tags_str.contains(\"motorway\")\\\n",
    "    | df_roads_edited.tags_str.contains(\"trunk\")\\\n",
    "    | df_roads_edited.tags_str.contains(\"motorway_link\")\\\n",
    "    | df_roads_edited.tags_str.contains(\"trunk_link\")\\\n",
    "    | df_roads_edited.tags_str.contains(\"primary\")\\\n",
    "    | df_roads_edited.tags_str.contains(\"primary_link\")\\\n",
    "    | df_roads_edited.tags_str.contains(\"secondary\")\\\n",
    "    | df_roads_edited.tags_str.contains(\"secondary_link\")\\\n",
    "    | df_roads_edited.tags_str.contains(\"tertiary\")\\\n",
    "    | df_roads_edited.tags_str.contains(\"tertiary_link\")\\\n",
    "    | df_roads_edited.tags_str.contains(\"unclassified\")\\\n",
    "    | df_roads_edited.tags_str.contains(\"residential\")\\\n",
    "    )\n"
   ]
  },
  {
   "cell_type": "markdown",
   "metadata": {},
   "source": [
    "#### All roads"
   ]
  },
  {
   "cell_type": "code",
   "execution_count": 123,
   "metadata": {},
   "outputs": [
    {
     "data": {
      "text/html": [
       "<div>\n",
       "<style scoped>\n",
       "    .dataframe tbody tr th:only-of-type {\n",
       "        vertical-align: middle;\n",
       "    }\n",
       "\n",
       "    .dataframe tbody tr th {\n",
       "        vertical-align: top;\n",
       "    }\n",
       "\n",
       "    .dataframe thead th {\n",
       "        text-align: right;\n",
       "    }\n",
       "</style>\n",
       "<table border=\"1\" class=\"dataframe\">\n",
       "  <thead>\n",
       "    <tr style=\"text-align: right;\">\n",
       "      <th></th>\n",
       "      <th>year</th>\n",
       "      <th>sum(osm_id)</th>\n",
       "      <th>sum(length)</th>\n",
       "      <th>sum(year)</th>\n",
       "      <th>sum(road)</th>\n",
       "    </tr>\n",
       "  </thead>\n",
       "  <tbody>\n",
       "    <tr>\n",
       "      <th>0</th>\n",
       "      <td>2023</td>\n",
       "      <td>4518769711821</td>\n",
       "      <td>2496515</td>\n",
       "      <td>12115747</td>\n",
       "      <td>0</td>\n",
       "    </tr>\n",
       "    <tr>\n",
       "      <th>1</th>\n",
       "      <td>2022</td>\n",
       "      <td>114295611440936595</td>\n",
       "      <td>28716825685</td>\n",
       "      <td>280682049540</td>\n",
       "      <td>0</td>\n",
       "    </tr>\n",
       "  </tbody>\n",
       "</table>\n",
       "</div>"
      ],
      "text/plain": [
       "   year         sum(osm_id)  sum(length)     sum(year)  sum(road)\n",
       "0  2023       4518769711821      2496515      12115747          0\n",
       "1  2022  114295611440936595  28716825685  280682049540          0"
      ]
     },
     "execution_count": 123,
     "metadata": {},
     "output_type": "execute_result"
    }
   ],
   "source": [
    "# World – all roads\n",
    "df_all_roads_edited_world = df_roads_edited.groupBy(\"year\").sum().toPandas()\n",
    "df_all_roads_edited_world\n"
   ]
  },
  {
   "cell_type": "code",
   "execution_count": 124,
   "metadata": {},
   "outputs": [
    {
     "data": {
      "text/html": [
       "<div>\n",
       "<style scoped>\n",
       "    .dataframe tbody tr th:only-of-type {\n",
       "        vertical-align: middle;\n",
       "    }\n",
       "\n",
       "    .dataframe tbody tr th {\n",
       "        vertical-align: top;\n",
       "    }\n",
       "\n",
       "    .dataframe thead th {\n",
       "        text-align: right;\n",
       "    }\n",
       "</style>\n",
       "<table border=\"1\" class=\"dataframe\">\n",
       "  <thead>\n",
       "    <tr style=\"text-align: right;\">\n",
       "      <th></th>\n",
       "      <th>year</th>\n",
       "      <th>country</th>\n",
       "      <th>sum(osm_id)</th>\n",
       "      <th>sum(length)</th>\n",
       "      <th>sum(year)</th>\n",
       "      <th>sum(road)</th>\n",
       "    </tr>\n",
       "  </thead>\n",
       "  <tbody>\n",
       "    <tr>\n",
       "      <th>0</th>\n",
       "      <td>2022</td>\n",
       "      <td>USA</td>\n",
       "      <td>18385360283023343</td>\n",
       "      <td>4213787767</td>\n",
       "      <td>42908718438</td>\n",
       "      <td>0.0</td>\n",
       "    </tr>\n",
       "    <tr>\n",
       "      <th>1</th>\n",
       "      <td>2022</td>\n",
       "      <td>NGA</td>\n",
       "      <td>4121824319706726</td>\n",
       "      <td>150751101</td>\n",
       "      <td>8064840012</td>\n",
       "      <td>0.0</td>\n",
       "    </tr>\n",
       "    <tr>\n",
       "      <th>2</th>\n",
       "      <td>2022</td>\n",
       "      <td>CZE</td>\n",
       "      <td>453634520157374</td>\n",
       "      <td>178607925</td>\n",
       "      <td>1786875774</td>\n",
       "      <td>0.0</td>\n",
       "    </tr>\n",
       "    <tr>\n",
       "      <th>3</th>\n",
       "      <td>2023</td>\n",
       "      <td>DEU</td>\n",
       "      <td>243446563119</td>\n",
       "      <td>92679</td>\n",
       "      <td>1191547</td>\n",
       "      <td>0.0</td>\n",
       "    </tr>\n",
       "    <tr>\n",
       "      <th>4</th>\n",
       "      <td>2023</td>\n",
       "      <td>USA</td>\n",
       "      <td>1180638761896</td>\n",
       "      <td>538641</td>\n",
       "      <td>2998086</td>\n",
       "      <td>0.0</td>\n",
       "    </tr>\n",
       "    <tr>\n",
       "      <th>5</th>\n",
       "      <td>2022</td>\n",
       "      <td>VNM</td>\n",
       "      <td>205330138759545</td>\n",
       "      <td>103359830</td>\n",
       "      <td>477982602</td>\n",
       "      <td>0.0</td>\n",
       "    </tr>\n",
       "    <tr>\n",
       "      <th>6</th>\n",
       "      <td>2023</td>\n",
       "      <td>NGA</td>\n",
       "      <td>165164785249</td>\n",
       "      <td>9411</td>\n",
       "      <td>303450</td>\n",
       "      <td>0.0</td>\n",
       "    </tr>\n",
       "    <tr>\n",
       "      <th>7</th>\n",
       "      <td>2022</td>\n",
       "      <td>DEU</td>\n",
       "      <td>5979916376125585</td>\n",
       "      <td>997512191</td>\n",
       "      <td>20542990236</td>\n",
       "      <td>0.0</td>\n",
       "    </tr>\n",
       "    <tr>\n",
       "      <th>8</th>\n",
       "      <td>2023</td>\n",
       "      <td>CZE</td>\n",
       "      <td>5518540754</td>\n",
       "      <td>526</td>\n",
       "      <td>14161</td>\n",
       "      <td>NaN</td>\n",
       "    </tr>\n",
       "  </tbody>\n",
       "</table>\n",
       "</div>"
      ],
      "text/plain": [
       "   year country        sum(osm_id)  sum(length)    sum(year)  sum(road)\n",
       "0  2022     USA  18385360283023343   4213787767  42908718438        0.0\n",
       "1  2022     NGA   4121824319706726    150751101   8064840012        0.0\n",
       "2  2022     CZE    453634520157374    178607925   1786875774        0.0\n",
       "3  2023     DEU       243446563119        92679      1191547        0.0\n",
       "4  2023     USA      1180638761896       538641      2998086        0.0\n",
       "5  2022     VNM    205330138759545    103359830    477982602        0.0\n",
       "6  2023     NGA       165164785249         9411       303450        0.0\n",
       "7  2022     DEU   5979916376125585    997512191  20542990236        0.0\n",
       "8  2023     CZE         5518540754          526        14161        NaN"
      ]
     },
     "execution_count": 124,
     "metadata": {},
     "output_type": "execute_result"
    }
   ],
   "source": [
    "# Selected countries – all roads\n",
    "df_all_roads_edited_country = df_roads_edited.filter(\"country == 'USA' OR country == 'NGA' OR country == 'VNM' OR country == 'DEU' OR country == 'CZE'\")\n",
    "df_all_roads_edited_country = df_all_roads_edited_country.groupBy(\"year\", \"country\").sum().toPandas()\n",
    "df_all_roads_edited_country"
   ]
  },
  {
   "cell_type": "markdown",
   "metadata": {},
   "source": [
    "#### Main roads"
   ]
  },
  {
   "cell_type": "code",
   "execution_count": 125,
   "metadata": {},
   "outputs": [
    {
     "data": {
      "text/html": [
       "<div>\n",
       "<style scoped>\n",
       "    .dataframe tbody tr th:only-of-type {\n",
       "        vertical-align: middle;\n",
       "    }\n",
       "\n",
       "    .dataframe tbody tr th {\n",
       "        vertical-align: top;\n",
       "    }\n",
       "\n",
       "    .dataframe thead th {\n",
       "        text-align: right;\n",
       "    }\n",
       "</style>\n",
       "<table border=\"1\" class=\"dataframe\">\n",
       "  <thead>\n",
       "    <tr style=\"text-align: right;\">\n",
       "      <th></th>\n",
       "      <th>year</th>\n",
       "      <th>sum(osm_id)</th>\n",
       "      <th>sum(length)</th>\n",
       "      <th>sum(year)</th>\n",
       "      <th>sum(road)</th>\n",
       "    </tr>\n",
       "  </thead>\n",
       "  <tbody>\n",
       "    <tr>\n",
       "      <th>0</th>\n",
       "      <td>2023</td>\n",
       "      <td>770840789662</td>\n",
       "      <td>904762</td>\n",
       "      <td>3651515</td>\n",
       "      <td>0</td>\n",
       "    </tr>\n",
       "    <tr>\n",
       "      <th>1</th>\n",
       "      <td>2022</td>\n",
       "      <td>10411164676581781</td>\n",
       "      <td>10211978360</td>\n",
       "      <td>41605864980</td>\n",
       "      <td>0</td>\n",
       "    </tr>\n",
       "  </tbody>\n",
       "</table>\n",
       "</div>"
      ],
      "text/plain": [
       "   year        sum(osm_id)  sum(length)    sum(year)  sum(road)\n",
       "0  2023       770840789662       904762      3651515          0\n",
       "1  2022  10411164676581781  10211978360  41605864980          0"
      ]
     },
     "execution_count": 125,
     "metadata": {},
     "output_type": "execute_result"
    }
   ],
   "source": [
    "# World – main roads\n",
    "df_main_roads_edited_world = df_main_roads_edited.groupBy(\"year\").sum().toPandas()\n",
    "df_main_roads_edited_world\n"
   ]
  },
  {
   "cell_type": "code",
   "execution_count": 126,
   "metadata": {},
   "outputs": [
    {
     "data": {
      "text/html": [
       "<div>\n",
       "<style scoped>\n",
       "    .dataframe tbody tr th:only-of-type {\n",
       "        vertical-align: middle;\n",
       "    }\n",
       "\n",
       "    .dataframe tbody tr th {\n",
       "        vertical-align: top;\n",
       "    }\n",
       "\n",
       "    .dataframe thead th {\n",
       "        text-align: right;\n",
       "    }\n",
       "</style>\n",
       "<table border=\"1\" class=\"dataframe\">\n",
       "  <thead>\n",
       "    <tr style=\"text-align: right;\">\n",
       "      <th></th>\n",
       "      <th>year</th>\n",
       "      <th>country</th>\n",
       "      <th>sum(osm_id)</th>\n",
       "      <th>sum(length)</th>\n",
       "      <th>sum(year)</th>\n",
       "      <th>sum(road)</th>\n",
       "    </tr>\n",
       "  </thead>\n",
       "  <tbody>\n",
       "    <tr>\n",
       "      <th>0</th>\n",
       "      <td>2022</td>\n",
       "      <td>USA</td>\n",
       "      <td>836147869142543</td>\n",
       "      <td>1586424974</td>\n",
       "      <td>4845170994</td>\n",
       "      <td>0.0</td>\n",
       "    </tr>\n",
       "    <tr>\n",
       "      <th>1</th>\n",
       "      <td>2022</td>\n",
       "      <td>NGA</td>\n",
       "      <td>132285645862987</td>\n",
       "      <td>91481032</td>\n",
       "      <td>371364564</td>\n",
       "      <td>0.0</td>\n",
       "    </tr>\n",
       "    <tr>\n",
       "      <th>2</th>\n",
       "      <td>2022</td>\n",
       "      <td>CZE</td>\n",
       "      <td>56838717795876</td>\n",
       "      <td>33282094</td>\n",
       "      <td>386430486</td>\n",
       "      <td>0.0</td>\n",
       "    </tr>\n",
       "    <tr>\n",
       "      <th>3</th>\n",
       "      <td>2023</td>\n",
       "      <td>DEU</td>\n",
       "      <td>99515728792</td>\n",
       "      <td>34708</td>\n",
       "      <td>548233</td>\n",
       "      <td>0.0</td>\n",
       "    </tr>\n",
       "    <tr>\n",
       "      <th>4</th>\n",
       "      <td>2023</td>\n",
       "      <td>USA</td>\n",
       "      <td>135349883787</td>\n",
       "      <td>277880</td>\n",
       "      <td>782901</td>\n",
       "      <td>0.0</td>\n",
       "    </tr>\n",
       "    <tr>\n",
       "      <th>5</th>\n",
       "      <td>2022</td>\n",
       "      <td>VNM</td>\n",
       "      <td>62940556115623</td>\n",
       "      <td>57656408</td>\n",
       "      <td>182689722</td>\n",
       "      <td>0.0</td>\n",
       "    </tr>\n",
       "    <tr>\n",
       "      <th>6</th>\n",
       "      <td>2023</td>\n",
       "      <td>NGA</td>\n",
       "      <td>1953344923</td>\n",
       "      <td>4045</td>\n",
       "      <td>8092</td>\n",
       "      <td>0.0</td>\n",
       "    </tr>\n",
       "    <tr>\n",
       "      <th>7</th>\n",
       "      <td>2022</td>\n",
       "      <td>DEU</td>\n",
       "      <td>372414096240753</td>\n",
       "      <td>217656440</td>\n",
       "      <td>2443081500</td>\n",
       "      <td>0.0</td>\n",
       "    </tr>\n",
       "    <tr>\n",
       "      <th>8</th>\n",
       "      <td>2023</td>\n",
       "      <td>CZE</td>\n",
       "      <td>5438511905</td>\n",
       "      <td>347</td>\n",
       "      <td>12138</td>\n",
       "      <td>NaN</td>\n",
       "    </tr>\n",
       "  </tbody>\n",
       "</table>\n",
       "</div>"
      ],
      "text/plain": [
       "   year country      sum(osm_id)  sum(length)   sum(year)  sum(road)\n",
       "0  2022     USA  836147869142543   1586424974  4845170994        0.0\n",
       "1  2022     NGA  132285645862987     91481032   371364564        0.0\n",
       "2  2022     CZE   56838717795876     33282094   386430486        0.0\n",
       "3  2023     DEU      99515728792        34708      548233        0.0\n",
       "4  2023     USA     135349883787       277880      782901        0.0\n",
       "5  2022     VNM   62940556115623     57656408   182689722        0.0\n",
       "6  2023     NGA       1953344923         4045        8092        0.0\n",
       "7  2022     DEU  372414096240753    217656440  2443081500        0.0\n",
       "8  2023     CZE       5438511905          347       12138        NaN"
      ]
     },
     "execution_count": 126,
     "metadata": {},
     "output_type": "execute_result"
    }
   ],
   "source": [
    "# Selected countries – main roads\n",
    "df_main_roads_edited_country = df_main_roads_edited.filter(\"country == 'USA' OR country == 'NGA' OR country == 'VNM' OR country == 'DEU' OR country == 'CZE'\")\n",
    "df_main_roads_edited_country = df_main_roads_edited_country.groupBy(\"year\", \"country\").sum().toPandas()\n",
    "df_main_roads_edited_country"
   ]
  },
  {
   "cell_type": "code",
   "execution_count": 127,
   "metadata": {},
   "outputs": [],
   "source": [
    "# # World\n",
    "# df_all_roads_edited.groupBy(\"year\").sum().toPandas()"
   ]
  },
  {
   "cell_type": "code",
   "execution_count": 128,
   "metadata": {},
   "outputs": [],
   "source": [
    "# # USA - USA\n",
    "# df_all_roads_edited_country = df_all_roads_edited.groupBy(\"year\", \"country\").count()\n",
    "# df_all_roads_edited_country.filter(df_all_roads_edited_country.country == \"USA\").show()"
   ]
  },
  {
   "cell_type": "code",
   "execution_count": 129,
   "metadata": {},
   "outputs": [],
   "source": [
    "# # Nigeria - NGA\n",
    "# df_all_roads_edited_country = df_all_roads_edited.groupBy(\"year\", \"country\").count()\n",
    "# df_all_roads_edited_country.filter(df_all_roads_edited_country.country == \"NGA\").toPandas()"
   ]
  },
  {
   "cell_type": "code",
   "execution_count": 130,
   "metadata": {},
   "outputs": [],
   "source": [
    "# # Vietnam - VN\n",
    "# df_all_roads_edited_country = df_all_roads_edited.groupBy(\"year\", \"country\").count()\n",
    "# df_all_roads_edited_country.filter(df_all_roads_edited_country.country == \"VNM\").show()"
   ]
  },
  {
   "cell_type": "code",
   "execution_count": 131,
   "metadata": {},
   "outputs": [],
   "source": [
    "# # Germany - DEU\n",
    "# df_all_roads_edited_country = df_all_roads_edited.groupBy(\"year\", \"country\").count()\n",
    "# df_all_roads_edited_country.filter(df_all_roads_edited_country.country == \"DEU\").toPandas()"
   ]
  },
  {
   "cell_type": "code",
   "execution_count": 132,
   "metadata": {},
   "outputs": [],
   "source": [
    "# # Czechia - CZE\n",
    "# df_all_roads_edited_country = df_all_roads_edited.groupBy(\"year\", \"country\").count()\n",
    "# df_all_roads_edited_country.filter(df_all_roads_edited_country.country == \"CZE\").show()"
   ]
  },
  {
   "cell_type": "markdown",
   "metadata": {},
   "source": [
    "## AI road filter"
   ]
  },
  {
   "cell_type": "markdown",
   "metadata": {},
   "source": [
    "### Filter 1\n",
    "- column tags contains “#mapwithai” or “#nsroadimport” or \"#MapWithAI\""
   ]
  },
  {
   "cell_type": "code",
   "execution_count": 133,
   "metadata": {},
   "outputs": [],
   "source": [
    "# df_roads_f1_edited = df_roads_edited.filter(\\\n",
    "#     df_roads_edited.tags_str.contains(\"mapwithai\")\\\n",
    "#     | df_roads_edited.tags_str.contains(\"MapWithAI\")\\\n",
    "#     | df_roads_edited.tags_str.contains(\"nsroadimport\")\\\n",
    "#     )\n"
   ]
  },
  {
   "cell_type": "code",
   "execution_count": 134,
   "metadata": {},
   "outputs": [],
   "source": [
    "# df_roads_f1_edited.groupBy(\"year\").sum().show()\n"
   ]
  },
  {
   "cell_type": "markdown",
   "metadata": {},
   "source": [
    "### Filter 2\n",
    "- column tags_str contains (#nsroadimport\" or \"mapwithai\" or “MapWithAI\") and \"highway\"\n",
    "OR\n",
    "- column hashtags_un contains (#nsroadimport\" or \"mapwithai\") and it is highway (from column tags_str ???)"
   ]
  },
  {
   "cell_type": "code",
   "execution_count": 135,
   "metadata": {},
   "outputs": [],
   "source": [
    "# df_roads_f2_edited = df_roads_edited.filter(\\\n",
    "#     (\\\n",
    "#         (df_roads_edited.tags_str.contains(\"mapwithai\")\\\n",
    "#          | df_roads_edited.tags_str.contains(\"MapWithAI\")\\\n",
    "#          | df_roads_edited.tags_str.contains(\"nsroadimport\"))\\\n",
    "#         & (df_roads_edited.tags_str.contains(\"highway\")))\\\n",
    "#       |\\\n",
    "#     (df_roads_edited.hashtags_un.contains(\"mapwithai\")\\\n",
    "#          | df_roads_edited.hashtags_un.contains(\"nsroadimport\")\\\n",
    "#          & (df_roads_edited.tags_str.contains(\"highway\"))))\n"
   ]
  },
  {
   "cell_type": "code",
   "execution_count": 136,
   "metadata": {},
   "outputs": [],
   "source": [
    "# df_roads_f2_edited.groupBy(\"year\").sum().show()\n"
   ]
  },
  {
   "cell_type": "markdown",
   "metadata": {},
   "source": [
    "### Filter 3\n",
    "3_1 – column editor contains RapiD\n",
    "\n",
    "3_2 – column editor contains RapiD or column tags_str/hashtags_un contains mapwithai\n",
    "\n",
    "3_3 – column editor contains RapiD and column tags_str/hashtags_un contains mapwithai"
   ]
  },
  {
   "cell_type": "markdown",
   "metadata": {},
   "source": [
    "#### F3_1"
   ]
  },
  {
   "cell_type": "code",
   "execution_count": 137,
   "metadata": {},
   "outputs": [],
   "source": [
    "# df_roads_f3_1_edited = df_roads_edited.filter(df_roads_edited.editor.contains(\"RapiD\"))\n"
   ]
  },
  {
   "cell_type": "code",
   "execution_count": 138,
   "metadata": {},
   "outputs": [],
   "source": [
    "# df_roads_f3_1_edited.groupBy(\"year\").sum().show()\n"
   ]
  },
  {
   "cell_type": "markdown",
   "metadata": {},
   "source": [
    "#### F3_2"
   ]
  },
  {
   "cell_type": "code",
   "execution_count": 139,
   "metadata": {},
   "outputs": [],
   "source": [
    "df_all_ai_roads_f3_2_edited = df_roads_edited.filter(\n",
    "    df_roads_edited.editor.contains(\"RapiD\")\\\n",
    "    | df_roads_edited.tags_str.contains(\"mapwithai\")\\\n",
    "    | df_roads_edited.tags_str.contains(\"MapWithAI\")\\\n",
    "    | df_roads_edited.tags_str.contains(\"nsroadimport\")\\\n",
    "    | df_roads_edited.hashtags_un.contains(\"#mapwithai\")\\\n",
    "    | df_roads_edited.hashtags_un.contains(\"#nsroadimport\")\\\n",
    "    | df_roads_edited.hashtags_un.contains(\"#MapWithAI\")\\\n",
    ")\n"
   ]
  },
  {
   "cell_type": "code",
   "execution_count": 140,
   "metadata": {},
   "outputs": [],
   "source": [
    "df_main_ai_roads_f3_2_edited = df_main_roads_edited.filter(\n",
    "    df_roads_edited.editor.contains(\"RapiD\")\n",
    "    | df_roads_edited.tags_str.contains(\"mapwithai\")\n",
    "    | df_roads_edited.tags_str.contains(\"MapWithAI\")\n",
    "    | df_roads_edited.tags_str.contains(\"nsroadimport\")\n",
    "    | df_roads_edited.hashtags_un.contains(\"#mapwithai\")\n",
    "    | df_roads_edited.hashtags_un.contains(\"#nsroadimport\")\n",
    "    | df_roads_edited.hashtags_un.contains(\"#MapWithAI\")\n",
    ")\n"
   ]
  },
  {
   "cell_type": "markdown",
   "metadata": {},
   "source": [
    "#### All AI roads "
   ]
  },
  {
   "cell_type": "code",
   "execution_count": 141,
   "metadata": {},
   "outputs": [
    {
     "data": {
      "text/html": [
       "<div>\n",
       "<style scoped>\n",
       "    .dataframe tbody tr th:only-of-type {\n",
       "        vertical-align: middle;\n",
       "    }\n",
       "\n",
       "    .dataframe tbody tr th {\n",
       "        vertical-align: top;\n",
       "    }\n",
       "\n",
       "    .dataframe thead th {\n",
       "        text-align: right;\n",
       "    }\n",
       "</style>\n",
       "<table border=\"1\" class=\"dataframe\">\n",
       "  <thead>\n",
       "    <tr style=\"text-align: right;\">\n",
       "      <th></th>\n",
       "      <th>year</th>\n",
       "      <th>sum(osm_id)</th>\n",
       "      <th>sum(length)</th>\n",
       "      <th>sum(year)</th>\n",
       "      <th>sum(road)</th>\n",
       "    </tr>\n",
       "  </thead>\n",
       "  <tbody>\n",
       "    <tr>\n",
       "      <th>0</th>\n",
       "      <td>2023</td>\n",
       "      <td>231160203391</td>\n",
       "      <td>12624</td>\n",
       "      <td>443037</td>\n",
       "      <td>0</td>\n",
       "    </tr>\n",
       "    <tr>\n",
       "      <th>1</th>\n",
       "      <td>2022</td>\n",
       "      <td>6857344568891178</td>\n",
       "      <td>1019119588</td>\n",
       "      <td>14093985018</td>\n",
       "      <td>0</td>\n",
       "    </tr>\n",
       "  </tbody>\n",
       "</table>\n",
       "</div>"
      ],
      "text/plain": [
       "   year       sum(osm_id)  sum(length)    sum(year)  sum(road)\n",
       "0  2023      231160203391        12624       443037          0\n",
       "1  2022  6857344568891178   1019119588  14093985018          0"
      ]
     },
     "execution_count": 141,
     "metadata": {},
     "output_type": "execute_result"
    }
   ],
   "source": [
    "# World\n",
    "df_all_ai_roads_edited_world = df_all_ai_roads_f3_2_edited.groupBy(\"year\").sum().toPandas()\n",
    "df_all_ai_roads_edited_world\n"
   ]
  },
  {
   "cell_type": "code",
   "execution_count": 142,
   "metadata": {},
   "outputs": [
    {
     "data": {
      "text/html": [
       "<div>\n",
       "<style scoped>\n",
       "    .dataframe tbody tr th:only-of-type {\n",
       "        vertical-align: middle;\n",
       "    }\n",
       "\n",
       "    .dataframe tbody tr th {\n",
       "        vertical-align: top;\n",
       "    }\n",
       "\n",
       "    .dataframe thead th {\n",
       "        text-align: right;\n",
       "    }\n",
       "</style>\n",
       "<table border=\"1\" class=\"dataframe\">\n",
       "  <thead>\n",
       "    <tr style=\"text-align: right;\">\n",
       "      <th></th>\n",
       "      <th>year</th>\n",
       "      <th>country</th>\n",
       "      <th>sum(osm_id)</th>\n",
       "      <th>sum(length)</th>\n",
       "      <th>sum(year)</th>\n",
       "      <th>sum(road)</th>\n",
       "    </tr>\n",
       "  </thead>\n",
       "  <tbody>\n",
       "    <tr>\n",
       "      <th>0</th>\n",
       "      <td>2022</td>\n",
       "      <td>USA</td>\n",
       "      <td>3440251410162982</td>\n",
       "      <td>93726838</td>\n",
       "      <td>6742193196</td>\n",
       "      <td>0</td>\n",
       "    </tr>\n",
       "    <tr>\n",
       "      <th>1</th>\n",
       "      <td>2022</td>\n",
       "      <td>NGA</td>\n",
       "      <td>365908383148808</td>\n",
       "      <td>2937656</td>\n",
       "      <td>702319458</td>\n",
       "      <td>0</td>\n",
       "    </tr>\n",
       "    <tr>\n",
       "      <th>2</th>\n",
       "      <td>2022</td>\n",
       "      <td>CZE</td>\n",
       "      <td>120265157555</td>\n",
       "      <td>27154</td>\n",
       "      <td>266904</td>\n",
       "      <td>0</td>\n",
       "    </tr>\n",
       "    <tr>\n",
       "      <th>3</th>\n",
       "      <td>2023</td>\n",
       "      <td>USA</td>\n",
       "      <td>231160203391</td>\n",
       "      <td>12624</td>\n",
       "      <td>443037</td>\n",
       "      <td>0</td>\n",
       "    </tr>\n",
       "    <tr>\n",
       "      <th>4</th>\n",
       "      <td>2022</td>\n",
       "      <td>VNM</td>\n",
       "      <td>262980817010</td>\n",
       "      <td>240862</td>\n",
       "      <td>545940</td>\n",
       "      <td>0</td>\n",
       "    </tr>\n",
       "    <tr>\n",
       "      <th>5</th>\n",
       "      <td>2022</td>\n",
       "      <td>DEU</td>\n",
       "      <td>5433421142340</td>\n",
       "      <td>180996</td>\n",
       "      <td>12249276</td>\n",
       "      <td>0</td>\n",
       "    </tr>\n",
       "  </tbody>\n",
       "</table>\n",
       "</div>"
      ],
      "text/plain": [
       "   year country       sum(osm_id)  sum(length)   sum(year)  sum(road)\n",
       "0  2022     USA  3440251410162982     93726838  6742193196          0\n",
       "1  2022     NGA   365908383148808      2937656   702319458          0\n",
       "2  2022     CZE      120265157555        27154      266904          0\n",
       "3  2023     USA      231160203391        12624      443037          0\n",
       "4  2022     VNM      262980817010       240862      545940          0\n",
       "5  2022     DEU     5433421142340       180996    12249276          0"
      ]
     },
     "execution_count": 142,
     "metadata": {},
     "output_type": "execute_result"
    }
   ],
   "source": [
    "# Selected countries\n",
    "df_all_ai_roads_edited_country = df_all_ai_roads_f3_2_edited.filter(\"country == 'USA' OR country == 'NGA' OR country == 'VNM' OR country == 'DEU' OR country == 'CZE'\")\n",
    "df_all_ai_roads_edited_country = df_all_ai_roads_edited_country.groupBy(\"year\", \"country\").sum().toPandas()\n",
    "df_all_ai_roads_edited_country"
   ]
  },
  {
   "cell_type": "markdown",
   "metadata": {},
   "source": [
    "#### Main AI roads"
   ]
  },
  {
   "cell_type": "code",
   "execution_count": 143,
   "metadata": {},
   "outputs": [],
   "source": [
    "# # World\n",
    "# df_main_ai_roads_edited_world = df_main_ai_roads_f3_2_edited.groupBy(\"year\").sum().toPandas()\n",
    "# df_main_ai_roads_edited_world\n"
   ]
  },
  {
   "cell_type": "code",
   "execution_count": 144,
   "metadata": {},
   "outputs": [],
   "source": [
    "# # Selected countries\n",
    "# df_main_ai_roads_edited_country = df_main_ai_roads_f3_2_edited.filter(\"country == 'USA' OR country == 'NGA' OR country == 'VNM' OR country == 'DEU' OR country == 'CZE'\")\n",
    "# df_main_ai_roads_edited_country = df_main_ai_roads_edited_country.groupBy(\"year\", \"country\").count().withColumnRenamed(\"count\", \"df_main_ai_roads_created_country\").toPandas()\n",
    "# df_main_ai_roads_edited_country"
   ]
  },
  {
   "cell_type": "code",
   "execution_count": 145,
   "metadata": {},
   "outputs": [],
   "source": [
    "# # World\n",
    "# df_roads_f3_2_edited.groupBy(\"year\").sum().toPandas()\n"
   ]
  },
  {
   "cell_type": "code",
   "execution_count": 146,
   "metadata": {},
   "outputs": [],
   "source": [
    "# # USA - USA\n",
    "# df_roads_f3_2_edited_country = df_roads_f3_2_edited.groupBy(\"year\", \"country\").count()\n",
    "# df_roads_f3_2_edited_country.filter(df_roads_f3_2_edited_country.country == \"USA\").show()"
   ]
  },
  {
   "cell_type": "code",
   "execution_count": 147,
   "metadata": {},
   "outputs": [],
   "source": [
    "# # Nigeria - NGA\n",
    "# df_roads_f3_2_edited_country = df_roads_f3_2_edited.groupBy(\"year\", \"country\").count()\n",
    "# df_roads_f3_2_edited_country.filter(df_roads_f3_2_edited_country.country == \"NGA\").toPandas()"
   ]
  },
  {
   "cell_type": "code",
   "execution_count": 148,
   "metadata": {},
   "outputs": [],
   "source": [
    "# # Vietnam - VN\n",
    "# df_roads_f3_2_edited_country = df_roads_f3_2_edited.groupBy(\"year\", \"country\").count()\n",
    "# df_roads_f3_2_edited_country.filter(df_roads_f3_2_edited_country.country == \"VNM\").show()"
   ]
  },
  {
   "cell_type": "code",
   "execution_count": 149,
   "metadata": {},
   "outputs": [],
   "source": [
    "# # Germany - DEU\n",
    "# df_roads_f3_2_edited_country = df_roads_f3_2_edited.groupBy(\"year\", \"country\").count()\n",
    "# df_roads_f3_2_edited_country.filter(df_roads_f3_2_edited_country.country == \"DEU\").toPandas()"
   ]
  },
  {
   "cell_type": "code",
   "execution_count": 150,
   "metadata": {},
   "outputs": [],
   "source": [
    "# # Czechia - CZE\n",
    "# df_roads_f3_2_edited_country = df_roads_f3_2_edited.groupBy(\"year\", \"country\").count()\n",
    "# df_roads_f3_2_edited_country.filter(df_roads_f3_2_edited_country.country == \"CZE\").show()"
   ]
  },
  {
   "cell_type": "markdown",
   "metadata": {},
   "source": [
    "#### F3_3"
   ]
  },
  {
   "cell_type": "code",
   "execution_count": 151,
   "metadata": {},
   "outputs": [],
   "source": [
    "# df_roads_f3_3_edited = df_roads_edited.filter(\\\n",
    "#     (df_roads_edited.editor.contains(\"RapiD\")\\\n",
    "#      & (df_roads_edited.tags_str.contains(\"mapwithai\")\\\n",
    "#         | df_roads_edited.hashtags_un.contains(\"mapwithai\")\\\n",
    "#         | df_roads_edited.tags_str.contains(\"MapWithAI\")\\\n",
    "#         | df_roads_edited.hashtags_un.contains(\"MapWithAI\")))\\\n",
    "#     )\n"
   ]
  },
  {
   "cell_type": "code",
   "execution_count": 152,
   "metadata": {},
   "outputs": [],
   "source": [
    "# df_roads_f3_3_edited.groupBy(\"year\").sum().show()\n"
   ]
  },
  {
   "cell_type": "markdown",
   "metadata": {},
   "source": [
    "## Plot the numbers"
   ]
  },
  {
   "cell_type": "code",
   "execution_count": 153,
   "metadata": {},
   "outputs": [],
   "source": [
    "class BarPlotter:\n",
    "    def __init__(self, *dfs, x_column, y_column):\n",
    "        self.dfs = list(dfs)\n",
    "        self.x_column = x_column\n",
    "        self.y_column = y_column\n",
    "        self.N = len(self.dfs[0])\n",
    "        self.width = 0.2\n",
    "\n",
    "    def create_bar_plot(self, title=None, xlabel=\"X-axis\", ylabel=\"Y-axis\"):\n",
    "        if title is None:\n",
    "            title = [\n",
    "                f'DataFrame {self.dfs[i][\"country\"][0]}' for i in range(len(self.dfs))]\n",
    "        ind = np.arange(len(self.dfs[0]))\n",
    "        plt.figure(figsize=(10, 6))\n",
    "\n",
    "        for i, df in enumerate(self.dfs):\n",
    "            plt.bar(ind + i * self.width,\n",
    "                    df[self.y_column], self.width, label=title[i])\n",
    "\n",
    "        # plt.bar(ind,\n",
    "        #         self.df1[self.y_column], self.width,  label=self.df1[\"country\"][0])\n",
    "        # plt.bar(ind, self.df2[self.y_column], self.width, df[self.y_column], self.width, label=titles[i])\n",
    "        #         label=self.df2[\"country\"][0])\n",
    "\n",
    "        plt.xlabel(xlabel)\n",
    "        plt.ylabel(ylabel)\n",
    "        # plt.title(title)\n",
    "        plt.legend()\n",
    "        # plt.xticks(rotation=45)\n",
    "        plt.xticks(ind + self.width * (self.N - 1) /\n",
    "                   2, self.dfs[0][self.x_column])\n",
    "        # plt.yticks(np.arange(len(self.df1[self.y_column])))\n",
    "        plt.tight_layout()\n",
    "        plt.show()"
   ]
  },
  {
   "cell_type": "code",
   "execution_count": 154,
   "metadata": {},
   "outputs": [
    {
     "ename": "NameError",
     "evalue": "name 'df_all_blds_created_country_USA' is not defined",
     "output_type": "error",
     "traceback": [
      "\u001b[1;31m---------------------------------------------------------------------------\u001b[0m",
      "\u001b[1;31mNameError\u001b[0m                                 Traceback (most recent call last)",
      "\u001b[1;32mc:\\Users\\milan\\OneDrive - MUNI\\VŠ\\PhD\\Zahraniční stáž\\Work\\HeiGIT_notebooks\\analysis\\ai-assisted-osm-mapping-stats\\notebooks-contributions\\open-parquet-pyspark-new-data-structure.ipynb Cell 198\u001b[0m line \u001b[0;36m1\n\u001b[1;32m----> <a href='vscode-notebook-cell:/c%3A/Users/milan/OneDrive%20-%20MUNI/V%C5%A0/PhD/Zahrani%C4%8Dn%C3%AD%20st%C3%A1%C5%BE/Work/HeiGIT_notebooks/analysis/ai-assisted-osm-mapping-stats/notebooks-contributions/open-parquet-pyspark-new-data-structure.ipynb#Y350sZmlsZQ%3D%3D?line=0'>1</a>\u001b[0m pl1 \u001b[39m=\u001b[39m BarPlotter(df_all_blds_created_country_USA, df_all_blds_created_country_NGA,\n\u001b[0;32m      <a href='vscode-notebook-cell:/c%3A/Users/milan/OneDrive%20-%20MUNI/V%C5%A0/PhD/Zahrani%C4%8Dn%C3%AD%20st%C3%A1%C5%BE/Work/HeiGIT_notebooks/analysis/ai-assisted-osm-mapping-stats/notebooks-contributions/open-parquet-pyspark-new-data-structure.ipynb#Y350sZmlsZQ%3D%3D?line=1'>2</a>\u001b[0m                  df_all_blds_created_country_VN, x_column\u001b[39m=\u001b[39m\u001b[39m\"\u001b[39m\u001b[39myear\u001b[39m\u001b[39m\"\u001b[39m, y_column\u001b[39m=\u001b[39m\u001b[39m\"\u001b[39m\u001b[39mcount\u001b[39m\u001b[39m\"\u001b[39m)\n\u001b[0;32m      <a href='vscode-notebook-cell:/c%3A/Users/milan/OneDrive%20-%20MUNI/V%C5%A0/PhD/Zahrani%C4%8Dn%C3%AD%20st%C3%A1%C5%BE/Work/HeiGIT_notebooks/analysis/ai-assisted-osm-mapping-stats/notebooks-contributions/open-parquet-pyspark-new-data-structure.ipynb#Y350sZmlsZQ%3D%3D?line=2'>3</a>\u001b[0m pl1\u001b[39m.\u001b[39mcreate_bar_plot(title\u001b[39m=\u001b[39m\u001b[39mNone\u001b[39;00m, xlabel\u001b[39m=\u001b[39m\u001b[39m\"\u001b[39m\u001b[39mYear\u001b[39m\u001b[39m\"\u001b[39m, ylabel\u001b[39m=\u001b[39m\u001b[39m\"\u001b[39m\u001b[39mCount\u001b[39m\u001b[39m\"\u001b[39m)\n",
      "\u001b[1;31mNameError\u001b[0m: name 'df_all_blds_created_country_USA' is not defined"
     ]
    }
   ],
   "source": [
    "pl1 = BarPlotter(df_all_ai_roads_created_country.loc[:, [\"country\" == \"USA\"]], df_all_ai_roads_edited_country.loc[:, [\"country\" == \"USA\"]],\n",
    "                 , x_column=\"year\", y_column=\"count\")\n",
    "pl1.create_bar_plot(title=None, xlabel=\"Year\", ylabel=\"Count\")"
   ]
  },
  {
   "cell_type": "markdown",
   "metadata": {},
   "source": [
    "# This chapter is useless so far"
   ]
  },
  {
   "attachments": {},
   "cell_type": "markdown",
   "metadata": {},
   "source": [
    "## Convert to Pandas DataFrame - AI buildings, AI roads (this chapter is useless so far)"
   ]
  },
  {
   "cell_type": "code",
   "execution_count": null,
   "metadata": {},
   "outputs": [],
   "source": [
    "# # Filter AI blds\n",
    "# df_blds = df.filter(df.tags_str.contains(\"microsoft/BuildingFootprints\") | df.tags_str.contains(\"esri/Google_Africa_Buildings\"))\\\n",
    "# .groupby(\"country\", \"editor\", \"year\", \"tags_str\")\\\n",
    "# .agg(psf.sum(\"user_id\"))\\\n",
    "# .withColumnRenamed(\"sum(user_id)\", \"count_u_id\")\\\n",
    "# .sort(psf.col(\"count_u_id\").desc())\\\n",
    "# .toPandas()\n"
   ]
  },
  {
   "cell_type": "code",
   "execution_count": null,
   "metadata": {},
   "outputs": [
    {
     "data": {
      "text/html": [
       "<div>\n",
       "<style scoped>\n",
       "    .dataframe tbody tr th:only-of-type {\n",
       "        vertical-align: middle;\n",
       "    }\n",
       "\n",
       "    .dataframe tbody tr th {\n",
       "        vertical-align: top;\n",
       "    }\n",
       "\n",
       "    .dataframe thead th {\n",
       "        text-align: right;\n",
       "    }\n",
       "</style>\n",
       "<table border=\"1\" class=\"dataframe\">\n",
       "  <thead>\n",
       "    <tr style=\"text-align: right;\">\n",
       "      <th></th>\n",
       "      <th>country</th>\n",
       "      <th>editor</th>\n",
       "      <th>year</th>\n",
       "      <th>tags_str</th>\n",
       "      <th>count_u_id</th>\n",
       "    </tr>\n",
       "  </thead>\n",
       "  <tbody>\n",
       "    <tr>\n",
       "      <th>0</th>\n",
       "      <td>TUR</td>\n",
       "      <td>RapiD 1.1.9-tm.1</td>\n",
       "      <td>2023</td>\n",
       "      <td>{building -&gt; yes, source -&gt; microsoft/Building...</td>\n",
       "      <td>1862607831910</td>\n",
       "    </tr>\n",
       "    <tr>\n",
       "      <th>1</th>\n",
       "      <td>IND</td>\n",
       "      <td>RapiD 1.1.9</td>\n",
       "      <td>2023</td>\n",
       "      <td>{building -&gt; yes, source -&gt; microsoft/Building...</td>\n",
       "      <td>697575610154</td>\n",
       "    </tr>\n",
       "    <tr>\n",
       "      <th>2</th>\n",
       "      <td>IDN</td>\n",
       "      <td>JOSM/1.5 (18583 en)</td>\n",
       "      <td>2023</td>\n",
       "      <td>{building -&gt; yes, source -&gt; microsoft/Building...</td>\n",
       "      <td>167757823842</td>\n",
       "    </tr>\n",
       "    <tr>\n",
       "      <th>3</th>\n",
       "      <td>USA</td>\n",
       "      <td>RapiD 1.1.9</td>\n",
       "      <td>2023</td>\n",
       "      <td>{building -&gt; yes, source -&gt; microsoft/Building...</td>\n",
       "      <td>116856923771</td>\n",
       "    </tr>\n",
       "    <tr>\n",
       "      <th>4</th>\n",
       "      <td>SYR</td>\n",
       "      <td>RapiD 1.1.9-tm.1</td>\n",
       "      <td>2023</td>\n",
       "      <td>{building -&gt; yes, source -&gt; microsoft/Building...</td>\n",
       "      <td>97647827025</td>\n",
       "    </tr>\n",
       "    <tr>\n",
       "      <th>...</th>\n",
       "      <td>...</td>\n",
       "      <td>...</td>\n",
       "      <td>...</td>\n",
       "      <td>...</td>\n",
       "      <td>...</td>\n",
       "    </tr>\n",
       "    <tr>\n",
       "      <th>24984</th>\n",
       "      <td>GBR</td>\n",
       "      <td>StreetComplete 50.2</td>\n",
       "      <td>2023</td>\n",
       "      <td>{building -&gt; house, source -&gt; microsoft/Buildi...</td>\n",
       "      <td>7329</td>\n",
       "    </tr>\n",
       "    <tr>\n",
       "      <th>24985</th>\n",
       "      <td>GBR</td>\n",
       "      <td>StreetComplete 50.2</td>\n",
       "      <td>2023</td>\n",
       "      <td>{building -&gt; detached, source -&gt; microsoft/Bui...</td>\n",
       "      <td>7329</td>\n",
       "    </tr>\n",
       "    <tr>\n",
       "      <th>24986</th>\n",
       "      <td>GBR</td>\n",
       "      <td>StreetComplete 50.2</td>\n",
       "      <td>2023</td>\n",
       "      <td>{building -&gt; apartments, source -&gt; microsoft/B...</td>\n",
       "      <td>7329</td>\n",
       "    </tr>\n",
       "    <tr>\n",
       "      <th>24987</th>\n",
       "      <td>GBR</td>\n",
       "      <td>RapiD 1.1.9</td>\n",
       "      <td>2023</td>\n",
       "      <td>{building -&gt; yes, source -&gt; microsoft/Building...</td>\n",
       "      <td>7329</td>\n",
       "    </tr>\n",
       "    <tr>\n",
       "      <th>24988</th>\n",
       "      <td>TUR</td>\n",
       "      <td>RapiD 1.1.9-tm.1</td>\n",
       "      <td>2023</td>\n",
       "      <td>{building -&gt; yes, source -&gt; microsoft/Building...</td>\n",
       "      <td>7264</td>\n",
       "    </tr>\n",
       "  </tbody>\n",
       "</table>\n",
       "<p>24989 rows × 5 columns</p>\n",
       "</div>"
      ],
      "text/plain": [
       "      country               editor  year  \\\n",
       "0         TUR     RapiD 1.1.9-tm.1  2023   \n",
       "1         IND          RapiD 1.1.9  2023   \n",
       "2         IDN  JOSM/1.5 (18583 en)  2023   \n",
       "3         USA          RapiD 1.1.9  2023   \n",
       "4         SYR     RapiD 1.1.9-tm.1  2023   \n",
       "...       ...                  ...   ...   \n",
       "24984     GBR  StreetComplete 50.2  2023   \n",
       "24985     GBR  StreetComplete 50.2  2023   \n",
       "24986     GBR  StreetComplete 50.2  2023   \n",
       "24987     GBR          RapiD 1.1.9  2023   \n",
       "24988     TUR     RapiD 1.1.9-tm.1  2023   \n",
       "\n",
       "                                                tags_str     count_u_id  \n",
       "0      {building -> yes, source -> microsoft/Building...  1862607831910  \n",
       "1      {building -> yes, source -> microsoft/Building...   697575610154  \n",
       "2      {building -> yes, source -> microsoft/Building...   167757823842  \n",
       "3      {building -> yes, source -> microsoft/Building...   116856923771  \n",
       "4      {building -> yes, source -> microsoft/Building...    97647827025  \n",
       "...                                                  ...            ...  \n",
       "24984  {building -> house, source -> microsoft/Buildi...           7329  \n",
       "24985  {building -> detached, source -> microsoft/Bui...           7329  \n",
       "24986  {building -> apartments, source -> microsoft/B...           7329  \n",
       "24987  {building -> yes, source -> microsoft/Building...           7329  \n",
       "24988  {building -> yes, source -> microsoft/Building...           7264  \n",
       "\n",
       "[24989 rows x 5 columns]"
      ]
     },
     "execution_count": 26,
     "metadata": {},
     "output_type": "execute_result"
    }
   ],
   "source": [
    "# df_blds"
   ]
  },
  {
   "cell_type": "code",
   "execution_count": null,
   "metadata": {},
   "outputs": [
    {
     "data": {
      "text/plain": [
       "0        True\n",
       "1        True\n",
       "2        True\n",
       "3        True\n",
       "4        True\n",
       "         ... \n",
       "24984    True\n",
       "24985    True\n",
       "24986    True\n",
       "24987    True\n",
       "24988    True\n",
       "Length: 24989, dtype: bool"
      ]
     },
     "execution_count": 32,
     "metadata": {},
     "output_type": "execute_result"
    }
   ],
   "source": [
    "# df_blds.notna().all(axis=1)\n"
   ]
  },
  {
   "cell_type": "code",
   "execution_count": null,
   "metadata": {},
   "outputs": [],
   "source": [
    "# & (psf.col(\"road\") == 1)\n"
   ]
  },
  {
   "cell_type": "code",
   "execution_count": null,
   "metadata": {},
   "outputs": [
    {
     "name": "stderr",
     "output_type": "stream",
     "text": [
      "ERROR:root:KeyboardInterrupt while sending command.\n",
      "Traceback (most recent call last):\n",
      "  File \"c:\\Users\\milan\\general_py_venv\\lib\\site-packages\\py4j\\java_gateway.py\", line 1038, in send_command\n",
      "    response = connection.send_command(command)\n",
      "  File \"c:\\Users\\milan\\general_py_venv\\lib\\site-packages\\py4j\\clientserver.py\", line 511, in send_command\n",
      "    answer = smart_decode(self.stream.readline()[:-1])\n",
      "  File \"C:\\Users\\milan\\AppData\\Local\\Programs\\Python\\Python310\\lib\\socket.py\", line 705, in readinto\n",
      "    return self._sock.recv_into(b)\n",
      "KeyboardInterrupt\n"
     ]
    },
    {
     "ename": "KeyboardInterrupt",
     "evalue": "",
     "output_type": "error",
     "traceback": [
      "\u001b[1;31m---------------------------------------------------------------------------\u001b[0m",
      "\u001b[1;31mKeyboardInterrupt\u001b[0m                         Traceback (most recent call last)",
      "\u001b[1;32mc:\\Users\\milan\\OneDrive - MUNI\\VŠ\\PhD\\Zahraniční stáž\\Work\\HeiGIT_notebooks\\analysis\\ai-assisted-osm-mapping-stats\\notebooks-contributions\\open-parquet-pyspark-new-data-structure.ipynb Cell 43\u001b[0m in \u001b[0;36m8\n\u001b[0;32m      <a href='vscode-notebook-cell:/c%3A/Users/milan/OneDrive%20-%20MUNI/V%C5%A0/PhD/Zahrani%C4%8Dn%C3%AD%20st%C3%A1%C5%BE/Work/HeiGIT_notebooks/analysis/ai-assisted-osm-mapping-stats/notebooks-contributions/open-parquet-pyspark-new-data-structure.ipynb#X43sZmlsZQ%3D%3D?line=0'>1</a>\u001b[0m \u001b[39m# Filter AI roads\u001b[39;00m\n\u001b[0;32m      <a href='vscode-notebook-cell:/c%3A/Users/milan/OneDrive%20-%20MUNI/V%C5%A0/PhD/Zahrani%C4%8Dn%C3%AD%20st%C3%A1%C5%BE/Work/HeiGIT_notebooks/analysis/ai-assisted-osm-mapping-stats/notebooks-contributions/open-parquet-pyspark-new-data-structure.ipynb#X43sZmlsZQ%3D%3D?line=1'>2</a>\u001b[0m df_roads \u001b[39m=\u001b[39m df_roads\u001b[39m.\u001b[39mfilter(((df_roads\u001b[39m.\u001b[39mtags_str\u001b[39m.\u001b[39mcontains(\u001b[39m\"\u001b[39m\u001b[39mmapwithai\u001b[39m\u001b[39m\"\u001b[39m) \u001b[39m|\u001b[39m df_roads\u001b[39m.\u001b[39mtags_str\u001b[39m.\u001b[39mcontains(\u001b[39m\"\u001b[39m\u001b[39mMapWithAI\u001b[39m\u001b[39m\"\u001b[39m) \u001b[39m|\u001b[39m df_roads\u001b[39m.\u001b[39mtags_str\u001b[39m.\u001b[39mcontains(\u001b[39m\"\u001b[39m\u001b[39m#nsroadimport\u001b[39m\u001b[39m\"\u001b[39m)) \u001b[39m&\u001b[39m (df_roads\u001b[39m.\u001b[39mtags_str\u001b[39m.\u001b[39mcontains(\u001b[39m\"\u001b[39m\u001b[39mhighway\u001b[39m\u001b[39m\"\u001b[39m)))\n\u001b[0;32m      <a href='vscode-notebook-cell:/c%3A/Users/milan/OneDrive%20-%20MUNI/V%C5%A0/PhD/Zahrani%C4%8Dn%C3%AD%20st%C3%A1%C5%BE/Work/HeiGIT_notebooks/analysis/ai-assisted-osm-mapping-stats/notebooks-contributions/open-parquet-pyspark-new-data-structure.ipynb#X43sZmlsZQ%3D%3D?line=2'>3</a>\u001b[0m                            \u001b[39m|\u001b[39m (df_roads\u001b[39m.\u001b[39mhashtags_un\u001b[39m.\u001b[39mcontains(\u001b[39m\"\u001b[39m\u001b[39m#mapwithai\u001b[39m\u001b[39m\"\u001b[39m) \u001b[39m|\u001b[39m df_roads\u001b[39m.\u001b[39mhashtags_un\u001b[39m.\u001b[39mcontains(\u001b[39m\"\u001b[39m\u001b[39m#nsroadimport\u001b[39m\u001b[39m\"\u001b[39m)))\\\n\u001b[0;32m      <a href='vscode-notebook-cell:/c%3A/Users/milan/OneDrive%20-%20MUNI/V%C5%A0/PhD/Zahrani%C4%8Dn%C3%AD%20st%C3%A1%C5%BE/Work/HeiGIT_notebooks/analysis/ai-assisted-osm-mapping-stats/notebooks-contributions/open-parquet-pyspark-new-data-structure.ipynb#X43sZmlsZQ%3D%3D?line=3'>4</a>\u001b[0m     \u001b[39m.\u001b[39mgroupby(\u001b[39m\"\u001b[39m\u001b[39mcountry\u001b[39m\u001b[39m\"\u001b[39m, \u001b[39m\"\u001b[39m\u001b[39meditor\u001b[39m\u001b[39m\"\u001b[39m, \u001b[39m\"\u001b[39m\u001b[39myear\u001b[39m\u001b[39m\"\u001b[39m, \u001b[39m\"\u001b[39m\u001b[39mtags_str\u001b[39m\u001b[39m\"\u001b[39m, \u001b[39m\"\u001b[39m\u001b[39mhashtags_un\u001b[39m\u001b[39m\"\u001b[39m, \u001b[39m\"\u001b[39m\u001b[39mlength\u001b[39m\u001b[39m\"\u001b[39m)\\\n\u001b[0;32m      <a href='vscode-notebook-cell:/c%3A/Users/milan/OneDrive%20-%20MUNI/V%C5%A0/PhD/Zahrani%C4%8Dn%C3%AD%20st%C3%A1%C5%BE/Work/HeiGIT_notebooks/analysis/ai-assisted-osm-mapping-stats/notebooks-contributions/open-parquet-pyspark-new-data-structure.ipynb#X43sZmlsZQ%3D%3D?line=4'>5</a>\u001b[0m     \u001b[39m.\u001b[39magg(psf\u001b[39m.\u001b[39msum(\u001b[39m\"\u001b[39m\u001b[39mcountry\u001b[39m\u001b[39m\"\u001b[39m))\\\n\u001b[0;32m      <a href='vscode-notebook-cell:/c%3A/Users/milan/OneDrive%20-%20MUNI/V%C5%A0/PhD/Zahrani%C4%8Dn%C3%AD%20st%C3%A1%C5%BE/Work/HeiGIT_notebooks/analysis/ai-assisted-osm-mapping-stats/notebooks-contributions/open-parquet-pyspark-new-data-structure.ipynb#X43sZmlsZQ%3D%3D?line=5'>6</a>\u001b[0m     \u001b[39m.\u001b[39mwithColumnRenamed(\u001b[39m\"\u001b[39m\u001b[39msum(country)\u001b[39m\u001b[39m\"\u001b[39m, \u001b[39m\"\u001b[39m\u001b[39mcount_country\u001b[39m\u001b[39m\"\u001b[39m)\\\n\u001b[0;32m      <a href='vscode-notebook-cell:/c%3A/Users/milan/OneDrive%20-%20MUNI/V%C5%A0/PhD/Zahrani%C4%8Dn%C3%AD%20st%C3%A1%C5%BE/Work/HeiGIT_notebooks/analysis/ai-assisted-osm-mapping-stats/notebooks-contributions/open-parquet-pyspark-new-data-structure.ipynb#X43sZmlsZQ%3D%3D?line=6'>7</a>\u001b[0m     \u001b[39m.\u001b[39msort(psf\u001b[39m.\u001b[39mcol(\u001b[39m\"\u001b[39m\u001b[39mcount_country\u001b[39m\u001b[39m\"\u001b[39m)\u001b[39m.\u001b[39mdesc())\\\n\u001b[1;32m----> <a href='vscode-notebook-cell:/c%3A/Users/milan/OneDrive%20-%20MUNI/V%C5%A0/PhD/Zahrani%C4%8Dn%C3%AD%20st%C3%A1%C5%BE/Work/HeiGIT_notebooks/analysis/ai-assisted-osm-mapping-stats/notebooks-contributions/open-parquet-pyspark-new-data-structure.ipynb#X43sZmlsZQ%3D%3D?line=7'>8</a>\u001b[0m     \u001b[39m.\u001b[39mtoPandas()\n",
      "File \u001b[1;32mc:\\Users\\milan\\general_py_venv\\lib\\site-packages\\pyspark\\sql\\pandas\\conversion.py:208\u001b[0m, in \u001b[0;36mPandasConversionMixin.toPandas\u001b[1;34m(self)\u001b[0m\n\u001b[0;32m    205\u001b[0m             \u001b[39mraise\u001b[39;00m\n\u001b[0;32m    207\u001b[0m \u001b[39m# Below is toPandas without Arrow optimization.\u001b[39;00m\n\u001b[1;32m--> 208\u001b[0m pdf \u001b[39m=\u001b[39m pd\u001b[39m.\u001b[39mDataFrame\u001b[39m.\u001b[39mfrom_records(\u001b[39mself\u001b[39;49m\u001b[39m.\u001b[39;49mcollect(), columns\u001b[39m=\u001b[39m\u001b[39mself\u001b[39m\u001b[39m.\u001b[39mcolumns)\n\u001b[0;32m    209\u001b[0m column_counter \u001b[39m=\u001b[39m Counter(\u001b[39mself\u001b[39m\u001b[39m.\u001b[39mcolumns)\n\u001b[0;32m    211\u001b[0m corrected_dtypes: List[Optional[Type]] \u001b[39m=\u001b[39m [\u001b[39mNone\u001b[39;00m] \u001b[39m*\u001b[39m \u001b[39mlen\u001b[39m(\u001b[39mself\u001b[39m\u001b[39m.\u001b[39mschema)\n",
      "File \u001b[1;32mc:\\Users\\milan\\general_py_venv\\lib\\site-packages\\pyspark\\sql\\dataframe.py:1216\u001b[0m, in \u001b[0;36mDataFrame.collect\u001b[1;34m(self)\u001b[0m\n\u001b[0;32m   1196\u001b[0m \u001b[39m\"\"\"Returns all the records as a list of :class:`Row`.\u001b[39;00m\n\u001b[0;32m   1197\u001b[0m \n\u001b[0;32m   1198\u001b[0m \u001b[39m.. versionadded:: 1.3.0\u001b[39;00m\n\u001b[1;32m   (...)\u001b[0m\n\u001b[0;32m   1213\u001b[0m \u001b[39m[Row(age=14, name='Tom'), Row(age=23, name='Alice'), Row(age=16, name='Bob')]\u001b[39;00m\n\u001b[0;32m   1214\u001b[0m \u001b[39m\"\"\"\u001b[39;00m\n\u001b[0;32m   1215\u001b[0m \u001b[39mwith\u001b[39;00m SCCallSiteSync(\u001b[39mself\u001b[39m\u001b[39m.\u001b[39m_sc):\n\u001b[1;32m-> 1216\u001b[0m     sock_info \u001b[39m=\u001b[39m \u001b[39mself\u001b[39;49m\u001b[39m.\u001b[39;49m_jdf\u001b[39m.\u001b[39;49mcollectToPython()\n\u001b[0;32m   1217\u001b[0m \u001b[39mreturn\u001b[39;00m \u001b[39mlist\u001b[39m(_load_from_socket(sock_info, BatchedSerializer(CPickleSerializer())))\n",
      "File \u001b[1;32mc:\\Users\\milan\\general_py_venv\\lib\\site-packages\\py4j\\java_gateway.py:1321\u001b[0m, in \u001b[0;36mJavaMember.__call__\u001b[1;34m(self, *args)\u001b[0m\n\u001b[0;32m   1314\u001b[0m args_command, temp_args \u001b[39m=\u001b[39m \u001b[39mself\u001b[39m\u001b[39m.\u001b[39m_build_args(\u001b[39m*\u001b[39margs)\n\u001b[0;32m   1316\u001b[0m command \u001b[39m=\u001b[39m proto\u001b[39m.\u001b[39mCALL_COMMAND_NAME \u001b[39m+\u001b[39m\\\n\u001b[0;32m   1317\u001b[0m     \u001b[39mself\u001b[39m\u001b[39m.\u001b[39mcommand_header \u001b[39m+\u001b[39m\\\n\u001b[0;32m   1318\u001b[0m     args_command \u001b[39m+\u001b[39m\\\n\u001b[0;32m   1319\u001b[0m     proto\u001b[39m.\u001b[39mEND_COMMAND_PART\n\u001b[1;32m-> 1321\u001b[0m answer \u001b[39m=\u001b[39m \u001b[39mself\u001b[39;49m\u001b[39m.\u001b[39;49mgateway_client\u001b[39m.\u001b[39;49msend_command(command)\n\u001b[0;32m   1322\u001b[0m return_value \u001b[39m=\u001b[39m get_return_value(\n\u001b[0;32m   1323\u001b[0m     answer, \u001b[39mself\u001b[39m\u001b[39m.\u001b[39mgateway_client, \u001b[39mself\u001b[39m\u001b[39m.\u001b[39mtarget_id, \u001b[39mself\u001b[39m\u001b[39m.\u001b[39mname)\n\u001b[0;32m   1325\u001b[0m \u001b[39mfor\u001b[39;00m temp_arg \u001b[39min\u001b[39;00m temp_args:\n",
      "File \u001b[1;32mc:\\Users\\milan\\general_py_venv\\lib\\site-packages\\py4j\\java_gateway.py:1038\u001b[0m, in \u001b[0;36mGatewayClient.send_command\u001b[1;34m(self, command, retry, binary)\u001b[0m\n\u001b[0;32m   1036\u001b[0m connection \u001b[39m=\u001b[39m \u001b[39mself\u001b[39m\u001b[39m.\u001b[39m_get_connection()\n\u001b[0;32m   1037\u001b[0m \u001b[39mtry\u001b[39;00m:\n\u001b[1;32m-> 1038\u001b[0m     response \u001b[39m=\u001b[39m connection\u001b[39m.\u001b[39;49msend_command(command)\n\u001b[0;32m   1039\u001b[0m     \u001b[39mif\u001b[39;00m binary:\n\u001b[0;32m   1040\u001b[0m         \u001b[39mreturn\u001b[39;00m response, \u001b[39mself\u001b[39m\u001b[39m.\u001b[39m_create_connection_guard(connection)\n",
      "File \u001b[1;32mc:\\Users\\milan\\general_py_venv\\lib\\site-packages\\py4j\\clientserver.py:511\u001b[0m, in \u001b[0;36mClientServerConnection.send_command\u001b[1;34m(self, command)\u001b[0m\n\u001b[0;32m    509\u001b[0m \u001b[39mtry\u001b[39;00m:\n\u001b[0;32m    510\u001b[0m     \u001b[39mwhile\u001b[39;00m \u001b[39mTrue\u001b[39;00m:\n\u001b[1;32m--> 511\u001b[0m         answer \u001b[39m=\u001b[39m smart_decode(\u001b[39mself\u001b[39;49m\u001b[39m.\u001b[39;49mstream\u001b[39m.\u001b[39;49mreadline()[:\u001b[39m-\u001b[39m\u001b[39m1\u001b[39m])\n\u001b[0;32m    512\u001b[0m         logger\u001b[39m.\u001b[39mdebug(\u001b[39m\"\u001b[39m\u001b[39mAnswer received: \u001b[39m\u001b[39m{0}\u001b[39;00m\u001b[39m\"\u001b[39m\u001b[39m.\u001b[39mformat(answer))\n\u001b[0;32m    513\u001b[0m         \u001b[39m# Happens when a the other end is dead. There might be an empty\u001b[39;00m\n\u001b[0;32m    514\u001b[0m         \u001b[39m# answer before the socket raises an error.\u001b[39;00m\n",
      "File \u001b[1;32m~\\AppData\\Local\\Programs\\Python\\Python310\\lib\\socket.py:705\u001b[0m, in \u001b[0;36mSocketIO.readinto\u001b[1;34m(self, b)\u001b[0m\n\u001b[0;32m    703\u001b[0m \u001b[39mwhile\u001b[39;00m \u001b[39mTrue\u001b[39;00m:\n\u001b[0;32m    704\u001b[0m     \u001b[39mtry\u001b[39;00m:\n\u001b[1;32m--> 705\u001b[0m         \u001b[39mreturn\u001b[39;00m \u001b[39mself\u001b[39;49m\u001b[39m.\u001b[39;49m_sock\u001b[39m.\u001b[39;49mrecv_into(b)\n\u001b[0;32m    706\u001b[0m     \u001b[39mexcept\u001b[39;00m timeout:\n\u001b[0;32m    707\u001b[0m         \u001b[39mself\u001b[39m\u001b[39m.\u001b[39m_timeout_occurred \u001b[39m=\u001b[39m \u001b[39mTrue\u001b[39;00m\n",
      "\u001b[1;31mKeyboardInterrupt\u001b[0m: "
     ]
    }
   ],
   "source": [
    "# # Filter AI roads\n",
    "# df_roads = df_roads.filter(((df_roads.tags_str.contains(\"mapwithai\") | df_roads.tags_str.contains(\"MapWithAI\") | df_roads.tags_str.contains(\"#nsroadimport\")) & (df_roads.tags_str.contains(\"highway\")))\n",
    "#                            | (df_roads.hashtags_un.contains(\"#mapwithai\") | df_roads.hashtags_un.contains(\"#nsroadimport\")))\\\n",
    "#     .groupby(\"country\", \"editor\", \"year\", \"tags_str\", \"hashtags_un\", \"length\")\\\n",
    "#     .agg(psf.sum(\"country\"))\\\n",
    "#     .withColumnRenamed(\"sum(country)\", \"count_country\")\\\n",
    "#     .sort(psf.col(\"count_country\").desc())\\\n",
    "#     .toPandas()\n"
   ]
  },
  {
   "cell_type": "code",
   "execution_count": null,
   "metadata": {},
   "outputs": [
    {
     "data": {
      "text/html": [
       "<div>\n",
       "<style scoped>\n",
       "    .dataframe tbody tr th:only-of-type {\n",
       "        vertical-align: middle;\n",
       "    }\n",
       "\n",
       "    .dataframe tbody tr th {\n",
       "        vertical-align: top;\n",
       "    }\n",
       "\n",
       "    .dataframe thead th {\n",
       "        text-align: right;\n",
       "    }\n",
       "</style>\n",
       "<table border=\"1\" class=\"dataframe\">\n",
       "  <thead>\n",
       "    <tr style=\"text-align: right;\">\n",
       "      <th></th>\n",
       "      <th>country</th>\n",
       "      <th>editor</th>\n",
       "      <th>year</th>\n",
       "      <th>tags_str</th>\n",
       "      <th>hashtags_un</th>\n",
       "      <th>length</th>\n",
       "      <th>count_osm_id</th>\n",
       "    </tr>\n",
       "  </thead>\n",
       "  <tbody>\n",
       "    <tr>\n",
       "      <th>0</th>\n",
       "      <td>TZA</td>\n",
       "      <td>JOSM/1.5 (18646 en)</td>\n",
       "      <td>2023</td>\n",
       "      <td>{}</td>\n",
       "      <td>#Tanzania,#mapwithai</td>\n",
       "      <td>0</td>\n",
       "      <td>3883303105856</td>\n",
       "    </tr>\n",
       "    <tr>\n",
       "      <th>1</th>\n",
       "      <td>TZA</td>\n",
       "      <td>JOSM/1.5 (18583 en)</td>\n",
       "      <td>2023</td>\n",
       "      <td>{}</td>\n",
       "      <td>#Tanzania,#mapwithai</td>\n",
       "      <td>0</td>\n",
       "      <td>2204724899226</td>\n",
       "    </tr>\n",
       "    <tr>\n",
       "      <th>2</th>\n",
       "      <td>IND</td>\n",
       "      <td>RapiD 1.1.9-tm.1</td>\n",
       "      <td>2023</td>\n",
       "      <td>{}</td>\n",
       "      <td>#India,#mapwithai</td>\n",
       "      <td>0</td>\n",
       "      <td>1786006015589</td>\n",
       "    </tr>\n",
       "    <tr>\n",
       "      <th>3</th>\n",
       "      <td>IND</td>\n",
       "      <td>JOSM/1.5 (18427 en)</td>\n",
       "      <td>2023</td>\n",
       "      <td>{}</td>\n",
       "      <td>#India,#mapwithai</td>\n",
       "      <td>0</td>\n",
       "      <td>1006969338360</td>\n",
       "    </tr>\n",
       "    <tr>\n",
       "      <th>4</th>\n",
       "      <td>TZA</td>\n",
       "      <td>JOSM/1.5 (18463 en)</td>\n",
       "      <td>2023</td>\n",
       "      <td>{}</td>\n",
       "      <td>#Tanzania,#mapwithai</td>\n",
       "      <td>0</td>\n",
       "      <td>841542487332</td>\n",
       "    </tr>\n",
       "    <tr>\n",
       "      <th>...</th>\n",
       "      <td>...</td>\n",
       "      <td>...</td>\n",
       "      <td>...</td>\n",
       "      <td>...</td>\n",
       "      <td>...</td>\n",
       "      <td>...</td>\n",
       "      <td>...</td>\n",
       "    </tr>\n",
       "    <tr>\n",
       "      <th>82556</th>\n",
       "      <td>USA</td>\n",
       "      <td>JOSM/1.5 (18700 en)</td>\n",
       "      <td>2023</td>\n",
       "      <td>{highway -&gt; residential, tiger:county -&gt; Orang...</td>\n",
       "      <td>#buildingmapping,#mapwithai</td>\n",
       "      <td>329</td>\n",
       "      <td>13331490</td>\n",
       "    </tr>\n",
       "    <tr>\n",
       "      <th>82557</th>\n",
       "      <td>USA</td>\n",
       "      <td>JOSM/1.5 (18700 en)</td>\n",
       "      <td>2023</td>\n",
       "      <td>{highway -&gt; residential, tiger:county -&gt; Orang...</td>\n",
       "      <td>#buildingmapping,#mapwithai</td>\n",
       "      <td>340</td>\n",
       "      <td>13303745</td>\n",
       "    </tr>\n",
       "    <tr>\n",
       "      <th>82558</th>\n",
       "      <td>USA</td>\n",
       "      <td>JOSM/1.5 (18700 en)</td>\n",
       "      <td>2023</td>\n",
       "      <td>{highway -&gt; residential, tiger:county -&gt; Orang...</td>\n",
       "      <td>#buildingmapping,#mapwithai</td>\n",
       "      <td>399</td>\n",
       "      <td>13303745</td>\n",
       "    </tr>\n",
       "    <tr>\n",
       "      <th>82559</th>\n",
       "      <td>USA</td>\n",
       "      <td>JOSM/1.5 (18565 en)</td>\n",
       "      <td>2023</td>\n",
       "      <td>{highway -&gt; tertiary, tiger:county -&gt; Orange, ...</td>\n",
       "      <td>#buildingmapping,#mapwithai</td>\n",
       "      <td>697</td>\n",
       "      <td>13300336</td>\n",
       "    </tr>\n",
       "    <tr>\n",
       "      <th>82560</th>\n",
       "      <td>USA</td>\n",
       "      <td>JOSM/1.5 (18700 en)</td>\n",
       "      <td>2023</td>\n",
       "      <td>{highway -&gt; residential, tiger:county -&gt; Orang...</td>\n",
       "      <td>#buildingmapping,#mapwithai</td>\n",
       "      <td>976</td>\n",
       "      <td>13299282</td>\n",
       "    </tr>\n",
       "  </tbody>\n",
       "</table>\n",
       "<p>82561 rows × 7 columns</p>\n",
       "</div>"
      ],
      "text/plain": [
       "      country               editor  year  \\\n",
       "0         TZA  JOSM/1.5 (18646 en)  2023   \n",
       "1         TZA  JOSM/1.5 (18583 en)  2023   \n",
       "2         IND     RapiD 1.1.9-tm.1  2023   \n",
       "3         IND  JOSM/1.5 (18427 en)  2023   \n",
       "4         TZA  JOSM/1.5 (18463 en)  2023   \n",
       "...       ...                  ...   ...   \n",
       "82556     USA  JOSM/1.5 (18700 en)  2023   \n",
       "82557     USA  JOSM/1.5 (18700 en)  2023   \n",
       "82558     USA  JOSM/1.5 (18700 en)  2023   \n",
       "82559     USA  JOSM/1.5 (18565 en)  2023   \n",
       "82560     USA  JOSM/1.5 (18700 en)  2023   \n",
       "\n",
       "                                                tags_str  \\\n",
       "0                                                     {}   \n",
       "1                                                     {}   \n",
       "2                                                     {}   \n",
       "3                                                     {}   \n",
       "4                                                     {}   \n",
       "...                                                  ...   \n",
       "82556  {highway -> residential, tiger:county -> Orang...   \n",
       "82557  {highway -> residential, tiger:county -> Orang...   \n",
       "82558  {highway -> residential, tiger:county -> Orang...   \n",
       "82559  {highway -> tertiary, tiger:county -> Orange, ...   \n",
       "82560  {highway -> residential, tiger:county -> Orang...   \n",
       "\n",
       "                       hashtags_un  length   count_osm_id  \n",
       "0             #Tanzania,#mapwithai       0  3883303105856  \n",
       "1             #Tanzania,#mapwithai       0  2204724899226  \n",
       "2                #India,#mapwithai       0  1786006015589  \n",
       "3                #India,#mapwithai       0  1006969338360  \n",
       "4             #Tanzania,#mapwithai       0   841542487332  \n",
       "...                            ...     ...            ...  \n",
       "82556  #buildingmapping,#mapwithai     329       13331490  \n",
       "82557  #buildingmapping,#mapwithai     340       13303745  \n",
       "82558  #buildingmapping,#mapwithai     399       13303745  \n",
       "82559  #buildingmapping,#mapwithai     697       13300336  \n",
       "82560  #buildingmapping,#mapwithai     976       13299282  \n",
       "\n",
       "[82561 rows x 7 columns]"
      ]
     },
     "execution_count": 85,
     "metadata": {},
     "output_type": "execute_result"
    }
   ],
   "source": [
    "# df_roads\n"
   ]
  },
  {
   "cell_type": "code",
   "execution_count": null,
   "metadata": {},
   "outputs": [],
   "source": []
  }
 ],
 "metadata": {
  "kernelspec": {
   "display_name": "general_py_venv",
   "language": "python",
   "name": "python3"
  },
  "language_info": {
   "codemirror_mode": {
    "name": "ipython",
    "version": 3
   },
   "file_extension": ".py",
   "mimetype": "text/x-python",
   "name": "python",
   "nbconvert_exporter": "python",
   "pygments_lexer": "ipython3",
   "version": "3.10.7"
  },
  "orig_nbformat": 4
 },
 "nbformat": 4,
 "nbformat_minor": 2
}
