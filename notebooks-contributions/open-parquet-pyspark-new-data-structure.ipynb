{
 "cells": [
  {
   "cell_type": "code",
   "execution_count": 1,
   "metadata": {},
   "outputs": [],
   "source": [
    "# Prosessing libs\n",
    "import pandas as pd\n",
    "import os\n",
    "import numpy as np\n",
    "from fastparquet import ParquetFile\n",
    "import glob\n",
    "\n",
    "# PySpark\n",
    "from pyspark.sql import SparkSession\n",
    "from pyspark.sql import functions as psf\n",
    "\n",
    "# Visualisation libs\n",
    "from matplotlib import pyplot as plt\n",
    "import seaborn as sns\n",
    "import plotly.express as px\n"
   ]
  },
  {
   "cell_type": "code",
   "execution_count": 2,
   "metadata": {},
   "outputs": [],
   "source": [
    "# change memory allocation for pyarrow\n",
    "# os.environ['PYARROW_MEMORY_POOL_MAX_CHUNKSIZE'] = '3000000000'\n",
    "# os.environ['PYSPARK_DRIVER_PYTHON_OPTS'] = \"notebook\"\n",
    "# os.environ['PYSPARK_DRIVER_PYTHON'] = sys.executable\n",
    "# os.environ['PYSPARK_PYTHON'] = sys.executable"
   ]
  },
  {
   "attachments": {},
   "cell_type": "markdown",
   "metadata": {},
   "source": [
    "## Get the path of all files"
   ]
  },
  {
   "cell_type": "code",
   "execution_count": 3,
   "metadata": {},
   "outputs": [
    {
     "data": {
      "text/plain": [
       "'c:\\\\Users\\\\milan\\\\OneDrive - MUNI\\\\VŠ\\\\PhD\\\\Zahraniční stáž\\\\Work\\\\HeiGIT_notebooks\\\\analysis\\\\ai-assisted-osm-mapping-stats\\\\notebooks-contributions'"
      ]
     },
     "execution_count": 3,
     "metadata": {},
     "output_type": "execute_result"
    }
   ],
   "source": [
    "os.getcwd()"
   ]
  },
  {
   "cell_type": "code",
   "execution_count": 4,
   "metadata": {},
   "outputs": [],
   "source": [
    "os.chdir(\"..\")\n"
   ]
  },
  {
   "cell_type": "code",
   "execution_count": 5,
   "metadata": {},
   "outputs": [],
   "source": [
    "home_dir = os.getcwd()\n",
    "parquet_dir = os.path.join(home_dir, r\"oshdb-contributions-parquet-data-test\")\n",
    "parquet_dir\n",
    "\n",
    "parquet_dir = r\"E:\\\\Rafael-data\\\\type=way\\\\state=latest\"\n"
   ]
  },
  {
   "cell_type": "code",
   "execution_count": 6,
   "metadata": {},
   "outputs": [
    {
     "data": {
      "text/plain": [
       "['E:\\\\\\\\Rafael-data\\\\\\\\type=way\\\\\\\\state=latest\\\\year=2017\\\\data_0.parquet',\n",
       " 'E:\\\\\\\\Rafael-data\\\\\\\\type=way\\\\\\\\state=latest\\\\year=2017\\\\data_1.parquet',\n",
       " 'E:\\\\\\\\Rafael-data\\\\\\\\type=way\\\\\\\\state=latest\\\\year=2017\\\\data_10.parquet',\n",
       " 'E:\\\\\\\\Rafael-data\\\\\\\\type=way\\\\\\\\state=latest\\\\year=2017\\\\data_11.parquet',\n",
       " 'E:\\\\\\\\Rafael-data\\\\\\\\type=way\\\\\\\\state=latest\\\\year=2017\\\\data_2.parquet',\n",
       " 'E:\\\\\\\\Rafael-data\\\\\\\\type=way\\\\\\\\state=latest\\\\year=2017\\\\data_3.parquet',\n",
       " 'E:\\\\\\\\Rafael-data\\\\\\\\type=way\\\\\\\\state=latest\\\\year=2017\\\\data_4.parquet',\n",
       " 'E:\\\\\\\\Rafael-data\\\\\\\\type=way\\\\\\\\state=latest\\\\year=2017\\\\data_5.parquet',\n",
       " 'E:\\\\\\\\Rafael-data\\\\\\\\type=way\\\\\\\\state=latest\\\\year=2017\\\\data_6.parquet',\n",
       " 'E:\\\\\\\\Rafael-data\\\\\\\\type=way\\\\\\\\state=latest\\\\year=2017\\\\data_7.parquet',\n",
       " 'E:\\\\\\\\Rafael-data\\\\\\\\type=way\\\\\\\\state=latest\\\\year=2017\\\\data_8.parquet',\n",
       " 'E:\\\\\\\\Rafael-data\\\\\\\\type=way\\\\\\\\state=latest\\\\year=2017\\\\data_9.parquet',\n",
       " 'E:\\\\\\\\Rafael-data\\\\\\\\type=way\\\\\\\\state=latest\\\\year=2018\\\\data_0.parquet',\n",
       " 'E:\\\\\\\\Rafael-data\\\\\\\\type=way\\\\\\\\state=latest\\\\year=2018\\\\data_1.parquet',\n",
       " 'E:\\\\\\\\Rafael-data\\\\\\\\type=way\\\\\\\\state=latest\\\\year=2018\\\\data_10.parquet',\n",
       " 'E:\\\\\\\\Rafael-data\\\\\\\\type=way\\\\\\\\state=latest\\\\year=2018\\\\data_11.parquet',\n",
       " 'E:\\\\\\\\Rafael-data\\\\\\\\type=way\\\\\\\\state=latest\\\\year=2018\\\\data_2.parquet',\n",
       " 'E:\\\\\\\\Rafael-data\\\\\\\\type=way\\\\\\\\state=latest\\\\year=2018\\\\data_3.parquet',\n",
       " 'E:\\\\\\\\Rafael-data\\\\\\\\type=way\\\\\\\\state=latest\\\\year=2018\\\\data_4.parquet',\n",
       " 'E:\\\\\\\\Rafael-data\\\\\\\\type=way\\\\\\\\state=latest\\\\year=2018\\\\data_5.parquet',\n",
       " 'E:\\\\\\\\Rafael-data\\\\\\\\type=way\\\\\\\\state=latest\\\\year=2018\\\\data_6.parquet',\n",
       " 'E:\\\\\\\\Rafael-data\\\\\\\\type=way\\\\\\\\state=latest\\\\year=2018\\\\data_7.parquet',\n",
       " 'E:\\\\\\\\Rafael-data\\\\\\\\type=way\\\\\\\\state=latest\\\\year=2018\\\\data_8.parquet',\n",
       " 'E:\\\\\\\\Rafael-data\\\\\\\\type=way\\\\\\\\state=latest\\\\year=2018\\\\data_9.parquet',\n",
       " 'E:\\\\\\\\Rafael-data\\\\\\\\type=way\\\\\\\\state=latest\\\\year=2019\\\\data_0.parquet',\n",
       " 'E:\\\\\\\\Rafael-data\\\\\\\\type=way\\\\\\\\state=latest\\\\year=2019\\\\data_1.parquet',\n",
       " 'E:\\\\\\\\Rafael-data\\\\\\\\type=way\\\\\\\\state=latest\\\\year=2019\\\\data_10.parquet',\n",
       " 'E:\\\\\\\\Rafael-data\\\\\\\\type=way\\\\\\\\state=latest\\\\year=2019\\\\data_11.parquet',\n",
       " 'E:\\\\\\\\Rafael-data\\\\\\\\type=way\\\\\\\\state=latest\\\\year=2019\\\\data_2.parquet',\n",
       " 'E:\\\\\\\\Rafael-data\\\\\\\\type=way\\\\\\\\state=latest\\\\year=2019\\\\data_3.parquet',\n",
       " 'E:\\\\\\\\Rafael-data\\\\\\\\type=way\\\\\\\\state=latest\\\\year=2019\\\\data_4.parquet',\n",
       " 'E:\\\\\\\\Rafael-data\\\\\\\\type=way\\\\\\\\state=latest\\\\year=2019\\\\data_5.parquet',\n",
       " 'E:\\\\\\\\Rafael-data\\\\\\\\type=way\\\\\\\\state=latest\\\\year=2019\\\\data_6.parquet',\n",
       " 'E:\\\\\\\\Rafael-data\\\\\\\\type=way\\\\\\\\state=latest\\\\year=2019\\\\data_7.parquet',\n",
       " 'E:\\\\\\\\Rafael-data\\\\\\\\type=way\\\\\\\\state=latest\\\\year=2019\\\\data_8.parquet',\n",
       " 'E:\\\\\\\\Rafael-data\\\\\\\\type=way\\\\\\\\state=latest\\\\year=2019\\\\data_9.parquet',\n",
       " 'E:\\\\\\\\Rafael-data\\\\\\\\type=way\\\\\\\\state=latest\\\\year=2020\\\\data_0.parquet',\n",
       " 'E:\\\\\\\\Rafael-data\\\\\\\\type=way\\\\\\\\state=latest\\\\year=2020\\\\data_1.parquet',\n",
       " 'E:\\\\\\\\Rafael-data\\\\\\\\type=way\\\\\\\\state=latest\\\\year=2020\\\\data_10.parquet',\n",
       " 'E:\\\\\\\\Rafael-data\\\\\\\\type=way\\\\\\\\state=latest\\\\year=2020\\\\data_11.parquet',\n",
       " 'E:\\\\\\\\Rafael-data\\\\\\\\type=way\\\\\\\\state=latest\\\\year=2020\\\\data_2.parquet',\n",
       " 'E:\\\\\\\\Rafael-data\\\\\\\\type=way\\\\\\\\state=latest\\\\year=2020\\\\data_3.parquet',\n",
       " 'E:\\\\\\\\Rafael-data\\\\\\\\type=way\\\\\\\\state=latest\\\\year=2020\\\\data_4.parquet',\n",
       " 'E:\\\\\\\\Rafael-data\\\\\\\\type=way\\\\\\\\state=latest\\\\year=2020\\\\data_5.parquet',\n",
       " 'E:\\\\\\\\Rafael-data\\\\\\\\type=way\\\\\\\\state=latest\\\\year=2020\\\\data_6.parquet',\n",
       " 'E:\\\\\\\\Rafael-data\\\\\\\\type=way\\\\\\\\state=latest\\\\year=2020\\\\data_7.parquet',\n",
       " 'E:\\\\\\\\Rafael-data\\\\\\\\type=way\\\\\\\\state=latest\\\\year=2020\\\\data_8.parquet',\n",
       " 'E:\\\\\\\\Rafael-data\\\\\\\\type=way\\\\\\\\state=latest\\\\year=2020\\\\data_9.parquet',\n",
       " 'E:\\\\\\\\Rafael-data\\\\\\\\type=way\\\\\\\\state=latest\\\\year=2021\\\\data_0.parquet',\n",
       " 'E:\\\\\\\\Rafael-data\\\\\\\\type=way\\\\\\\\state=latest\\\\year=2021\\\\data_1.parquet',\n",
       " 'E:\\\\\\\\Rafael-data\\\\\\\\type=way\\\\\\\\state=latest\\\\year=2021\\\\data_10.parquet',\n",
       " 'E:\\\\\\\\Rafael-data\\\\\\\\type=way\\\\\\\\state=latest\\\\year=2021\\\\data_11.parquet',\n",
       " 'E:\\\\\\\\Rafael-data\\\\\\\\type=way\\\\\\\\state=latest\\\\year=2021\\\\data_2.parquet',\n",
       " 'E:\\\\\\\\Rafael-data\\\\\\\\type=way\\\\\\\\state=latest\\\\year=2021\\\\data_3.parquet',\n",
       " 'E:\\\\\\\\Rafael-data\\\\\\\\type=way\\\\\\\\state=latest\\\\year=2021\\\\data_4.parquet',\n",
       " 'E:\\\\\\\\Rafael-data\\\\\\\\type=way\\\\\\\\state=latest\\\\year=2021\\\\data_5.parquet',\n",
       " 'E:\\\\\\\\Rafael-data\\\\\\\\type=way\\\\\\\\state=latest\\\\year=2021\\\\data_6.parquet',\n",
       " 'E:\\\\\\\\Rafael-data\\\\\\\\type=way\\\\\\\\state=latest\\\\year=2021\\\\data_7.parquet',\n",
       " 'E:\\\\\\\\Rafael-data\\\\\\\\type=way\\\\\\\\state=latest\\\\year=2021\\\\data_8.parquet',\n",
       " 'E:\\\\\\\\Rafael-data\\\\\\\\type=way\\\\\\\\state=latest\\\\year=2021\\\\data_9.parquet',\n",
       " 'E:\\\\\\\\Rafael-data\\\\\\\\type=way\\\\\\\\state=latest\\\\year=2022\\\\data_0.parquet',\n",
       " 'E:\\\\\\\\Rafael-data\\\\\\\\type=way\\\\\\\\state=latest\\\\year=2022\\\\data_1.parquet',\n",
       " 'E:\\\\\\\\Rafael-data\\\\\\\\type=way\\\\\\\\state=latest\\\\year=2022\\\\data_10.parquet',\n",
       " 'E:\\\\\\\\Rafael-data\\\\\\\\type=way\\\\\\\\state=latest\\\\year=2022\\\\data_11.parquet',\n",
       " 'E:\\\\\\\\Rafael-data\\\\\\\\type=way\\\\\\\\state=latest\\\\year=2022\\\\data_2.parquet',\n",
       " 'E:\\\\\\\\Rafael-data\\\\\\\\type=way\\\\\\\\state=latest\\\\year=2022\\\\data_3.parquet',\n",
       " 'E:\\\\\\\\Rafael-data\\\\\\\\type=way\\\\\\\\state=latest\\\\year=2022\\\\data_4.parquet',\n",
       " 'E:\\\\\\\\Rafael-data\\\\\\\\type=way\\\\\\\\state=latest\\\\year=2022\\\\data_5.parquet',\n",
       " 'E:\\\\\\\\Rafael-data\\\\\\\\type=way\\\\\\\\state=latest\\\\year=2022\\\\data_6.parquet',\n",
       " 'E:\\\\\\\\Rafael-data\\\\\\\\type=way\\\\\\\\state=latest\\\\year=2022\\\\data_7.parquet',\n",
       " 'E:\\\\\\\\Rafael-data\\\\\\\\type=way\\\\\\\\state=latest\\\\year=2022\\\\data_8.parquet',\n",
       " 'E:\\\\\\\\Rafael-data\\\\\\\\type=way\\\\\\\\state=latest\\\\year=2022\\\\data_9.parquet',\n",
       " 'E:\\\\\\\\Rafael-data\\\\\\\\type=way\\\\\\\\state=latest\\\\year=2023\\\\data_0.parquet',\n",
       " 'E:\\\\\\\\Rafael-data\\\\\\\\type=way\\\\\\\\state=latest\\\\year=2023\\\\data_1.parquet',\n",
       " 'E:\\\\\\\\Rafael-data\\\\\\\\type=way\\\\\\\\state=latest\\\\year=2023\\\\data_10.parquet',\n",
       " 'E:\\\\\\\\Rafael-data\\\\\\\\type=way\\\\\\\\state=latest\\\\year=2023\\\\data_11.parquet',\n",
       " 'E:\\\\\\\\Rafael-data\\\\\\\\type=way\\\\\\\\state=latest\\\\year=2023\\\\data_2.parquet',\n",
       " 'E:\\\\\\\\Rafael-data\\\\\\\\type=way\\\\\\\\state=latest\\\\year=2023\\\\data_3.parquet',\n",
       " 'E:\\\\\\\\Rafael-data\\\\\\\\type=way\\\\\\\\state=latest\\\\year=2023\\\\data_4.parquet',\n",
       " 'E:\\\\\\\\Rafael-data\\\\\\\\type=way\\\\\\\\state=latest\\\\year=2023\\\\data_5.parquet',\n",
       " 'E:\\\\\\\\Rafael-data\\\\\\\\type=way\\\\\\\\state=latest\\\\year=2023\\\\data_6.parquet',\n",
       " 'E:\\\\\\\\Rafael-data\\\\\\\\type=way\\\\\\\\state=latest\\\\year=2023\\\\data_7.parquet',\n",
       " 'E:\\\\\\\\Rafael-data\\\\\\\\type=way\\\\\\\\state=latest\\\\year=2023\\\\data_8.parquet',\n",
       " 'E:\\\\\\\\Rafael-data\\\\\\\\type=way\\\\\\\\state=latest\\\\year=2023\\\\data_9.parquet']"
      ]
     },
     "execution_count": 6,
     "metadata": {},
     "output_type": "execute_result"
    }
   ],
   "source": [
    "files = glob.glob(f'{parquet_dir}\\\\**\\\\*.parquet', recursive=True)\n",
    "files\n"
   ]
  },
  {
   "cell_type": "code",
   "execution_count": 7,
   "metadata": {},
   "outputs": [],
   "source": [
    "# os.chdir(\"..\")\n",
    "# home_dir = os.getcwd()\n",
    "# parquet_dir_node = os.path.join(home_dir, r\"oshdb-contributions-parquet-data\\type=node\")\n",
    "# parquet_dir = os.path.join(home_dir, r\"oshdb-contributions-parquet-data\")\n",
    "# duckdb_dir = os.path.join(home_dir, r\"notebooks-contributions\\duckdb\")\n",
    "# test_dir = os.path.join(home_dir, r\"oshdb-contributions-parquet-data\\type=node\\year=2023\")\n"
   ]
  },
  {
   "cell_type": "code",
   "execution_count": 8,
   "metadata": {},
   "outputs": [],
   "source": [
    "# files = glob.glob(f'{parquet_dir}\\\\**\\\\*.parquet', recursive=True)\n",
    "# files\n"
   ]
  },
  {
   "cell_type": "code",
   "execution_count": 9,
   "metadata": {},
   "outputs": [],
   "source": [
    "# files_location_lst = []\n",
    "\n",
    "# for (path_dir, folder_names, file_names) in os.walk(parquet_dir_node):\n",
    "#     for file_name in file_names:\n",
    "#         if file_name.endswith(\".parquet\"):\n",
    "#             file_location = os.path.join(path_dir, file_name)\n",
    "#             files_location_lst.append(file_location)\n",
    "# files_location_lst\n"
   ]
  },
  {
   "attachments": {},
   "cell_type": "markdown",
   "metadata": {},
   "source": [
    "## Load the all data with Apache PySpark"
   ]
  },
  {
   "cell_type": "code",
   "execution_count": 10,
   "metadata": {},
   "outputs": [
    {
     "name": "stdout",
     "output_type": "stream",
     "text": [
      "+----------+----------+-------------------+---------+-----------+------------+-------------------+--------------+--------------------+-------+--------------------+-------------+---------------+--------+----+-------+-----+----------+------+------------+------------+--------------+-------+--------------------+-------------+--------------+--------------------+------+----+\n",
      "|contrib_id|valid_from|           valid_to|   osm_id|osm_version|changeset_id|changeset_timestamp|      hashtags|              editor|user_id|                tags|   tags_delta|primary_feature|building|road|is_area| area|area_delta|length|length_delta|contrib_type|country_iso_a3|country|            centroid|geometry_type|geometry_valid|            geometry| state|type|\n",
      "+----------+----------+-------------------+---------+-----------+------------+-------------------+--------------+--------------------+-------+--------------------+-------------+---------------+--------+----+-------+-----+----------+------+------------+------------+--------------+-------+--------------------+-------------+--------------+--------------------+------+----+\n",
      "|       397|1512545449|9223372036854775807| 39297619|          2|    54392523|      1512545454000|            []| JOSM/1.5 (13170 de)|1198074|{name -> Lac du M...|{area -> yes}|              0|    null|null|   true| 7148|         0|     0|           0|         TAG|         [FRA]|    FRA|[00 00 00 00 01 4...|      Polygon|          true|[00 00 00 00 03 0...|latest| way|\n",
      "|       508|1512545450|9223372036854775807| 39342323|          2|    54392523|      1512545454000|            []| JOSM/1.5 (13170 de)|1198074|{name -> Lac, nat...|{area -> yes}|              0|    null|null|   true|  861|         0|     0|           0|         TAG|         [FRA]|    FRA|[00 00 00 00 01 4...|      Polygon|          true|[00 00 00 00 03 0...|latest| way|\n",
      "|       528|1512545450|9223372036854775807| 39352034|          2|    54392523|      1512545454000|            []| JOSM/1.5 (13170 de)|1198074|{name -> Lac, nat...|{area -> yes}|              0|    null|null|   true| 2576|         0|     0|           0|         TAG|         [FRA]|    FRA|[00 00 00 00 01 4...|      Polygon|          true|[00 00 00 00 03 0...|latest| way|\n",
      "|       531|1512545451|9223372036854775807| 39470753|          2|    54392523|      1512545454000|            []| JOSM/1.5 (13170 de)|1198074|{name -> Lac, nat...|{area -> yes}|              0|    null|null|   true|29016|         0|     0|           0|         TAG|         [FRA]|    FRA|[00 00 00 00 01 4...|      Polygon|          true|[00 00 00 00 03 0...|latest| way|\n",
      "|       988|1512545449|9223372036854775807| 86150797|          6|    54392523|      1512545454000|            []| JOSM/1.5 (13170 de)|1198074|{highway -> footw...|           {}|              0|    null|null|  false|    0|         0|  1121|           1|    GEOMETRY|         [FRA]|    FRA|[00 00 00 00 01 4...|   LineString|          true|[00 00 00 00 02 0...|latest| way|\n",
      "|      1000|1512545449|9223372036854775807| 86150834|          3|    54392523|      1512545454000|            []| JOSM/1.5 (13170 de)|1198074|{highway -> footw...|           {}|              0|    null|null|  false|    0|         0|  1665|           2|    GEOMETRY|         [FRA]|    FRA|[00 00 00 00 01 4...|   LineString|          true|[00 00 00 00 02 0...|latest| way|\n",
      "|      1005|1512545452|9223372036854775807| 86150837|          3|    54392523|      1512545454000|            []| JOSM/1.5 (13170 de)|1198074|{highway -> footw...|           {}|              0|    null|null|  false|    0|         0|  1327|           0|    GEOMETRY|         [FRA]|    FRA|[00 00 00 00 01 4...|   LineString|          true|[00 00 00 00 02 0...|latest| way|\n",
      "|      1009|1512545452|9223372036854775807| 86163326|          4|    54392523|      1512545454000|            []| JOSM/1.5 (13170 de)|1198074|{highway -> footw...|           {}|              0|    null|null|  false|    0|         0|  9545|           0|        NONE|         [FRA]|    FRA|[00 00 00 00 01 4...|   LineString|          true|[00 00 00 00 02 0...|latest| way|\n",
      "|      1069|1512545449|9223372036854775807| 86167208|          1|    54392523|      1512545454000|            []| JOSM/1.5 (13170 de)|1198074|{highway -> footw...|           {}|              0|    null|null|  false|    0|         0|  6592|          -3|    GEOMETRY|         [FRA]|    FRA|[00 00 00 00 01 4...|   LineString|          true|[00 00 00 00 02 0...|latest| way|\n",
      "|      1076|1512545449|9223372036854775807| 86167212|          4|    54392523|      1512545454000|            []| JOSM/1.5 (13170 de)|1198074|{highway -> footw...|           {}|              0|    null|null|  false|    0|         0|  2969|           0|    GEOMETRY|         [FRA]|    FRA|[00 00 00 00 01 4...|   LineString|          true|[00 00 00 00 02 0...|latest| way|\n",
      "|      1198|1512545452|9223372036854775807|180959199|          4|    54392523|      1512545454000|            []| JOSM/1.5 (13170 de)|1198074|{waterway -> stream}|           {}|              0|    null|null|  false|    0|         0|   603|           0|        NONE|         [FRA]|    FRA|[00 00 00 00 01 4...|   LineString|          true|[00 00 00 00 02 0...|latest| way|\n",
      "|      1202|1490222864|9223372036854775807|180962254|          3|    47081469|      1490222866000|[#maproulette]| JOSM/1.5 (11639 fr)|1759463|{waterway -> stream}|           {}|              0|    null|null|  false|    0|         0|  1644|           0|        NONE|         [FRA]|    FRA|[00 00 00 00 01 4...|   LineString|          true|[00 00 00 00 02 0...|latest| way|\n",
      "|      1206|1483616318|9223372036854775807|180965015|          4|    44922234|      1483616320000|[#maproulette]|JOSM/1.5 (11427 e...| 331548|{name -> Rivière ...|           {}|              0|    null|null|  false|    0|         0|  1893|           0|    GEOMETRY|         [FRA]|    FRA|[00 00 00 00 01 4...|   LineString|          true|[00 00 00 00 02 0...|latest| way|\n",
      "|      1281|1512545453|9223372036854775807|180969791|          3|    54392523|      1512545454000|            []| JOSM/1.5 (13170 de)|1198074| {waterway -> drain}|           {}|              0|    null|null|  false|    0|         0|   920|           0|    GEOMETRY|         [FRA]|    FRA|[00 00 00 00 01 4...|   LineString|          true|[00 00 00 00 02 0...|latest| way|\n",
      "|      1296|1512545453|9223372036854775807|188201864|          6|    54392523|      1512545454000|            []| JOSM/1.5 (13170 de)|1198074|   {barrier -> wall}|           {}|              0|    null|null|  false|    0|         0|    11|         -46|    GEOMETRY|         [FRA]|    FRA|[00 00 00 00 01 4...|   LineString|          true|[00 00 00 00 02 0...|latest| way|\n",
      "|      1342|1512545453|9223372036854775807|188201889|          4|    54392523|      1512545454000|            []| JOSM/1.5 (13170 de)|1198074|{building -> shac...|           {}|              0|    null|null|   true|   26|         0|     0|           0|    GEOMETRY|         [FRA]|    FRA|[00 00 00 00 01 4...|      Polygon|          true|[00 00 00 00 03 0...|latest| way|\n",
      "|      1346|1512545453|9223372036854775807|188201890|          4|    54392523|      1512545454000|            []| JOSM/1.5 (13170 de)|1198074|{building -> shac...|           {}|              0|    null|null|   true|   14|        -1|     0|           0|    GEOMETRY|         [FRA]|    FRA|[00 00 00 00 01 4...|      Polygon|          true|[00 00 00 00 03 0...|latest| way|\n",
      "|      1350|1512545453|9223372036854775807|188201895|          5|    54392523|      1512545454000|            []| JOSM/1.5 (13170 de)|1198074|{building -> shac...|           {}|              0|    null|null|   true|   23|         0|     0|           0|    GEOMETRY|         [FRA]|    FRA|[00 00 00 00 01 4...|      Polygon|          true|[00 00 00 00 03 0...|latest| way|\n",
      "|      1586|1512545453|9223372036854775807|208238297|          2|    54392523|      1512545454000|            []| JOSM/1.5 (13170 de)|1198074|{waterway -> stream}|           {}|              0|    null|null|  false|    0|         0|  1778|           0|        NONE|         [FRA]|    FRA|[00 00 00 00 01 4...|   LineString|          true|[00 00 00 00 02 0...|latest| way|\n",
      "|      1620|1504131017|9223372036854775807|208243456|          2|    51595587|      1504131017000|            []| JOSM/1.5 (12545 de)|  57645|  {natural -> cliff}|           {}|              0|    null|null|  false|    0|         0|  1171|         505|    GEOMETRY|         [FRA]|    FRA|[00 00 00 00 01 4...|   LineString|          true|[00 00 00 00 02 0...|latest| way|\n",
      "+----------+----------+-------------------+---------+-----------+------------+-------------------+--------------+--------------------+-------+--------------------+-------------+---------------+--------+----+-------+-----+----------+------+------------+------------+--------------+-------+--------------------+-------------+--------------+--------------------+------+----+\n",
      "only showing top 20 rows\n",
      "\n"
     ]
    }
   ],
   "source": [
    "spark = SparkSession.builder.appName(\"ReadParquetFiles\").getOrCreate()\n",
    "\n",
    "df = spark.read.parquet(*files)\n",
    "\n",
    "df.show()\n"
   ]
  },
  {
   "cell_type": "code",
   "execution_count": 11,
   "metadata": {},
   "outputs": [
    {
     "data": {
      "text/plain": [
       "707464699"
      ]
     },
     "execution_count": 11,
     "metadata": {},
     "output_type": "execute_result"
    }
   ],
   "source": [
    "df.count()"
   ]
  },
  {
   "cell_type": "code",
   "execution_count": 12,
   "metadata": {},
   "outputs": [],
   "source": [
    "# spark.stop()"
   ]
  },
  {
   "cell_type": "code",
   "execution_count": 13,
   "metadata": {},
   "outputs": [],
   "source": [
    "# df.describe().show()"
   ]
  },
  {
   "cell_type": "code",
   "execution_count": 14,
   "metadata": {},
   "outputs": [],
   "source": [
    "# df.na.drop(how=\"any\",subset=[\"building_area\"]).show()"
   ]
  },
  {
   "attachments": {},
   "cell_type": "markdown",
   "metadata": {},
   "source": [
    "### Data transformation, Data types conversion"
   ]
  },
  {
   "cell_type": "code",
   "execution_count": 15,
   "metadata": {},
   "outputs": [
    {
     "name": "stdout",
     "output_type": "stream",
     "text": [
      "+----------+----------+-------------------+---------+-----------+------------+-------------------+--------------+--------------------+-------+--------------------+-------------+---------------+--------+----+-------+-----+----------+------+------------+------------+--------------+-------+--------------------+-------------+--------------+--------------------+------+----+--------------------+\n",
      "|contrib_id|valid_from|           valid_to|   osm_id|osm_version|changeset_id|changeset_timestamp|      hashtags|              editor|user_id|                tags|   tags_delta|primary_feature|building|road|is_area| area|area_delta|length|length_delta|contrib_type|country_iso_a3|country|            centroid|geometry_type|geometry_valid|            geometry| state|type|            datetime|\n",
      "+----------+----------+-------------------+---------+-----------+------------+-------------------+--------------+--------------------+-------+--------------------+-------------+---------------+--------+----+-------+-----+----------+------+------------+------------+--------------+-------+--------------------+-------------+--------------+--------------------+------+----+--------------------+\n",
      "|       397|1512545449|9223372036854775807| 39297619|          2|    54392523|      1512545454000|            []| JOSM/1.5 (13170 de)|1198074|{name -> Lac du M...|{area -> yes}|              0|    null|null|   true| 7148|         0|     0|           0|         TAG|         [FRA]|    FRA|[00 00 00 00 01 4...|      Polygon|          true|[00 00 00 00 03 0...|latest| way|2017-12-06 08:30:...|\n",
      "|       508|1512545450|9223372036854775807| 39342323|          2|    54392523|      1512545454000|            []| JOSM/1.5 (13170 de)|1198074|{name -> Lac, nat...|{area -> yes}|              0|    null|null|   true|  861|         0|     0|           0|         TAG|         [FRA]|    FRA|[00 00 00 00 01 4...|      Polygon|          true|[00 00 00 00 03 0...|latest| way|2017-12-06 08:30:...|\n",
      "|       528|1512545450|9223372036854775807| 39352034|          2|    54392523|      1512545454000|            []| JOSM/1.5 (13170 de)|1198074|{name -> Lac, nat...|{area -> yes}|              0|    null|null|   true| 2576|         0|     0|           0|         TAG|         [FRA]|    FRA|[00 00 00 00 01 4...|      Polygon|          true|[00 00 00 00 03 0...|latest| way|2017-12-06 08:30:...|\n",
      "|       531|1512545451|9223372036854775807| 39470753|          2|    54392523|      1512545454000|            []| JOSM/1.5 (13170 de)|1198074|{name -> Lac, nat...|{area -> yes}|              0|    null|null|   true|29016|         0|     0|           0|         TAG|         [FRA]|    FRA|[00 00 00 00 01 4...|      Polygon|          true|[00 00 00 00 03 0...|latest| way|2017-12-06 08:30:...|\n",
      "|       988|1512545449|9223372036854775807| 86150797|          6|    54392523|      1512545454000|            []| JOSM/1.5 (13170 de)|1198074|{highway -> footw...|           {}|              0|    null|null|  false|    0|         0|  1121|           1|    GEOMETRY|         [FRA]|    FRA|[00 00 00 00 01 4...|   LineString|          true|[00 00 00 00 02 0...|latest| way|2017-12-06 08:30:...|\n",
      "|      1000|1512545449|9223372036854775807| 86150834|          3|    54392523|      1512545454000|            []| JOSM/1.5 (13170 de)|1198074|{highway -> footw...|           {}|              0|    null|null|  false|    0|         0|  1665|           2|    GEOMETRY|         [FRA]|    FRA|[00 00 00 00 01 4...|   LineString|          true|[00 00 00 00 02 0...|latest| way|2017-12-06 08:30:...|\n",
      "|      1005|1512545452|9223372036854775807| 86150837|          3|    54392523|      1512545454000|            []| JOSM/1.5 (13170 de)|1198074|{highway -> footw...|           {}|              0|    null|null|  false|    0|         0|  1327|           0|    GEOMETRY|         [FRA]|    FRA|[00 00 00 00 01 4...|   LineString|          true|[00 00 00 00 02 0...|latest| way|2017-12-06 08:30:...|\n",
      "|      1009|1512545452|9223372036854775807| 86163326|          4|    54392523|      1512545454000|            []| JOSM/1.5 (13170 de)|1198074|{highway -> footw...|           {}|              0|    null|null|  false|    0|         0|  9545|           0|        NONE|         [FRA]|    FRA|[00 00 00 00 01 4...|   LineString|          true|[00 00 00 00 02 0...|latest| way|2017-12-06 08:30:...|\n",
      "|      1069|1512545449|9223372036854775807| 86167208|          1|    54392523|      1512545454000|            []| JOSM/1.5 (13170 de)|1198074|{highway -> footw...|           {}|              0|    null|null|  false|    0|         0|  6592|          -3|    GEOMETRY|         [FRA]|    FRA|[00 00 00 00 01 4...|   LineString|          true|[00 00 00 00 02 0...|latest| way|2017-12-06 08:30:...|\n",
      "|      1076|1512545449|9223372036854775807| 86167212|          4|    54392523|      1512545454000|            []| JOSM/1.5 (13170 de)|1198074|{highway -> footw...|           {}|              0|    null|null|  false|    0|         0|  2969|           0|    GEOMETRY|         [FRA]|    FRA|[00 00 00 00 01 4...|   LineString|          true|[00 00 00 00 02 0...|latest| way|2017-12-06 08:30:...|\n",
      "|      1198|1512545452|9223372036854775807|180959199|          4|    54392523|      1512545454000|            []| JOSM/1.5 (13170 de)|1198074|{waterway -> stream}|           {}|              0|    null|null|  false|    0|         0|   603|           0|        NONE|         [FRA]|    FRA|[00 00 00 00 01 4...|   LineString|          true|[00 00 00 00 02 0...|latest| way|2017-12-06 08:30:...|\n",
      "|      1202|1490222864|9223372036854775807|180962254|          3|    47081469|      1490222866000|[#maproulette]| JOSM/1.5 (11639 fr)|1759463|{waterway -> stream}|           {}|              0|    null|null|  false|    0|         0|  1644|           0|        NONE|         [FRA]|    FRA|[00 00 00 00 01 4...|   LineString|          true|[00 00 00 00 02 0...|latest| way|2017-03-22 23:47:...|\n",
      "|      1206|1483616318|9223372036854775807|180965015|          4|    44922234|      1483616320000|[#maproulette]|JOSM/1.5 (11427 e...| 331548|{name -> Rivière ...|           {}|              0|    null|null|  false|    0|         0|  1893|           0|    GEOMETRY|         [FRA]|    FRA|[00 00 00 00 01 4...|   LineString|          true|[00 00 00 00 02 0...|latest| way|2017-01-05 12:38:...|\n",
      "|      1281|1512545453|9223372036854775807|180969791|          3|    54392523|      1512545454000|            []| JOSM/1.5 (13170 de)|1198074| {waterway -> drain}|           {}|              0|    null|null|  false|    0|         0|   920|           0|    GEOMETRY|         [FRA]|    FRA|[00 00 00 00 01 4...|   LineString|          true|[00 00 00 00 02 0...|latest| way|2017-12-06 08:30:...|\n",
      "|      1296|1512545453|9223372036854775807|188201864|          6|    54392523|      1512545454000|            []| JOSM/1.5 (13170 de)|1198074|   {barrier -> wall}|           {}|              0|    null|null|  false|    0|         0|    11|         -46|    GEOMETRY|         [FRA]|    FRA|[00 00 00 00 01 4...|   LineString|          true|[00 00 00 00 02 0...|latest| way|2017-12-06 08:30:...|\n",
      "|      1342|1512545453|9223372036854775807|188201889|          4|    54392523|      1512545454000|            []| JOSM/1.5 (13170 de)|1198074|{building -> shac...|           {}|              0|    null|null|   true|   26|         0|     0|           0|    GEOMETRY|         [FRA]|    FRA|[00 00 00 00 01 4...|      Polygon|          true|[00 00 00 00 03 0...|latest| way|2017-12-06 08:30:...|\n",
      "|      1346|1512545453|9223372036854775807|188201890|          4|    54392523|      1512545454000|            []| JOSM/1.5 (13170 de)|1198074|{building -> shac...|           {}|              0|    null|null|   true|   14|        -1|     0|           0|    GEOMETRY|         [FRA]|    FRA|[00 00 00 00 01 4...|      Polygon|          true|[00 00 00 00 03 0...|latest| way|2017-12-06 08:30:...|\n",
      "|      1350|1512545453|9223372036854775807|188201895|          5|    54392523|      1512545454000|            []| JOSM/1.5 (13170 de)|1198074|{building -> shac...|           {}|              0|    null|null|   true|   23|         0|     0|           0|    GEOMETRY|         [FRA]|    FRA|[00 00 00 00 01 4...|      Polygon|          true|[00 00 00 00 03 0...|latest| way|2017-12-06 08:30:...|\n",
      "|      1586|1512545453|9223372036854775807|208238297|          2|    54392523|      1512545454000|            []| JOSM/1.5 (13170 de)|1198074|{waterway -> stream}|           {}|              0|    null|null|  false|    0|         0|  1778|           0|        NONE|         [FRA]|    FRA|[00 00 00 00 01 4...|   LineString|          true|[00 00 00 00 02 0...|latest| way|2017-12-06 08:30:...|\n",
      "|      1620|1504131017|9223372036854775807|208243456|          2|    51595587|      1504131017000|            []| JOSM/1.5 (12545 de)|  57645|  {natural -> cliff}|           {}|              0|    null|null|  false|    0|         0|  1171|         505|    GEOMETRY|         [FRA]|    FRA|[00 00 00 00 01 4...|   LineString|          true|[00 00 00 00 02 0...|latest| way|2017-08-31 00:10:...|\n",
      "+----------+----------+-------------------+---------+-----------+------------+-------------------+--------------+--------------------+-------+--------------------+-------------+---------------+--------+----+-------+-----+----------+------+------------+------------+--------------+-------+--------------------+-------------+--------------+--------------------+------+----+--------------------+\n",
      "only showing top 20 rows\n",
      "\n"
     ]
    }
   ],
   "source": [
    "# Cast the 'changeset_timestamp' column to a LongType\n",
    "df = df.withColumn('changeset_timestamp', psf.col(\n",
    "    'changeset_timestamp').cast('long'))\n",
    "\n",
    "# Use the 'changeset_timestamp' column to create a new 'datetime' column\n",
    "df = df.withColumn('datetime', psf.from_unixtime(\n",
    "    psf.col('changeset_timestamp')/1000, 'yyyy-MM-dd HH:mm:ss.SSSSSS'))\n",
    "\n",
    "# Show the resulting DataFrame\n",
    "df.show()\n"
   ]
  },
  {
   "cell_type": "code",
   "execution_count": 16,
   "metadata": {},
   "outputs": [
    {
     "name": "stdout",
     "output_type": "stream",
     "text": [
      "+----------+----------+-------------------+---------+-----------+------------+-------------------+--------------+--------------------+-------+--------------------+-------------+---------------+--------+----+-------+-----+----------+------+------------+------------+--------------+-------+--------------------+-------------+--------------+--------------------+------+----+--------------------+-------+----+\n",
      "|contrib_id|valid_from|           valid_to|   osm_id|osm_version|changeset_id|changeset_timestamp|      hashtags|              editor|user_id|                tags|   tags_delta|primary_feature|building|road|is_area| area|area_delta|length|length_delta|contrib_type|country_iso_a3|country|            centroid|geometry_type|geometry_valid|            geometry| state|type|            datetime|    y_m|year|\n",
      "+----------+----------+-------------------+---------+-----------+------------+-------------------+--------------+--------------------+-------+--------------------+-------------+---------------+--------+----+-------+-----+----------+------+------------+------------+--------------+-------+--------------------+-------------+--------------+--------------------+------+----+--------------------+-------+----+\n",
      "|       397|1512545449|9223372036854775807| 39297619|          2|    54392523|      1512545454000|            []| JOSM/1.5 (13170 de)|1198074|{name -> Lac du M...|{area -> yes}|              0|    null|null|   true| 7148|         0|     0|           0|         TAG|         [FRA]|    FRA|[00 00 00 00 01 4...|      Polygon|          true|[00 00 00 00 03 0...|latest| way|2017-12-06 08:30:...|2017-12|2017|\n",
      "|       508|1512545450|9223372036854775807| 39342323|          2|    54392523|      1512545454000|            []| JOSM/1.5 (13170 de)|1198074|{name -> Lac, nat...|{area -> yes}|              0|    null|null|   true|  861|         0|     0|           0|         TAG|         [FRA]|    FRA|[00 00 00 00 01 4...|      Polygon|          true|[00 00 00 00 03 0...|latest| way|2017-12-06 08:30:...|2017-12|2017|\n",
      "|       528|1512545450|9223372036854775807| 39352034|          2|    54392523|      1512545454000|            []| JOSM/1.5 (13170 de)|1198074|{name -> Lac, nat...|{area -> yes}|              0|    null|null|   true| 2576|         0|     0|           0|         TAG|         [FRA]|    FRA|[00 00 00 00 01 4...|      Polygon|          true|[00 00 00 00 03 0...|latest| way|2017-12-06 08:30:...|2017-12|2017|\n",
      "|       531|1512545451|9223372036854775807| 39470753|          2|    54392523|      1512545454000|            []| JOSM/1.5 (13170 de)|1198074|{name -> Lac, nat...|{area -> yes}|              0|    null|null|   true|29016|         0|     0|           0|         TAG|         [FRA]|    FRA|[00 00 00 00 01 4...|      Polygon|          true|[00 00 00 00 03 0...|latest| way|2017-12-06 08:30:...|2017-12|2017|\n",
      "|       988|1512545449|9223372036854775807| 86150797|          6|    54392523|      1512545454000|            []| JOSM/1.5 (13170 de)|1198074|{highway -> footw...|           {}|              0|    null|null|  false|    0|         0|  1121|           1|    GEOMETRY|         [FRA]|    FRA|[00 00 00 00 01 4...|   LineString|          true|[00 00 00 00 02 0...|latest| way|2017-12-06 08:30:...|2017-12|2017|\n",
      "|      1000|1512545449|9223372036854775807| 86150834|          3|    54392523|      1512545454000|            []| JOSM/1.5 (13170 de)|1198074|{highway -> footw...|           {}|              0|    null|null|  false|    0|         0|  1665|           2|    GEOMETRY|         [FRA]|    FRA|[00 00 00 00 01 4...|   LineString|          true|[00 00 00 00 02 0...|latest| way|2017-12-06 08:30:...|2017-12|2017|\n",
      "|      1005|1512545452|9223372036854775807| 86150837|          3|    54392523|      1512545454000|            []| JOSM/1.5 (13170 de)|1198074|{highway -> footw...|           {}|              0|    null|null|  false|    0|         0|  1327|           0|    GEOMETRY|         [FRA]|    FRA|[00 00 00 00 01 4...|   LineString|          true|[00 00 00 00 02 0...|latest| way|2017-12-06 08:30:...|2017-12|2017|\n",
      "|      1009|1512545452|9223372036854775807| 86163326|          4|    54392523|      1512545454000|            []| JOSM/1.5 (13170 de)|1198074|{highway -> footw...|           {}|              0|    null|null|  false|    0|         0|  9545|           0|        NONE|         [FRA]|    FRA|[00 00 00 00 01 4...|   LineString|          true|[00 00 00 00 02 0...|latest| way|2017-12-06 08:30:...|2017-12|2017|\n",
      "|      1069|1512545449|9223372036854775807| 86167208|          1|    54392523|      1512545454000|            []| JOSM/1.5 (13170 de)|1198074|{highway -> footw...|           {}|              0|    null|null|  false|    0|         0|  6592|          -3|    GEOMETRY|         [FRA]|    FRA|[00 00 00 00 01 4...|   LineString|          true|[00 00 00 00 02 0...|latest| way|2017-12-06 08:30:...|2017-12|2017|\n",
      "|      1076|1512545449|9223372036854775807| 86167212|          4|    54392523|      1512545454000|            []| JOSM/1.5 (13170 de)|1198074|{highway -> footw...|           {}|              0|    null|null|  false|    0|         0|  2969|           0|    GEOMETRY|         [FRA]|    FRA|[00 00 00 00 01 4...|   LineString|          true|[00 00 00 00 02 0...|latest| way|2017-12-06 08:30:...|2017-12|2017|\n",
      "|      1198|1512545452|9223372036854775807|180959199|          4|    54392523|      1512545454000|            []| JOSM/1.5 (13170 de)|1198074|{waterway -> stream}|           {}|              0|    null|null|  false|    0|         0|   603|           0|        NONE|         [FRA]|    FRA|[00 00 00 00 01 4...|   LineString|          true|[00 00 00 00 02 0...|latest| way|2017-12-06 08:30:...|2017-12|2017|\n",
      "|      1202|1490222864|9223372036854775807|180962254|          3|    47081469|      1490222866000|[#maproulette]| JOSM/1.5 (11639 fr)|1759463|{waterway -> stream}|           {}|              0|    null|null|  false|    0|         0|  1644|           0|        NONE|         [FRA]|    FRA|[00 00 00 00 01 4...|   LineString|          true|[00 00 00 00 02 0...|latest| way|2017-03-22 23:47:...|2017-03|2017|\n",
      "|      1206|1483616318|9223372036854775807|180965015|          4|    44922234|      1483616320000|[#maproulette]|JOSM/1.5 (11427 e...| 331548|{name -> Rivière ...|           {}|              0|    null|null|  false|    0|         0|  1893|           0|    GEOMETRY|         [FRA]|    FRA|[00 00 00 00 01 4...|   LineString|          true|[00 00 00 00 02 0...|latest| way|2017-01-05 12:38:...|2017-01|2017|\n",
      "|      1281|1512545453|9223372036854775807|180969791|          3|    54392523|      1512545454000|            []| JOSM/1.5 (13170 de)|1198074| {waterway -> drain}|           {}|              0|    null|null|  false|    0|         0|   920|           0|    GEOMETRY|         [FRA]|    FRA|[00 00 00 00 01 4...|   LineString|          true|[00 00 00 00 02 0...|latest| way|2017-12-06 08:30:...|2017-12|2017|\n",
      "|      1296|1512545453|9223372036854775807|188201864|          6|    54392523|      1512545454000|            []| JOSM/1.5 (13170 de)|1198074|   {barrier -> wall}|           {}|              0|    null|null|  false|    0|         0|    11|         -46|    GEOMETRY|         [FRA]|    FRA|[00 00 00 00 01 4...|   LineString|          true|[00 00 00 00 02 0...|latest| way|2017-12-06 08:30:...|2017-12|2017|\n",
      "|      1342|1512545453|9223372036854775807|188201889|          4|    54392523|      1512545454000|            []| JOSM/1.5 (13170 de)|1198074|{building -> shac...|           {}|              0|    null|null|   true|   26|         0|     0|           0|    GEOMETRY|         [FRA]|    FRA|[00 00 00 00 01 4...|      Polygon|          true|[00 00 00 00 03 0...|latest| way|2017-12-06 08:30:...|2017-12|2017|\n",
      "|      1346|1512545453|9223372036854775807|188201890|          4|    54392523|      1512545454000|            []| JOSM/1.5 (13170 de)|1198074|{building -> shac...|           {}|              0|    null|null|   true|   14|        -1|     0|           0|    GEOMETRY|         [FRA]|    FRA|[00 00 00 00 01 4...|      Polygon|          true|[00 00 00 00 03 0...|latest| way|2017-12-06 08:30:...|2017-12|2017|\n",
      "|      1350|1512545453|9223372036854775807|188201895|          5|    54392523|      1512545454000|            []| JOSM/1.5 (13170 de)|1198074|{building -> shac...|           {}|              0|    null|null|   true|   23|         0|     0|           0|    GEOMETRY|         [FRA]|    FRA|[00 00 00 00 01 4...|      Polygon|          true|[00 00 00 00 03 0...|latest| way|2017-12-06 08:30:...|2017-12|2017|\n",
      "|      1586|1512545453|9223372036854775807|208238297|          2|    54392523|      1512545454000|            []| JOSM/1.5 (13170 de)|1198074|{waterway -> stream}|           {}|              0|    null|null|  false|    0|         0|  1778|           0|        NONE|         [FRA]|    FRA|[00 00 00 00 01 4...|   LineString|          true|[00 00 00 00 02 0...|latest| way|2017-12-06 08:30:...|2017-12|2017|\n",
      "|      1620|1504131017|9223372036854775807|208243456|          2|    51595587|      1504131017000|            []| JOSM/1.5 (12545 de)|  57645|  {natural -> cliff}|           {}|              0|    null|null|  false|    0|         0|  1171|         505|    GEOMETRY|         [FRA]|    FRA|[00 00 00 00 01 4...|   LineString|          true|[00 00 00 00 02 0...|latest| way|2017-08-31 00:10:...|2017-08|2017|\n",
      "+----------+----------+-------------------+---------+-----------+------------+-------------------+--------------+--------------------+-------+--------------------+-------------+---------------+--------+----+-------+-----+----------+------+------------+------------+--------------+-------+--------------------+-------------+--------------+--------------------+------+----+--------------------+-------+----+\n",
      "only showing top 20 rows\n",
      "\n"
     ]
    }
   ],
   "source": [
    "# Use the 'changeset_timestamp' column to create a new 'datetime' column\n",
    "df = df.withColumn('y_m', psf.from_unixtime(\n",
    "    psf.col('changeset_timestamp')/1000, 'yyyy-MM'))\n",
    "\n",
    "# Create a new column called 'year' containing the year from the 'datetime' column\n",
    "df = df.withColumn('year', psf.year('datetime'))\n",
    "\n",
    "\n",
    "\n",
    "# Show the resulting DataFrame\n",
    "df.show()\n"
   ]
  },
  {
   "cell_type": "code",
   "execution_count": 17,
   "metadata": {},
   "outputs": [],
   "source": [
    "# Convert the 'tags' column to a string for filtering\n",
    "df = df.withColumn(\"tags_str\", df.tags.cast(\"string\"))\n",
    "df = df.withColumn(\"road_str\", df.road.cast(\"string\"))"
   ]
  },
  {
   "cell_type": "code",
   "execution_count": 18,
   "metadata": {},
   "outputs": [
    {
     "data": {
      "text/plain": [
       "\"['contrib_id', 'valid_from', 'valid_to', 'osm_id', 'osm_version', 'changeset_id', 'changeset_timestamp', 'hashtags', 'editor', 'user_id', 'tags', 'tags_delta', 'primary_feature', 'building', 'road', 'is_area', 'area', 'area_delta', 'length', 'length_delta', 'contrib_type', 'country_iso_a3', 'country', 'centroid', 'geometry_type', 'geometry_valid', 'geometry', 'state', 'type', 'datetime', 'y_m', 'year', 'tags_str', 'road_str']\""
      ]
     },
     "execution_count": 18,
     "metadata": {},
     "output_type": "execute_result"
    }
   ],
   "source": [
    "str(df.columns)"
   ]
  },
  {
   "cell_type": "code",
   "execution_count": 19,
   "metadata": {},
   "outputs": [
    {
     "data": {
      "text/plain": [
       "707464699"
      ]
     },
     "execution_count": 19,
     "metadata": {},
     "output_type": "execute_result"
    }
   ],
   "source": [
    "df.count()"
   ]
  },
  {
   "cell_type": "code",
   "execution_count": 20,
   "metadata": {},
   "outputs": [
    {
     "name": "stdout",
     "output_type": "stream",
     "text": [
      "+----+---------+\n",
      "|road|    count|\n",
      "+----+---------+\n",
      "|  -1|  3610999|\n",
      "|null|614806132|\n",
      "|   1| 24773460|\n",
      "|   0| 64274108|\n",
      "+----+---------+\n",
      "\n"
     ]
    }
   ],
   "source": [
    "df.groupBy(\"road\").count().show()"
   ]
  },
  {
   "cell_type": "code",
   "execution_count": 21,
   "metadata": {},
   "outputs": [
    {
     "name": "stdout",
     "output_type": "stream",
     "text": [
      "+------+---------+\n",
      "| state|    count|\n",
      "+------+---------+\n",
      "|latest|707464699|\n",
      "+------+---------+\n",
      "\n"
     ]
    }
   ],
   "source": [
    "df.groupBy(\"state\").count().show()"
   ]
  },
  {
   "cell_type": "code",
   "execution_count": 22,
   "metadata": {},
   "outputs": [],
   "source": [
    "df = df.withColumn(\"hashtags_un\", psf.concat_ws(\",\", psf.col(\"hashtags\")))\n"
   ]
  },
  {
   "cell_type": "code",
   "execution_count": 23,
   "metadata": {},
   "outputs": [
    {
     "name": "stdout",
     "output_type": "stream",
     "text": [
      "+----------+----------+-------------------+---------+-----------+------------+-------------------+--------------+--------------------+-------+--------------------+-------------+---------------+--------+----+-------+-----+----------+------+------------+------------+--------------+-------+--------------------+-------------+--------------+--------------------+------+----+--------------------+-------+----+--------------------+--------+------------+\n",
      "|contrib_id|valid_from|           valid_to|   osm_id|osm_version|changeset_id|changeset_timestamp|      hashtags|              editor|user_id|                tags|   tags_delta|primary_feature|building|road|is_area| area|area_delta|length|length_delta|contrib_type|country_iso_a3|country|            centroid|geometry_type|geometry_valid|            geometry| state|type|            datetime|    y_m|year|            tags_str|road_str| hashtags_un|\n",
      "+----------+----------+-------------------+---------+-----------+------------+-------------------+--------------+--------------------+-------+--------------------+-------------+---------------+--------+----+-------+-----+----------+------+------------+------------+--------------+-------+--------------------+-------------+--------------+--------------------+------+----+--------------------+-------+----+--------------------+--------+------------+\n",
      "|       397|1512545449|9223372036854775807| 39297619|          2|    54392523|      1512545454000|            []| JOSM/1.5 (13170 de)|1198074|{name -> Lac du M...|{area -> yes}|              0|    null|null|   true| 7148|         0|     0|           0|         TAG|         [FRA]|    FRA|[00 00 00 00 01 4...|      Polygon|          true|[00 00 00 00 03 0...|latest| way|2017-12-06 08:30:...|2017-12|2017|{name -> Lac du M...|    null|            |\n",
      "|       508|1512545450|9223372036854775807| 39342323|          2|    54392523|      1512545454000|            []| JOSM/1.5 (13170 de)|1198074|{name -> Lac, nat...|{area -> yes}|              0|    null|null|   true|  861|         0|     0|           0|         TAG|         [FRA]|    FRA|[00 00 00 00 01 4...|      Polygon|          true|[00 00 00 00 03 0...|latest| way|2017-12-06 08:30:...|2017-12|2017|{name -> Lac, nat...|    null|            |\n",
      "|       528|1512545450|9223372036854775807| 39352034|          2|    54392523|      1512545454000|            []| JOSM/1.5 (13170 de)|1198074|{name -> Lac, nat...|{area -> yes}|              0|    null|null|   true| 2576|         0|     0|           0|         TAG|         [FRA]|    FRA|[00 00 00 00 01 4...|      Polygon|          true|[00 00 00 00 03 0...|latest| way|2017-12-06 08:30:...|2017-12|2017|{name -> Lac, nat...|    null|            |\n",
      "|       531|1512545451|9223372036854775807| 39470753|          2|    54392523|      1512545454000|            []| JOSM/1.5 (13170 de)|1198074|{name -> Lac, nat...|{area -> yes}|              0|    null|null|   true|29016|         0|     0|           0|         TAG|         [FRA]|    FRA|[00 00 00 00 01 4...|      Polygon|          true|[00 00 00 00 03 0...|latest| way|2017-12-06 08:30:...|2017-12|2017|{name -> Lac, nat...|    null|            |\n",
      "|       988|1512545449|9223372036854775807| 86150797|          6|    54392523|      1512545454000|            []| JOSM/1.5 (13170 de)|1198074|{highway -> footw...|           {}|              0|    null|null|  false|    0|         0|  1121|           1|    GEOMETRY|         [FRA]|    FRA|[00 00 00 00 01 4...|   LineString|          true|[00 00 00 00 02 0...|latest| way|2017-12-06 08:30:...|2017-12|2017|{highway -> footw...|    null|            |\n",
      "|      1000|1512545449|9223372036854775807| 86150834|          3|    54392523|      1512545454000|            []| JOSM/1.5 (13170 de)|1198074|{highway -> footw...|           {}|              0|    null|null|  false|    0|         0|  1665|           2|    GEOMETRY|         [FRA]|    FRA|[00 00 00 00 01 4...|   LineString|          true|[00 00 00 00 02 0...|latest| way|2017-12-06 08:30:...|2017-12|2017|{highway -> footw...|    null|            |\n",
      "|      1005|1512545452|9223372036854775807| 86150837|          3|    54392523|      1512545454000|            []| JOSM/1.5 (13170 de)|1198074|{highway -> footw...|           {}|              0|    null|null|  false|    0|         0|  1327|           0|    GEOMETRY|         [FRA]|    FRA|[00 00 00 00 01 4...|   LineString|          true|[00 00 00 00 02 0...|latest| way|2017-12-06 08:30:...|2017-12|2017|{highway -> footw...|    null|            |\n",
      "|      1009|1512545452|9223372036854775807| 86163326|          4|    54392523|      1512545454000|            []| JOSM/1.5 (13170 de)|1198074|{highway -> footw...|           {}|              0|    null|null|  false|    0|         0|  9545|           0|        NONE|         [FRA]|    FRA|[00 00 00 00 01 4...|   LineString|          true|[00 00 00 00 02 0...|latest| way|2017-12-06 08:30:...|2017-12|2017|{highway -> footw...|    null|            |\n",
      "|      1069|1512545449|9223372036854775807| 86167208|          1|    54392523|      1512545454000|            []| JOSM/1.5 (13170 de)|1198074|{highway -> footw...|           {}|              0|    null|null|  false|    0|         0|  6592|          -3|    GEOMETRY|         [FRA]|    FRA|[00 00 00 00 01 4...|   LineString|          true|[00 00 00 00 02 0...|latest| way|2017-12-06 08:30:...|2017-12|2017|{highway -> footw...|    null|            |\n",
      "|      1076|1512545449|9223372036854775807| 86167212|          4|    54392523|      1512545454000|            []| JOSM/1.5 (13170 de)|1198074|{highway -> footw...|           {}|              0|    null|null|  false|    0|         0|  2969|           0|    GEOMETRY|         [FRA]|    FRA|[00 00 00 00 01 4...|   LineString|          true|[00 00 00 00 02 0...|latest| way|2017-12-06 08:30:...|2017-12|2017|{highway -> footw...|    null|            |\n",
      "|      1198|1512545452|9223372036854775807|180959199|          4|    54392523|      1512545454000|            []| JOSM/1.5 (13170 de)|1198074|{waterway -> stream}|           {}|              0|    null|null|  false|    0|         0|   603|           0|        NONE|         [FRA]|    FRA|[00 00 00 00 01 4...|   LineString|          true|[00 00 00 00 02 0...|latest| way|2017-12-06 08:30:...|2017-12|2017|{waterway -> stream}|    null|            |\n",
      "|      1202|1490222864|9223372036854775807|180962254|          3|    47081469|      1490222866000|[#maproulette]| JOSM/1.5 (11639 fr)|1759463|{waterway -> stream}|           {}|              0|    null|null|  false|    0|         0|  1644|           0|        NONE|         [FRA]|    FRA|[00 00 00 00 01 4...|   LineString|          true|[00 00 00 00 02 0...|latest| way|2017-03-22 23:47:...|2017-03|2017|{waterway -> stream}|    null|#maproulette|\n",
      "|      1206|1483616318|9223372036854775807|180965015|          4|    44922234|      1483616320000|[#maproulette]|JOSM/1.5 (11427 e...| 331548|{name -> Rivière ...|           {}|              0|    null|null|  false|    0|         0|  1893|           0|    GEOMETRY|         [FRA]|    FRA|[00 00 00 00 01 4...|   LineString|          true|[00 00 00 00 02 0...|latest| way|2017-01-05 12:38:...|2017-01|2017|{name -> Rivière ...|    null|#maproulette|\n",
      "|      1281|1512545453|9223372036854775807|180969791|          3|    54392523|      1512545454000|            []| JOSM/1.5 (13170 de)|1198074| {waterway -> drain}|           {}|              0|    null|null|  false|    0|         0|   920|           0|    GEOMETRY|         [FRA]|    FRA|[00 00 00 00 01 4...|   LineString|          true|[00 00 00 00 02 0...|latest| way|2017-12-06 08:30:...|2017-12|2017| {waterway -> drain}|    null|            |\n",
      "|      1296|1512545453|9223372036854775807|188201864|          6|    54392523|      1512545454000|            []| JOSM/1.5 (13170 de)|1198074|   {barrier -> wall}|           {}|              0|    null|null|  false|    0|         0|    11|         -46|    GEOMETRY|         [FRA]|    FRA|[00 00 00 00 01 4...|   LineString|          true|[00 00 00 00 02 0...|latest| way|2017-12-06 08:30:...|2017-12|2017|   {barrier -> wall}|    null|            |\n",
      "|      1342|1512545453|9223372036854775807|188201889|          4|    54392523|      1512545454000|            []| JOSM/1.5 (13170 de)|1198074|{building -> shac...|           {}|              0|    null|null|   true|   26|         0|     0|           0|    GEOMETRY|         [FRA]|    FRA|[00 00 00 00 01 4...|      Polygon|          true|[00 00 00 00 03 0...|latest| way|2017-12-06 08:30:...|2017-12|2017|{building -> shac...|    null|            |\n",
      "|      1346|1512545453|9223372036854775807|188201890|          4|    54392523|      1512545454000|            []| JOSM/1.5 (13170 de)|1198074|{building -> shac...|           {}|              0|    null|null|   true|   14|        -1|     0|           0|    GEOMETRY|         [FRA]|    FRA|[00 00 00 00 01 4...|      Polygon|          true|[00 00 00 00 03 0...|latest| way|2017-12-06 08:30:...|2017-12|2017|{building -> shac...|    null|            |\n",
      "|      1350|1512545453|9223372036854775807|188201895|          5|    54392523|      1512545454000|            []| JOSM/1.5 (13170 de)|1198074|{building -> shac...|           {}|              0|    null|null|   true|   23|         0|     0|           0|    GEOMETRY|         [FRA]|    FRA|[00 00 00 00 01 4...|      Polygon|          true|[00 00 00 00 03 0...|latest| way|2017-12-06 08:30:...|2017-12|2017|{building -> shac...|    null|            |\n",
      "|      1586|1512545453|9223372036854775807|208238297|          2|    54392523|      1512545454000|            []| JOSM/1.5 (13170 de)|1198074|{waterway -> stream}|           {}|              0|    null|null|  false|    0|         0|  1778|           0|        NONE|         [FRA]|    FRA|[00 00 00 00 01 4...|   LineString|          true|[00 00 00 00 02 0...|latest| way|2017-12-06 08:30:...|2017-12|2017|{waterway -> stream}|    null|            |\n",
      "|      1620|1504131017|9223372036854775807|208243456|          2|    51595587|      1504131017000|            []| JOSM/1.5 (12545 de)|  57645|  {natural -> cliff}|           {}|              0|    null|null|  false|    0|         0|  1171|         505|    GEOMETRY|         [FRA]|    FRA|[00 00 00 00 01 4...|   LineString|          true|[00 00 00 00 02 0...|latest| way|2017-08-31 00:10:...|2017-08|2017|  {natural -> cliff}|    null|            |\n",
      "+----------+----------+-------------------+---------+-----------+------------+-------------------+--------------+--------------------+-------+--------------------+-------------+---------------+--------+----+-------+-----+----------+------+------------+------------+--------------+-------+--------------------+-------------+--------------+--------------------+------+----+--------------------+-------+----+--------------------+--------+------------+\n",
      "only showing top 20 rows\n",
      "\n"
     ]
    }
   ],
   "source": [
    "df.show()"
   ]
  },
  {
   "cell_type": "code",
   "execution_count": 24,
   "metadata": {},
   "outputs": [
    {
     "name": "stdout",
     "output_type": "stream",
     "text": [
      "+--------+---------+\n",
      "|building|    count|\n",
      "+--------+---------+\n",
      "|      -1|  3593851|\n",
      "|    null|309961236|\n",
      "|       1|278137282|\n",
      "|       0|115772330|\n",
      "+--------+---------+\n",
      "\n"
     ]
    }
   ],
   "source": [
    "df.groupBy(\"building\").count().show()"
   ]
  },
  {
   "cell_type": "code",
   "execution_count": 25,
   "metadata": {},
   "outputs": [
    {
     "data": {
      "text/plain": [
       "['contrib_id',\n",
       " 'valid_from',\n",
       " 'valid_to',\n",
       " 'osm_id',\n",
       " 'osm_version',\n",
       " 'changeset_id',\n",
       " 'changeset_timestamp',\n",
       " 'hashtags',\n",
       " 'editor',\n",
       " 'user_id',\n",
       " 'tags',\n",
       " 'tags_delta',\n",
       " 'primary_feature',\n",
       " 'building',\n",
       " 'road',\n",
       " 'is_area',\n",
       " 'area',\n",
       " 'area_delta',\n",
       " 'length',\n",
       " 'length_delta',\n",
       " 'contrib_type',\n",
       " 'country_iso_a3',\n",
       " 'country',\n",
       " 'centroid',\n",
       " 'geometry_type',\n",
       " 'geometry_valid',\n",
       " 'geometry',\n",
       " 'state',\n",
       " 'type',\n",
       " 'datetime',\n",
       " 'y_m',\n",
       " 'year',\n",
       " 'tags_str',\n",
       " 'road_str',\n",
       " 'hashtags_un']"
      ]
     },
     "execution_count": 25,
     "metadata": {},
     "output_type": "execute_result"
    }
   ],
   "source": [
    "df.columns"
   ]
  },
  {
   "cell_type": "code",
   "execution_count": 26,
   "metadata": {},
   "outputs": [
    {
     "data": {
      "text/plain": [
       "707464699"
      ]
     },
     "execution_count": 26,
     "metadata": {},
     "output_type": "execute_result"
    }
   ],
   "source": [
    "df.count()"
   ]
  },
  {
   "attachments": {},
   "cell_type": "markdown",
   "metadata": {},
   "source": [
    "### Data wrangling – buildings\n",
    "- select distinct osm_id\n",
    "- remove all -1 and null values\n",
    "- then use groupby (osm_id) and function last (time column)"
   ]
  },
  {
   "cell_type": "code",
   "execution_count": 27,
   "metadata": {},
   "outputs": [],
   "source": [
    "df_blds = df.filter(df.building.contains(1) | df.building.contains(0))\n"
   ]
  },
  {
   "cell_type": "code",
   "execution_count": 28,
   "metadata": {},
   "outputs": [],
   "source": [
    "df_blds = df_blds.groupBy(\"osm_id\", \"editor\", \"country\",\n",
    "                 \"tags_str\", \"hashtags\", \"year\").agg(psf.last(\"datetime\").alias(\"datetime\"))\n"
   ]
  },
  {
   "cell_type": "code",
   "execution_count": 29,
   "metadata": {},
   "outputs": [],
   "source": [
    "# df_blds.show()"
   ]
  },
  {
   "cell_type": "code",
   "execution_count": 30,
   "metadata": {},
   "outputs": [],
   "source": [
    "df_blds = df_blds.withColumn(\n",
    "    \"hashtags_un\", psf.concat_ws(\",\", psf.col(\"hashtags\")))\n"
   ]
  },
  {
   "attachments": {},
   "cell_type": "markdown",
   "metadata": {},
   "source": [
    "## AI building filter"
   ]
  },
  {
   "attachments": {},
   "cell_type": "markdown",
   "metadata": {},
   "source": [
    "### Filter 1\n",
    "- column tag_str contains microsoft/BuildingFootprints or esri/Google_Africa_Buildings"
   ]
  },
  {
   "cell_type": "code",
   "execution_count": 31,
   "metadata": {},
   "outputs": [],
   "source": [
    "df_blds = df_blds.filter(df.tags_str.contains(\"microsoft/BuildingFootprints\") | df.tags_str.contains(\"esri/Google_Africa_Buildings\"))\n"
   ]
  },
  {
   "cell_type": "code",
   "execution_count": 32,
   "metadata": {},
   "outputs": [
    {
     "name": "stdout",
     "output_type": "stream",
     "text": [
      "+----+-------+\n",
      "|year|  count|\n",
      "+----+-------+\n",
      "|2023|3272936|\n",
      "|2022|7192211|\n",
      "|2019|  10300|\n",
      "|2020|2149154|\n",
      "|2021|2964550|\n",
      "+----+-------+\n",
      "\n"
     ]
    }
   ],
   "source": [
    "df_blds.groupBy(\"year\").count().show()\n"
   ]
  },
  {
   "attachments": {},
   "cell_type": "markdown",
   "metadata": {},
   "source": [
    "### Data wrangling – roads\n",
    "- select distinct osm_id\n",
    "- remove all -1\n",
    "- then use groupby (osm_id) and function last (time column)"
   ]
  },
  {
   "cell_type": "code",
   "execution_count": 27,
   "metadata": {},
   "outputs": [],
   "source": [
    "df_roads = df.filter(df.road.contains(1) | df.road.contains(0))"
   ]
  },
  {
   "cell_type": "code",
   "execution_count": 28,
   "metadata": {},
   "outputs": [],
   "source": [
    "df_roads = df_roads.groupBy(\"osm_id\", \"editor\", \"length\", \"country\",\n",
    "                 \"tags_str\", \"hashtags\", \"year\").agg(psf.last(\"datetime\").alias(\"datetime\"))\n"
   ]
  },
  {
   "cell_type": "code",
   "execution_count": 29,
   "metadata": {},
   "outputs": [
    {
     "name": "stdout",
     "output_type": "stream",
     "text": [
      "+------+--------------------+------+-------+--------------------+--------+----+--------------------+\n",
      "|osm_id|              editor|length|country|            tags_str|hashtags|year|            datetime|\n",
      "+------+--------------------+------+-------+--------------------+--------+----+--------------------+\n",
      "|   105| StreetComplete 45.0|   384|    DEU|{highway -> resid...|      []|2023|2023-01-08 15:24:...|\n",
      "|   137| StreetComplete 50.2|   206|    GBR|{source -> Bing;s...|      []|2023|2023-01-24 22:33:...|\n",
      "|   137| StreetComplete 50.2|   206|    GBR|{source -> Bing;s...|      []|2023|2023-01-24 21:31:...|\n",
      "|   187|           iD 2.24.2|   172|    GBR|{highway -> terti...|      []|2023|2023-02-21 02:00:...|\n",
      "|   188|           iD 2.24.2|   159|    GBR|{highway -> prima...|      []|2023|2023-02-17 15:04:...|\n",
      "|   762| StreetComplete 50.2|  1091|    GBR|{highway -> prima...|      []|2023|2023-01-29 15:33:...|\n",
      "|  1474|JOSM/1.5 (18622 e...|   162|    GBR|{highway -> resid...|      []|2023|2023-02-03 14:26:...|\n",
      "|  1552|JOSM/1.5 (18699 S...|   919|    GBR|{highway -> terti...|      []|2023|2023-04-03 00:41:...|\n",
      "|  1580| StreetComplete 51.0|   118|    GBR|{highway -> terti...|      []|2023|2023-02-14 03:08:...|\n",
      "|  1644|JOSM/1.5 (18700 e...|   153|    GBR|{highway -> resid...|      []|2023|2023-04-06 22:20:...|\n",
      "|  1658| StreetComplete 51.0|   407|    GBR|{highway -> resid...|      []|2023|2023-02-16 02:25:...|\n",
      "|  1687|           iD 2.24.1|   479|    GBR|{highway -> resid...|      []|2023|2023-02-05 19:16:...|\n",
      "|  1689| StreetComplete 51.1|   159|    GBR|{highway -> resid...|      []|2023|2023-03-23 21:19:...|\n",
      "|  1865|JOSM/1.5 (18622 e...|   708|    GBR|{highway -> resid...|      []|2023|2023-02-03 14:26:...|\n",
      "|  1900|Every Door Androi...|   706|    GBR|{highway -> resid...|      []|2023|2023-02-02 16:28:...|\n",
      "|  1905|JOSM/1.5 (18622 e...|   257|    GBR|{highway -> resid...|      []|2023|2023-02-03 14:26:...|\n",
      "|  1906|JOSM/1.5 (18646 e...|   604|    GBR|{highway -> resid...|      []|2023|2023-02-02 16:42:...|\n",
      "|  2234|           iD 2.24.1|     0|    GBR|                  {}|      []|2023|2023-02-03 20:36:...|\n",
      "|  2287|           iD 2.24.2|   603|    GBR|{highway -> motor...|      []|2023|2023-02-17 22:49:...|\n",
      "|  2421| StreetComplete 50.2|   180|    GBR|{highway -> terti...|      []|2023|2023-01-19 16:46:...|\n",
      "+------+--------------------+------+-------+--------------------+--------+----+--------------------+\n",
      "only showing top 20 rows\n",
      "\n"
     ]
    }
   ],
   "source": [
    "df_roads.show()"
   ]
  },
  {
   "cell_type": "code",
   "execution_count": 30,
   "metadata": {},
   "outputs": [],
   "source": [
    "df_roads = df_roads.withColumn(\"hashtags_un\", psf.concat_ws(\",\", psf.col(\"hashtags\")))\n"
   ]
  },
  {
   "cell_type": "code",
   "execution_count": 31,
   "metadata": {},
   "outputs": [
    {
     "name": "stdout",
     "output_type": "stream",
     "text": [
      "+--------------------+-----+\n",
      "|         hashtags_un|count|\n",
      "+--------------------+-----+\n",
      "|#MapComplete,#cyc...|   98|\n",
      "|#AtlasChecks,#Kaa...|   50|\n",
      "|          #UNmappers|  105|\n",
      "|#MondayValidation...|   41|\n",
      "|#TürkiyeEQ060223,...|   57|\n",
      "|#TürkiyeEQ060223,...|   14|\n",
      "|#hotosm-project-1...|  149|\n",
      "|#BeninMappingTour...|   30|\n",
      "|          #kaart-494|  137|\n",
      "|#JurRiver,#REACH,...|   13|\n",
      "|#Mapathon,#Mapper...|   29|\n",
      "|#AKDN,#OMHAP,#Syr...|    6|\n",
      "|#CycloneFreddy,#T...|   53|\n",
      "|#mapbox_linters_p...|   16|\n",
      "|   #Kaart,#Kaart2023|  389|\n",
      "|                #map|   66|\n",
      "|              #Molde|   10|\n",
      "|#Air,#Buildings,#...|   51|\n",
      "|#CycleMapSouthAme...|    1|\n",
      "|#GIRS2023,#Türkiy...|   56|\n",
      "+--------------------+-----+\n",
      "only showing top 20 rows\n",
      "\n"
     ]
    }
   ],
   "source": [
    "df_roads.groupBy(\"hashtags_un\").count().show()\n"
   ]
  },
  {
   "cell_type": "code",
   "execution_count": 32,
   "metadata": {},
   "outputs": [
    {
     "name": "stdout",
     "output_type": "stream",
     "text": [
      "+------+--------------------+------+-------+--------------------+--------+----+--------------------+-----------+\n",
      "|osm_id|              editor|length|country|            tags_str|hashtags|year|            datetime|hashtags_un|\n",
      "+------+--------------------+------+-------+--------------------+--------+----+--------------------+-----------+\n",
      "|   105| StreetComplete 45.0|   384|    DEU|{highway -> resid...|      []|2023|2023-01-08 15:24:...|           |\n",
      "|   137| StreetComplete 50.2|   206|    GBR|{source -> Bing;s...|      []|2023|2023-01-24 22:33:...|           |\n",
      "|   137| StreetComplete 50.2|   206|    GBR|{source -> Bing;s...|      []|2023|2023-01-24 21:31:...|           |\n",
      "|   187|           iD 2.24.2|   172|    GBR|{highway -> terti...|      []|2023|2023-02-21 02:00:...|           |\n",
      "|   188|           iD 2.24.2|   159|    GBR|{highway -> prima...|      []|2023|2023-02-17 15:04:...|           |\n",
      "|   762| StreetComplete 50.2|  1091|    GBR|{highway -> prima...|      []|2023|2023-01-29 15:33:...|           |\n",
      "|  1474|JOSM/1.5 (18622 e...|   162|    GBR|{highway -> resid...|      []|2023|2023-02-03 14:26:...|           |\n",
      "|  1552|JOSM/1.5 (18699 S...|   919|    GBR|{highway -> terti...|      []|2023|2023-04-03 00:41:...|           |\n",
      "|  1580| StreetComplete 51.0|   118|    GBR|{highway -> terti...|      []|2023|2023-02-14 03:08:...|           |\n",
      "|  1644|JOSM/1.5 (18700 e...|   153|    GBR|{highway -> resid...|      []|2023|2023-04-06 22:20:...|           |\n",
      "|  1658| StreetComplete 51.0|   407|    GBR|{highway -> resid...|      []|2023|2023-02-16 02:25:...|           |\n",
      "|  1687|           iD 2.24.1|   479|    GBR|{highway -> resid...|      []|2023|2023-02-05 19:16:...|           |\n",
      "|  1689| StreetComplete 51.1|   159|    GBR|{highway -> resid...|      []|2023|2023-03-23 21:19:...|           |\n",
      "|  1865|JOSM/1.5 (18622 e...|   708|    GBR|{highway -> resid...|      []|2023|2023-02-03 14:26:...|           |\n",
      "|  1900|Every Door Androi...|   706|    GBR|{highway -> resid...|      []|2023|2023-02-02 16:28:...|           |\n",
      "|  1905|JOSM/1.5 (18622 e...|   257|    GBR|{highway -> resid...|      []|2023|2023-02-03 14:26:...|           |\n",
      "|  1906|JOSM/1.5 (18646 e...|   604|    GBR|{highway -> resid...|      []|2023|2023-02-02 16:42:...|           |\n",
      "|  2234|           iD 2.24.1|     0|    GBR|                  {}|      []|2023|2023-02-03 20:36:...|           |\n",
      "|  2287|           iD 2.24.2|   603|    GBR|{highway -> motor...|      []|2023|2023-02-17 22:49:...|           |\n",
      "|  2421| StreetComplete 50.2|   180|    GBR|{highway -> terti...|      []|2023|2023-01-19 16:46:...|           |\n",
      "+------+--------------------+------+-------+--------------------+--------+----+--------------------+-----------+\n",
      "only showing top 20 rows\n",
      "\n"
     ]
    }
   ],
   "source": [
    "df_roads.show()"
   ]
  },
  {
   "attachments": {},
   "cell_type": "markdown",
   "metadata": {},
   "source": [
    "## AI road filter"
   ]
  },
  {
   "attachments": {},
   "cell_type": "markdown",
   "metadata": {},
   "source": [
    "### Filter 1\n",
    "- column tags contains “#mapwithai” or “#nsroadimport” or \"#MapWithAI\""
   ]
  },
  {
   "cell_type": "code",
   "execution_count": 33,
   "metadata": {},
   "outputs": [],
   "source": [
    "df_roads_f1 = df_roads.filter(df_roads.tags_str.contains(\"mapwithai\") | df_roads.tags_str.contains(\"MapWithAI\") | df_roads.tags_str.contains(\"nsroadimport\"))\n"
   ]
  },
  {
   "cell_type": "code",
   "execution_count": 34,
   "metadata": {},
   "outputs": [
    {
     "name": "stdout",
     "output_type": "stream",
     "text": [
      "+----+------------+-----------+---------+\n",
      "|year| sum(osm_id)|sum(length)|sum(year)|\n",
      "+----+------------+-----------+---------+\n",
      "|2023|221644006172|     278590|   418761|\n",
      "+----+------------+-----------+---------+\n",
      "\n"
     ]
    }
   ],
   "source": [
    "df_roads_f1.groupBy(\"year\").sum().show()\n"
   ]
  },
  {
   "attachments": {},
   "cell_type": "markdown",
   "metadata": {},
   "source": [
    "### Filter 2\n",
    "- column tags_str contains (#nsroadimport\" or \"mapwithai\" or “MapWithAI\") and \"highway\"\n",
    "OR\n",
    "- column hashtags_un contains (#nsroadimport\" or \"mapwithai\") and it is highway (from column tags_str ???)"
   ]
  },
  {
   "cell_type": "code",
   "execution_count": 35,
   "metadata": {},
   "outputs": [],
   "source": [
    "df_roads_f2 = df_roads.filter(((df_roads.tags_str.contains(\"mapwithai\") | df_roads.tags_str.contains(\"MapWithAI\") | df_roads.tags_str.contains(\"nsroadimport\")) & (df_roads.tags_str.contains(\"highway\")))\n",
    "                              | (df_roads.hashtags_un.contains(\"mapwithai\") | df_roads.hashtags_un.contains(\"nsroadimport\") & (df_roads.tags_str.contains(\"highway\"))))\n"
   ]
  },
  {
   "cell_type": "code",
   "execution_count": 36,
   "metadata": {},
   "outputs": [
    {
     "name": "stdout",
     "output_type": "stream",
     "text": [
      "+----+---------------+-----------+---------+\n",
      "|year|    sum(osm_id)|sum(length)|sum(year)|\n",
      "+----+---------------+-----------+---------+\n",
      "|2023|165903613475359|  243608349|367680250|\n",
      "+----+---------------+-----------+---------+\n",
      "\n"
     ]
    }
   ],
   "source": [
    "df_roads_f2.groupBy(\"year\").sum().show()\n"
   ]
  },
  {
   "attachments": {},
   "cell_type": "markdown",
   "metadata": {},
   "source": [
    "### Filter 3\n",
    "3_1 – column editor contains RapiD\n",
    "\n",
    "3_2 – column editor contains RapiD or column tags_str/hashtags_un contains mapwithai\n",
    "\n",
    "3_3 – column editor contains RapiD and column tags_str/hashtags_un contains mapwithai"
   ]
  },
  {
   "attachments": {},
   "cell_type": "markdown",
   "metadata": {},
   "source": [
    "#### F3_1"
   ]
  },
  {
   "cell_type": "code",
   "execution_count": 37,
   "metadata": {},
   "outputs": [],
   "source": [
    "df_roads_f3_1 = df_roads.filter(df_roads.editor.contains(\"RapiD\") )\n"
   ]
  },
  {
   "cell_type": "code",
   "execution_count": 38,
   "metadata": {},
   "outputs": [
    {
     "name": "stdout",
     "output_type": "stream",
     "text": [
      "+----+---------------+-----------+---------+\n",
      "|year|    sum(osm_id)|sum(length)|sum(year)|\n",
      "+----+---------------+-----------+---------+\n",
      "|2023|155386313768669|  194174637|389579225|\n",
      "+----+---------------+-----------+---------+\n",
      "\n"
     ]
    }
   ],
   "source": [
    "df_roads_f3_1.groupBy(\"year\").sum().show()\n"
   ]
  },
  {
   "attachments": {},
   "cell_type": "markdown",
   "metadata": {},
   "source": [
    "#### F3_2"
   ]
  },
  {
   "cell_type": "code",
   "execution_count": 39,
   "metadata": {},
   "outputs": [],
   "source": [
    "df_roads_f3_2 = df_roads.filter((df_roads.editor.contains(\"RapiD\") | df_roads.tags_str.contains(\"mapwithai\") | df_roads.hashtags_un.contains(\"mapwithai\") | df_roads.tags_str.contains(\"MapWithAI\") | df_roads.hashtags_un.contains(\"MapWithAI\")))\n"
   ]
  },
  {
   "cell_type": "code",
   "execution_count": 40,
   "metadata": {},
   "outputs": [
    {
     "name": "stdout",
     "output_type": "stream",
     "text": [
      "+----+---------------+-----------+---------+\n",
      "|year|    sum(osm_id)|sum(length)|sum(year)|\n",
      "+----+---------------+-----------+---------+\n",
      "|2023|269224991627715|  371914843|655460092|\n",
      "+----+---------------+-----------+---------+\n",
      "\n"
     ]
    }
   ],
   "source": [
    "df_roads_f3_2.groupBy(\"year\").sum().show()\n"
   ]
  },
  {
   "attachments": {},
   "cell_type": "markdown",
   "metadata": {},
   "source": [
    "#### F3_3"
   ]
  },
  {
   "cell_type": "code",
   "execution_count": 41,
   "metadata": {},
   "outputs": [],
   "source": [
    "df_roads_f3_3 = df_roads.filter((df_roads.editor.contains(\"RapiD\") & (df_roads.tags_str.contains(\"mapwithai\") | df_roads.hashtags_un.contains(\"mapwithai\") | df_roads.tags_str.contains(\"MapWithAI\") | df_roads.hashtags_un.contains(\"MapWithAI\"))))\n"
   ]
  },
  {
   "cell_type": "code",
   "execution_count": 42,
   "metadata": {},
   "outputs": [
    {
     "name": "stdout",
     "output_type": "stream",
     "text": [
      "+----+--------------+-----------+---------+\n",
      "|year|   sum(osm_id)|sum(length)|sum(year)|\n",
      "+----+--------------+-----------+---------+\n",
      "|2023|52019131287119|   65803042|101700256|\n",
      "+----+--------------+-----------+---------+\n",
      "\n"
     ]
    }
   ],
   "source": [
    "df_roads_f3_3.groupBy(\"year\").sum().show()\n"
   ]
  },
  {
   "attachments": {},
   "cell_type": "markdown",
   "metadata": {},
   "source": [
    "## Convert to Pandas DataFrame - AI buildings, AI roads (this chapter is useless so far)"
   ]
  },
  {
   "cell_type": "code",
   "execution_count": 25,
   "metadata": {},
   "outputs": [],
   "source": [
    "# Filter AI blds\n",
    "df_blds = df.filter(df.tags_str.contains(\"microsoft/BuildingFootprints\") | df.tags_str.contains(\"esri/Google_Africa_Buildings\"))\\\n",
    ".groupby(\"country\", \"editor\", \"year\", \"tags_str\")\\\n",
    ".agg(psf.sum(\"user_id\"))\\\n",
    ".withColumnRenamed(\"sum(user_id)\", \"count_u_id\")\\\n",
    ".sort(psf.col(\"count_u_id\").desc())\\\n",
    ".toPandas()\n"
   ]
  },
  {
   "cell_type": "code",
   "execution_count": 26,
   "metadata": {},
   "outputs": [
    {
     "data": {
      "text/html": [
       "<div>\n",
       "<style scoped>\n",
       "    .dataframe tbody tr th:only-of-type {\n",
       "        vertical-align: middle;\n",
       "    }\n",
       "\n",
       "    .dataframe tbody tr th {\n",
       "        vertical-align: top;\n",
       "    }\n",
       "\n",
       "    .dataframe thead th {\n",
       "        text-align: right;\n",
       "    }\n",
       "</style>\n",
       "<table border=\"1\" class=\"dataframe\">\n",
       "  <thead>\n",
       "    <tr style=\"text-align: right;\">\n",
       "      <th></th>\n",
       "      <th>country</th>\n",
       "      <th>editor</th>\n",
       "      <th>year</th>\n",
       "      <th>tags_str</th>\n",
       "      <th>count_u_id</th>\n",
       "    </tr>\n",
       "  </thead>\n",
       "  <tbody>\n",
       "    <tr>\n",
       "      <th>0</th>\n",
       "      <td>TUR</td>\n",
       "      <td>RapiD 1.1.9-tm.1</td>\n",
       "      <td>2023</td>\n",
       "      <td>{building -&gt; yes, source -&gt; microsoft/Building...</td>\n",
       "      <td>1862607831910</td>\n",
       "    </tr>\n",
       "    <tr>\n",
       "      <th>1</th>\n",
       "      <td>IND</td>\n",
       "      <td>RapiD 1.1.9</td>\n",
       "      <td>2023</td>\n",
       "      <td>{building -&gt; yes, source -&gt; microsoft/Building...</td>\n",
       "      <td>697575610154</td>\n",
       "    </tr>\n",
       "    <tr>\n",
       "      <th>2</th>\n",
       "      <td>IDN</td>\n",
       "      <td>JOSM/1.5 (18583 en)</td>\n",
       "      <td>2023</td>\n",
       "      <td>{building -&gt; yes, source -&gt; microsoft/Building...</td>\n",
       "      <td>167757823842</td>\n",
       "    </tr>\n",
       "    <tr>\n",
       "      <th>3</th>\n",
       "      <td>USA</td>\n",
       "      <td>RapiD 1.1.9</td>\n",
       "      <td>2023</td>\n",
       "      <td>{building -&gt; yes, source -&gt; microsoft/Building...</td>\n",
       "      <td>116856923771</td>\n",
       "    </tr>\n",
       "    <tr>\n",
       "      <th>4</th>\n",
       "      <td>SYR</td>\n",
       "      <td>RapiD 1.1.9-tm.1</td>\n",
       "      <td>2023</td>\n",
       "      <td>{building -&gt; yes, source -&gt; microsoft/Building...</td>\n",
       "      <td>97647827025</td>\n",
       "    </tr>\n",
       "    <tr>\n",
       "      <th>...</th>\n",
       "      <td>...</td>\n",
       "      <td>...</td>\n",
       "      <td>...</td>\n",
       "      <td>...</td>\n",
       "      <td>...</td>\n",
       "    </tr>\n",
       "    <tr>\n",
       "      <th>24984</th>\n",
       "      <td>GBR</td>\n",
       "      <td>StreetComplete 50.2</td>\n",
       "      <td>2023</td>\n",
       "      <td>{building -&gt; house, source -&gt; microsoft/Buildi...</td>\n",
       "      <td>7329</td>\n",
       "    </tr>\n",
       "    <tr>\n",
       "      <th>24985</th>\n",
       "      <td>GBR</td>\n",
       "      <td>StreetComplete 50.2</td>\n",
       "      <td>2023</td>\n",
       "      <td>{building -&gt; detached, source -&gt; microsoft/Bui...</td>\n",
       "      <td>7329</td>\n",
       "    </tr>\n",
       "    <tr>\n",
       "      <th>24986</th>\n",
       "      <td>GBR</td>\n",
       "      <td>StreetComplete 50.2</td>\n",
       "      <td>2023</td>\n",
       "      <td>{building -&gt; apartments, source -&gt; microsoft/B...</td>\n",
       "      <td>7329</td>\n",
       "    </tr>\n",
       "    <tr>\n",
       "      <th>24987</th>\n",
       "      <td>GBR</td>\n",
       "      <td>RapiD 1.1.9</td>\n",
       "      <td>2023</td>\n",
       "      <td>{building -&gt; yes, source -&gt; microsoft/Building...</td>\n",
       "      <td>7329</td>\n",
       "    </tr>\n",
       "    <tr>\n",
       "      <th>24988</th>\n",
       "      <td>TUR</td>\n",
       "      <td>RapiD 1.1.9-tm.1</td>\n",
       "      <td>2023</td>\n",
       "      <td>{building -&gt; yes, source -&gt; microsoft/Building...</td>\n",
       "      <td>7264</td>\n",
       "    </tr>\n",
       "  </tbody>\n",
       "</table>\n",
       "<p>24989 rows × 5 columns</p>\n",
       "</div>"
      ],
      "text/plain": [
       "      country               editor  year  \\\n",
       "0         TUR     RapiD 1.1.9-tm.1  2023   \n",
       "1         IND          RapiD 1.1.9  2023   \n",
       "2         IDN  JOSM/1.5 (18583 en)  2023   \n",
       "3         USA          RapiD 1.1.9  2023   \n",
       "4         SYR     RapiD 1.1.9-tm.1  2023   \n",
       "...       ...                  ...   ...   \n",
       "24984     GBR  StreetComplete 50.2  2023   \n",
       "24985     GBR  StreetComplete 50.2  2023   \n",
       "24986     GBR  StreetComplete 50.2  2023   \n",
       "24987     GBR          RapiD 1.1.9  2023   \n",
       "24988     TUR     RapiD 1.1.9-tm.1  2023   \n",
       "\n",
       "                                                tags_str     count_u_id  \n",
       "0      {building -> yes, source -> microsoft/Building...  1862607831910  \n",
       "1      {building -> yes, source -> microsoft/Building...   697575610154  \n",
       "2      {building -> yes, source -> microsoft/Building...   167757823842  \n",
       "3      {building -> yes, source -> microsoft/Building...   116856923771  \n",
       "4      {building -> yes, source -> microsoft/Building...    97647827025  \n",
       "...                                                  ...            ...  \n",
       "24984  {building -> house, source -> microsoft/Buildi...           7329  \n",
       "24985  {building -> detached, source -> microsoft/Bui...           7329  \n",
       "24986  {building -> apartments, source -> microsoft/B...           7329  \n",
       "24987  {building -> yes, source -> microsoft/Building...           7329  \n",
       "24988  {building -> yes, source -> microsoft/Building...           7264  \n",
       "\n",
       "[24989 rows x 5 columns]"
      ]
     },
     "execution_count": 26,
     "metadata": {},
     "output_type": "execute_result"
    }
   ],
   "source": [
    "df_blds"
   ]
  },
  {
   "cell_type": "code",
   "execution_count": 32,
   "metadata": {},
   "outputs": [
    {
     "data": {
      "text/plain": [
       "0        True\n",
       "1        True\n",
       "2        True\n",
       "3        True\n",
       "4        True\n",
       "         ... \n",
       "24984    True\n",
       "24985    True\n",
       "24986    True\n",
       "24987    True\n",
       "24988    True\n",
       "Length: 24989, dtype: bool"
      ]
     },
     "execution_count": 32,
     "metadata": {},
     "output_type": "execute_result"
    }
   ],
   "source": [
    "df_blds.notna().all(axis=1)\n"
   ]
  },
  {
   "cell_type": "code",
   "execution_count": null,
   "metadata": {},
   "outputs": [],
   "source": [
    "# & (psf.col(\"road\") == 1)\n"
   ]
  },
  {
   "cell_type": "code",
   "execution_count": 98,
   "metadata": {},
   "outputs": [
    {
     "name": "stderr",
     "output_type": "stream",
     "text": [
      "ERROR:root:KeyboardInterrupt while sending command.\n",
      "Traceback (most recent call last):\n",
      "  File \"c:\\Users\\milan\\general_py_venv\\lib\\site-packages\\py4j\\java_gateway.py\", line 1038, in send_command\n",
      "    response = connection.send_command(command)\n",
      "  File \"c:\\Users\\milan\\general_py_venv\\lib\\site-packages\\py4j\\clientserver.py\", line 511, in send_command\n",
      "    answer = smart_decode(self.stream.readline()[:-1])\n",
      "  File \"C:\\Users\\milan\\AppData\\Local\\Programs\\Python\\Python310\\lib\\socket.py\", line 705, in readinto\n",
      "    return self._sock.recv_into(b)\n",
      "KeyboardInterrupt\n"
     ]
    },
    {
     "ename": "KeyboardInterrupt",
     "evalue": "",
     "output_type": "error",
     "traceback": [
      "\u001b[1;31m---------------------------------------------------------------------------\u001b[0m",
      "\u001b[1;31mKeyboardInterrupt\u001b[0m                         Traceback (most recent call last)",
      "\u001b[1;32mc:\\Users\\milan\\OneDrive - MUNI\\VŠ\\PhD\\Zahraniční stáž\\Work\\HeiGIT_notebooks\\analysis\\ai-assisted-osm-mapping-stats\\notebooks-contributions\\open-parquet-pyspark-new-data-structure.ipynb Cell 43\u001b[0m in \u001b[0;36m8\n\u001b[0;32m      <a href='vscode-notebook-cell:/c%3A/Users/milan/OneDrive%20-%20MUNI/V%C5%A0/PhD/Zahrani%C4%8Dn%C3%AD%20st%C3%A1%C5%BE/Work/HeiGIT_notebooks/analysis/ai-assisted-osm-mapping-stats/notebooks-contributions/open-parquet-pyspark-new-data-structure.ipynb#X43sZmlsZQ%3D%3D?line=0'>1</a>\u001b[0m \u001b[39m# Filter AI roads\u001b[39;00m\n\u001b[0;32m      <a href='vscode-notebook-cell:/c%3A/Users/milan/OneDrive%20-%20MUNI/V%C5%A0/PhD/Zahrani%C4%8Dn%C3%AD%20st%C3%A1%C5%BE/Work/HeiGIT_notebooks/analysis/ai-assisted-osm-mapping-stats/notebooks-contributions/open-parquet-pyspark-new-data-structure.ipynb#X43sZmlsZQ%3D%3D?line=1'>2</a>\u001b[0m df_roads \u001b[39m=\u001b[39m df_roads\u001b[39m.\u001b[39mfilter(((df_roads\u001b[39m.\u001b[39mtags_str\u001b[39m.\u001b[39mcontains(\u001b[39m\"\u001b[39m\u001b[39mmapwithai\u001b[39m\u001b[39m\"\u001b[39m) \u001b[39m|\u001b[39m df_roads\u001b[39m.\u001b[39mtags_str\u001b[39m.\u001b[39mcontains(\u001b[39m\"\u001b[39m\u001b[39mMapWithAI\u001b[39m\u001b[39m\"\u001b[39m) \u001b[39m|\u001b[39m df_roads\u001b[39m.\u001b[39mtags_str\u001b[39m.\u001b[39mcontains(\u001b[39m\"\u001b[39m\u001b[39m#nsroadimport\u001b[39m\u001b[39m\"\u001b[39m)) \u001b[39m&\u001b[39m (df_roads\u001b[39m.\u001b[39mtags_str\u001b[39m.\u001b[39mcontains(\u001b[39m\"\u001b[39m\u001b[39mhighway\u001b[39m\u001b[39m\"\u001b[39m)))\n\u001b[0;32m      <a href='vscode-notebook-cell:/c%3A/Users/milan/OneDrive%20-%20MUNI/V%C5%A0/PhD/Zahrani%C4%8Dn%C3%AD%20st%C3%A1%C5%BE/Work/HeiGIT_notebooks/analysis/ai-assisted-osm-mapping-stats/notebooks-contributions/open-parquet-pyspark-new-data-structure.ipynb#X43sZmlsZQ%3D%3D?line=2'>3</a>\u001b[0m                            \u001b[39m|\u001b[39m (df_roads\u001b[39m.\u001b[39mhashtags_un\u001b[39m.\u001b[39mcontains(\u001b[39m\"\u001b[39m\u001b[39m#mapwithai\u001b[39m\u001b[39m\"\u001b[39m) \u001b[39m|\u001b[39m df_roads\u001b[39m.\u001b[39mhashtags_un\u001b[39m.\u001b[39mcontains(\u001b[39m\"\u001b[39m\u001b[39m#nsroadimport\u001b[39m\u001b[39m\"\u001b[39m)))\\\n\u001b[0;32m      <a href='vscode-notebook-cell:/c%3A/Users/milan/OneDrive%20-%20MUNI/V%C5%A0/PhD/Zahrani%C4%8Dn%C3%AD%20st%C3%A1%C5%BE/Work/HeiGIT_notebooks/analysis/ai-assisted-osm-mapping-stats/notebooks-contributions/open-parquet-pyspark-new-data-structure.ipynb#X43sZmlsZQ%3D%3D?line=3'>4</a>\u001b[0m     \u001b[39m.\u001b[39mgroupby(\u001b[39m\"\u001b[39m\u001b[39mcountry\u001b[39m\u001b[39m\"\u001b[39m, \u001b[39m\"\u001b[39m\u001b[39meditor\u001b[39m\u001b[39m\"\u001b[39m, \u001b[39m\"\u001b[39m\u001b[39myear\u001b[39m\u001b[39m\"\u001b[39m, \u001b[39m\"\u001b[39m\u001b[39mtags_str\u001b[39m\u001b[39m\"\u001b[39m, \u001b[39m\"\u001b[39m\u001b[39mhashtags_un\u001b[39m\u001b[39m\"\u001b[39m, \u001b[39m\"\u001b[39m\u001b[39mlength\u001b[39m\u001b[39m\"\u001b[39m)\\\n\u001b[0;32m      <a href='vscode-notebook-cell:/c%3A/Users/milan/OneDrive%20-%20MUNI/V%C5%A0/PhD/Zahrani%C4%8Dn%C3%AD%20st%C3%A1%C5%BE/Work/HeiGIT_notebooks/analysis/ai-assisted-osm-mapping-stats/notebooks-contributions/open-parquet-pyspark-new-data-structure.ipynb#X43sZmlsZQ%3D%3D?line=4'>5</a>\u001b[0m     \u001b[39m.\u001b[39magg(psf\u001b[39m.\u001b[39msum(\u001b[39m\"\u001b[39m\u001b[39mcountry\u001b[39m\u001b[39m\"\u001b[39m))\\\n\u001b[0;32m      <a href='vscode-notebook-cell:/c%3A/Users/milan/OneDrive%20-%20MUNI/V%C5%A0/PhD/Zahrani%C4%8Dn%C3%AD%20st%C3%A1%C5%BE/Work/HeiGIT_notebooks/analysis/ai-assisted-osm-mapping-stats/notebooks-contributions/open-parquet-pyspark-new-data-structure.ipynb#X43sZmlsZQ%3D%3D?line=5'>6</a>\u001b[0m     \u001b[39m.\u001b[39mwithColumnRenamed(\u001b[39m\"\u001b[39m\u001b[39msum(country)\u001b[39m\u001b[39m\"\u001b[39m, \u001b[39m\"\u001b[39m\u001b[39mcount_country\u001b[39m\u001b[39m\"\u001b[39m)\\\n\u001b[0;32m      <a href='vscode-notebook-cell:/c%3A/Users/milan/OneDrive%20-%20MUNI/V%C5%A0/PhD/Zahrani%C4%8Dn%C3%AD%20st%C3%A1%C5%BE/Work/HeiGIT_notebooks/analysis/ai-assisted-osm-mapping-stats/notebooks-contributions/open-parquet-pyspark-new-data-structure.ipynb#X43sZmlsZQ%3D%3D?line=6'>7</a>\u001b[0m     \u001b[39m.\u001b[39msort(psf\u001b[39m.\u001b[39mcol(\u001b[39m\"\u001b[39m\u001b[39mcount_country\u001b[39m\u001b[39m\"\u001b[39m)\u001b[39m.\u001b[39mdesc())\\\n\u001b[1;32m----> <a href='vscode-notebook-cell:/c%3A/Users/milan/OneDrive%20-%20MUNI/V%C5%A0/PhD/Zahrani%C4%8Dn%C3%AD%20st%C3%A1%C5%BE/Work/HeiGIT_notebooks/analysis/ai-assisted-osm-mapping-stats/notebooks-contributions/open-parquet-pyspark-new-data-structure.ipynb#X43sZmlsZQ%3D%3D?line=7'>8</a>\u001b[0m     \u001b[39m.\u001b[39mtoPandas()\n",
      "File \u001b[1;32mc:\\Users\\milan\\general_py_venv\\lib\\site-packages\\pyspark\\sql\\pandas\\conversion.py:208\u001b[0m, in \u001b[0;36mPandasConversionMixin.toPandas\u001b[1;34m(self)\u001b[0m\n\u001b[0;32m    205\u001b[0m             \u001b[39mraise\u001b[39;00m\n\u001b[0;32m    207\u001b[0m \u001b[39m# Below is toPandas without Arrow optimization.\u001b[39;00m\n\u001b[1;32m--> 208\u001b[0m pdf \u001b[39m=\u001b[39m pd\u001b[39m.\u001b[39mDataFrame\u001b[39m.\u001b[39mfrom_records(\u001b[39mself\u001b[39;49m\u001b[39m.\u001b[39;49mcollect(), columns\u001b[39m=\u001b[39m\u001b[39mself\u001b[39m\u001b[39m.\u001b[39mcolumns)\n\u001b[0;32m    209\u001b[0m column_counter \u001b[39m=\u001b[39m Counter(\u001b[39mself\u001b[39m\u001b[39m.\u001b[39mcolumns)\n\u001b[0;32m    211\u001b[0m corrected_dtypes: List[Optional[Type]] \u001b[39m=\u001b[39m [\u001b[39mNone\u001b[39;00m] \u001b[39m*\u001b[39m \u001b[39mlen\u001b[39m(\u001b[39mself\u001b[39m\u001b[39m.\u001b[39mschema)\n",
      "File \u001b[1;32mc:\\Users\\milan\\general_py_venv\\lib\\site-packages\\pyspark\\sql\\dataframe.py:1216\u001b[0m, in \u001b[0;36mDataFrame.collect\u001b[1;34m(self)\u001b[0m\n\u001b[0;32m   1196\u001b[0m \u001b[39m\"\"\"Returns all the records as a list of :class:`Row`.\u001b[39;00m\n\u001b[0;32m   1197\u001b[0m \n\u001b[0;32m   1198\u001b[0m \u001b[39m.. versionadded:: 1.3.0\u001b[39;00m\n\u001b[1;32m   (...)\u001b[0m\n\u001b[0;32m   1213\u001b[0m \u001b[39m[Row(age=14, name='Tom'), Row(age=23, name='Alice'), Row(age=16, name='Bob')]\u001b[39;00m\n\u001b[0;32m   1214\u001b[0m \u001b[39m\"\"\"\u001b[39;00m\n\u001b[0;32m   1215\u001b[0m \u001b[39mwith\u001b[39;00m SCCallSiteSync(\u001b[39mself\u001b[39m\u001b[39m.\u001b[39m_sc):\n\u001b[1;32m-> 1216\u001b[0m     sock_info \u001b[39m=\u001b[39m \u001b[39mself\u001b[39;49m\u001b[39m.\u001b[39;49m_jdf\u001b[39m.\u001b[39;49mcollectToPython()\n\u001b[0;32m   1217\u001b[0m \u001b[39mreturn\u001b[39;00m \u001b[39mlist\u001b[39m(_load_from_socket(sock_info, BatchedSerializer(CPickleSerializer())))\n",
      "File \u001b[1;32mc:\\Users\\milan\\general_py_venv\\lib\\site-packages\\py4j\\java_gateway.py:1321\u001b[0m, in \u001b[0;36mJavaMember.__call__\u001b[1;34m(self, *args)\u001b[0m\n\u001b[0;32m   1314\u001b[0m args_command, temp_args \u001b[39m=\u001b[39m \u001b[39mself\u001b[39m\u001b[39m.\u001b[39m_build_args(\u001b[39m*\u001b[39margs)\n\u001b[0;32m   1316\u001b[0m command \u001b[39m=\u001b[39m proto\u001b[39m.\u001b[39mCALL_COMMAND_NAME \u001b[39m+\u001b[39m\\\n\u001b[0;32m   1317\u001b[0m     \u001b[39mself\u001b[39m\u001b[39m.\u001b[39mcommand_header \u001b[39m+\u001b[39m\\\n\u001b[0;32m   1318\u001b[0m     args_command \u001b[39m+\u001b[39m\\\n\u001b[0;32m   1319\u001b[0m     proto\u001b[39m.\u001b[39mEND_COMMAND_PART\n\u001b[1;32m-> 1321\u001b[0m answer \u001b[39m=\u001b[39m \u001b[39mself\u001b[39;49m\u001b[39m.\u001b[39;49mgateway_client\u001b[39m.\u001b[39;49msend_command(command)\n\u001b[0;32m   1322\u001b[0m return_value \u001b[39m=\u001b[39m get_return_value(\n\u001b[0;32m   1323\u001b[0m     answer, \u001b[39mself\u001b[39m\u001b[39m.\u001b[39mgateway_client, \u001b[39mself\u001b[39m\u001b[39m.\u001b[39mtarget_id, \u001b[39mself\u001b[39m\u001b[39m.\u001b[39mname)\n\u001b[0;32m   1325\u001b[0m \u001b[39mfor\u001b[39;00m temp_arg \u001b[39min\u001b[39;00m temp_args:\n",
      "File \u001b[1;32mc:\\Users\\milan\\general_py_venv\\lib\\site-packages\\py4j\\java_gateway.py:1038\u001b[0m, in \u001b[0;36mGatewayClient.send_command\u001b[1;34m(self, command, retry, binary)\u001b[0m\n\u001b[0;32m   1036\u001b[0m connection \u001b[39m=\u001b[39m \u001b[39mself\u001b[39m\u001b[39m.\u001b[39m_get_connection()\n\u001b[0;32m   1037\u001b[0m \u001b[39mtry\u001b[39;00m:\n\u001b[1;32m-> 1038\u001b[0m     response \u001b[39m=\u001b[39m connection\u001b[39m.\u001b[39;49msend_command(command)\n\u001b[0;32m   1039\u001b[0m     \u001b[39mif\u001b[39;00m binary:\n\u001b[0;32m   1040\u001b[0m         \u001b[39mreturn\u001b[39;00m response, \u001b[39mself\u001b[39m\u001b[39m.\u001b[39m_create_connection_guard(connection)\n",
      "File \u001b[1;32mc:\\Users\\milan\\general_py_venv\\lib\\site-packages\\py4j\\clientserver.py:511\u001b[0m, in \u001b[0;36mClientServerConnection.send_command\u001b[1;34m(self, command)\u001b[0m\n\u001b[0;32m    509\u001b[0m \u001b[39mtry\u001b[39;00m:\n\u001b[0;32m    510\u001b[0m     \u001b[39mwhile\u001b[39;00m \u001b[39mTrue\u001b[39;00m:\n\u001b[1;32m--> 511\u001b[0m         answer \u001b[39m=\u001b[39m smart_decode(\u001b[39mself\u001b[39;49m\u001b[39m.\u001b[39;49mstream\u001b[39m.\u001b[39;49mreadline()[:\u001b[39m-\u001b[39m\u001b[39m1\u001b[39m])\n\u001b[0;32m    512\u001b[0m         logger\u001b[39m.\u001b[39mdebug(\u001b[39m\"\u001b[39m\u001b[39mAnswer received: \u001b[39m\u001b[39m{0}\u001b[39;00m\u001b[39m\"\u001b[39m\u001b[39m.\u001b[39mformat(answer))\n\u001b[0;32m    513\u001b[0m         \u001b[39m# Happens when a the other end is dead. There might be an empty\u001b[39;00m\n\u001b[0;32m    514\u001b[0m         \u001b[39m# answer before the socket raises an error.\u001b[39;00m\n",
      "File \u001b[1;32m~\\AppData\\Local\\Programs\\Python\\Python310\\lib\\socket.py:705\u001b[0m, in \u001b[0;36mSocketIO.readinto\u001b[1;34m(self, b)\u001b[0m\n\u001b[0;32m    703\u001b[0m \u001b[39mwhile\u001b[39;00m \u001b[39mTrue\u001b[39;00m:\n\u001b[0;32m    704\u001b[0m     \u001b[39mtry\u001b[39;00m:\n\u001b[1;32m--> 705\u001b[0m         \u001b[39mreturn\u001b[39;00m \u001b[39mself\u001b[39;49m\u001b[39m.\u001b[39;49m_sock\u001b[39m.\u001b[39;49mrecv_into(b)\n\u001b[0;32m    706\u001b[0m     \u001b[39mexcept\u001b[39;00m timeout:\n\u001b[0;32m    707\u001b[0m         \u001b[39mself\u001b[39m\u001b[39m.\u001b[39m_timeout_occurred \u001b[39m=\u001b[39m \u001b[39mTrue\u001b[39;00m\n",
      "\u001b[1;31mKeyboardInterrupt\u001b[0m: "
     ]
    }
   ],
   "source": [
    "# Filter AI roads\n",
    "df_roads = df_roads.filter(((df_roads.tags_str.contains(\"mapwithai\") | df_roads.tags_str.contains(\"MapWithAI\") | df_roads.tags_str.contains(\"#nsroadimport\")) & (df_roads.tags_str.contains(\"highway\")))\n",
    "                           | (df_roads.hashtags_un.contains(\"#mapwithai\") | df_roads.hashtags_un.contains(\"#nsroadimport\")))\\\n",
    "    .groupby(\"country\", \"editor\", \"year\", \"tags_str\", \"hashtags_un\", \"length\")\\\n",
    "    .agg(psf.sum(\"country\"))\\\n",
    "    .withColumnRenamed(\"sum(country)\", \"count_country\")\\\n",
    "    .sort(psf.col(\"count_country\").desc())\\\n",
    "    .toPandas()\n"
   ]
  },
  {
   "cell_type": "code",
   "execution_count": null,
   "metadata": {},
   "outputs": [
    {
     "data": {
      "text/html": [
       "<div>\n",
       "<style scoped>\n",
       "    .dataframe tbody tr th:only-of-type {\n",
       "        vertical-align: middle;\n",
       "    }\n",
       "\n",
       "    .dataframe tbody tr th {\n",
       "        vertical-align: top;\n",
       "    }\n",
       "\n",
       "    .dataframe thead th {\n",
       "        text-align: right;\n",
       "    }\n",
       "</style>\n",
       "<table border=\"1\" class=\"dataframe\">\n",
       "  <thead>\n",
       "    <tr style=\"text-align: right;\">\n",
       "      <th></th>\n",
       "      <th>country</th>\n",
       "      <th>editor</th>\n",
       "      <th>year</th>\n",
       "      <th>tags_str</th>\n",
       "      <th>hashtags_un</th>\n",
       "      <th>length</th>\n",
       "      <th>count_osm_id</th>\n",
       "    </tr>\n",
       "  </thead>\n",
       "  <tbody>\n",
       "    <tr>\n",
       "      <th>0</th>\n",
       "      <td>TZA</td>\n",
       "      <td>JOSM/1.5 (18646 en)</td>\n",
       "      <td>2023</td>\n",
       "      <td>{}</td>\n",
       "      <td>#Tanzania,#mapwithai</td>\n",
       "      <td>0</td>\n",
       "      <td>3883303105856</td>\n",
       "    </tr>\n",
       "    <tr>\n",
       "      <th>1</th>\n",
       "      <td>TZA</td>\n",
       "      <td>JOSM/1.5 (18583 en)</td>\n",
       "      <td>2023</td>\n",
       "      <td>{}</td>\n",
       "      <td>#Tanzania,#mapwithai</td>\n",
       "      <td>0</td>\n",
       "      <td>2204724899226</td>\n",
       "    </tr>\n",
       "    <tr>\n",
       "      <th>2</th>\n",
       "      <td>IND</td>\n",
       "      <td>RapiD 1.1.9-tm.1</td>\n",
       "      <td>2023</td>\n",
       "      <td>{}</td>\n",
       "      <td>#India,#mapwithai</td>\n",
       "      <td>0</td>\n",
       "      <td>1786006015589</td>\n",
       "    </tr>\n",
       "    <tr>\n",
       "      <th>3</th>\n",
       "      <td>IND</td>\n",
       "      <td>JOSM/1.5 (18427 en)</td>\n",
       "      <td>2023</td>\n",
       "      <td>{}</td>\n",
       "      <td>#India,#mapwithai</td>\n",
       "      <td>0</td>\n",
       "      <td>1006969338360</td>\n",
       "    </tr>\n",
       "    <tr>\n",
       "      <th>4</th>\n",
       "      <td>TZA</td>\n",
       "      <td>JOSM/1.5 (18463 en)</td>\n",
       "      <td>2023</td>\n",
       "      <td>{}</td>\n",
       "      <td>#Tanzania,#mapwithai</td>\n",
       "      <td>0</td>\n",
       "      <td>841542487332</td>\n",
       "    </tr>\n",
       "    <tr>\n",
       "      <th>...</th>\n",
       "      <td>...</td>\n",
       "      <td>...</td>\n",
       "      <td>...</td>\n",
       "      <td>...</td>\n",
       "      <td>...</td>\n",
       "      <td>...</td>\n",
       "      <td>...</td>\n",
       "    </tr>\n",
       "    <tr>\n",
       "      <th>82556</th>\n",
       "      <td>USA</td>\n",
       "      <td>JOSM/1.5 (18700 en)</td>\n",
       "      <td>2023</td>\n",
       "      <td>{highway -&gt; residential, tiger:county -&gt; Orang...</td>\n",
       "      <td>#buildingmapping,#mapwithai</td>\n",
       "      <td>329</td>\n",
       "      <td>13331490</td>\n",
       "    </tr>\n",
       "    <tr>\n",
       "      <th>82557</th>\n",
       "      <td>USA</td>\n",
       "      <td>JOSM/1.5 (18700 en)</td>\n",
       "      <td>2023</td>\n",
       "      <td>{highway -&gt; residential, tiger:county -&gt; Orang...</td>\n",
       "      <td>#buildingmapping,#mapwithai</td>\n",
       "      <td>340</td>\n",
       "      <td>13303745</td>\n",
       "    </tr>\n",
       "    <tr>\n",
       "      <th>82558</th>\n",
       "      <td>USA</td>\n",
       "      <td>JOSM/1.5 (18700 en)</td>\n",
       "      <td>2023</td>\n",
       "      <td>{highway -&gt; residential, tiger:county -&gt; Orang...</td>\n",
       "      <td>#buildingmapping,#mapwithai</td>\n",
       "      <td>399</td>\n",
       "      <td>13303745</td>\n",
       "    </tr>\n",
       "    <tr>\n",
       "      <th>82559</th>\n",
       "      <td>USA</td>\n",
       "      <td>JOSM/1.5 (18565 en)</td>\n",
       "      <td>2023</td>\n",
       "      <td>{highway -&gt; tertiary, tiger:county -&gt; Orange, ...</td>\n",
       "      <td>#buildingmapping,#mapwithai</td>\n",
       "      <td>697</td>\n",
       "      <td>13300336</td>\n",
       "    </tr>\n",
       "    <tr>\n",
       "      <th>82560</th>\n",
       "      <td>USA</td>\n",
       "      <td>JOSM/1.5 (18700 en)</td>\n",
       "      <td>2023</td>\n",
       "      <td>{highway -&gt; residential, tiger:county -&gt; Orang...</td>\n",
       "      <td>#buildingmapping,#mapwithai</td>\n",
       "      <td>976</td>\n",
       "      <td>13299282</td>\n",
       "    </tr>\n",
       "  </tbody>\n",
       "</table>\n",
       "<p>82561 rows × 7 columns</p>\n",
       "</div>"
      ],
      "text/plain": [
       "      country               editor  year  \\\n",
       "0         TZA  JOSM/1.5 (18646 en)  2023   \n",
       "1         TZA  JOSM/1.5 (18583 en)  2023   \n",
       "2         IND     RapiD 1.1.9-tm.1  2023   \n",
       "3         IND  JOSM/1.5 (18427 en)  2023   \n",
       "4         TZA  JOSM/1.5 (18463 en)  2023   \n",
       "...       ...                  ...   ...   \n",
       "82556     USA  JOSM/1.5 (18700 en)  2023   \n",
       "82557     USA  JOSM/1.5 (18700 en)  2023   \n",
       "82558     USA  JOSM/1.5 (18700 en)  2023   \n",
       "82559     USA  JOSM/1.5 (18565 en)  2023   \n",
       "82560     USA  JOSM/1.5 (18700 en)  2023   \n",
       "\n",
       "                                                tags_str  \\\n",
       "0                                                     {}   \n",
       "1                                                     {}   \n",
       "2                                                     {}   \n",
       "3                                                     {}   \n",
       "4                                                     {}   \n",
       "...                                                  ...   \n",
       "82556  {highway -> residential, tiger:county -> Orang...   \n",
       "82557  {highway -> residential, tiger:county -> Orang...   \n",
       "82558  {highway -> residential, tiger:county -> Orang...   \n",
       "82559  {highway -> tertiary, tiger:county -> Orange, ...   \n",
       "82560  {highway -> residential, tiger:county -> Orang...   \n",
       "\n",
       "                       hashtags_un  length   count_osm_id  \n",
       "0             #Tanzania,#mapwithai       0  3883303105856  \n",
       "1             #Tanzania,#mapwithai       0  2204724899226  \n",
       "2                #India,#mapwithai       0  1786006015589  \n",
       "3                #India,#mapwithai       0  1006969338360  \n",
       "4             #Tanzania,#mapwithai       0   841542487332  \n",
       "...                            ...     ...            ...  \n",
       "82556  #buildingmapping,#mapwithai     329       13331490  \n",
       "82557  #buildingmapping,#mapwithai     340       13303745  \n",
       "82558  #buildingmapping,#mapwithai     399       13303745  \n",
       "82559  #buildingmapping,#mapwithai     697       13300336  \n",
       "82560  #buildingmapping,#mapwithai     976       13299282  \n",
       "\n",
       "[82561 rows x 7 columns]"
      ]
     },
     "execution_count": 85,
     "metadata": {},
     "output_type": "execute_result"
    }
   ],
   "source": [
    "df_roads\n"
   ]
  },
  {
   "cell_type": "code",
   "execution_count": null,
   "metadata": {},
   "outputs": [],
   "source": []
  }
 ],
 "metadata": {
  "kernelspec": {
   "display_name": "general_py_venv",
   "language": "python",
   "name": "python3"
  },
  "language_info": {
   "codemirror_mode": {
    "name": "ipython",
    "version": 3
   },
   "file_extension": ".py",
   "mimetype": "text/x-python",
   "name": "python",
   "nbconvert_exporter": "python",
   "pygments_lexer": "ipython3",
   "version": "3.10.7"
  },
  "orig_nbformat": 4
 },
 "nbformat": 4,
 "nbformat_minor": 2
}
