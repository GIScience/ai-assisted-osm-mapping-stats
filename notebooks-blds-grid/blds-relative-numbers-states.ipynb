{
 "cells": [
  {
   "cell_type": "code",
   "execution_count": 29,
   "metadata": {},
   "outputs": [],
   "source": [
    "import os\n",
    "import json\n",
    "import pandas as pd\n",
    "import matplotlib.pyplot as plt\n",
    "import seaborn as sns\n",
    "import re\n",
    "\n",
    "import plotly.express as px\n"
   ]
  },
  {
   "cell_type": "markdown",
   "metadata": {},
   "source": [
    "## Data preparation"
   ]
  },
  {
   "cell_type": "markdown",
   "metadata": {},
   "source": [
    "### Definitions"
   ]
  },
  {
   "cell_type": "code",
   "execution_count": 3,
   "metadata": {},
   "outputs": [],
   "source": [
    "# dictionary definitions\n",
    "\n",
    "data_dic = {0: \"blds_continent_data_18-23_ai.json\",\n",
    "            1: \"blds_africa_states_18-23_ai.json\",\n",
    "            2: \"blds_northamerica_states_18-23_ai.json\",\n",
    "            3: \"blds_europe_states_18-23_ai.json\",\n",
    "            4: \"blds_asia_states_18-23_ai.json\",}\n",
    "geojson_folder_dic = {0: \"geojson-continent-states\",\n",
    "                      1: \"geojson-africa-states\",\n",
    "                      2: \"geojson-northamerica-states\",\n",
    "                      3: \"geojson-europe-states\",\n",
    "                      4: \"geojson-asia-states\",}"
   ]
  },
  {
   "cell_type": "code",
   "execution_count": 4,
   "metadata": {},
   "outputs": [],
   "source": [
    "# user input definition\n",
    "\n",
    "while True:\n",
    "    try:\n",
    "        user_d_spec = int(input(\"Which data do you want to plot?\\\n",
    "                            Enter 0 for stats by continents (2018–2023),\\\n",
    "                            1 for stats by Africa states (2018–2023),\\\n",
    "                            2 for stats by North-Central America states (2018–2023),\\\n",
    "                            3 for stats by Europe states (2018–2023),\\\n",
    "                            4 for stats by Asia states (2018–2023):\"\n",
    "                                ))\n",
    "    except ValueError:\n",
    "        print(\"Please enter a number.\")\n",
    "        continue\n",
    "    if user_d_spec not in range(len(data_dic)):\n",
    "        print(\"Please enter 0, 1, 2, 3 or 4.\")\n",
    "        continue\n",
    "    break\n"
   ]
  },
  {
   "cell_type": "code",
   "execution_count": 5,
   "metadata": {},
   "outputs": [],
   "source": [
    "# function definitions\n",
    "\n",
    "def data_spec(data_dic):\n",
    "    \n",
    "    with open(f\"downloaded-data\\\\{data_dic[user_d_spec]}\", \"r\") as f:\n",
    "        data = json.load(f)\n",
    "    return data\n",
    "\n",
    "\n",
    "def get_geojson_names(home_dir, geojson_folder_dic):\n",
    "    geojson_dir = os.path.join(home_dir, geojson_folder_dic[user_d_spec], \"\")\n",
    "\n",
    "    geojson_names = []\n",
    "    for (dir_path, dir_names, file_names) in os.walk(geojson_dir):  # give the path\n",
    "        geojson_names.extend(file_names)\n",
    "    print(geojson_names)\n",
    "    return geojson_names\n"
   ]
  },
  {
   "cell_type": "markdown",
   "metadata": {},
   "source": [
    "### Load the data"
   ]
  },
  {
   "cell_type": "code",
   "execution_count": 6,
   "metadata": {},
   "outputs": [],
   "source": [
    "os.chdir('..')\n",
    "\n",
    "data = data_spec(data_dic)\n",
    "\n",
    "home_dir = os.getcwd()\n"
   ]
  },
  {
   "cell_type": "markdown",
   "metadata": {},
   "source": [
    "### Edit the obtained data into desired shape to create a DataFrame"
   ]
  },
  {
   "cell_type": "code",
   "execution_count": 7,
   "metadata": {},
   "outputs": [],
   "source": [
    "d = {\n",
    "    \"feature\": [],\n",
    "    \"source\": [],\n",
    "    \"timestamp\": [],\n",
    "    \"value\": []\n",
    "}\n"
   ]
  },
  {
   "cell_type": "code",
   "execution_count": 8,
   "metadata": {},
   "outputs": [],
   "source": [
    "for cont in data:\n",
    "    for dic1 in cont:\n",
    "        feature, source = dic1[\"groupByObject\"][0], dic1[\"groupByObject\"][1]\n",
    "        for res in dic1[\"result\"]:\n",
    "            d[\"feature\"].append(feature)\n",
    "            d[\"source\"].append(source)\n",
    "            d[\"timestamp\"].append(res[\"timestamp\"])\n",
    "            d[\"value\"].append(res[\"value\"])\n",
    "\n",
    "df = pd.DataFrame(d)\n",
    "# df"
   ]
  },
  {
   "cell_type": "code",
   "execution_count": 9,
   "metadata": {},
   "outputs": [],
   "source": [
    "# extract only the year\n",
    "df[\"year\"] = pd.to_datetime(df[\"timestamp\"]).dt.year"
   ]
  },
  {
   "cell_type": "markdown",
   "metadata": {},
   "source": [
    "### Append the names of the regions to the DataFrame"
   ]
  },
  {
   "cell_type": "code",
   "execution_count": 10,
   "metadata": {},
   "outputs": [
    {
     "name": "stdout",
     "output_type": "stream",
     "text": [
      "['0_Ethiopia.geojson', '10_Democratic Republic of the Congo.geojson', '11_Namibia.geojson', '12_South Africa.geojson', '13_Libya.geojson', '14_Tunisia.geojson', '15_Zambia.geojson', '16_Sierra Leone.geojson', '17_Guinea.geojson', '18_Liberia.geojson', '19_Central African Republic.geojson', '1_South Sudan.geojson', '20_Sudan.geojson', '21_Djibouti.geojson', '22_Eritrea.geojson', '23_Ivory Coast.geojson', '24_Mali.geojson', '25_Senegal.geojson', '26_Nigeria.geojson', '27_Benin.geojson', '28_Angola.geojson', '29_Botswana.geojson', '2_Somalia.geojson', '30_Zimbabwe.geojson', '31_Chad.geojson', '32_Algeria.geojson', '33_Mozambique.geojson', '34_Eswatini.geojson', '35_Burundi.geojson', '36_Rwanda.geojson', '37_Uganda.geojson', '38_Lesotho.geojson', '39_Cameroon.geojson', '3_Kenya.geojson', '40_Gabon.geojson', '41_Niger.geojson', '42_Burkina Faso.geojson', '43_Togo.geojson', '44_Ghana.geojson', '45_Guinea-Bissau.geojson', '46_Egypt.geojson', '47_Mauritania.geojson', '48_Equatorial Guinea.geojson', '49_The Gambia.geojson', '4_Malawi.geojson', '50_Bir Tawil.geojson', '51_Madagascar.geojson', '52_Comoros.geojson', '53_São Tomé and Príncipe.geojson', '54_Cape Verde.geojson', '5_Tanzania.geojson', '6_Somaliland.geojson', '7_Morocco.geojson', '8_Western Sahara.geojson', '9_Republic of the Congo.geojson']\n"
     ]
    }
   ],
   "source": [
    "# extract the geojson IDs and the names\n",
    "geojson_names = get_geojson_names(home_dir, geojson_folder_dic)\n"
   ]
  },
  {
   "cell_type": "code",
   "execution_count": 11,
   "metadata": {},
   "outputs": [],
   "source": [
    "geojson_names_2 = geojson_names\n",
    "\n",
    "id_name_dic = {int(re.search(r'^\\d+', k)[0]): re.search(r'\\_.+\\.', v)[0][1:-1] # using lib RegularExpression to separate the ID number and the state name\n",
    "                for k, v in zip(geojson_names, geojson_names_2)}\n",
    "id_name_ser = pd.Series(id_name_dic)\n",
    "id_name_df = pd.DataFrame(id_name_ser, columns=[\"name\"])\n",
    "id_name_df = id_name_df.reset_index().rename(columns={\"index\": \"id\"})\n",
    "id_name_df[\"id\"] = id_name_df[\"id\"].astype(int)\n",
    "# id_name_df\n"
   ]
  },
  {
   "cell_type": "code",
   "execution_count": 12,
   "metadata": {},
   "outputs": [],
   "source": [
    "# merge df with region names based on IDs\n",
    "df = df.merge(id_name_df, how=\"left\", left_on=\"feature\",\n",
    "               right_on=\"id\")\n",
    "# df.head(20)"
   ]
  },
  {
   "cell_type": "code",
   "execution_count": 13,
   "metadata": {},
   "outputs": [
    {
     "data": {
      "text/html": [
       "<div>\n",
       "<style scoped>\n",
       "    .dataframe tbody tr th:only-of-type {\n",
       "        vertical-align: middle;\n",
       "    }\n",
       "\n",
       "    .dataframe tbody tr th {\n",
       "        vertical-align: top;\n",
       "    }\n",
       "\n",
       "    .dataframe thead th {\n",
       "        text-align: right;\n",
       "    }\n",
       "</style>\n",
       "<table border=\"1\" class=\"dataframe\">\n",
       "  <thead>\n",
       "    <tr style=\"text-align: right;\">\n",
       "      <th></th>\n",
       "      <th>feature</th>\n",
       "      <th>source</th>\n",
       "      <th>timestamp</th>\n",
       "      <th>value</th>\n",
       "      <th>year</th>\n",
       "      <th>id</th>\n",
       "      <th>name</th>\n",
       "    </tr>\n",
       "  </thead>\n",
       "  <tbody>\n",
       "    <tr>\n",
       "      <th>0</th>\n",
       "      <td>0</td>\n",
       "      <td>remainder</td>\n",
       "      <td>2018-01-01T00:00:00Z</td>\n",
       "      <td>284919.0</td>\n",
       "      <td>2018</td>\n",
       "      <td>0.0</td>\n",
       "      <td>Ethiopia</td>\n",
       "    </tr>\n",
       "    <tr>\n",
       "      <th>1</th>\n",
       "      <td>0</td>\n",
       "      <td>remainder</td>\n",
       "      <td>2019-01-01T00:00:00Z</td>\n",
       "      <td>350579.0</td>\n",
       "      <td>2019</td>\n",
       "      <td>0.0</td>\n",
       "      <td>Ethiopia</td>\n",
       "    </tr>\n",
       "    <tr>\n",
       "      <th>2</th>\n",
       "      <td>0</td>\n",
       "      <td>remainder</td>\n",
       "      <td>2020-01-01T00:00:00Z</td>\n",
       "      <td>395155.0</td>\n",
       "      <td>2020</td>\n",
       "      <td>0.0</td>\n",
       "      <td>Ethiopia</td>\n",
       "    </tr>\n",
       "    <tr>\n",
       "      <th>3</th>\n",
       "      <td>0</td>\n",
       "      <td>remainder</td>\n",
       "      <td>2021-01-01T00:00:00Z</td>\n",
       "      <td>470680.0</td>\n",
       "      <td>2021</td>\n",
       "      <td>0.0</td>\n",
       "      <td>Ethiopia</td>\n",
       "    </tr>\n",
       "    <tr>\n",
       "      <th>4</th>\n",
       "      <td>0</td>\n",
       "      <td>remainder</td>\n",
       "      <td>2022-01-01T00:00:00Z</td>\n",
       "      <td>629701.0</td>\n",
       "      <td>2022</td>\n",
       "      <td>0.0</td>\n",
       "      <td>Ethiopia</td>\n",
       "    </tr>\n",
       "    <tr>\n",
       "      <th>...</th>\n",
       "      <td>...</td>\n",
       "      <td>...</td>\n",
       "      <td>...</td>\n",
       "      <td>...</td>\n",
       "      <td>...</td>\n",
       "      <td>...</td>\n",
       "      <td>...</td>\n",
       "    </tr>\n",
       "    <tr>\n",
       "      <th>655</th>\n",
       "      <td>9</td>\n",
       "      <td>source=microsoft/BuildingFootprints</td>\n",
       "      <td>2019-01-01T00:00:00Z</td>\n",
       "      <td>0.0</td>\n",
       "      <td>2019</td>\n",
       "      <td>9.0</td>\n",
       "      <td>Republic of the Congo</td>\n",
       "    </tr>\n",
       "    <tr>\n",
       "      <th>656</th>\n",
       "      <td>9</td>\n",
       "      <td>source=microsoft/BuildingFootprints</td>\n",
       "      <td>2020-01-01T00:00:00Z</td>\n",
       "      <td>0.0</td>\n",
       "      <td>2020</td>\n",
       "      <td>9.0</td>\n",
       "      <td>Republic of the Congo</td>\n",
       "    </tr>\n",
       "    <tr>\n",
       "      <th>657</th>\n",
       "      <td>9</td>\n",
       "      <td>source=microsoft/BuildingFootprints</td>\n",
       "      <td>2021-01-01T00:00:00Z</td>\n",
       "      <td>0.0</td>\n",
       "      <td>2021</td>\n",
       "      <td>9.0</td>\n",
       "      <td>Republic of the Congo</td>\n",
       "    </tr>\n",
       "    <tr>\n",
       "      <th>658</th>\n",
       "      <td>9</td>\n",
       "      <td>source=microsoft/BuildingFootprints</td>\n",
       "      <td>2022-01-01T00:00:00Z</td>\n",
       "      <td>0.0</td>\n",
       "      <td>2022</td>\n",
       "      <td>9.0</td>\n",
       "      <td>Republic of the Congo</td>\n",
       "    </tr>\n",
       "    <tr>\n",
       "      <th>659</th>\n",
       "      <td>9</td>\n",
       "      <td>source=microsoft/BuildingFootprints</td>\n",
       "      <td>2023-01-01T00:00:00Z</td>\n",
       "      <td>33.0</td>\n",
       "      <td>2023</td>\n",
       "      <td>9.0</td>\n",
       "      <td>Republic of the Congo</td>\n",
       "    </tr>\n",
       "  </tbody>\n",
       "</table>\n",
       "<p>660 rows × 7 columns</p>\n",
       "</div>"
      ],
      "text/plain": [
       "    feature                               source             timestamp  \\\n",
       "0         0                            remainder  2018-01-01T00:00:00Z   \n",
       "1         0                            remainder  2019-01-01T00:00:00Z   \n",
       "2         0                            remainder  2020-01-01T00:00:00Z   \n",
       "3         0                            remainder  2021-01-01T00:00:00Z   \n",
       "4         0                            remainder  2022-01-01T00:00:00Z   \n",
       "..      ...                                  ...                   ...   \n",
       "655       9  source=microsoft/BuildingFootprints  2019-01-01T00:00:00Z   \n",
       "656       9  source=microsoft/BuildingFootprints  2020-01-01T00:00:00Z   \n",
       "657       9  source=microsoft/BuildingFootprints  2021-01-01T00:00:00Z   \n",
       "658       9  source=microsoft/BuildingFootprints  2022-01-01T00:00:00Z   \n",
       "659       9  source=microsoft/BuildingFootprints  2023-01-01T00:00:00Z   \n",
       "\n",
       "        value  year   id                   name  \n",
       "0    284919.0  2018  0.0               Ethiopia  \n",
       "1    350579.0  2019  0.0               Ethiopia  \n",
       "2    395155.0  2020  0.0               Ethiopia  \n",
       "3    470680.0  2021  0.0               Ethiopia  \n",
       "4    629701.0  2022  0.0               Ethiopia  \n",
       "..        ...   ...  ...                    ...  \n",
       "655       0.0  2019  9.0  Republic of the Congo  \n",
       "656       0.0  2020  9.0  Republic of the Congo  \n",
       "657       0.0  2021  9.0  Republic of the Congo  \n",
       "658       0.0  2022  9.0  Republic of the Congo  \n",
       "659      33.0  2023  9.0  Republic of the Congo  \n",
       "\n",
       "[660 rows x 7 columns]"
      ]
     },
     "execution_count": 13,
     "metadata": {},
     "output_type": "execute_result"
    }
   ],
   "source": [
    "df"
   ]
  },
  {
   "cell_type": "markdown",
   "metadata": {},
   "source": [
    "### Filtering the data"
   ]
  },
  {
   "cell_type": "code",
   "execution_count": 14,
   "metadata": {},
   "outputs": [],
   "source": [
    "# get the number of AI Microsoft (source=microsoft/BuildingFootprints) / manually mapped (remainder) buildings for every year\n",
    "grouped = df.groupby([\"name\", \"year\"])[\"value\"].sum()\n",
    "# grouped"
   ]
  },
  {
   "cell_type": "code",
   "execution_count": 15,
   "metadata": {},
   "outputs": [
    {
     "data": {
      "text/plain": [
       "name      year\n",
       "Algeria   2018     261826.0\n",
       "          2019     365631.0\n",
       "          2020     404078.0\n",
       "          2021     428225.0\n",
       "          2022     538250.0\n",
       "                    ...    \n",
       "Zimbabwe  2019    3481873.0\n",
       "          2020    3668184.0\n",
       "          2021    3696191.0\n",
       "          2022    3809584.0\n",
       "          2023    3869906.0\n",
       "Name: value, Length: 324, dtype: float64"
      ]
     },
     "execution_count": 15,
     "metadata": {},
     "output_type": "execute_result"
    }
   ],
   "source": [
    "grouped\n"
   ]
  },
  {
   "cell_type": "code",
   "execution_count": 16,
   "metadata": {},
   "outputs": [],
   "source": [
    "# merge the DataFrame with groupBy DataFrame and compute the percentage\n",
    "merged_data = df.merge(grouped, on=[\"name\", \"year\"], how=\"left\", )\n",
    "merged_data = merged_data.rename(columns={\"value_x\":\"num_of_blds\", \"value_y\":\"total_blds\"})\n",
    "merged_data[\"percentage\"] = (merged_data[\"num_of_blds\"] / merged_data[\"total_blds\"]) * 100\n",
    "# merged_data.head(10)\n"
   ]
  },
  {
   "cell_type": "code",
   "execution_count": 17,
   "metadata": {},
   "outputs": [
    {
     "data": {
      "text/plain": [
       "name      year\n",
       "Algeria   2018    100.0\n",
       "          2019    100.0\n",
       "          2020    100.0\n",
       "          2021    100.0\n",
       "          2022    100.0\n",
       "                  ...  \n",
       "Zimbabwe  2019    100.0\n",
       "          2020    100.0\n",
       "          2021    100.0\n",
       "          2022    100.0\n",
       "          2023    100.0\n",
       "Name: percentage, Length: 324, dtype: float64"
      ]
     },
     "execution_count": 17,
     "metadata": {},
     "output_type": "execute_result"
    }
   ],
   "source": [
    "# percentage verification\n",
    "merged_data.groupby([\"name\", \"year\"])[\"percentage\"].sum()\n"
   ]
  },
  {
   "cell_type": "code",
   "execution_count": 22,
   "metadata": {},
   "outputs": [
    {
     "data": {
      "text/html": [
       "<div>\n",
       "<style scoped>\n",
       "    .dataframe tbody tr th:only-of-type {\n",
       "        vertical-align: middle;\n",
       "    }\n",
       "\n",
       "    .dataframe tbody tr th {\n",
       "        vertical-align: top;\n",
       "    }\n",
       "\n",
       "    .dataframe thead th {\n",
       "        text-align: right;\n",
       "    }\n",
       "</style>\n",
       "<table border=\"1\" class=\"dataframe\">\n",
       "  <thead>\n",
       "    <tr style=\"text-align: right;\">\n",
       "      <th></th>\n",
       "      <th>feature</th>\n",
       "      <th>source</th>\n",
       "      <th>timestamp</th>\n",
       "      <th>num_of_blds</th>\n",
       "      <th>year</th>\n",
       "      <th>id</th>\n",
       "      <th>name</th>\n",
       "      <th>total_blds</th>\n",
       "      <th>percentage</th>\n",
       "    </tr>\n",
       "  </thead>\n",
       "  <tbody>\n",
       "    <tr>\n",
       "      <th>11</th>\n",
       "      <td>0</td>\n",
       "      <td>source=microsoft/BuildingFootprints</td>\n",
       "      <td>2023-01-01T00:00:00Z</td>\n",
       "      <td>6327.0</td>\n",
       "      <td>2023</td>\n",
       "      <td>0.0</td>\n",
       "      <td>Ethiopia</td>\n",
       "      <td>759918.0</td>\n",
       "      <td>0.832590</td>\n",
       "    </tr>\n",
       "    <tr>\n",
       "      <th>23</th>\n",
       "      <td>10</td>\n",
       "      <td>source=microsoft/BuildingFootprints</td>\n",
       "      <td>2023-01-01T00:00:00Z</td>\n",
       "      <td>23080.0</td>\n",
       "      <td>2023</td>\n",
       "      <td>10.0</td>\n",
       "      <td>Democratic Republic of the Congo</td>\n",
       "      <td>6556598.0</td>\n",
       "      <td>0.352012</td>\n",
       "    </tr>\n",
       "    <tr>\n",
       "      <th>35</th>\n",
       "      <td>11</td>\n",
       "      <td>source=microsoft/BuildingFootprints</td>\n",
       "      <td>2023-01-01T00:00:00Z</td>\n",
       "      <td>98.0</td>\n",
       "      <td>2023</td>\n",
       "      <td>11.0</td>\n",
       "      <td>Namibia</td>\n",
       "      <td>325952.0</td>\n",
       "      <td>0.030066</td>\n",
       "    </tr>\n",
       "    <tr>\n",
       "      <th>47</th>\n",
       "      <td>12</td>\n",
       "      <td>source=microsoft/BuildingFootprints</td>\n",
       "      <td>2023-01-01T00:00:00Z</td>\n",
       "      <td>8219.0</td>\n",
       "      <td>2023</td>\n",
       "      <td>12.0</td>\n",
       "      <td>South Africa</td>\n",
       "      <td>1613686.0</td>\n",
       "      <td>0.509331</td>\n",
       "    </tr>\n",
       "    <tr>\n",
       "      <th>59</th>\n",
       "      <td>13</td>\n",
       "      <td>source=microsoft/BuildingFootprints</td>\n",
       "      <td>2023-01-01T00:00:00Z</td>\n",
       "      <td>15840.0</td>\n",
       "      <td>2023</td>\n",
       "      <td>13.0</td>\n",
       "      <td>Libya</td>\n",
       "      <td>771530.0</td>\n",
       "      <td>2.053063</td>\n",
       "    </tr>\n",
       "  </tbody>\n",
       "</table>\n",
       "</div>"
      ],
      "text/plain": [
       "   feature                               source             timestamp  \\\n",
       "11       0  source=microsoft/BuildingFootprints  2023-01-01T00:00:00Z   \n",
       "23      10  source=microsoft/BuildingFootprints  2023-01-01T00:00:00Z   \n",
       "35      11  source=microsoft/BuildingFootprints  2023-01-01T00:00:00Z   \n",
       "47      12  source=microsoft/BuildingFootprints  2023-01-01T00:00:00Z   \n",
       "59      13  source=microsoft/BuildingFootprints  2023-01-01T00:00:00Z   \n",
       "\n",
       "    num_of_blds  year    id                              name  total_blds  \\\n",
       "11       6327.0  2023   0.0                          Ethiopia    759918.0   \n",
       "23      23080.0  2023  10.0  Democratic Republic of the Congo   6556598.0   \n",
       "35         98.0  2023  11.0                           Namibia    325952.0   \n",
       "47       8219.0  2023  12.0                      South Africa   1613686.0   \n",
       "59      15840.0  2023  13.0                             Libya    771530.0   \n",
       "\n",
       "    percentage  \n",
       "11    0.832590  \n",
       "23    0.352012  \n",
       "35    0.030066  \n",
       "47    0.509331  \n",
       "59    2.053063  "
      ]
     },
     "execution_count": 22,
     "metadata": {},
     "output_type": "execute_result"
    }
   ],
   "source": [
    "df_ai = merged_data.loc[(merged_data[\"year\"] == 2023) & (merged_data[\"source\"] == \"source=microsoft/BuildingFootprints\"), :]\n",
    "df_ai.head()"
   ]
  },
  {
   "cell_type": "code",
   "execution_count": 33,
   "metadata": {},
   "outputs": [
    {
     "data": {
      "text/plain": [
       "55"
      ]
     },
     "execution_count": 33,
     "metadata": {},
     "output_type": "execute_result"
    }
   ],
   "source": [
    "len(df_ai)"
   ]
  },
  {
   "cell_type": "code",
   "execution_count": 27,
   "metadata": {},
   "outputs": [
    {
     "data": {
      "application/vnd.plotly.v1+json": {
       "config": {
        "plotlyServerURL": "https://plot.ly"
       },
       "data": [
        {
         "marker": {
          "color": "grey"
         },
         "orientation": "h",
         "textfont": {
          "color": "black"
         },
         "textposition": "outside",
         "type": "bar",
         "x": [
          "Ethiopia",
          "Democratic Republic of the Congo",
          "Namibia",
          "South Africa",
          "Libya",
          "Tunisia",
          "Zambia",
          "Sierra Leone",
          "Guinea",
          "Liberia",
          "Central African Republic",
          "South Sudan",
          "Sudan",
          "Djibouti",
          "Eritrea",
          "Ivory Coast",
          "Mali",
          "Senegal",
          "Nigeria",
          "Benin",
          "Angola",
          "Botswana",
          "Somalia",
          "Zimbabwe",
          "Chad",
          "Algeria",
          "Mozambique",
          "Eswatini",
          "Burundi",
          "Rwanda",
          "Uganda",
          "Lesotho",
          "Cameroon",
          "Kenya",
          "Gabon",
          "Niger",
          "Burkina Faso",
          "Togo",
          "Ghana",
          "Guinea-Bissau",
          null,
          "Mauritania",
          "Equatorial Guinea",
          "The Gambia",
          "Malawi",
          "Bir Tawil",
          "Madagascar",
          "Comoros",
          "São Tomé and Príncipe",
          "Cape Verde",
          "Tanzania",
          "Somaliland",
          "Morocco",
          "Western Sahara",
          "Republic of the Congo"
         ],
         "y": [
          0.8325898320608276,
          0.35201182076436593,
          0.030065776556057335,
          0.5093308115705286,
          2.053063393516778,
          0.11093148219358451,
          3.101777686408825,
          0,
          0.006459624629401676,
          0.2914953442697074,
          0.01867425740648282,
          0,
          15.534808313183973,
          0,
          0.1617971934409907,
          0.012679092177000128,
          0.01777504774884587,
          0.1815353989046102,
          10.006806435078408,
          0.05291981141741917,
          0.0882102602460602,
          0.0005835338420451694,
          0,
          0.0012920210465060392,
          0,
          0.09423702973274449,
          0.00639692588431889,
          0.0003399851426492662,
          0.23380942913200756,
          0.0473721609600758,
          0.8918211663939392,
          0.013415350697026264,
          0.054060087753192,
          17.674763895833703,
          0.11815613825050666,
          0.005031024652020795,
          0.13126684571078343,
          0.0002867468474573679,
          0.004566708189883726,
          0.14424618014745164,
          null,
          0.6225066052837703,
          0.09419891671245781,
          0,
          0.003085839084441498,
          0,
          0.09376725102086893,
          0.1037730528452992,
          0,
          0,
          1.6079099376081893,
          0,
          14.374430080602362,
          0,
          0.0056492532714312125
         ]
        },
        {
         "orientation": "h",
         "type": "bar",
         "x": [
          0.8325898320608276,
          0.35201182076436593,
          0.030065776556057335,
          0.5093308115705286,
          2.053063393516778,
          0.11093148219358451,
          3.101777686408825,
          0,
          0.006459624629401676,
          0.2914953442697074,
          0.01867425740648282,
          0,
          15.534808313183973,
          0,
          0.1617971934409907,
          0.012679092177000128,
          0.01777504774884587,
          0.1815353989046102,
          10.006806435078408,
          0.05291981141741917,
          0.0882102602460602,
          0.0005835338420451694,
          0,
          0.0012920210465060392,
          0,
          0.09423702973274449,
          0.00639692588431889,
          0.0003399851426492662,
          0.23380942913200756,
          0.0473721609600758,
          0.8918211663939392,
          0.013415350697026264,
          0.054060087753192,
          17.674763895833703,
          0.11815613825050666,
          0.005031024652020795,
          0.13126684571078343,
          0.0002867468474573679,
          0.004566708189883726,
          0.14424618014745164,
          null,
          0.6225066052837703,
          0.09419891671245781,
          0,
          0.003085839084441498,
          0,
          0.09376725102086893,
          0.1037730528452992,
          0,
          0,
          1.6079099376081893,
          0,
          14.374430080602362,
          0,
          0.0056492532714312125
         ],
         "y": [
          "Ethiopia",
          "Democratic Republic of the Congo",
          "Namibia",
          "South Africa",
          "Libya",
          "Tunisia",
          "Zambia",
          "Sierra Leone",
          "Guinea",
          "Liberia",
          "Central African Republic",
          "South Sudan",
          "Sudan",
          "Djibouti",
          "Eritrea",
          "Ivory Coast",
          "Mali",
          "Senegal",
          "Nigeria",
          "Benin",
          "Angola",
          "Botswana",
          "Somalia",
          "Zimbabwe",
          "Chad",
          "Algeria",
          "Mozambique",
          "Eswatini",
          "Burundi",
          "Rwanda",
          "Uganda",
          "Lesotho",
          "Cameroon",
          "Kenya",
          "Gabon",
          "Niger",
          "Burkina Faso",
          "Togo",
          "Ghana",
          "Guinea-Bissau",
          null,
          "Mauritania",
          "Equatorial Guinea",
          "The Gambia",
          "Malawi",
          "Bir Tawil",
          "Madagascar",
          "Comoros",
          "São Tomé and Príncipe",
          "Cape Verde",
          "Tanzania",
          "Somaliland",
          "Morocco",
          "Western Sahara",
          "Republic of the Congo"
         ]
        }
       ],
       "layout": {
        "barmode": "overlay",
        "showlegend": false,
        "template": {
         "data": {
          "pie": [
           {
            "automargin": true,
            "type": "pie"
           }
          ],
          "scatter": [
           {
            "line": {
             "width": 3
            },
            "marker": {
             "size": 9
            },
            "type": "scatter"
           }
          ],
          "scatter3d": [
           {
            "line": {
             "width": 3
            },
            "marker": {
             "size": 9
            },
            "type": "scatter3d"
           }
          ],
          "scattergeo": [
           {
            "line": {
             "width": 3
            },
            "marker": {
             "size": 9
            },
            "type": "scattergeo"
           }
          ],
          "scattergl": [
           {
            "line": {
             "width": 3
            },
            "marker": {
             "size": 9
            },
            "type": "scattergl"
           }
          ],
          "scatterpolar": [
           {
            "line": {
             "width": 3
            },
            "marker": {
             "size": 9
            },
            "type": "scatterpolar"
           }
          ],
          "scatterpolargl": [
           {
            "line": {
             "width": 3
            },
            "marker": {
             "size": 9
            },
            "type": "scatterpolargl"
           }
          ],
          "scatterternary": [
           {
            "line": {
             "width": 3
            },
            "marker": {
             "size": 9
            },
            "type": "scatterternary"
           }
          ],
          "table": [
           {
            "cells": {
             "height": 30
            },
            "header": {
             "height": 36
            },
            "type": "table"
           }
          ]
         },
         "layout": {
          "font": {
           "size": 18
          },
          "xaxis": {
           "title": {
            "standoff": 15
           }
          },
          "yaxis": {
           "title": {
            "standoff": 15
           }
          }
         }
        },
        "title": {
         "text": "Top Authors"
        },
        "yaxis": {
         "categoryorder": "total ascending",
         "tickfont": {
          "color": "white"
         },
         "ticklabelposition": "inside",
         "tickmode": "array",
         "ticktext": [
          "Ethiopia",
          "Democratic Republic of the Congo",
          "Namibia",
          "South Africa",
          "Libya",
          "Tunisia",
          "Zambia",
          "Sierra Leone",
          "Guinea",
          "Liberia",
          "Central African Republic",
          "South Sudan",
          "Sudan",
          "Djibouti",
          "Eritrea",
          "Ivory Coast",
          "Mali",
          "Senegal",
          "Nigeria",
          "Benin",
          "Angola",
          "Botswana",
          "Somalia",
          "Zimbabwe",
          "Chad",
          "Algeria",
          "Mozambique",
          "Eswatini",
          "Burundi",
          "Rwanda",
          "Uganda",
          "Lesotho",
          "Cameroon",
          "Kenya",
          "Gabon",
          "Niger",
          "Burkina Faso",
          "Togo",
          "Ghana",
          "Guinea-Bissau",
          null,
          "Mauritania",
          "Equatorial Guinea",
          "The Gambia",
          "Malawi",
          "Bir Tawil",
          "Madagascar",
          "Comoros",
          "São Tomé and Príncipe",
          "Cape Verde",
          "Tanzania",
          "Somaliland",
          "Morocco",
          "Western Sahara",
          "Republic of the Congo"
         ],
         "tickvals": [
          "Ethiopia",
          "Democratic Republic of the Congo",
          "Namibia",
          "South Africa",
          "Libya",
          "Tunisia",
          "Zambia",
          "Sierra Leone",
          "Guinea",
          "Liberia",
          "Central African Republic",
          "South Sudan",
          "Sudan",
          "Djibouti",
          "Eritrea",
          "Ivory Coast",
          "Mali",
          "Senegal",
          "Nigeria",
          "Benin",
          "Angola",
          "Botswana",
          "Somalia",
          "Zimbabwe",
          "Chad",
          "Algeria",
          "Mozambique",
          "Eswatini",
          "Burundi",
          "Rwanda",
          "Uganda",
          "Lesotho",
          "Cameroon",
          "Kenya",
          "Gabon",
          "Niger",
          "Burkina Faso",
          "Togo",
          "Ghana",
          "Guinea-Bissau",
          null,
          "Mauritania",
          "Equatorial Guinea",
          "The Gambia",
          "Malawi",
          "Bir Tawil",
          "Madagascar",
          "Comoros",
          "São Tomé and Príncipe",
          "Cape Verde",
          "Tanzania",
          "Somaliland",
          "Morocco",
          "Western Sahara",
          "Republic of the Congo"
         ]
        }
       }
      }
     },
     "metadata": {},
     "output_type": "display_data"
    }
   ],
   "source": [
    "import plotly.graph_objects as go\n",
    "\n",
    "x = df_ai[\"name\"]\n",
    "y = df_ai[\"percentage\"]\n",
    "# p = ['99%', '60%', '40%', '20%']\n",
    "\n",
    "fig = go.Figure(\n",
    "    go.Bar(\n",
    "        x=x,\n",
    "        y=y,\n",
    "        #text=p,\n",
    "        textposition=\"outside\",\n",
    "        textfont=dict(color=\"black\"),\n",
    "        orientation=\"h\",\n",
    "        marker_color=\"grey\",\n",
    "    )\n",
    ")\n",
    "\n",
    "fig.add_trace(\n",
    "    go.Bar(\n",
    "        x=y,\n",
    "        y=x,\n",
    "        orientation=\"h\",\n",
    "    )\n",
    ")\n",
    "fig.update_layout(title='Top Authors', barmode=\"overlay\",\n",
    "                  showlegend=False, template=\"presentation\")\n",
    "fig.update_yaxes(\n",
    "    tickmode=\"array\",\n",
    "    categoryorder=\"total ascending\",\n",
    "    tickvals=x,\n",
    "    ticktext=x,\n",
    "    ticklabelposition=\"inside\",\n",
    "    tickfont=dict(color=\"white\"),\n",
    ")\n",
    "# fig.update_xaxes(range=len(df_ai), visible=False)\n",
    "\n",
    "fig.show()\n"
   ]
  },
  {
   "cell_type": "code",
   "execution_count": 36,
   "metadata": {},
   "outputs": [
    {
     "data": {
      "application/vnd.plotly.v1+json": {
       "config": {
        "plotlyServerURL": "https://plot.ly"
       },
       "data": [
        {
         "alignmentgroup": "True",
         "hovertemplate": "percentage=%{x}<br>name=%{y}<extra></extra>",
         "legendgroup": "",
         "marker": {
          "color": "skyblue",
          "line": {
           "color": "black",
           "width": 1.5
          },
          "pattern": {
           "shape": ""
          }
         },
         "name": "",
         "offsetgroup": "",
         "opacity": 0.6,
         "orientation": "h",
         "showlegend": false,
         "textposition": "auto",
         "type": "bar",
         "x": [
          0.8325898320608276,
          0.35201182076436593,
          0.030065776556057335,
          0.5093308115705286,
          2.053063393516778,
          0.11093148219358451,
          3.101777686408825,
          0,
          0.006459624629401676,
          0.2914953442697074,
          0.01867425740648282,
          0,
          15.534808313183973,
          0,
          0.1617971934409907,
          0.012679092177000128,
          0.01777504774884587,
          0.1815353989046102,
          10.006806435078408,
          0.05291981141741917,
          0.0882102602460602,
          0.0005835338420451694,
          0,
          0.0012920210465060392,
          0,
          0.09423702973274449,
          0.00639692588431889,
          0.0003399851426492662,
          0.23380942913200756,
          0.0473721609600758,
          0.8918211663939392,
          0.013415350697026264,
          0.054060087753192,
          17.674763895833703,
          0.11815613825050666,
          0.005031024652020795,
          0.13126684571078343,
          0.0002867468474573679,
          0.004566708189883726,
          0.14424618014745164,
          null,
          0.6225066052837703,
          0.09419891671245781,
          0,
          0.003085839084441498,
          0,
          0.09376725102086893,
          0.1037730528452992,
          0,
          0,
          1.6079099376081893,
          0,
          14.374430080602362,
          0,
          0.0056492532714312125
         ],
         "xaxis": "x",
         "y": [
          "Ethiopia",
          "Democratic Republic of the Congo",
          "Namibia",
          "South Africa",
          "Libya",
          "Tunisia",
          "Zambia",
          "Sierra Leone",
          "Guinea",
          "Liberia",
          "Central African Republic",
          "South Sudan",
          "Sudan",
          "Djibouti",
          "Eritrea",
          "Ivory Coast",
          "Mali",
          "Senegal",
          "Nigeria",
          "Benin",
          "Angola",
          "Botswana",
          "Somalia",
          "Zimbabwe",
          "Chad",
          "Algeria",
          "Mozambique",
          "Eswatini",
          "Burundi",
          "Rwanda",
          "Uganda",
          "Lesotho",
          "Cameroon",
          "Kenya",
          "Gabon",
          "Niger",
          "Burkina Faso",
          "Togo",
          "Ghana",
          "Guinea-Bissau",
          null,
          "Mauritania",
          "Equatorial Guinea",
          "The Gambia",
          "Malawi",
          "Bir Tawil",
          "Madagascar",
          "Comoros",
          "São Tomé and Príncipe",
          "Cape Verde",
          "Tanzania",
          "Somaliland",
          "Morocco",
          "Western Sahara",
          "Republic of the Congo"
         ],
         "yaxis": "y"
        }
       ],
       "layout": {
        "barmode": "relative",
        "height": 1000,
        "legend": {
         "tracegroupgap": 0
        },
        "margin": {
         "t": 60
        },
        "template": {
         "data": {
          "bar": [
           {
            "error_x": {
             "color": "#2a3f5f"
            },
            "error_y": {
             "color": "#2a3f5f"
            },
            "marker": {
             "line": {
              "color": "#E5ECF6",
              "width": 0.5
             },
             "pattern": {
              "fillmode": "overlay",
              "size": 10,
              "solidity": 0.2
             }
            },
            "type": "bar"
           }
          ],
          "barpolar": [
           {
            "marker": {
             "line": {
              "color": "#E5ECF6",
              "width": 0.5
             },
             "pattern": {
              "fillmode": "overlay",
              "size": 10,
              "solidity": 0.2
             }
            },
            "type": "barpolar"
           }
          ],
          "carpet": [
           {
            "aaxis": {
             "endlinecolor": "#2a3f5f",
             "gridcolor": "white",
             "linecolor": "white",
             "minorgridcolor": "white",
             "startlinecolor": "#2a3f5f"
            },
            "baxis": {
             "endlinecolor": "#2a3f5f",
             "gridcolor": "white",
             "linecolor": "white",
             "minorgridcolor": "white",
             "startlinecolor": "#2a3f5f"
            },
            "type": "carpet"
           }
          ],
          "choropleth": [
           {
            "colorbar": {
             "outlinewidth": 0,
             "ticks": ""
            },
            "type": "choropleth"
           }
          ],
          "contour": [
           {
            "colorbar": {
             "outlinewidth": 0,
             "ticks": ""
            },
            "colorscale": [
             [
              0,
              "#0d0887"
             ],
             [
              0.1111111111111111,
              "#46039f"
             ],
             [
              0.2222222222222222,
              "#7201a8"
             ],
             [
              0.3333333333333333,
              "#9c179e"
             ],
             [
              0.4444444444444444,
              "#bd3786"
             ],
             [
              0.5555555555555556,
              "#d8576b"
             ],
             [
              0.6666666666666666,
              "#ed7953"
             ],
             [
              0.7777777777777778,
              "#fb9f3a"
             ],
             [
              0.8888888888888888,
              "#fdca26"
             ],
             [
              1,
              "#f0f921"
             ]
            ],
            "type": "contour"
           }
          ],
          "contourcarpet": [
           {
            "colorbar": {
             "outlinewidth": 0,
             "ticks": ""
            },
            "type": "contourcarpet"
           }
          ],
          "heatmap": [
           {
            "colorbar": {
             "outlinewidth": 0,
             "ticks": ""
            },
            "colorscale": [
             [
              0,
              "#0d0887"
             ],
             [
              0.1111111111111111,
              "#46039f"
             ],
             [
              0.2222222222222222,
              "#7201a8"
             ],
             [
              0.3333333333333333,
              "#9c179e"
             ],
             [
              0.4444444444444444,
              "#bd3786"
             ],
             [
              0.5555555555555556,
              "#d8576b"
             ],
             [
              0.6666666666666666,
              "#ed7953"
             ],
             [
              0.7777777777777778,
              "#fb9f3a"
             ],
             [
              0.8888888888888888,
              "#fdca26"
             ],
             [
              1,
              "#f0f921"
             ]
            ],
            "type": "heatmap"
           }
          ],
          "heatmapgl": [
           {
            "colorbar": {
             "outlinewidth": 0,
             "ticks": ""
            },
            "colorscale": [
             [
              0,
              "#0d0887"
             ],
             [
              0.1111111111111111,
              "#46039f"
             ],
             [
              0.2222222222222222,
              "#7201a8"
             ],
             [
              0.3333333333333333,
              "#9c179e"
             ],
             [
              0.4444444444444444,
              "#bd3786"
             ],
             [
              0.5555555555555556,
              "#d8576b"
             ],
             [
              0.6666666666666666,
              "#ed7953"
             ],
             [
              0.7777777777777778,
              "#fb9f3a"
             ],
             [
              0.8888888888888888,
              "#fdca26"
             ],
             [
              1,
              "#f0f921"
             ]
            ],
            "type": "heatmapgl"
           }
          ],
          "histogram": [
           {
            "marker": {
             "pattern": {
              "fillmode": "overlay",
              "size": 10,
              "solidity": 0.2
             }
            },
            "type": "histogram"
           }
          ],
          "histogram2d": [
           {
            "colorbar": {
             "outlinewidth": 0,
             "ticks": ""
            },
            "colorscale": [
             [
              0,
              "#0d0887"
             ],
             [
              0.1111111111111111,
              "#46039f"
             ],
             [
              0.2222222222222222,
              "#7201a8"
             ],
             [
              0.3333333333333333,
              "#9c179e"
             ],
             [
              0.4444444444444444,
              "#bd3786"
             ],
             [
              0.5555555555555556,
              "#d8576b"
             ],
             [
              0.6666666666666666,
              "#ed7953"
             ],
             [
              0.7777777777777778,
              "#fb9f3a"
             ],
             [
              0.8888888888888888,
              "#fdca26"
             ],
             [
              1,
              "#f0f921"
             ]
            ],
            "type": "histogram2d"
           }
          ],
          "histogram2dcontour": [
           {
            "colorbar": {
             "outlinewidth": 0,
             "ticks": ""
            },
            "colorscale": [
             [
              0,
              "#0d0887"
             ],
             [
              0.1111111111111111,
              "#46039f"
             ],
             [
              0.2222222222222222,
              "#7201a8"
             ],
             [
              0.3333333333333333,
              "#9c179e"
             ],
             [
              0.4444444444444444,
              "#bd3786"
             ],
             [
              0.5555555555555556,
              "#d8576b"
             ],
             [
              0.6666666666666666,
              "#ed7953"
             ],
             [
              0.7777777777777778,
              "#fb9f3a"
             ],
             [
              0.8888888888888888,
              "#fdca26"
             ],
             [
              1,
              "#f0f921"
             ]
            ],
            "type": "histogram2dcontour"
           }
          ],
          "mesh3d": [
           {
            "colorbar": {
             "outlinewidth": 0,
             "ticks": ""
            },
            "type": "mesh3d"
           }
          ],
          "parcoords": [
           {
            "line": {
             "colorbar": {
              "outlinewidth": 0,
              "ticks": ""
             }
            },
            "type": "parcoords"
           }
          ],
          "pie": [
           {
            "automargin": true,
            "type": "pie"
           }
          ],
          "scatter": [
           {
            "fillpattern": {
             "fillmode": "overlay",
             "size": 10,
             "solidity": 0.2
            },
            "type": "scatter"
           }
          ],
          "scatter3d": [
           {
            "line": {
             "colorbar": {
              "outlinewidth": 0,
              "ticks": ""
             }
            },
            "marker": {
             "colorbar": {
              "outlinewidth": 0,
              "ticks": ""
             }
            },
            "type": "scatter3d"
           }
          ],
          "scattercarpet": [
           {
            "marker": {
             "colorbar": {
              "outlinewidth": 0,
              "ticks": ""
             }
            },
            "type": "scattercarpet"
           }
          ],
          "scattergeo": [
           {
            "marker": {
             "colorbar": {
              "outlinewidth": 0,
              "ticks": ""
             }
            },
            "type": "scattergeo"
           }
          ],
          "scattergl": [
           {
            "marker": {
             "colorbar": {
              "outlinewidth": 0,
              "ticks": ""
             }
            },
            "type": "scattergl"
           }
          ],
          "scattermapbox": [
           {
            "marker": {
             "colorbar": {
              "outlinewidth": 0,
              "ticks": ""
             }
            },
            "type": "scattermapbox"
           }
          ],
          "scatterpolar": [
           {
            "marker": {
             "colorbar": {
              "outlinewidth": 0,
              "ticks": ""
             }
            },
            "type": "scatterpolar"
           }
          ],
          "scatterpolargl": [
           {
            "marker": {
             "colorbar": {
              "outlinewidth": 0,
              "ticks": ""
             }
            },
            "type": "scatterpolargl"
           }
          ],
          "scatterternary": [
           {
            "marker": {
             "colorbar": {
              "outlinewidth": 0,
              "ticks": ""
             }
            },
            "type": "scatterternary"
           }
          ],
          "surface": [
           {
            "colorbar": {
             "outlinewidth": 0,
             "ticks": ""
            },
            "colorscale": [
             [
              0,
              "#0d0887"
             ],
             [
              0.1111111111111111,
              "#46039f"
             ],
             [
              0.2222222222222222,
              "#7201a8"
             ],
             [
              0.3333333333333333,
              "#9c179e"
             ],
             [
              0.4444444444444444,
              "#bd3786"
             ],
             [
              0.5555555555555556,
              "#d8576b"
             ],
             [
              0.6666666666666666,
              "#ed7953"
             ],
             [
              0.7777777777777778,
              "#fb9f3a"
             ],
             [
              0.8888888888888888,
              "#fdca26"
             ],
             [
              1,
              "#f0f921"
             ]
            ],
            "type": "surface"
           }
          ],
          "table": [
           {
            "cells": {
             "fill": {
              "color": "#EBF0F8"
             },
             "line": {
              "color": "white"
             }
            },
            "header": {
             "fill": {
              "color": "#C8D4E3"
             },
             "line": {
              "color": "white"
             }
            },
            "type": "table"
           }
          ]
         },
         "layout": {
          "annotationdefaults": {
           "arrowcolor": "#2a3f5f",
           "arrowhead": 0,
           "arrowwidth": 1
          },
          "autotypenumbers": "strict",
          "coloraxis": {
           "colorbar": {
            "outlinewidth": 0,
            "ticks": ""
           }
          },
          "colorscale": {
           "diverging": [
            [
             0,
             "#8e0152"
            ],
            [
             0.1,
             "#c51b7d"
            ],
            [
             0.2,
             "#de77ae"
            ],
            [
             0.3,
             "#f1b6da"
            ],
            [
             0.4,
             "#fde0ef"
            ],
            [
             0.5,
             "#f7f7f7"
            ],
            [
             0.6,
             "#e6f5d0"
            ],
            [
             0.7,
             "#b8e186"
            ],
            [
             0.8,
             "#7fbc41"
            ],
            [
             0.9,
             "#4d9221"
            ],
            [
             1,
             "#276419"
            ]
           ],
           "sequential": [
            [
             0,
             "#0d0887"
            ],
            [
             0.1111111111111111,
             "#46039f"
            ],
            [
             0.2222222222222222,
             "#7201a8"
            ],
            [
             0.3333333333333333,
             "#9c179e"
            ],
            [
             0.4444444444444444,
             "#bd3786"
            ],
            [
             0.5555555555555556,
             "#d8576b"
            ],
            [
             0.6666666666666666,
             "#ed7953"
            ],
            [
             0.7777777777777778,
             "#fb9f3a"
            ],
            [
             0.8888888888888888,
             "#fdca26"
            ],
            [
             1,
             "#f0f921"
            ]
           ],
           "sequentialminus": [
            [
             0,
             "#0d0887"
            ],
            [
             0.1111111111111111,
             "#46039f"
            ],
            [
             0.2222222222222222,
             "#7201a8"
            ],
            [
             0.3333333333333333,
             "#9c179e"
            ],
            [
             0.4444444444444444,
             "#bd3786"
            ],
            [
             0.5555555555555556,
             "#d8576b"
            ],
            [
             0.6666666666666666,
             "#ed7953"
            ],
            [
             0.7777777777777778,
             "#fb9f3a"
            ],
            [
             0.8888888888888888,
             "#fdca26"
            ],
            [
             1,
             "#f0f921"
            ]
           ]
          },
          "colorway": [
           "#636efa",
           "#EF553B",
           "#00cc96",
           "#ab63fa",
           "#FFA15A",
           "#19d3f3",
           "#FF6692",
           "#B6E880",
           "#FF97FF",
           "#FECB52"
          ],
          "font": {
           "color": "#2a3f5f"
          },
          "geo": {
           "bgcolor": "white",
           "lakecolor": "white",
           "landcolor": "#E5ECF6",
           "showlakes": true,
           "showland": true,
           "subunitcolor": "white"
          },
          "hoverlabel": {
           "align": "left"
          },
          "hovermode": "closest",
          "mapbox": {
           "style": "light"
          },
          "paper_bgcolor": "white",
          "plot_bgcolor": "#E5ECF6",
          "polar": {
           "angularaxis": {
            "gridcolor": "white",
            "linecolor": "white",
            "ticks": ""
           },
           "bgcolor": "#E5ECF6",
           "radialaxis": {
            "gridcolor": "white",
            "linecolor": "white",
            "ticks": ""
           }
          },
          "scene": {
           "xaxis": {
            "backgroundcolor": "#E5ECF6",
            "gridcolor": "white",
            "gridwidth": 2,
            "linecolor": "white",
            "showbackground": true,
            "ticks": "",
            "zerolinecolor": "white"
           },
           "yaxis": {
            "backgroundcolor": "#E5ECF6",
            "gridcolor": "white",
            "gridwidth": 2,
            "linecolor": "white",
            "showbackground": true,
            "ticks": "",
            "zerolinecolor": "white"
           },
           "zaxis": {
            "backgroundcolor": "#E5ECF6",
            "gridcolor": "white",
            "gridwidth": 2,
            "linecolor": "white",
            "showbackground": true,
            "ticks": "",
            "zerolinecolor": "white"
           }
          },
          "shapedefaults": {
           "line": {
            "color": "#2a3f5f"
           }
          },
          "ternary": {
           "aaxis": {
            "gridcolor": "white",
            "linecolor": "white",
            "ticks": ""
           },
           "baxis": {
            "gridcolor": "white",
            "linecolor": "white",
            "ticks": ""
           },
           "bgcolor": "#E5ECF6",
           "caxis": {
            "gridcolor": "white",
            "linecolor": "white",
            "ticks": ""
           }
          },
          "title": {
           "x": 0.05
          },
          "xaxis": {
           "automargin": true,
           "gridcolor": "white",
           "linecolor": "white",
           "ticks": "",
           "title": {
            "standoff": 15
           },
           "zerolinecolor": "white",
           "zerolinewidth": 2
          },
          "yaxis": {
           "automargin": true,
           "gridcolor": "white",
           "linecolor": "white",
           "ticks": "",
           "title": {
            "standoff": 15
           },
           "zerolinecolor": "white",
           "zerolinewidth": 2
          }
         }
        },
        "title": {
         "text": "AI Microsoft"
        },
        "xaxis": {
         "anchor": "y",
         "domain": [
          0,
          1
         ],
         "range": [
          0,
          100
         ],
         "title": {
          "text": "% Percentage"
         }
        },
        "yaxis": {
         "anchor": "x",
         "domain": [
          0,
          1
         ],
         "title": {
          "text": "State"
         }
        }
       }
      }
     },
     "metadata": {},
     "output_type": "display_data"
    }
   ],
   "source": [
    "# Create the horizontal percentage bar chart\n",
    "fig = px.bar(df_ai, x='percentage', y='name', orientation='h')\n",
    "\n",
    "# Set the x-axis limit to 100\n",
    "fig.update_xaxes(range=[0, 100])\n",
    "\n",
    "# Customize the chart\n",
    "fig.update_traces(marker_color='skyblue', marker_line_color='black',\n",
    "                  marker_line_width=1.5, opacity=0.6)\n",
    "fig.update_layout(title='AI Microsoft',\n",
    "                  xaxis_title='% Percentage',\n",
    "                  yaxis_title='State',\n",
    "                  height=1000)\n",
    "\n",
    "# Display the chart\n",
    "fig.show()\n"
   ]
  },
  {
   "cell_type": "code",
   "execution_count": null,
   "metadata": {},
   "outputs": [],
   "source": []
  },
  {
   "cell_type": "code",
   "execution_count": null,
   "metadata": {},
   "outputs": [],
   "source": []
  }
 ],
 "metadata": {
  "kernelspec": {
   "display_name": "general_py_venv",
   "language": "python",
   "name": "python3"
  },
  "language_info": {
   "codemirror_mode": {
    "name": "ipython",
    "version": 3
   },
   "file_extension": ".py",
   "mimetype": "text/x-python",
   "name": "python",
   "nbconvert_exporter": "python",
   "pygments_lexer": "ipython3",
   "version": "3.10.7"
  },
  "orig_nbformat": 4
 },
 "nbformat": 4,
 "nbformat_minor": 2
}
