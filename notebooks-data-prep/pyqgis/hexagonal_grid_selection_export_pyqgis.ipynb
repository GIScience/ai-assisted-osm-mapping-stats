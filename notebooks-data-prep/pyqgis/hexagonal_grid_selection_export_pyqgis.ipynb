{
 "cells": [
  {
   "cell_type": "code",
   "execution_count": 1,
   "metadata": {},
   "outputs": [],
   "source": [
    "import os\n",
    "from qgis.core import (\n",
    "    QgsVectorLayer,\n",
    "    QgsProject,\n",
    "    QgsExpression,\n",
    "    QgsExpressionContext,\n",
    "    QgsFeatureRequest,\n",
    "    QgsGeometry,\n",
    "    QgsFeature,\n",
    "    \n",
    ")\n"
   ]
  },
  {
   "cell_type": "code",
   "execution_count": 2,
   "metadata": {},
   "outputs": [
    {
     "data": {
      "text/plain": [
       "'c:\\\\Users\\\\milan\\\\OneDrive - MUNI\\\\VŠ\\\\PhD\\\\Zahraniční stáž\\\\Work\\\\HeiGIT_notebooks\\\\analysis\\\\ai-assisted-osm-mapping-stats\\\\notebooks-data-prep'"
      ]
     },
     "execution_count": 2,
     "metadata": {},
     "output_type": "execute_result"
    }
   ],
   "source": [
    "os.getcwd()"
   ]
  },
  {
   "cell_type": "code",
   "execution_count": 3,
   "metadata": {},
   "outputs": [],
   "source": [
    "# Set the project home directory\n",
    "os.chdir(\"..\")\n",
    "home_wd = os.getcwd()"
   ]
  },
  {
   "cell_type": "code",
   "execution_count": 4,
   "metadata": {},
   "outputs": [],
   "source": [
    "state_dic = {\n",
    "    0: \"India\",\n",
    "    1: \"Vietnam\",\n",
    "    2: \"Tanzania\",\n",
    "    3: \"Kenya\",\n",
    "    4: \"Nigeria\",\n",
    "}"
   ]
  },
  {
   "cell_type": "code",
   "execution_count": 5,
   "metadata": {},
   "outputs": [],
   "source": [
    "while True:\n",
    "    try:\n",
    "        user_data_spec = int(input(\"Which grid data do you want to split?\\\n",
    "                            Enter a number:\\\n",
    "                            0 for India,\\\n",
    "                            1 for Vietnam,\\\n",
    "                            2 for Tanzania,\\\n",
    "                            3 for Kenya,\\\n",
    "                            4 for Nigeria,\\\n",
    "                                :\"\n",
    "                                ))\n",
    "    except ValueError:\n",
    "        print(\"Please enter a number.\")\n",
    "        continue\n",
    "    if user_data_spec not in range(len(state_dic)):\n",
    "        print(f\"Please enter one of these numbers: {state_dic.keys()}.\")\n",
    "        continue\n",
    "    break"
   ]
  },
  {
   "cell_type": "code",
   "execution_count": null,
   "metadata": {},
   "outputs": [],
   "source": []
  },
  {
   "cell_type": "code",
   "execution_count": 6,
   "metadata": {},
   "outputs": [],
   "source": [
    "# Define the input and output files\n",
    "in_grid = os.path.join(home_wd, \"shp\", \"origin_downloaded_layers\", \"heigit_hexagrid.shp\")\n",
    "in_states = os.path.join(home_wd, \"shp\", \"origin_downloaded_layers\", \"ne_10m_admin_0_sovereignty.shp\")\n",
    "out_grid_geojson = os.path.join(home_wd, \"geojson-hexagrid-states\", state_dic[user_data_spec])\n"
   ]
  },
  {
   "cell_type": "code",
   "execution_count": 8,
   "metadata": {},
   "outputs": [],
   "source": [
    "project = QgsProject.instance()"
   ]
  },
  {
   "cell_type": "code",
   "execution_count": 9,
   "metadata": {},
   "outputs": [],
   "source": [
    "# Create a QGIS vector layer from the input grid file\n",
    "grid_layer = QgsVectorLayer(in_grid, \"Grid\", \"ogr\")\n",
    "if not grid_layer.isValid():\n",
    "    print(\"Grid layer not valid!\")\n",
    "    exit()"
   ]
  },
  {
   "cell_type": "code",
   "execution_count": 10,
   "metadata": {},
   "outputs": [],
   "source": [
    "# Create a QGIS vector layer from the input states file\n",
    "state_layer = QgsVectorLayer(in_states, \"States\", \"ogr\")\n",
    "if not state_layer.isValid():\n",
    "    print(\"State layer not valid!\")\n",
    "    exit()"
   ]
  },
  {
   "cell_type": "code",
   "execution_count": 11,
   "metadata": {},
   "outputs": [
    {
     "data": {
      "text/plain": [
       "<QgsVectorLayer: 'States' (ogr)>"
      ]
     },
     "execution_count": 11,
     "metadata": {},
     "output_type": "execute_result"
    }
   ],
   "source": [
    "project.addMapLayer(grid_layer)\n",
    "project.addMapLayer(state_layer)"
   ]
  },
  {
   "cell_type": "code",
   "execution_count": 12,
   "metadata": {},
   "outputs": [],
   "source": [
    "# Define the state to be processed\n",
    "state_name = state_dic[user_data_spec]"
   ]
  },
  {
   "cell_type": "code",
   "execution_count": 13,
   "metadata": {},
   "outputs": [],
   "source": [
    "# Create an expression to select the desired state\n",
    "# exp_context = QgsExpressionContext()\n",
    "# exp_context.appendScopes(QgsExpressionContextUtils.globalProjectLayerScopes(state_layer))\n",
    "# exp_context.appendScopes(QgsExpressionContextUtils.projectScopes())\n",
    "# exp_context.setVariable(\"state_name\", state_name)\n",
    "state_exp = QgsExpression('NAME_EN = \\'' + state_dic[user_data_spec] + '\\'')\n",
    "# state_exp.prepare(exp_context)"
   ]
  },
  {
   "cell_type": "code",
   "execution_count": 14,
   "metadata": {},
   "outputs": [
    {
     "data": {
      "text/plain": [
       "\"NAME_EN = 'Tanzania'\""
      ]
     },
     "execution_count": 14,
     "metadata": {},
     "output_type": "execute_result"
    }
   ],
   "source": [
    "state_exp.expression()"
   ]
  },
  {
   "cell_type": "code",
   "execution_count": 15,
   "metadata": {},
   "outputs": [],
   "source": [
    "state_layer.selectByExpression(state_exp.expression(), QgsVectorLayer.SetSelection)"
   ]
  },
  {
   "cell_type": "code",
   "execution_count": 16,
   "metadata": {},
   "outputs": [
    {
     "data": {
      "text/plain": [
       "1"
      ]
     },
     "execution_count": 16,
     "metadata": {},
     "output_type": "execute_result"
    }
   ],
   "source": [
    "state_layer.selectedFeatureCount()"
   ]
  },
  {
   "cell_type": "code",
   "execution_count": 16,
   "metadata": {},
   "outputs": [],
   "source": [
    "# Create an empty list to store the selected grid features\n",
    "selected_features = []"
   ]
  },
  {
   "cell_type": "code",
   "execution_count": 18,
   "metadata": {},
   "outputs": [],
   "source": [
    "# Iterate through the selected state features and select the corresponding grid features\n",
    "for state_feat in state_layer.selectedFeatures():\n",
    "    state_geom = state_feat.geometry()\n",
    "    grid_request = QgsFeatureRequest().setFilterRect(state_geom.boundingBox())\n",
    "    for grid_feat in grid_layer.getFeatures(grid_request):\n",
    "        if grid_feat.geometry().intersects(state_geom):\n",
    "            selected_features.append(grid_feat)"
   ]
  },
  {
   "cell_type": "code",
   "execution_count": 17,
   "metadata": {},
   "outputs": [
    {
     "ename": "AttributeError",
     "evalue": "'QgsVectorLayer' object has no attribute 'geometry'",
     "output_type": "error",
     "traceback": [
      "\u001b[1;31m---------------------------------------------------------------------------\u001b[0m",
      "\u001b[1;31mAttributeError\u001b[0m                            Traceback (most recent call last)",
      "Cell \u001b[1;32mIn[17], line 1\u001b[0m\n\u001b[1;32m----> 1\u001b[0m state_geom \u001b[39m=\u001b[39m state_layer\u001b[39m.\u001b[39;49mgeometry()\n\u001b[0;32m      2\u001b[0m grid_request \u001b[39m=\u001b[39m QgsFeatureRequest()\u001b[39m.\u001b[39msetFilterRect(state_geom\u001b[39m.\u001b[39mboundingBox())\n\u001b[0;32m      3\u001b[0m \u001b[39mfor\u001b[39;00m grid_feat \u001b[39min\u001b[39;00m grid_layer\u001b[39m.\u001b[39mgetFeatures(grid_request):\n",
      "\u001b[1;31mAttributeError\u001b[0m: 'QgsVectorLayer' object has no attribute 'geometry'"
     ]
    }
   ],
   "source": [
    "state_geom = state_layer.geometry()\n",
    "grid_request = QgsFeatureRequest().setFilterRect(state_geom.boundingBox())\n",
    "for grid_feat in grid_layer.getFeatures(grid_request):\n",
    "    if grid_feat.geometry().intersects(state_geom):\n",
    "        selected_features.append(grid_feat)"
   ]
  },
  {
   "cell_type": "code",
   "execution_count": 19,
   "metadata": {},
   "outputs": [],
   "source": [
    "state_bbox = state_layer.extent()\n",
    "grid_request = QgsFeatureRequest().setFilterRect(state_bbox)\n",
    "for grid_feat in grid_layer.getFeatures(grid_request):\n",
    "    if grid_feat.geometry().intersects(state_bbox):\n",
    "        selected_features.append(grid_feat)"
   ]
  },
  {
   "cell_type": "code",
   "execution_count": 20,
   "metadata": {},
   "outputs": [
    {
     "data": {
      "text/plain": [
       "[]"
      ]
     },
     "execution_count": 20,
     "metadata": {},
     "output_type": "execute_result"
    }
   ],
   "source": [
    "selected_features"
   ]
  },
  {
   "cell_type": "code",
   "execution_count": 21,
   "metadata": {},
   "outputs": [],
   "source": [
    "# Iterate through the selected grid features and export them to GeoJSON files\n",
    "for grid_feat in selected_features:\n",
    "    grid_geom = grid_feat.geometry()\n",
    "    grid_id = grid_feat[\"id_int\"]\n",
    "    out_file = os.path.join(out_grid_geojson, f\"{grid_id}_{state_name}.geojson\")\n",
    "    with open(out_file, \"w\") as f:\n",
    "        f.write(grid_geom.asJson())"
   ]
  },
  {
   "cell_type": "code",
   "execution_count": null,
   "metadata": {},
   "outputs": [],
   "source": []
  }
 ],
 "metadata": {
  "kernelspec": {
   "display_name": "pyqgis_venv",
   "language": "python",
   "name": "python3"
  },
  "language_info": {
   "codemirror_mode": {
    "name": "ipython",
    "version": 3
   },
   "file_extension": ".py",
   "mimetype": "text/x-python",
   "name": "python",
   "nbconvert_exporter": "python",
   "pygments_lexer": "ipython3",
   "version": "3.9.16"
  },
  "orig_nbformat": 4
 },
 "nbformat": 4,
 "nbformat_minor": 2
}
