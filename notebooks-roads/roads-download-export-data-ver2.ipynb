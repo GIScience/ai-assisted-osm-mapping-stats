{
 "cells": [
  {
   "attachments": {},
   "cell_type": "markdown",
   "metadata": {},
   "source": [
    "# Download the roads data"
   ]
  },
  {
   "attachments": {},
   "cell_type": "markdown",
   "metadata": {},
   "source": [
    "Question: How many m/km of roads were mapped with RapID in selected region?"
   ]
  },
  {
   "attachments": {},
   "cell_type": "markdown",
   "metadata": {},
   "source": [
    "#### Import libs"
   ]
  },
  {
   "cell_type": "code",
   "execution_count": 1,
   "metadata": {},
   "outputs": [],
   "source": [
    "import json\n",
    "import os\n",
    "import requests\n",
    "import glob\n",
    "from tqdm import tqdm\n",
    "import time"
   ]
  },
  {
   "attachments": {},
   "cell_type": "markdown",
   "metadata": {},
   "source": [
    "### Get the data for every specified region"
   ]
  },
  {
   "attachments": {},
   "cell_type": "markdown",
   "metadata": {},
   "source": [
    "#### Definitions"
   ]
  },
  {
   "cell_type": "code",
   "execution_count": 2,
   "metadata": {},
   "outputs": [],
   "source": [
    "os.chdir('..')\n"
   ]
  },
  {
   "cell_type": "code",
   "execution_count": 3,
   "metadata": {},
   "outputs": [
    {
     "data": {
      "text/plain": [
       "['geojson-africa-states',\n",
       " 'geojson-africa-test-states',\n",
       " 'geojson-asia-states',\n",
       " 'geojson-continent-states',\n",
       " 'geojson-europe-states',\n",
       " 'geojson-northamerica-states',\n",
       " 'geojson-world-states-ohsome',\n",
       " 'geojson-world-states']"
      ]
     },
     "execution_count": 3,
     "metadata": {},
     "output_type": "execute_result"
    }
   ],
   "source": [
    "def get_geojson_names():\n",
    "\n",
    "    home_dir = os.getcwd()\n",
    "    geojson_dir = os.path.join(home_dir, f\"geojson-regions\", \"\")\n",
    "\n",
    "    # Construct the file pattern\n",
    "    file_pattern = os.path.join(geojson_dir, '*.geojson')\n",
    "    # print(file_pattern)\n",
    "\n",
    "    # Use glob to get the list of file names matching the pattern\n",
    "    file_names = glob.glob(file_pattern)\n",
    "    # print(file_names)\n",
    "\n",
    "    # Extract the base names of the files without the extension\n",
    "    names = [os.path.splitext(os.path.basename(file_name))[0]\n",
    "            for file_name in file_names]\n",
    "    # print(names)\n",
    "    # Print the names\n",
    "\n",
    "    return names\n",
    "    \n",
    "\n",
    "geojson_names = get_geojson_names()\n",
    "geojson_names\n"
   ]
  },
  {
   "cell_type": "code",
   "execution_count": 4,
   "metadata": {},
   "outputs": [
    {
     "data": {
      "text/plain": [
       "{0: 'geojson-africa-states',\n",
       " 1: 'geojson-africa-test-states',\n",
       " 2: 'geojson-asia-states',\n",
       " 3: 'geojson-continent-states',\n",
       " 4: 'geojson-europe-states',\n",
       " 5: 'geojson-northamerica-states',\n",
       " 6: 'geojson-world-states-ohsome',\n",
       " 7: 'geojson-world-states'}"
      ]
     },
     "execution_count": 4,
     "metadata": {},
     "output_type": "execute_result"
    }
   ],
   "source": [
    "geojson_dic = {k: v for k, v in enumerate(geojson_names)}\n",
    "geojson_dic\n"
   ]
  },
  {
   "cell_type": "code",
   "execution_count": 5,
   "metadata": {},
   "outputs": [
    {
     "name": "stdout",
     "output_type": "stream",
     "text": [
      "Dictionary is not empty\n"
     ]
    }
   ],
   "source": [
    "if bool(geojson_dic):\n",
    "    print(\"Dictionary is not empty\")"
   ]
  },
  {
   "cell_type": "code",
   "execution_count": 6,
   "metadata": {},
   "outputs": [],
   "source": [
    "# define the user input\n",
    "\n",
    "while True:\n",
    "    if bool(geojson_dic):\n",
    "        try:\n",
    "            user_d_spec = int(input(f\"Which data do you want to download?\\\n",
    "                                Enter {geojson_dic}\"\n",
    "                                    ))\n",
    "        except ValueError:\n",
    "            print(\"Please enter a number.\")\n",
    "            continue\n",
    "        if user_d_spec not in range(len(geojson_dic)):\n",
    "            print(f\"Please enter {len(geojson_dic.keys())}\")\n",
    "            continue\n",
    "        break\n",
    "    else:\n",
    "        print(\"Geojson_dic is empty, restart the kernel, please.\")\n",
    "        break\n",
    "\n",
    "while True:\n",
    "    try:\n",
    "        user_d_format = int(input(\"Which data format do you want to export?\\\n",
    "                            Enter 0 for json format\\\n",
    "                            or 1 for geojson format\"\n",
    "                                ))\n",
    "    except ValueError:\n",
    "        print(\"Please enter a number.\")\n",
    "        continue\n",
    "    if user_d_format not in range(0, 2):\n",
    "        print(\"Please enter 0 or 1.\")\n",
    "        continue\n",
    "    break\n"
   ]
  },
  {
   "cell_type": "code",
   "execution_count": 7,
   "metadata": {},
   "outputs": [],
   "source": [
    "desired_countries = [\"USA\", \"NGA\", \"VNM\", \"IND\", \"DEU\", \"CZE\"]\n"
   ]
  },
  {
   "cell_type": "code",
   "execution_count": 8,
   "metadata": {},
   "outputs": [],
   "source": [
    "# define the functions\n",
    "\n",
    "def convert_geojson_structure(original_dict):\n",
    "    \"\"\"Convert the GeoJSON structure to the structure required by the API.\"\"\"\n",
    "\n",
    "    new_dict = {}\n",
    "    new_dict[\"type\"] = \"FeatureCollection\"\n",
    "    new_dict[\"features\"] = []\n",
    "\n",
    "    feature_dict = {}\n",
    "    feature_dict[\"type\"] = \"Feature\"\n",
    "    feature_dict[\"geometry\"] = {}\n",
    "    feature_dict[\"geometry\"][\"type\"] = \"MultiPolygon\"\n",
    "\n",
    "    new_dict[\"features\"].append(feature_dict)\n",
    "\n",
    "    feature_dict[\"geometry\"][\"coordinates\"] = original_dict[\"geometry\"][\"coordinates\"]\n",
    "    # feature_dict[\"geometry\"][\"type\"] = \"MultiPolygon\"\n",
    "    feature_dict[\"properties\"] = original_dict[\"properties\"]\n",
    "\n",
    "    return new_dict\n",
    "\n",
    "\n",
    "# append desired properties\n",
    "def append_properties(result, desired_geojson_structure):\n",
    "    \"\"\"Add the desired properties to the result of the API call.\"\"\"\n",
    "\n",
    "    desired_properties = [\"ADM0_ISO\", \"SOVEREIGNT\",\n",
    "                          \"TYPE\", \"ADMIN\", \"GEOUNIT\", \"NAME\", \"NE_ID\",\n",
    "                          \"POP_EST\", \"POP_RANK\", \"POP_YEAR\", \"GDP_MD\", \"GDP_YEAR\",\n",
    "                          \"ECONOMY\", \"INCOME_GRP\", \"CONTINENT\", \"REGION_UN\", \"SUBREGION\", \"REGION_WB\"]\n",
    "\n",
    "    for region in result:\n",
    "        region[\"groupByObject\"][0] = desired_geojson_structure[\"features\"][0][\"properties\"][\"NAME_EN\"]\n",
    "\n",
    "        for property in desired_properties:\n",
    "            region[\"groupByObject\"].append(desired_geojson_structure[\"features\"][0][\"properties\"][property])\n",
    "\n",
    "    return result\n",
    "\n",
    "def data_gen(feature):\n",
    "    \"\"\" Get data from the API.\"\"\"\n",
    "\n",
    "    desired_geojson_structure = convert_geojson_structure(feature)\n",
    "\n",
    "    parameters = {\n",
    "        \"bpolys\": json.dumps(desired_geojson_structure),  # pass GeoJSON as string.\n",
    "        \"filter\": \"type: way and (highway in (motorway,\\\n",
    "                                              motorway_link, trunk, trunk_link,\\\n",
    "                                              primary, primary_link, secondary,\\\n",
    "                                              secondary_link, tertiary,\\\n",
    "                                              tertiary_link, unclassified,\\\n",
    "                                              residential, living_street, pedestrian, footway, cycleway, track, path)\\\n",
    "                                  or (highway=service and service=alley))\",\n",
    "        \"groupByKey\": \"source\",\n",
    "        \"groupByValues\": \"maxar\",\n",
    "        \"format\": \"json\",\n",
    "        \"time\": \"2018-01-01/2023-01-01/P1Y\",\n",
    "    }\n",
    "    headers = {\n",
    "        \"accept\": \"application/json\",\n",
    "        \"Content-Type\": \"application/x-www-form-urlencoded\",\n",
    "    }\n",
    "\n",
    "    for value in parameters.values():\n",
    "        assert value != \"\", \"Please provide values for the parameters\"\n",
    "\n",
    "    while True:\n",
    "        try:\n",
    "            response = requests.post(url, data=parameters, headers=headers)\n",
    "            response.raise_for_status()  # Raise an Exception if HTTP Status Code is not 200\n",
    "\n",
    "            # print(\"Response:\")\n",
    "            # print(desired_geojson_structure[\"features\"][0][\"properties\"][\"NAME_EN\"])\n",
    "            # print(json.dumps(response.json(), indent=4))  # Pretty print response\n",
    "\n",
    "            result = response.json()[\"groupByResult\"]\n",
    "\n",
    "            # for region in result:\n",
    "            #     region[\"groupByObject\"][0] = desired_geojson_structure[\"features\"][0][\"properties\"][\"NAME_EN\"]\n",
    "\n",
    "            fin_res = append_properties(result, desired_geojson_structure)\n",
    "\n",
    "            # print(json.dumps(fin_res, indent=4))  # Pretty print response\n",
    "            return fin_res\n",
    "\n",
    "        \n",
    "        except requests.exceptions.RequestException:\n",
    "            # Wi-Fi connection error occurred, wait for connection to be restored\n",
    "            print(\"Waiting for Wi-Fi connection to be restored...\")\n",
    "            time.sleep(5)  # Wait for 5 seconds\n",
    "            continue  # Continue to the next iteration of the loop\n",
    "\n",
    "# longer version of the function\n",
    "# def connect_feat_data(feature, data):\n",
    "\n",
    "#     # Find the relevant value in data\n",
    "#     rem_value_to_add = None\n",
    "#     for elem in data:\n",
    "#         if elem['groupByObject'][1] == 'remainder':\n",
    "#             for result in elem['result']:\n",
    "#                 if result['timestamp'] == '2023-01-01T00:00:00Z':\n",
    "#                     rem_value_to_add = result['value']\n",
    "#                     break\n",
    "#             break\n",
    "\n",
    "\n",
    "#     ai_value_to_add = None\n",
    "#     for elem in data:\n",
    "#         if elem['groupByObject'][1] == 'source=maxar':\n",
    "#             for result in elem['result']:\n",
    "#                 if result['timestamp'] == '2023-01-01T00:00:00Z':\n",
    "#                     ai_value_to_add = result['value']\n",
    "#                     break\n",
    "#             break\n",
    "#     # return value_to_add\n",
    "\n",
    "\n",
    "#     roads_total = None\n",
    "#     roads_total = rem_value_to_add + ai_value_to_add\n",
    "\n",
    "#     # Calculate the AI percentage\n",
    "#     ai_percentage = None\n",
    "#     ai_percentage = (ai_value_to_add / (ai_value_to_add + rem_value_to_add)) * 100\n",
    "    \n",
    "#     # Add the value to the properties of feature\n",
    "#     if rem_value_to_add is not None:\n",
    "#         feature['properties']['mm_roads_2023'] = rem_value_to_add\n",
    "\n",
    "#     if ai_value_to_add is not None:\n",
    "#         feature['properties']['ai_roads_2023'] = ai_value_to_add\n",
    "\n",
    "#     if roads_total is not None:\n",
    "#         feature['properties']['roads_total'] = roads_total\n",
    "\n",
    "#     if ai_percentage is not None:\n",
    "#         feature['properties']['ai_percentage'] = ai_percentage\n",
    "\n",
    "#     return feature\n",
    "\n",
    "\n",
    "def connect_feat_data(feature, data):\n",
    "    \"\"\"Connects the data to the feature of the GeoJSON file\"\"\"\n",
    "\n",
    "    rem_value_to_add = None\n",
    "    ai_value_to_add = None\n",
    "\n",
    "    for elem in data:\n",
    "        if elem['groupByObject'][1] == 'remainder':\n",
    "            rem_value_to_add = find_value(elem, '2023-01-01T00:00:00Z')\n",
    "        elif elem['groupByObject'][1] == 'source=maxar':\n",
    "            ai_value_to_add = find_value(elem, '2023-01-01T00:00:00Z')\n",
    "\n",
    "    roads_total = rem_value_to_add + ai_value_to_add\\\n",
    "        if rem_value_to_add is not None and ai_value_to_add is not None else None\n",
    "    ai_percentage = (ai_value_to_add / (ai_value_to_add + rem_value_to_add)) * 100\\\n",
    "        if rem_value_to_add is not None and ai_value_to_add is not None else None\n",
    "\n",
    "    if rem_value_to_add is not None:\n",
    "        feature['properties']['mm_roads_2023'] = rem_value_to_add\n",
    "\n",
    "    if ai_value_to_add is not None:\n",
    "        feature['properties']['ai_roads_2023'] = ai_value_to_add\n",
    "\n",
    "    if roads_total is not None:\n",
    "        feature['properties']['roads_total'] = roads_total\n",
    "\n",
    "    if ai_percentage is not None:\n",
    "        feature['properties']['ai_percentage'] = ai_percentage\n",
    "\n",
    "    return feature\n",
    "\n",
    "\n",
    "def find_value(elem, timestamp):\n",
    "    for result in elem['result']:\n",
    "        if result['timestamp'] == timestamp:\n",
    "            return result['value']\n",
    "    return None\n",
    "\n",
    "\n",
    "def return_json_data():\n",
    "\n",
    "    data = []\n",
    "\n",
    "    features = bpolys[\"features\"]\n",
    "\n",
    "    # data = [data_gen(feature) for feature in bpolys[\"features\"] if feature[\"properties\"][\"ADM0_ISO\"] in desired_countries]\n",
    "    # for country in desired_countries:\n",
    "    for i, feature in tqdm(enumerate(features), total=len(features)):\n",
    "        # if feature[\"properties\"][\"ADM0_ISO\"] in desired_countries:\n",
    "        obtained_data = data_gen(feature)\n",
    "        # print(data)\n",
    "\n",
    "        data.append(obtained_data)\n",
    "\n",
    "    return data\n",
    "\n",
    "\n",
    "def return_geojson_data():\n",
    "\n",
    "    data = []\n",
    "\n",
    "    features = bpolys[\"features\"]\n",
    "    for i, feature in tqdm(enumerate(features), total=len(features)):\n",
    "\n",
    "        obtained_data = data_gen(feature)\n",
    "        # print(data)\n",
    "        feat_with_data = connect_feat_data(feature, obtained_data)\n",
    "        # print(feat_with_data)\n",
    "        # print(feature)\n",
    "        data.append(feat_with_data)\n",
    "\n",
    "    return data\n",
    "\n",
    "# export the data\n",
    "\n",
    "\n",
    "def export_data_as_json(name, data):\n",
    "    with open(f\"downloaded-data-json\\\\roads_{name}.json\", \"w\") as file:\n",
    "        json.dump(data, file, indent=4)\n",
    "\n",
    "\n",
    "# export_data_as_json(data_dic[user_d_spec], return_json_data)\n",
    "\n",
    "\n",
    "def export_data_as_geojson(name, data):\n",
    "\n",
    "    # Define the filename for the GeoJSON file\n",
    "    filename = f'roads_{name}.geojson'\n",
    "\n",
    "    # Create a FeatureCollection from the structure\n",
    "    feature_collection = {\n",
    "        'type': 'FeatureCollection',\n",
    "        'features': data\n",
    "    }\n",
    "\n",
    "    # Write the FeatureCollection to a GeoJSON file\n",
    "    with open(f\"downloaded-data-geojson\\\\{filename}\", 'w') as file:\n",
    "        json.dump(feature_collection, file, indent=4)\n",
    "\n",
    "\n",
    "# export_data_as_geojson(data_dic[user_d_spec], return_geojson_data)\n"
   ]
  },
  {
   "cell_type": "code",
   "execution_count": 9,
   "metadata": {},
   "outputs": [],
   "source": [
    "# define the URL\n",
    "\n",
    "base_url = \"https://api.ohsome.org/v1\"\n",
    "endpoint = \"/elements/count/groupBy/boundary/groupBy/tag\"\n",
    "url = base_url + endpoint"
   ]
  },
  {
   "attachments": {},
   "cell_type": "markdown",
   "metadata": {},
   "source": [
    "#### Get the data"
   ]
  },
  {
   "cell_type": "code",
   "execution_count": 10,
   "metadata": {},
   "outputs": [],
   "source": [
    "# read geojson data\n",
    "\n",
    "# os.chdir('..')\n",
    "# home_wd = os.getcwd()\n",
    "# downloaded_data_geojson_dir = os.path.join(home_wd, \"downloaded-data-geojson\", \"\")\n",
    "\n",
    "with open(f\"geojson-regions\\\\{geojson_dic[user_d_spec]}.geojson\", \"r\") as file:\n",
    "    bpolys = json.load(file)\n"
   ]
  },
  {
   "cell_type": "code",
   "execution_count": 11,
   "metadata": {},
   "outputs": [],
   "source": [
    "# convert_geojson_structure(bpolys[\"features\"][3])\n"
   ]
  },
  {
   "cell_type": "code",
   "execution_count": 12,
   "metadata": {},
   "outputs": [
    {
     "name": "stderr",
     "output_type": "stream",
     "text": [
      "  0%|          | 0/2 [00:00<?, ?it/s]"
     ]
    }
   ],
   "source": [
    "json_data = []\n",
    "geojson_data = []\n",
    "\n",
    "if user_d_format == 0:\n",
    "    obtained_json_data = return_json_data()\n",
    "    json_data.extend(obtained_json_data)\n",
    "    export_data_as_json(geojson_dic[user_d_spec], obtained_json_data)\n",
    "else:\n",
    "    obtained_geojson_data = return_geojson_data()\n",
    "    geojson_data.extend(obtained_geojson_data)\n",
    "    export_data_as_geojson(geojson_dic[user_d_spec], obtained_geojson_data)\n"
   ]
  },
  {
   "cell_type": "code",
   "execution_count": null,
   "metadata": {},
   "outputs": [],
   "source": [
    "# import pandas as pd"
   ]
  },
  {
   "cell_type": "code",
   "execution_count": null,
   "metadata": {},
   "outputs": [],
   "source": [
    "# d = {\n",
    "#     \"feature\": [],\n",
    "#     \"source\": [],\n",
    "#     \"timestamp\": [],\n",
    "#     \"value\": []\n",
    "# }\n",
    "\n",
    "# for region in json_data:\n",
    "#     for dic1 in region:\n",
    "#         feature, source = dic1[\"groupByObject\"][0], dic1[\"groupByObject\"][1]\n",
    "#         for res in dic1[\"result\"]:\n",
    "#             d[\"feature\"].append(feature)\n",
    "#             d[\"source\"].append(source)\n",
    "#             d[\"timestamp\"].append(res[\"timestamp\"])\n",
    "#             d[\"value\"].append(res[\"value\"])\n",
    "\n",
    "# df = pd.DataFrame(d)\n"
   ]
  },
  {
   "cell_type": "code",
   "execution_count": null,
   "metadata": {},
   "outputs": [],
   "source": [
    "# \n",
    "# df"
   ]
  },
  {
   "cell_type": "code",
   "execution_count": null,
   "metadata": {},
   "outputs": [],
   "source": []
  }
 ],
 "metadata": {
  "kernelspec": {
   "display_name": "general_py_venv",
   "language": "python",
   "name": "python3"
  },
  "language_info": {
   "codemirror_mode": {
    "name": "ipython",
    "version": 3
   },
   "file_extension": ".py",
   "mimetype": "text/x-python",
   "name": "python",
   "nbconvert_exporter": "python",
   "pygments_lexer": "ipython3",
   "version": "3.10.7"
  },
  "orig_nbformat": 4
 },
 "nbformat": 4,
 "nbformat_minor": 2
}
