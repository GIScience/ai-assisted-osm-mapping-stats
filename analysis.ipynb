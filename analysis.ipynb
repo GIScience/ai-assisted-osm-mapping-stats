{
 "cells": [
  {
   "attachments": {},
   "cell_type": "markdown",
   "metadata": {},
   "source": [
    "# Analysis"
   ]
  },
  {
   "attachments": {},
   "cell_type": "markdown",
   "metadata": {},
   "source": [
    "### Request the ohsome API"
   ]
  },
  {
   "attachments": {},
   "cell_type": "markdown",
   "metadata": {},
   "source": [
    "Question: How many buildings were mapped with RapID (Microsoft buildings) in every country?"
   ]
  },
  {
   "attachments": {},
   "cell_type": "markdown",
   "metadata": {},
   "source": [
    "#### Import libs"
   ]
  },
  {
   "cell_type": "code",
   "execution_count": 29,
   "metadata": {},
   "outputs": [],
   "source": [
    "import json\n",
    "import os\n",
    "import requests\n",
    "import pandas as pd\n",
    "import seaborn as sns\n"
   ]
  },
  {
   "attachments": {},
   "cell_type": "markdown",
   "metadata": {},
   "source": [
    "### Get the data for required region"
   ]
  },
  {
   "cell_type": "code",
   "execution_count": 2,
   "metadata": {},
   "outputs": [
    {
     "name": "stdout",
     "output_type": "stream",
     "text": [
      "Response:\n",
      "{\n",
      "    \"attribution\": {\n",
      "        \"url\": \"https://ohsome.org/copyrights\",\n",
      "        \"text\": \"\\u00a9 OpenStreetMap contributors\"\n",
      "    },\n",
      "    \"apiVersion\": \"1.9.0\",\n",
      "    \"groupByResult\": [\n",
      "        {\n",
      "            \"groupByObject\": [\n",
      "                \"feature1\",\n",
      "                \"remainder\"\n",
      "            ],\n",
      "            \"result\": [\n",
      "                {\n",
      "                    \"timestamp\": \"2020-01-01T00:00:00Z\",\n",
      "                    \"value\": 395155.0\n",
      "                },\n",
      "                {\n",
      "                    \"timestamp\": \"2021-01-01T00:00:00Z\",\n",
      "                    \"value\": 470680.0\n",
      "                },\n",
      "                {\n",
      "                    \"timestamp\": \"2022-01-01T00:00:00Z\",\n",
      "                    \"value\": 629701.0\n",
      "                },\n",
      "                {\n",
      "                    \"timestamp\": \"2023-01-01T00:00:00Z\",\n",
      "                    \"value\": 753591.0\n",
      "                }\n",
      "            ]\n",
      "        },\n",
      "        {\n",
      "            \"groupByObject\": [\n",
      "                \"feature1\",\n",
      "                \"source=microsoft/BuildingFootprints\"\n",
      "            ],\n",
      "            \"result\": [\n",
      "                {\n",
      "                    \"timestamp\": \"2020-01-01T00:00:00Z\",\n",
      "                    \"value\": 0.0\n",
      "                },\n",
      "                {\n",
      "                    \"timestamp\": \"2021-01-01T00:00:00Z\",\n",
      "                    \"value\": 0.0\n",
      "                },\n",
      "                {\n",
      "                    \"timestamp\": \"2022-01-01T00:00:00Z\",\n",
      "                    \"value\": 0.0\n",
      "                },\n",
      "                {\n",
      "                    \"timestamp\": \"2023-01-01T00:00:00Z\",\n",
      "                    \"value\": 6327.0\n",
      "                }\n",
      "            ]\n",
      "        },\n",
      "        {\n",
      "            \"groupByObject\": [\n",
      "                \"feature2\",\n",
      "                \"remainder\"\n",
      "            ],\n",
      "            \"result\": [\n",
      "                {\n",
      "                    \"timestamp\": \"2020-01-01T00:00:00Z\",\n",
      "                    \"value\": 1901742.0\n",
      "                },\n",
      "                {\n",
      "                    \"timestamp\": \"2021-01-01T00:00:00Z\",\n",
      "                    \"value\": 2359155.0\n",
      "                },\n",
      "                {\n",
      "                    \"timestamp\": \"2022-01-01T00:00:00Z\",\n",
      "                    \"value\": 2605641.0\n",
      "                },\n",
      "                {\n",
      "                    \"timestamp\": \"2023-01-01T00:00:00Z\",\n",
      "                    \"value\": 3974450.0\n",
      "                }\n",
      "            ]\n",
      "        },\n",
      "        {\n",
      "            \"groupByObject\": [\n",
      "                \"feature2\",\n",
      "                \"source=microsoft/BuildingFootprints\"\n",
      "            ],\n",
      "            \"result\": [\n",
      "                {\n",
      "                    \"timestamp\": \"2020-01-01T00:00:00Z\",\n",
      "                    \"value\": 0.0\n",
      "                },\n",
      "                {\n",
      "                    \"timestamp\": \"2021-01-01T00:00:00Z\",\n",
      "                    \"value\": 12.0\n",
      "                },\n",
      "                {\n",
      "                    \"timestamp\": \"2022-01-01T00:00:00Z\",\n",
      "                    \"value\": 59.0\n",
      "                },\n",
      "                {\n",
      "                    \"timestamp\": \"2023-01-01T00:00:00Z\",\n",
      "                    \"value\": 853292.0\n",
      "                }\n",
      "            ]\n",
      "        },\n",
      "        {\n",
      "            \"groupByObject\": [\n",
      "                \"feature3\",\n",
      "                \"remainder\"\n",
      "            ],\n",
      "            \"result\": [\n",
      "                {\n",
      "                    \"timestamp\": \"2020-01-01T00:00:00Z\",\n",
      "                    \"value\": 1042953.0\n",
      "                },\n",
      "                {\n",
      "                    \"timestamp\": \"2021-01-01T00:00:00Z\",\n",
      "                    \"value\": 1221037.0\n",
      "                },\n",
      "                {\n",
      "                    \"timestamp\": \"2022-01-01T00:00:00Z\",\n",
      "                    \"value\": 1653908.0\n",
      "                },\n",
      "                {\n",
      "                    \"timestamp\": \"2023-01-01T00:00:00Z\",\n",
      "                    \"value\": 1788605.0\n",
      "                }\n",
      "            ]\n",
      "        },\n",
      "        {\n",
      "            \"groupByObject\": [\n",
      "                \"feature3\",\n",
      "                \"source=microsoft/BuildingFootprints\"\n",
      "            ],\n",
      "            \"result\": [\n",
      "                {\n",
      "                    \"timestamp\": \"2020-01-01T00:00:00Z\",\n",
      "                    \"value\": 0.0\n",
      "                },\n",
      "                {\n",
      "                    \"timestamp\": \"2021-01-01T00:00:00Z\",\n",
      "                    \"value\": 0.0\n",
      "                },\n",
      "                {\n",
      "                    \"timestamp\": \"2022-01-01T00:00:00Z\",\n",
      "                    \"value\": 0.0\n",
      "                },\n",
      "                {\n",
      "                    \"timestamp\": \"2023-01-01T00:00:00Z\",\n",
      "                    \"value\": 0.0\n",
      "                }\n",
      "            ]\n",
      "        },\n",
      "        {\n",
      "            \"groupByObject\": [\n",
      "                \"feature4\",\n",
      "                \"remainder\"\n",
      "            ],\n",
      "            \"result\": [\n",
      "                {\n",
      "                    \"timestamp\": \"2020-01-01T00:00:00Z\",\n",
      "                    \"value\": 4497561.0\n",
      "                },\n",
      "                {\n",
      "                    \"timestamp\": \"2021-01-01T00:00:00Z\",\n",
      "                    \"value\": 5806016.0\n",
      "                },\n",
      "                {\n",
      "                    \"timestamp\": \"2022-01-01T00:00:00Z\",\n",
      "                    \"value\": 6799594.0\n",
      "                },\n",
      "                {\n",
      "                    \"timestamp\": \"2023-01-01T00:00:00Z\",\n",
      "                    \"value\": 7694315.0\n",
      "                }\n",
      "            ]\n",
      "        },\n",
      "        {\n",
      "            \"groupByObject\": [\n",
      "                \"feature4\",\n",
      "                \"source=microsoft/BuildingFootprints\"\n",
      "            ],\n",
      "            \"result\": [\n",
      "                {\n",
      "                    \"timestamp\": \"2020-01-01T00:00:00Z\",\n",
      "                    \"value\": 0.0\n",
      "                },\n",
      "                {\n",
      "                    \"timestamp\": \"2021-01-01T00:00:00Z\",\n",
      "                    \"value\": 68507.0\n",
      "                },\n",
      "                {\n",
      "                    \"timestamp\": \"2022-01-01T00:00:00Z\",\n",
      "                    \"value\": 68656.0\n",
      "                },\n",
      "                {\n",
      "                    \"timestamp\": \"2023-01-01T00:00:00Z\",\n",
      "                    \"value\": 69237.0\n",
      "                }\n",
      "            ]\n",
      "        }\n",
      "    ]\n",
      "}\n"
     ]
    }
   ],
   "source": [
    "base_url = \"https://api.ohsome.org/v1\"\n",
    "endpoint = \"/elements/count/groupBy/boundary/groupBy/tag\"\n",
    "url = base_url + endpoint\n",
    "\n",
    "with open(f\"test_countries.geojson\", \"r\") as file:\n",
    "    bpolys = json.load(file)\n",
    "\n",
    "parameters = {\n",
    "    \"bpolys\": json.dumps(bpolys),  # pass GeoJSON as string.\n",
    "    \"filter\": \"building=* and building!=no and geometry:polygon\",\n",
    "    \"groupByKey\": \"source\",\n",
    "    \"groupByValues\": \"microsoft/BuildingFootprints\",\n",
    "    \"format\": \"json\",\n",
    "    \"time\": \"2020-01-01/2023-01-01/P1Y\",\n",
    "}\n",
    "headers = {\n",
    "    \"accept\": \"application/json\",\n",
    "    \"Content-Type\": \"application/x-www-form-urlencoded\",\n",
    "}\n",
    "\n",
    "for value in parameters.values():\n",
    "    assert value != \"\", \"Please provide values for the parameters\"\n",
    "\n",
    "response = requests.post(url, data=parameters, headers=headers)\n",
    "response.raise_for_status()  # Raise an Exception if HTTP Status Code is not 200\n",
    "\n",
    "print(\"Response:\")\n",
    "print(json.dumps(response.json(), indent=4))  # Pretty print response\n",
    "\n",
    "result = response.json()['groupByResult']\n"
   ]
  },
  {
   "cell_type": "markdown",
   "metadata": {},
   "source": [
    "### Get the data for every continent"
   ]
  },
  {
   "cell_type": "markdown",
   "metadata": {},
   "source": [
    "#### Define the url"
   ]
  },
  {
   "cell_type": "code",
   "execution_count": 3,
   "metadata": {},
   "outputs": [],
   "source": [
    "base_url = \"https://api.ohsome.org/v1\"\n",
    "endpoint = \"/elements/count/groupBy/boundary/groupBy/tag\"\n",
    "url = base_url + endpoint"
   ]
  },
  {
   "cell_type": "markdown",
   "metadata": {},
   "source": [
    "#### Define the function to generate the data"
   ]
  },
  {
   "cell_type": "code",
   "execution_count": 69,
   "metadata": {},
   "outputs": [],
   "source": [
    "def data_gen(name):\n",
    "\n",
    "    with open(f\"{geojson_dir}{name}\", \"r\") as file:\n",
    "        bpolys = json.load(file)\n",
    "\n",
    "\n",
    "    parameters = {\n",
    "        \"bpolys\": json.dumps(bpolys),  # pass GeoJSON as string.\n",
    "        \"filter\": \"building=* and building!=no and geometry:polygon\",\n",
    "        \"groupByKey\": \"source\",\n",
    "        \"groupByValues\": \"microsoft/BuildingFootprints\",\n",
    "        \"format\": \"json\",\n",
    "        \"time\": \"2020-01-01/2023-01-01/P1Y\",\n",
    "    }\n",
    "    headers = {\n",
    "        \"accept\": \"application/json\",\n",
    "        \"Content-Type\": \"application/x-www-form-urlencoded\",\n",
    "    }\n",
    "\n",
    "    for value in parameters.values():\n",
    "        assert value != \"\", \"Please provide values for the parameters\"\n",
    "\n",
    "    response = requests.post(url, data=parameters, headers=headers)\n",
    "    response.raise_for_status()  # Raise an Exception if HTTP Status Code is not 200\n",
    "\n",
    "    print(\"Response:\")\n",
    "    print(json.dumps(response.json(), indent=4))  # Pretty print response\n",
    "\n",
    "    result = response.json()[\"groupByResult\"]\n",
    "    return result\n"
   ]
  },
  {
   "cell_type": "markdown",
   "metadata": {},
   "source": [
    "#### Get the names of regions/geojson files"
   ]
  },
  {
   "cell_type": "code",
   "execution_count": 70,
   "metadata": {},
   "outputs": [
    {
     "name": "stdout",
     "output_type": "stream",
     "text": [
      "['Africa.geojson', 'Antarctica.geojson', 'Asia.geojson', 'Australia.geojson', 'Europe.geojson', 'North America.geojson', 'Oceania.geojson', 'South America.geojson']\n"
     ]
    }
   ],
   "source": [
    "work_dir = os.getcwd()\n",
    "work_dir_2 = os.getcwd()\n",
    "geojson_dir = os.path.join(work_dir_2, \"geojson_files\", \"\")\n",
    "\n",
    "geojson_names = []\n",
    "for (dir_path, dir_names, file_names) in os.walk(geojson_dir):  # give the path\n",
    "    geojson_names.extend(file_names)\n",
    "print(geojson_names)\n"
   ]
  },
  {
   "attachments": {},
   "cell_type": "markdown",
   "metadata": {},
   "source": [
    "#### Get the required data by the geojson files (not overhelm the server)"
   ]
  },
  {
   "cell_type": "code",
   "execution_count": 72,
   "metadata": {},
   "outputs": [],
   "source": [
    "os.chdir(geojson_dir) # change the working directory because of geojson files\n",
    "\n",
    "data = []\n",
    "\n",
    "for geojson_name in geojson_names:\n",
    "\n",
    "    data.append(data_gen(geojson_name))\n",
    "\n",
    "os.chdir(work_dir) # change the working directory back"
   ]
  },
  {
   "attachments": {},
   "cell_type": "markdown",
   "metadata": {},
   "source": [
    "#### Save the json data and load"
   ]
  },
  {
   "cell_type": "code",
   "execution_count": 51,
   "metadata": {},
   "outputs": [],
   "source": [
    "with open(\"continents_data_20-23_ai.json\", \"w\") as file:\n",
    "    json.dump(data, file, indent=4)"
   ]
  },
  {
   "cell_type": "code",
   "execution_count": 2,
   "metadata": {},
   "outputs": [],
   "source": [
    "with open(\"continents_data_20-23_ai.json\", \"r\") as f:\n",
    "    data = json.load(f)\n"
   ]
  },
  {
   "cell_type": "code",
   "execution_count": 3,
   "metadata": {},
   "outputs": [
    {
     "data": {
      "text/plain": [
       "[[{'groupByObject': [0, 'remainder'],\n",
       "   'result': [{'timestamp': '2020-01-01T00:00:00Z', 'value': 54298403.0},\n",
       "    {'timestamp': '2021-01-01T00:00:00Z', 'value': 67423672.0},\n",
       "    {'timestamp': '2022-01-01T00:00:00Z', 'value': 80187816.0},\n",
       "    {'timestamp': '2023-01-01T00:00:00Z', 'value': 92934713.0}]},\n",
       "  {'groupByObject': [0, 'source=microsoft/BuildingFootprints'],\n",
       "   'result': [{'timestamp': '2020-01-01T00:00:00Z', 'value': 0.0},\n",
       "    {'timestamp': '2021-01-01T00:00:00Z', 'value': 219212.0},\n",
       "    {'timestamp': '2022-01-01T00:00:00Z', 'value': 269849.0},\n",
       "    {'timestamp': '2023-01-01T00:00:00Z', 'value': 2598077.0}]}],\n",
       " [{'groupByObject': [6, 'remainder'],\n",
       "   'result': [{'timestamp': '2020-01-01T00:00:00Z', 'value': 774.0},\n",
       "    {'timestamp': '2021-01-01T00:00:00Z', 'value': 815.0},\n",
       "    {'timestamp': '2022-01-01T00:00:00Z', 'value': 1011.0},\n",
       "    {'timestamp': '2023-01-01T00:00:00Z', 'value': 1054.0}]},\n",
       "  {'groupByObject': [6, 'source=microsoft/BuildingFootprints'],\n",
       "   'result': [{'timestamp': '2020-01-01T00:00:00Z', 'value': 0.0},\n",
       "    {'timestamp': '2021-01-01T00:00:00Z', 'value': 0.0},\n",
       "    {'timestamp': '2022-01-01T00:00:00Z', 'value': 0.0},\n",
       "    {'timestamp': '2023-01-01T00:00:00Z', 'value': 0.0}]}],\n",
       " [{'groupByObject': [1, 'remainder'],\n",
       "   'result': [{'timestamp': '2020-01-01T00:00:00Z', 'value': 82922953.0},\n",
       "    {'timestamp': '2021-01-01T00:00:00Z', 'value': 98392669.0},\n",
       "    {'timestamp': '2022-01-01T00:00:00Z', 'value': 115974486.0},\n",
       "    {'timestamp': '2023-01-01T00:00:00Z', 'value': 126676042.0}]},\n",
       "  {'groupByObject': [1, 'source=microsoft/BuildingFootprints'],\n",
       "   'result': [{'timestamp': '2020-01-01T00:00:00Z', 'value': 0.0},\n",
       "    {'timestamp': '2021-01-01T00:00:00Z', 'value': 0.0},\n",
       "    {'timestamp': '2022-01-01T00:00:00Z', 'value': 0.0},\n",
       "    {'timestamp': '2023-01-01T00:00:00Z', 'value': 436664.0}]}],\n",
       " [{'groupByObject': [2, 'remainder'],\n",
       "   'result': [{'timestamp': '2020-01-01T00:00:00Z', 'value': 1268557.0},\n",
       "    {'timestamp': '2021-01-01T00:00:00Z', 'value': 1526833.0},\n",
       "    {'timestamp': '2022-01-01T00:00:00Z', 'value': 1748414.0},\n",
       "    {'timestamp': '2023-01-01T00:00:00Z', 'value': 2084376.0}]},\n",
       "  {'groupByObject': [2, 'source=microsoft/BuildingFootprints'],\n",
       "   'result': [{'timestamp': '2020-01-01T00:00:00Z', 'value': 0.0},\n",
       "    {'timestamp': '2021-01-01T00:00:00Z', 'value': 6512.0},\n",
       "    {'timestamp': '2022-01-01T00:00:00Z', 'value': 217740.0},\n",
       "    {'timestamp': '2023-01-01T00:00:00Z', 'value': 255804.0}]}],\n",
       " [{'groupByObject': [7, 'remainder'],\n",
       "   'result': [{'timestamp': '2020-01-01T00:00:00Z', 'value': 174103551.0},\n",
       "    {'timestamp': '2021-01-01T00:00:00Z', 'value': 188168560.0},\n",
       "    {'timestamp': '2022-01-01T00:00:00Z', 'value': 202568787.0},\n",
       "    {'timestamp': '2023-01-01T00:00:00Z', 'value': 212468000.0}]},\n",
       "  {'groupByObject': [7, 'source=microsoft/BuildingFootprints'],\n",
       "   'result': [{'timestamp': '2020-01-01T00:00:00Z', 'value': 0.0},\n",
       "    {'timestamp': '2021-01-01T00:00:00Z', 'value': 0.0},\n",
       "    {'timestamp': '2022-01-01T00:00:00Z', 'value': 0.0},\n",
       "    {'timestamp': '2023-01-01T00:00:00Z', 'value': 306040.0}]}],\n",
       " [{'groupByObject': [3, 'remainder'],\n",
       "   'result': [{'timestamp': '2020-01-01T00:00:00Z', 'value': 41352023.0},\n",
       "    {'timestamp': '2021-01-01T00:00:00Z', 'value': 49171014.0},\n",
       "    {'timestamp': '2022-01-01T00:00:00Z', 'value': 56416010.0},\n",
       "    {'timestamp': '2023-01-01T00:00:00Z', 'value': 65605142.0}]},\n",
       "  {'groupByObject': [3, 'source=microsoft/BuildingFootprints'],\n",
       "   'result': [{'timestamp': '2020-01-01T00:00:00Z', 'value': 13935.0},\n",
       "    {'timestamp': '2021-01-01T00:00:00Z', 'value': 2304259.0},\n",
       "    {'timestamp': '2022-01-01T00:00:00Z', 'value': 5358398.0},\n",
       "    {'timestamp': '2023-01-01T00:00:00Z', 'value': 8517627.0}]}],\n",
       " [{'groupByObject': [4, 'remainder'],\n",
       "   'result': [{'timestamp': '2020-01-01T00:00:00Z', 'value': 1287880.0},\n",
       "    {'timestamp': '2021-01-01T00:00:00Z', 'value': 1426650.0},\n",
       "    {'timestamp': '2022-01-01T00:00:00Z', 'value': 2004832.0},\n",
       "    {'timestamp': '2023-01-01T00:00:00Z', 'value': 2405601.0}]},\n",
       "  {'groupByObject': [4, 'source=microsoft/BuildingFootprints'],\n",
       "   'result': [{'timestamp': '2020-01-01T00:00:00Z', 'value': 0.0},\n",
       "    {'timestamp': '2021-01-01T00:00:00Z', 'value': 573.0},\n",
       "    {'timestamp': '2022-01-01T00:00:00Z', 'value': 580.0},\n",
       "    {'timestamp': '2023-01-01T00:00:00Z', 'value': 1911.0}]}],\n",
       " [{'groupByObject': [5, 'remainder'],\n",
       "   'result': [{'timestamp': '2020-01-01T00:00:00Z', 'value': 9446450.0},\n",
       "    {'timestamp': '2021-01-01T00:00:00Z', 'value': 11981890.0},\n",
       "    {'timestamp': '2022-01-01T00:00:00Z', 'value': 13964464.0},\n",
       "    {'timestamp': '2023-01-01T00:00:00Z', 'value': 15766540.0}]},\n",
       "  {'groupByObject': [5, 'source=microsoft/BuildingFootprints'],\n",
       "   'result': [{'timestamp': '2020-01-01T00:00:00Z', 'value': 0.0},\n",
       "    {'timestamp': '2021-01-01T00:00:00Z', 'value': 0.0},\n",
       "    {'timestamp': '2022-01-01T00:00:00Z', 'value': 12590.0},\n",
       "    {'timestamp': '2023-01-01T00:00:00Z', 'value': 296237.0}]}]]"
      ]
     },
     "execution_count": 3,
     "metadata": {},
     "output_type": "execute_result"
    }
   ],
   "source": [
    "data"
   ]
  },
  {
   "attachments": {},
   "cell_type": "markdown",
   "metadata": {},
   "source": [
    "#### Edit the obtained data into desired shape to create a DataFrame"
   ]
  },
  {
   "cell_type": "code",
   "execution_count": 4,
   "metadata": {},
   "outputs": [],
   "source": [
    "d = {\n",
    "    \"feature\": [],\n",
    "    \"source\": [],\n",
    "    \"timestamp\": [],\n",
    "    \"value\": []\n",
    "}\n"
   ]
  },
  {
   "cell_type": "code",
   "execution_count": 25,
   "metadata": {},
   "outputs": [],
   "source": [
    "for cont in data:\n",
    "    for dic1 in cont:\n",
    "        feature, source = dic1[\"groupByObject\"][0], dic1[\"groupByObject\"][1]\n",
    "        for res in dic1[\"result\"]:\n",
    "            d[\"feature\"].append(feature)\n",
    "            d[\"source\"].append(source)\n",
    "            d[\"timestamp\"].append(res[\"timestamp\"])\n",
    "            d[\"value\"].append(res[\"value\"])\n",
    "\n",
    "df = pd.DataFrame(d)\n"
   ]
  },
  {
   "cell_type": "code",
   "execution_count": 28,
   "metadata": {},
   "outputs": [],
   "source": [
    "# Export the data to excel\n",
    "# df.to_excel(\"example.xlsx\", index=False)"
   ]
  },
  {
   "attachments": {},
   "cell_type": "markdown",
   "metadata": {},
   "source": [
    "## Plot the results"
   ]
  },
  {
   "attachments": {},
   "cell_type": "markdown",
   "metadata": {},
   "source": [
    "#### Filter the data"
   ]
  },
  {
   "cell_type": "code",
   "execution_count": 32,
   "metadata": {},
   "outputs": [
    {
     "data": {
      "text/html": [
       "<div>\n",
       "<style scoped>\n",
       "    .dataframe tbody tr th:only-of-type {\n",
       "        vertical-align: middle;\n",
       "    }\n",
       "\n",
       "    .dataframe tbody tr th {\n",
       "        vertical-align: top;\n",
       "    }\n",
       "\n",
       "    .dataframe thead th {\n",
       "        text-align: right;\n",
       "    }\n",
       "</style>\n",
       "<table border=\"1\" class=\"dataframe\">\n",
       "  <thead>\n",
       "    <tr style=\"text-align: right;\">\n",
       "      <th></th>\n",
       "      <th>feature</th>\n",
       "      <th>source</th>\n",
       "      <th>timestamp</th>\n",
       "      <th>value</th>\n",
       "    </tr>\n",
       "  </thead>\n",
       "  <tbody>\n",
       "    <tr>\n",
       "      <th>0</th>\n",
       "      <td>5</td>\n",
       "      <td>source=microsoft/BuildingFootprints</td>\n",
       "      <td>2020-01-01T00:00:00Z</td>\n",
       "      <td>54298403.0</td>\n",
       "    </tr>\n",
       "    <tr>\n",
       "      <th>1</th>\n",
       "      <td>5</td>\n",
       "      <td>source=microsoft/BuildingFootprints</td>\n",
       "      <td>2021-01-01T00:00:00Z</td>\n",
       "      <td>67423672.0</td>\n",
       "    </tr>\n",
       "    <tr>\n",
       "      <th>2</th>\n",
       "      <td>5</td>\n",
       "      <td>source=microsoft/BuildingFootprints</td>\n",
       "      <td>2022-01-01T00:00:00Z</td>\n",
       "      <td>80187816.0</td>\n",
       "    </tr>\n",
       "    <tr>\n",
       "      <th>3</th>\n",
       "      <td>5</td>\n",
       "      <td>source=microsoft/BuildingFootprints</td>\n",
       "      <td>2023-01-01T00:00:00Z</td>\n",
       "      <td>92934713.0</td>\n",
       "    </tr>\n",
       "    <tr>\n",
       "      <th>4</th>\n",
       "      <td>5</td>\n",
       "      <td>source=microsoft/BuildingFootprints</td>\n",
       "      <td>2020-01-01T00:00:00Z</td>\n",
       "      <td>0.0</td>\n",
       "    </tr>\n",
       "    <tr>\n",
       "      <th>...</th>\n",
       "      <td>...</td>\n",
       "      <td>...</td>\n",
       "      <td>...</td>\n",
       "      <td>...</td>\n",
       "    </tr>\n",
       "    <tr>\n",
       "      <th>183</th>\n",
       "      <td>4</td>\n",
       "      <td>source=microsoft/BuildingFootprints</td>\n",
       "      <td>2023-01-01T00:00:00Z</td>\n",
       "      <td>1911.0</td>\n",
       "    </tr>\n",
       "    <tr>\n",
       "      <th>188</th>\n",
       "      <td>5</td>\n",
       "      <td>source=microsoft/BuildingFootprints</td>\n",
       "      <td>2020-01-01T00:00:00Z</td>\n",
       "      <td>0.0</td>\n",
       "    </tr>\n",
       "    <tr>\n",
       "      <th>189</th>\n",
       "      <td>5</td>\n",
       "      <td>source=microsoft/BuildingFootprints</td>\n",
       "      <td>2021-01-01T00:00:00Z</td>\n",
       "      <td>0.0</td>\n",
       "    </tr>\n",
       "    <tr>\n",
       "      <th>190</th>\n",
       "      <td>5</td>\n",
       "      <td>source=microsoft/BuildingFootprints</td>\n",
       "      <td>2022-01-01T00:00:00Z</td>\n",
       "      <td>12590.0</td>\n",
       "    </tr>\n",
       "    <tr>\n",
       "      <th>191</th>\n",
       "      <td>5</td>\n",
       "      <td>source=microsoft/BuildingFootprints</td>\n",
       "      <td>2023-01-01T00:00:00Z</td>\n",
       "      <td>296237.0</td>\n",
       "    </tr>\n",
       "  </tbody>\n",
       "</table>\n",
       "<p>160 rows × 4 columns</p>\n",
       "</div>"
      ],
      "text/plain": [
       "     feature                               source             timestamp  \\\n",
       "0          5  source=microsoft/BuildingFootprints  2020-01-01T00:00:00Z   \n",
       "1          5  source=microsoft/BuildingFootprints  2021-01-01T00:00:00Z   \n",
       "2          5  source=microsoft/BuildingFootprints  2022-01-01T00:00:00Z   \n",
       "3          5  source=microsoft/BuildingFootprints  2023-01-01T00:00:00Z   \n",
       "4          5  source=microsoft/BuildingFootprints  2020-01-01T00:00:00Z   \n",
       "..       ...                                  ...                   ...   \n",
       "183        4  source=microsoft/BuildingFootprints  2023-01-01T00:00:00Z   \n",
       "188        5  source=microsoft/BuildingFootprints  2020-01-01T00:00:00Z   \n",
       "189        5  source=microsoft/BuildingFootprints  2021-01-01T00:00:00Z   \n",
       "190        5  source=microsoft/BuildingFootprints  2022-01-01T00:00:00Z   \n",
       "191        5  source=microsoft/BuildingFootprints  2023-01-01T00:00:00Z   \n",
       "\n",
       "          value  \n",
       "0    54298403.0  \n",
       "1    67423672.0  \n",
       "2    80187816.0  \n",
       "3    92934713.0  \n",
       "4           0.0  \n",
       "..          ...  \n",
       "183      1911.0  \n",
       "188         0.0  \n",
       "189         0.0  \n",
       "190     12590.0  \n",
       "191    296237.0  \n",
       "\n",
       "[160 rows x 4 columns]"
      ]
     },
     "execution_count": 32,
     "metadata": {},
     "output_type": "execute_result"
    }
   ],
   "source": [
    "df_ai = df.loc[df[\"source\"] == \"source=microsoft/BuildingFootprints\", :]\n",
    "df_ai"
   ]
  },
  {
   "attachments": {},
   "cell_type": "markdown",
   "metadata": {},
   "source": [
    "#### Plots"
   ]
  },
  {
   "cell_type": "code",
   "execution_count": 33,
   "metadata": {},
   "outputs": [
    {
     "data": {
      "text/plain": [
       "<Axes: xlabel='timestamp', ylabel='value'>"
      ]
     },
     "execution_count": 33,
     "metadata": {},
     "output_type": "execute_result"
    },
    {
     "data": {
      "image/png": "[encoded data removed]",
      "text/plain": [
       "<Figure size 640x480 with 1 Axes>"
      ]
     },
     "metadata": {},
     "output_type": "display_data"
    }
   ],
   "source": [
    "sns.lineplot(df_ai, x=\"timestamp\", y=\"value\", hue=\"feature\")\n"
   ]
  },
  {
   "cell_type": "code",
   "execution_count": null,
   "metadata": {},
   "outputs": [],
   "source": [
    "\n",
    "\n"
   ]
  }
 ],
 "metadata": {
  "kernelspec": {
   "display_name": "general_py_venv",
   "language": "python",
   "name": "python3"
  },
  "language_info": {
   "codemirror_mode": {
    "name": "ipython",
    "version": 3
   },
   "file_extension": ".py",
   "mimetype": "text/x-python",
   "name": "python",
   "nbconvert_exporter": "python",
   "pygments_lexer": "ipython3",
   "version": "3.10.7"
  },
  "orig_nbformat": 4
 },
 "nbformat": 4,
 "nbformat_minor": 2
}
