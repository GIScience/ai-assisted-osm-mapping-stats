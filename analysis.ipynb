{
 "cells": [
  {
   "attachments": {},
   "cell_type": "markdown",
   "metadata": {},
   "source": [
    "# Analysis"
   ]
  },
  {
   "attachments": {},
   "cell_type": "markdown",
   "metadata": {},
   "source": [
    "## Request the ohsome API"
   ]
  },
  {
   "attachments": {},
   "cell_type": "markdown",
   "metadata": {},
   "source": [
    "Question: How many buildings were mapped with RapID (Microsoft buildings) in every country?"
   ]
  },
  {
   "cell_type": "code",
   "execution_count": 27,
   "metadata": {},
   "outputs": [
    {
     "name": "stdout",
     "output_type": "stream",
     "text": [
      "Response:\n",
      "{\n",
      "    \"attribution\": {\n",
      "        \"url\": \"https://ohsome.org/copyrights\",\n",
      "        \"text\": \"\\u00a9 OpenStreetMap contributors\"\n",
      "    },\n",
      "    \"apiVersion\": \"1.9.0\",\n",
      "    \"groupByResult\": [\n",
      "        {\n",
      "            \"groupByObject\": \"remainder\",\n",
      "            \"result\": [\n",
      "                {\n",
      "                    \"timestamp\": \"2020-01-01T00:00:00Z\",\n",
      "                    \"value\": 10900070.0\n",
      "                },\n",
      "                {\n",
      "                    \"timestamp\": \"2021-01-01T00:00:00Z\",\n",
      "                    \"value\": 12430428.0\n",
      "                },\n",
      "                {\n",
      "                    \"timestamp\": \"2022-01-01T00:00:00Z\",\n",
      "                    \"value\": 13231797.0\n",
      "                },\n",
      "                {\n",
      "                    \"timestamp\": \"2023-01-01T00:00:00Z\",\n",
      "                    \"value\": 13692710.0\n",
      "                }\n",
      "            ]\n",
      "        },\n",
      "        {\n",
      "            \"groupByObject\": \"source=microsoft/BuildingFootprints\",\n",
      "            \"result\": [\n",
      "                {\n",
      "                    \"timestamp\": \"2020-01-01T00:00:00Z\",\n",
      "                    \"value\": 0.0\n",
      "                },\n",
      "                {\n",
      "                    \"timestamp\": \"2021-01-01T00:00:00Z\",\n",
      "                    \"value\": 151151.0\n",
      "                },\n",
      "                {\n",
      "                    \"timestamp\": \"2022-01-01T00:00:00Z\",\n",
      "                    \"value\": 201157.0\n",
      "                },\n",
      "                {\n",
      "                    \"timestamp\": \"2023-01-01T00:00:00Z\",\n",
      "                    \"value\": 222506.0\n",
      "                }\n",
      "            ]\n",
      "        }\n",
      "    ]\n",
      "}\n"
     ]
    }
   ],
   "source": [
    "import json\n",
    "\n",
    "import requests\n",
    "\n",
    "base_url = \"https://api.ohsome.org/v1\"\n",
    "# endpoint = \"/elements/count\"\n",
    "endpoint = \"/elements/count/groupBy/tag\"\n",
    "url = base_url + endpoint\n",
    "\n",
    "with open(\"tanzania_borders.geojson\", \"r\") as file:\n",
    "    bpolys = json.load(file)\n",
    "\n",
    "parameters = {\n",
    "    \"bpolys\": json.dumps(bpolys),  # pass GeoJSON as string.\n",
    "    \"filter\": \"building=* and building!=no and geometry:polygon\",\n",
    "    \"groupByKey\": \"source\",\n",
    "    \"groupByValues\": \"microsoft/BuildingFootprints\",\n",
    "    \"format\": \"json\",\n",
    "    \"time\": \"2020-01-01/2023-01-01/P1Y\",\n",
    "}\n",
    "headers = {\n",
    "    \"accept\": \"application/json\",\n",
    "    \"Content-Type\": \"application/x-www-form-urlencoded\",\n",
    "}\n",
    "\n",
    "for value in parameters.values():\n",
    "    assert value != \"\", \"Please provide values for the parameters\"\n",
    "\n",
    "response = requests.post(url, data=parameters, headers=headers)\n",
    "response.raise_for_status()  # Raise an Exception if HTTP Status Code is not 200\n",
    "\n",
    "print(\"Response:\")\n",
    "print(json.dumps(response.json(), indent=4))  # Pretty print response\n",
    "\n",
    "result = response.json()['groupByResult']\n"
   ]
  },
  {
   "attachments": {},
   "cell_type": "markdown",
   "metadata": {},
   "source": [
    "## Plot the results"
   ]
  },
  {
   "cell_type": "code",
   "execution_count": null,
   "metadata": {},
   "outputs": [],
   "source": []
  }
 ],
 "metadata": {
  "kernelspec": {
   "display_name": "general_py_venv",
   "language": "python",
   "name": "python3"
  },
  "language_info": {
   "codemirror_mode": {
    "name": "ipython",
    "version": 3
   },
   "file_extension": ".py",
   "mimetype": "text/x-python",
   "name": "python",
   "nbconvert_exporter": "python",
   "pygments_lexer": "ipython3",
   "version": "3.10.7"
  },
  "orig_nbformat": 4
 },
 "nbformat": 4,
 "nbformat_minor": 2
}
